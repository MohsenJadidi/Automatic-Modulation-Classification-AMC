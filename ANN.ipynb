{
  "nbformat": 4,
  "nbformat_minor": 0,
  "metadata": {
    "colab": {
      "name": "ANN.ipynb",
      "version": "0.3.2",
      "provenance": [],
      "collapsed_sections": [],
      "include_colab_link": true
    },
    "kernelspec": {
      "name": "python3",
      "display_name": "Python 3"
    },
    "accelerator": "TPU"
  },
  "cells": [
    {
      "cell_type": "markdown",
      "metadata": {
        "id": "view-in-github",
        "colab_type": "text"
      },
      "source": [
        "<a href=\"https://colab.research.google.com/github/MohsenJadidi/Automatic-Modulation-Classification-AMC/blob/master/ANN.ipynb\" target=\"_parent\"><img src=\"https://colab.research.google.com/assets/colab-badge.svg\" alt=\"Open In Colab\"/></a>"
      ]
    },
    {
      "cell_type": "code",
      "metadata": {
        "id": "3svr4hy0fG3s",
        "colab_type": "code",
        "colab": {}
      },
      "source": [
        "import os\n",
        "TPU_WORKER = 'grpc://' + os.environ['COLAB_TPU_ADDR']"
      ],
      "execution_count": 0,
      "outputs": []
    },
    {
      "cell_type": "code",
      "metadata": {
        "id": "NbWAylFFl7H3",
        "colab_type": "code",
        "outputId": "809c1f45-135b-4984-d213-e59341c31b17",
        "colab": {
          "base_uri": "https://localhost:8080/",
          "height": 121
        }
      },
      "source": [
        "from google.colab import drive\n",
        "drive.mount('/content/drive')\n"
      ],
      "execution_count": 1,
      "outputs": [
        {
          "output_type": "stream",
          "text": [
            "Go to this URL in a browser: https://accounts.google.com/o/oauth2/auth?client_id=947318989803-6bn6qk8qdgf4n4g3pfee6491hc0brc4i.apps.googleusercontent.com&redirect_uri=urn%3Aietf%3Awg%3Aoauth%3A2.0%3Aoob&scope=email%20https%3A%2F%2Fwww.googleapis.com%2Fauth%2Fdocs.test%20https%3A%2F%2Fwww.googleapis.com%2Fauth%2Fdrive%20https%3A%2F%2Fwww.googleapis.com%2Fauth%2Fdrive.photos.readonly%20https%3A%2F%2Fwww.googleapis.com%2Fauth%2Fpeopleapi.readonly&response_type=code\n",
            "\n",
            "Enter your authorization code:\n",
            "··········\n",
            "Mounted at /content/drive\n"
          ],
          "name": "stdout"
        }
      ]
    },
    {
      "cell_type": "markdown",
      "metadata": {
        "id": "UR0ATiKBk6rG",
        "colab_type": "text"
      },
      "source": [
        "# Importing the dataset"
      ]
    },
    {
      "cell_type": "code",
      "metadata": {
        "id": "JfzzfiDSuxMs",
        "colab_type": "code",
        "colab": {}
      },
      "source": [
        "import pickle\n",
        "fileName = 'RML2016.10a_dict.pkl'\n",
        "with open(\"/content/drive/My Drive/Colab Notebooks/\"+fileName,'rb') as f:\n",
        "  data = pickle.load(f,encoding='bytes')\n",
        "  \n",
        " "
      ],
      "execution_count": 0,
      "outputs": []
    },
    {
      "cell_type": "code",
      "metadata": {
        "id": "yjAg9T-0uzyh",
        "colab_type": "code",
        "outputId": "0f26235e-31c6-4309-9fd5-38a1354d99ee",
        "colab": {
          "base_uri": "https://localhost:8080/",
          "height": 34
        }
      },
      "source": [
        "import numpy as np\n",
        "X = []\n",
        "labels = [] # label each example by a pair (modulation type, snr)\n",
        "total_examples = 0\n",
        "analog = [b'AM-DSB', b'AM-SSB', b'WBFM']\n",
        "\n",
        "for mod_type, snr in data.keys():\n",
        "    if (mod_type not in analog):      \n",
        "        current_matrix = data[(mod_type, snr)]        \n",
        "        total_examples += current_matrix.shape[0]\n",
        "        for i in range(current_matrix.shape[0]):\n",
        "            X.append(current_matrix[i])\n",
        "            labels.append((str(mod_type, 'ascii'), snr)) # mod_type is of type bytes\n",
        "    \n",
        "X = np.array(X)         # First row is QPSK snr=2, seconde is PAM4 snr=8 , ...\n",
        "labels = np.array(labels)\n",
        "\n",
        "y = labels[:,0]\n",
        "\n",
        "print(f'loaded {total_examples} signal vectors into X{X.shape} and their corresponding'\n",
        "      f' labels into labels{labels.shape}')  \n",
        "# print(np.unique(labels[:,0]))\n"
      ],
      "execution_count": 3,
      "outputs": [
        {
          "output_type": "stream",
          "text": [
            "loaded 160000 signal vectors into X(160000, 2, 128) and their corresponding labels into labels(160000, 2)\n"
          ],
          "name": "stdout"
        }
      ]
    },
    {
      "cell_type": "code",
      "metadata": {
        "id": "pbeDr3FVv57v",
        "colab_type": "code",
        "outputId": "53043483-8fb5-4982-9f99-e69046acc240",
        "colab": {
          "base_uri": "https://localhost:8080/",
          "height": 104
        }
      },
      "source": [
        "# Encoding categorical data\n",
        "from sklearn.preprocessing import LabelEncoder, OneHotEncoder\n",
        "labelencoder_y = LabelEncoder()\n",
        "y = labelencoder_y.fit_transform(y)\n",
        "onehotencoder = OneHotEncoder()\n",
        "y = onehotencoder.fit_transform(y.reshape(-1,1)).toarray()"
      ],
      "execution_count": 4,
      "outputs": [
        {
          "output_type": "stream",
          "text": [
            "/usr/local/lib/python3.6/dist-packages/sklearn/preprocessing/_encoders.py:415: FutureWarning: The handling of integer data will change in version 0.22. Currently, the categories are determined based on the range [0, max(values)], while in the future they will be determined based on the unique values.\n",
            "If you want the future behaviour and silence this warning, you can specify \"categories='auto'\".\n",
            "In case you used a LabelEncoder before this OneHotEncoder to convert the categories to integers, then you can now use the OneHotEncoder directly.\n",
            "  warnings.warn(msg, FutureWarning)\n"
          ],
          "name": "stderr"
        }
      ]
    },
    {
      "cell_type": "code",
      "metadata": {
        "id": "-Z6iUKbJwKlT",
        "colab_type": "code",
        "outputId": "0dc3a32c-fb9a-4885-bb99-45f522c741d2",
        "colab": {
          "base_uri": "https://localhost:8080/",
          "height": 34
        }
      },
      "source": [
        "snrList = [str(2*i-20) for i in range(20)]  # snrList = -20, -18, -16 , ... ,0, ... ,18\n",
        "snr = snrList[19]\n",
        "numberOfEachExamples = 1000\n",
        "print(\"SNR :\", snr)"
      ],
      "execution_count": 5,
      "outputs": [
        {
          "output_type": "stream",
          "text": [
            "SNR : 18\n"
          ],
          "name": "stdout"
        }
      ]
    },
    {
      "cell_type": "code",
      "metadata": {
        "id": "-DiHGfSPwKb1",
        "colab_type": "code",
        "colab": {}
      },
      "source": [
        "X = X.reshape([X.shape[0],256])\n",
        "output = [[labels[i*numberOfEachExamples, 0],y[i*numberOfEachExamples]] for i in range(int(X.shape[0]/numberOfEachExamples))]\n",
        "output = dict(output)"
      ],
      "execution_count": 0,
      "outputs": []
    },
    {
      "cell_type": "code",
      "metadata": {
        "id": "0OJ3GghKwrbs",
        "colab_type": "code",
        "colab": {}
      },
      "source": [
        "X_snr = []\n",
        "y_snr = []\n",
        "\n",
        "for i in range(X.shape[0]):\n",
        "    if labels[i,1] == snr:\n",
        "        X_snr.append(X[i])\n",
        "        y_snr.append(y[i])\n",
        "\n",
        "X_snr = np.array(X_snr)\n",
        "y_snr = np.array(y_snr)  "
      ],
      "execution_count": 0,
      "outputs": []
    },
    {
      "cell_type": "code",
      "metadata": {
        "id": "Cx7l0G_3ww0w",
        "colab_type": "code",
        "colab": {}
      },
      "source": [
        "###### Splitting the dataset into the Training set and Test set ######\n",
        "from sklearn.model_selection import train_test_split\n",
        "X_train, X_test, y_train, y_test = train_test_split(X_snr, y_snr, test_size = 0.2, random_state = 0)\n",
        "# The below line better for Cross_val part\n",
        "#X_train, X_test, y_train, y_test = train_test_split(X_snr, y_snr, test_size = 1, random_state = 0)\n"
      ],
      "execution_count": 0,
      "outputs": []
    },
    {
      "cell_type": "code",
      "metadata": {
        "id": "ujxapqcRw1l3",
        "colab_type": "code",
        "colab": {}
      },
      "source": [
        "# Feature Scaling\n",
        "from sklearn.preprocessing import StandardScaler\n",
        "sc = StandardScaler()\n",
        "X_train = sc.fit_transform(X_train)\n",
        "X_test = sc.transform(X_test)"
      ],
      "execution_count": 0,
      "outputs": []
    },
    {
      "cell_type": "markdown",
      "metadata": {
        "id": "UWipMIzTw3SN",
        "colab_type": "text"
      },
      "source": [
        "# Making Simple model"
      ]
    },
    {
      "cell_type": "code",
      "metadata": {
        "id": "1t4bapTyw8Lp",
        "colab_type": "code",
        "outputId": "952a2a54-a03f-4781-8c34-45503ffe134e",
        "colab": {
          "base_uri": "https://localhost:8080/",
          "height": 34
        }
      },
      "source": [
        "# Importing the Keras libraries and packages\n",
        "import keras\n",
        "from keras.models import Sequential\n",
        "from keras.layers import Dense\n",
        "from keras.layers import Dropout\n",
        "# Initialising the ANN\n",
        "classifier = Sequential()\n",
        "\n",
        "# Adding the input layer and the first hidden layer\n",
        "classifier.add(Dense(units = 256, kernel_initializer = 'uniform', activation = 'relu', input_dim = 256))\n",
        "dout = 0.2\n",
        "classifier.add(Dropout(rate = dout))\n",
        "\n",
        "# Adding the second hidden layer\n",
        "classifier.add(Dense(units = 132, kernel_initializer = 'uniform', activation = 'relu'))\n",
        "classifier.add(Dropout(rate = dout))\n",
        "\n",
        "classifier.add(Dense(units = 132, kernel_initializer = 'uniform', activation = 'relu'))\n",
        "classifier.add(Dropout(rate = dout))\n",
        "\n",
        "classifier.add(Dense(units = 132, kernel_initializer = 'uniform', activation = 'relu'))\n",
        "classifier.add(Dropout(rate = dout))\n",
        "\n",
        "classifier.add(Dense(units = 132, kernel_initializer = 'uniform', activation = 'relu'))\n",
        "classifier.add(Dropout(rate = dout))\n",
        "\n",
        "# Adding the output layer\n",
        "classifier.add(Dense(units = 8, kernel_initializer = 'uniform', activation = 'softmax'))\n",
        "\n",
        "# Compiling the ANN\n",
        "classifier.compile(optimizer = 'adam', loss = 'categorical_crossentropy', metrics = ['accuracy'])\n",
        "\n",
        "print(\"Model Created!\")"
      ],
      "execution_count": 18,
      "outputs": [
        {
          "output_type": "stream",
          "text": [
            "Model Created!\n"
          ],
          "name": "stdout"
        }
      ]
    },
    {
      "cell_type": "code",
      "metadata": {
        "id": "P0K9N5wL2x3F",
        "colab_type": "code",
        "colab": {
          "base_uri": "https://localhost:8080/",
          "height": 890
        },
        "outputId": "dd4bf7ca-36d2-4a3f-b38b-2f2705291c61"
      },
      "source": [
        "batch = 10\n",
        "epoch = 25\n",
        "classifier.fit(X_train, y_train, batch_size = batch, epochs = epoch , validation_data=(X_test, y_test))"
      ],
      "execution_count": 19,
      "outputs": [
        {
          "output_type": "stream",
          "text": [
            "Train on 6400 samples, validate on 1600 samples\n",
            "Epoch 1/25\n",
            "6400/6400 [==============================] - 4s 555us/step - loss: 1.9084 - acc: 0.2188 - val_loss: 1.7315 - val_acc: 0.3000\n",
            "Epoch 2/25\n",
            "6400/6400 [==============================] - 3s 430us/step - loss: 1.6822 - acc: 0.3177 - val_loss: 1.5683 - val_acc: 0.3625\n",
            "Epoch 3/25\n",
            "6400/6400 [==============================] - 3s 429us/step - loss: 1.5512 - acc: 0.3622 - val_loss: 1.4887 - val_acc: 0.3844\n",
            "Epoch 4/25\n",
            "6400/6400 [==============================] - 3s 439us/step - loss: 1.4838 - acc: 0.3739 - val_loss: 1.4618 - val_acc: 0.4031\n",
            "Epoch 5/25\n",
            "6400/6400 [==============================] - 3s 440us/step - loss: 1.4623 - acc: 0.3897 - val_loss: 1.4341 - val_acc: 0.3956\n",
            "Epoch 6/25\n",
            "6400/6400 [==============================] - 3s 425us/step - loss: 1.4250 - acc: 0.4028 - val_loss: 1.4235 - val_acc: 0.4069\n",
            "Epoch 7/25\n",
            "6400/6400 [==============================] - 3s 422us/step - loss: 1.3940 - acc: 0.4158 - val_loss: 1.3239 - val_acc: 0.4369\n",
            "Epoch 8/25\n",
            "6400/6400 [==============================] - 3s 415us/step - loss: 1.3463 - acc: 0.4339 - val_loss: 1.3298 - val_acc: 0.4406\n",
            "Epoch 9/25\n",
            "6400/6400 [==============================] - 3s 421us/step - loss: 1.3127 - acc: 0.4453 - val_loss: 1.3244 - val_acc: 0.4400\n",
            "Epoch 10/25\n",
            "6400/6400 [==============================] - 3s 416us/step - loss: 1.3032 - acc: 0.4473 - val_loss: 1.3244 - val_acc: 0.4469\n",
            "Epoch 11/25\n",
            "6400/6400 [==============================] - 3s 412us/step - loss: 1.2774 - acc: 0.4459 - val_loss: 1.3100 - val_acc: 0.4381\n",
            "Epoch 12/25\n",
            "6400/6400 [==============================] - 3s 419us/step - loss: 1.2652 - acc: 0.4538 - val_loss: 1.3396 - val_acc: 0.4469\n",
            "Epoch 13/25\n",
            "6400/6400 [==============================] - 3s 424us/step - loss: 1.2513 - acc: 0.4639 - val_loss: 1.3135 - val_acc: 0.4350\n",
            "Epoch 14/25\n",
            "6400/6400 [==============================] - 3s 418us/step - loss: 1.2258 - acc: 0.4647 - val_loss: 1.2980 - val_acc: 0.4344\n",
            "Epoch 15/25\n",
            "6400/6400 [==============================] - 3s 417us/step - loss: 1.2240 - acc: 0.4692 - val_loss: 1.2811 - val_acc: 0.4506\n",
            "Epoch 16/25\n",
            "6400/6400 [==============================] - 3s 412us/step - loss: 1.1954 - acc: 0.4755 - val_loss: 1.2835 - val_acc: 0.4456\n",
            "Epoch 17/25\n",
            "6400/6400 [==============================] - 3s 421us/step - loss: 1.1864 - acc: 0.4805 - val_loss: 1.2662 - val_acc: 0.4569\n",
            "Epoch 18/25\n",
            "6400/6400 [==============================] - 3s 410us/step - loss: 1.1955 - acc: 0.4692 - val_loss: 1.2317 - val_acc: 0.4613\n",
            "Epoch 19/25\n",
            "6400/6400 [==============================] - 3s 413us/step - loss: 1.1581 - acc: 0.4797 - val_loss: 1.2511 - val_acc: 0.4613\n",
            "Epoch 20/25\n",
            "6400/6400 [==============================] - 3s 405us/step - loss: 1.1532 - acc: 0.4880 - val_loss: 1.2233 - val_acc: 0.4781\n",
            "Epoch 21/25\n",
            "6400/6400 [==============================] - 3s 402us/step - loss: 1.1239 - acc: 0.4917 - val_loss: 1.2259 - val_acc: 0.4656\n",
            "Epoch 22/25\n",
            "6400/6400 [==============================] - 3s 413us/step - loss: 1.1295 - acc: 0.4873 - val_loss: 1.2250 - val_acc: 0.4538\n",
            "Epoch 23/25\n",
            "6400/6400 [==============================] - 3s 414us/step - loss: 1.1202 - acc: 0.4819 - val_loss: 1.1553 - val_acc: 0.4775\n",
            "Epoch 24/25\n",
            "6400/6400 [==============================] - 3s 396us/step - loss: 1.0975 - acc: 0.4936 - val_loss: 1.1662 - val_acc: 0.4744\n",
            "Epoch 25/25\n",
            "6400/6400 [==============================] - 3s 411us/step - loss: 1.0923 - acc: 0.4938 - val_loss: 1.1505 - val_acc: 0.4744\n"
          ],
          "name": "stdout"
        },
        {
          "output_type": "execute_result",
          "data": {
            "text/plain": [
              "<keras.callbacks.History at 0x7f79507bcd68>"
            ]
          },
          "metadata": {
            "tags": []
          },
          "execution_count": 19
        }
      ]
    },
    {
      "cell_type": "markdown",
      "metadata": {
        "id": "cNGu7HtyhGc2",
        "colab_type": "text"
      },
      "source": [
        "# Prediction "
      ]
    },
    {
      "cell_type": "code",
      "metadata": {
        "id": "6irYYHCZ6A2C",
        "colab_type": "code",
        "colab": {
          "base_uri": "https://localhost:8080/",
          "height": 84
        },
        "outputId": "29f1ea6e-c9fc-488b-92d3-755e52e50b08"
      },
      "source": [
        "y_pred = classifier.predict(X_test)\n",
        "y_pred = np.argmax(y_pred, axis=1)\n",
        "\n",
        "y_real = np.argmax(y_test, axis=1)\n",
        "# Making the Confusion Matrix\n",
        "from sklearn.metrics import confusion_matrix\n",
        "cm = confusion_matrix(y_real, y_pred)\n",
        "cm_norm = cm.astype('float') / cm.sum(axis=1)[:, np.newaxis]\n",
        "\n",
        "acc_test = classifier.evaluate(X_test, y_test)[1]\n",
        "acc_train = classifier.evaluate(X_train, y_train)[1]\n",
        "\n",
        "print(\"Acc Test : \", acc_test)\n",
        "print(\"Acc Train : \", acc_train)"
      ],
      "execution_count": 20,
      "outputs": [
        {
          "output_type": "stream",
          "text": [
            "1600/1600 [==============================] - 0s 37us/step\n",
            "6400/6400 [==============================] - 0s 34us/step\n",
            "Acc Test :  0.474375\n",
            "Acc Train :  0.54078125\n"
          ],
          "name": "stdout"
        }
      ]
    },
    {
      "cell_type": "markdown",
      "metadata": {
        "id": "seZ0vLFhjMOv",
        "colab_type": "text"
      },
      "source": [
        "#Cross_val(mean accuracy)"
      ]
    },
    {
      "cell_type": "code",
      "metadata": {
        "id": "oXeIQ_7HjTeC",
        "colab_type": "code",
        "colab": {}
      },
      "source": [
        "# Evaluating the ANN\n",
        "from keras.wrappers.scikit_learn import KerasClassifier\n",
        "from sklearn.model_selection import cross_val_score\n",
        "from keras.models import Sequential\n",
        "from keras.layers import Dense\n",
        "from keras.layers import Dropout\n",
        "\n",
        "def build_classifier():\n",
        "    classifier = Sequential()\n",
        "    classifier.add(Dense(units = 132, kernel_initializer = 'uniform', activation = 'relu', input_dim = 256))    \n",
        "    dout = 0.1\n",
        "    classifier.add(Dropout(p = dout))\n",
        "    classifier.add(Dense(units = 132, kernel_initializer = 'uniform', activation = 'relu'))\n",
        "    classifier.add(Dropout(p = dout))\n",
        "    classifier.add(Dense(units = 8, kernel_initializer = 'uniform', activation = 'softmax'))\n",
        "    classifier.compile(optimizer = 'adam', loss = 'categorical_crossentropy', metrics = ['accuracy'])\n",
        "    return classifier\n",
        "classifier = KerasClassifier(build_fn = build_classifier)\n",
        "batch = 10\n",
        "epoch = 25\n",
        "classifier = KerasClassifier(build_fn = build_classifier, batch_size = batch, epochs = epoch)\n",
        "# It is better test_size = 1 in Splitting the dataset part\n",
        "accuracies = cross_val_score(estimator = classifier, X = X_train, y = y_train, cv = 10, n_jobs = 1)\n",
        "mean = accuracies.mean()\n",
        "variance = accuracies.std()"
      ],
      "execution_count": 0,
      "outputs": []
    },
    {
      "cell_type": "markdown",
      "metadata": {
        "id": "E-G3camZi47h",
        "colab_type": "text"
      },
      "source": [
        "# Accuracy vs Droupout"
      ]
    },
    {
      "cell_type": "code",
      "metadata": {
        "id": "vC5FYw4Mi9mc",
        "colab_type": "code",
        "colab": {}
      },
      "source": [
        "from keras.wrappers.scikit_learn import KerasClassifier\n",
        "from sklearn.model_selection import cross_val_score\n",
        "from keras.models import Sequential\n",
        "from keras.layers import Dense\n",
        "from keras.layers import Dropout\n",
        "\n",
        "means = []\n",
        "for i in range(16):\n",
        "  def build_classifier():\n",
        "      classifier = Sequential()\n",
        "      classifier.add(Dense(units = 132, kernel_initializer = 'uniform', activation = 'relu', input_dim = 256))\n",
        "      dout = 0.05*i\n",
        "      classifier.add(Dropout(rate = dout))\n",
        "      classifier.add(Dense(units = 132, kernel_initializer = 'uniform', activation = 'relu'))\n",
        "      classifier.add(Dropout(rate = dout))\n",
        "      classifier.add(Dense(units = 8, kernel_initializer = 'uniform', activation = 'softmax'))\n",
        "      classifier.compile(optimizer = 'adam', loss = 'categorical_crossentropy', metrics = ['accuracy'])\n",
        "      return classifier\n",
        "\n",
        "  print(\"Dropout :\", 0.05*i)\n",
        "  batch = 10\n",
        "  epoch = 25\n",
        "  classifier = KerasClassifier(build_fn = build_classifier, batch_size = batch, epochs = epoch, verbose=0)\n",
        "  # It is better test_size = 1 in Splitting the dataset part\n",
        "  accuracies = cross_val_score(estimator = classifier, X = X_train, y = y_train, cv = 5, n_jobs = 1)\n",
        "  mean = accuracies.mean()\n",
        "  variance = accuracies.std()\n",
        "  print(mean)\n",
        "  means.append(mean)"
      ],
      "execution_count": 0,
      "outputs": []
    },
    {
      "cell_type": "code",
      "metadata": {
        "id": "_EDsmrFQ6gUC",
        "colab_type": "code",
        "outputId": "9e2ecdc8-22b2-4efc-ee49-2157ddeef6cd",
        "colab": {
          "base_uri": "https://localhost:8080/",
          "height": 310
        }
      },
      "source": [
        "\n",
        "import matplotlib.pyplot as plt\n",
        "\n",
        "ax = plt.plot(d, means, 'ro')\n",
        "plt.grid()\n",
        "plt.title('Accuracy vs Dropout for ANN (SNR=18)')\n",
        "plt.xlabel('Dropout', fontsize=8)\n",
        "plt.ylabel('Accuracy', fontsize=8)\n",
        "plt.ylim([0.30,0.5])\n",
        "plt.yticks(np.arange(0.3, 0.5, step=0.02))\n",
        "\n",
        "\n",
        "dic = \"/content/drive/My Drive/Colab Notebooks/\"\n",
        "# fig = ax.get_figure()\n",
        "plt.savefig(dic+f\"/Pic/ANN-CrossVal(5)-132-132-ba{batch}-ep{epoch}(SNR={snr}).png\", dpi=175, bbox_inches='tight')\n",
        "plt.savefig(dic+f\"/Pic/ANN-CrossVal(5)-132-132-ba{batch}-ep{epoch}(SNR={snr}).eps\", bbox_inches='tight')\n",
        "\n",
        "print(\"Plot Saved!\")"
      ],
      "execution_count": 0,
      "outputs": [
        {
          "output_type": "stream",
          "text": [
            "Plot Saved!\n"
          ],
          "name": "stdout"
        },
        {
          "output_type": "display_data",
          "data": {
            "image/png": "[encoded data removed]",
            "text/plain": [
              "<Figure size 432x288 with 1 Axes>"
            ]
          },
          "metadata": {
            "tags": []
          }
        }
      ]
    },
    {
      "cell_type": "markdown",
      "metadata": {
        "id": "9z3gXo8JhU3Q",
        "colab_type": "text"
      },
      "source": [
        "# Iteration in Keras_val model"
      ]
    },
    {
      "cell_type": "code",
      "metadata": {
        "id": "HBsWXYtp4EWd",
        "colab_type": "code",
        "colab": {}
      },
      "source": [
        "layer2_snr = []\n",
        "layer3_snr = []\n",
        "layer4_snr = []\n",
        "layer5_snr = []\n",
        "layer6_snr = []"
      ],
      "execution_count": 0,
      "outputs": []
    },
    {
      "cell_type": "code",
      "metadata": {
        "id": "sc3kPPYahdB5",
        "colab_type": "code",
        "colab": {}
      },
      "source": [
        "for d in range(20):\n",
        "    snr = snrList[d]\n",
        "    print(\"layer2 \",snr)\n",
        "    \n",
        "    X_snr = []\n",
        "    y_snr = []\n",
        "    \n",
        "    for i in range(X.shape[0]):\n",
        "        if labels[i,1] == snr:\n",
        "            X_snr.append(X[i])\n",
        "            y_snr.append(y[i])\n",
        "    \n",
        "    X_snr = np.array(X_snr)\n",
        "    y_snr = np.array(y_snr)        \n",
        "    \n",
        "    ###### Splitting the dataset into the Training set and Test set ######\n",
        "    from sklearn.model_selection import train_test_split\n",
        "    #X_train, X_test, y_train, y_test = train_test_split(X_snr, y_snr, test_size = 0.2, random_state = 0)\n",
        "    # The below line better for Cross_val part\n",
        "    X_train, X_test, y_train, y_test = train_test_split(X_snr, y_snr, test_size = 1, random_state = 0)\n",
        "    \n",
        "    \n",
        "    # Feature Scaling\n",
        "    from sklearn.preprocessing import StandardScaler\n",
        "    sc = StandardScaler()\n",
        "    X_train = sc.fit_transform(X_train)\n",
        "    X_test = sc.transform(X_test)\n",
        "    \n",
        "    \n",
        "    # Evaluating the ANN\n",
        "    from keras.wrappers.scikit_learn import KerasClassifier\n",
        "    from sklearn.model_selection import cross_val_score\n",
        "    from keras.models import Sequential\n",
        "    from keras.layers import Dense\n",
        "    from keras.layers import Dropout\n",
        "    \n",
        "    def build_classifier():\n",
        "        classifier = Sequential()\n",
        "        dout = 0.2\n",
        "        classifier.add(Dense(units = 132, kernel_initializer = 'uniform', activation = 'relu', input_dim = 256))    \n",
        "        classifier.add(Dropout(rate = dout))\n",
        "        classifier.add(Dense(units = 132, kernel_initializer = 'uniform', activation = 'relu'))\n",
        "        classifier.add(Dropout(rate = dout))\n",
        "        classifier.add(Dense(units = 8, kernel_initializer = 'uniform', activation = 'softmax'))\n",
        "        classifier.compile(optimizer = 'adam', loss = 'categorical_crossentropy', metrics = ['accuracy'])\n",
        "        return classifier\n",
        "    classifier = KerasClassifier(build_fn = build_classifier)\n",
        "    batch = 10\n",
        "    epoch = 25\n",
        "    classifier = KerasClassifier(build_fn = build_classifier, batch_size = batch, epochs = epoch, verbose=0)\n",
        "    # It is better test_size = 1 in Splitting the dataset part\n",
        "    accuracies = cross_val_score(estimator = classifier, X = X_train, y = y_train, cv = 4, n_jobs = 1)\n",
        "    mean = accuracies.mean()\n",
        "    #variance = accuracies.std()\n",
        "   \n",
        "    layer2_snr.append(mean)\n",
        "    print(mean)\n",
        "    \n",
        "print(layer2_snr)    "
      ],
      "execution_count": 0,
      "outputs": []
    },
    {
      "cell_type": "code",
      "metadata": {
        "id": "tOGsK1WlhdUE",
        "colab_type": "code",
        "colab": {}
      },
      "source": [
        "layer2=[0.12489076040034322, 0.12739257384528158, 0.1345170738121328, 0.15014420025704756, 0.20752582978023465, 0.2649089599224278, 0.3564198413424906, 0.4423055342168805, 0.5139379752755842, 0.5146907897803163, 0.41467534404171125, 0.4306783463397232, 0.444177845674313, 0.44318222300639154, 0.43767822050047345, 0.4430519698061917, 0.43430715974300105, 0.42892997136097744, 0.4316777831801456, 0.4411802220803449]\n",
        "layer3=[0.12839132328977573, 0.1280133217647569, 0.129141010790849, 0.14714313703179155, 0.19064914112870096, 0.2759097734660147, 0.3482970303279758, 0.4309272202443361, 0.5156864129550142, 0.49231247592676874, 0.416302157891672, 0.43942865825097, 0.45430328348446997, 0.46105853630153426, 0.44367909604618294, 0.44330272001746845, 0.45493140986521896, 0.4470553479792635, 0.44692984663369345, 0.45380678479010894]\n",
        "layer4=[0.12351788633116793, 0.12013913454551747, 0.1282668859016741, 0.13376694868162195, 0.19127345332202633, 0.25528314706813515, 0.3454194663197879, 0.4405527833125705, 0.5199401008726665, 0.46806009894912004, 0.43530203233933307, 0.4391819723857322, 0.4573043470170997, 0.4614324730419912, 0.4390564107892242, 0.4456797834952968, 0.4420585991299547, 0.4436797836889327, 0.44880403388569734, 0.45930953624193793]\n",
        "layer6=[0.12176488498030133, 0.1206392595865971, 0.1263911355274071, 0.13051619836136702, 0.18102239030261916, 0.2550320215183932, 0.3325442786952327, 0.4048007819840751, 0.4590520329241515, 0.4101771581712262, 0.4276769702980111, 0.4348042838300544, 0.4451785335386672, 0.44567940908071846, 0.4253042841522818, 0.43630090747900746, 0.4334299094650546, 0.42992897172329886, 0.4370537209871219, 0.43930741033364473]\n",
        "layer5=[0.1215151350374048, 0.12564076038452518, 0.12901626068493513, 0.13426782412679977, 0.19539807813905047, 0.2656578972355545, 0.3444180280829418, 0.43130284556253384, 0.5000635384031715, 0.4233030332383206, 0.42655278284296494, 0.44280603514509964, 0.44980347093662476, 0.45055428394180286, 0.4396790965828064, 0.4369294086336464, 0.43793309848314865, 0.44367940879573653, 0.442431347613242, 0.4561860372124099]"
      ],
      "execution_count": 0,
      "outputs": []
    },
    {
      "cell_type": "markdown",
      "metadata": {
        "id": "ORPI905hhNfE",
        "colab_type": "text"
      },
      "source": [
        "# Grid Search"
      ]
    },
    {
      "cell_type": "code",
      "metadata": {
        "id": "JrHIolb35V1o",
        "colab_type": "code",
        "colab": {}
      },
      "source": [
        "# Tuning the ANN\n",
        "from keras.wrappers.scikit_learn import KerasClassifier\n",
        "from sklearn.model_selection import GridSearchCV\n",
        "from keras.models import Sequential\n",
        "from keras.layers import Dense, Dropout\n",
        "\n",
        "def build_classifier(n1):\n",
        "    classifier = Sequential()\n",
        "    classifier.add(Dense(units = n1, kernel_initializer = 'uniform', activation = 'relu', input_dim = 256))    \n",
        "    dout = 0.2\n",
        "    classifier.add(Dropout(p = dout))\n",
        "    classifier.add(Dense(units = n1, kernel_initializer = 'uniform', activation = 'relu'))\n",
        "    classifier.add(Dropout(p = dout))\n",
        "    classifier.add(Dense(units = 8, kernel_initializer = 'uniform', activation = 'softmax'))\n",
        "    classifier.compile(optimizer = 'adam', loss = 'categorical_crossentropy', metrics = ['accuracy'])\n",
        "    return classifier\n",
        "classifier = KerasClassifier(build_fn = build_classifier)\n",
        "parameters = {'batch_size': [10, 25, 50, 75, 100],\n",
        "              'epochs': [10, 20, 50, 100],\n",
        "              'optimizer': ['adam', 'rmsprop'],\n",
        "              'n1':[66, 99, 165, 198, 231, 264, 297 ,396],\n",
        "              'n2':[66, 99, 165, 198, 231, 264, 297 ,396]}\n",
        "\n",
        "parameters = {'n1':[66, 99, 165, 198, 231, 264, 297 ,396]}\n",
        "grid_search = GridSearchCV(estimator = classifier,\n",
        "                           param_grid = parameters,\n",
        "                           scoring = 'accuracy',\n",
        "                           cv = 2)\n",
        "\n",
        "grid_search = grid_search.fit(X_train, y_train)\n",
        "best_parameters = grid_search.best_params_\n",
        "best_accuracy = grid_search.best_score_\n",
        "\n",
        "print('best_parameters : ', best_parameters)\n",
        "print('best_accuracy : ', best_accuracy)"
      ],
      "execution_count": 0,
      "outputs": []
    },
    {
      "cell_type": "markdown",
      "metadata": {
        "id": "ShXqOJL47hCE",
        "colab_type": "text"
      },
      "source": [
        "# Plot Confusion Matrix"
      ]
    },
    {
      "cell_type": "code",
      "metadata": {
        "id": "wJdL7PP_7jir",
        "colab_type": "code",
        "colab": {
          "base_uri": "https://localhost:8080/",
          "height": 389
        },
        "outputId": "948e33fc-d5d9-4743-e84b-494cda4f2c7c"
      },
      "source": [
        "import matplotlib.pyplot as plt\n",
        "import seaborn as sns\n",
        "import pandas as pd\n",
        "modulation_order = []\n",
        "modulation_order_dict = dict()\n",
        "\n",
        "for key,value in output.items():\n",
        "    modulation_order_dict[np.argmax(value)] = str(key)\n",
        "    \n",
        "for i in range(8):\n",
        "    modulation_order.append(modulation_order_dict[i])\n",
        "    \n",
        "    \n",
        "    \n",
        "cmDataFrame = pd.DataFrame(cm_norm, index=modulation_order, columns = modulation_order)\n",
        "plt.figure(figsize=(6, 5))\n",
        "ax = sns.heatmap(cmDataFrame, annot=True, annot_kws={\"size\": 9}, fmt='.2f', linewidths=.5, cmap=\"Greens\")\n",
        "\n",
        "plt.title(f\"ANN Confusion Matrix (SNR={snr})\")\n",
        "plt.xlabel(\"Predicted label  \\n\\n TrainAcc={:.2}, TestAcc={:.2}\".format(acc_train,acc_test), fontsize=9)\n",
        "plt.ylabel(\"True lable\", fontsize=9)\n",
        "plt.setp(ax.get_xticklabels(), rotation=45, ha=\"right\",rotation_mode=\"anchor\", fontsize=9)\n",
        "plt.setp(ax.get_yticklabels(), fontsize=9)\n",
        "fig = ax.get_figure()"
      ],
      "execution_count": 21,
      "outputs": [
        {
          "output_type": "display_data",
          "data": {
            "image/png": "[encoded data removed]",
            "text/plain": [
              "<Figure size 432x360 with 2 Axes>"
            ]
          },
          "metadata": {
            "tags": []
          }
        }
      ]
    },
    {
      "cell_type": "code",
      "metadata": {
        "id": "x8eHSHvA7_ud",
        "colab_type": "code",
        "colab": {
          "base_uri": "https://localhost:8080/",
          "height": 34
        },
        "outputId": "f65996b6-0b04-4cb5-f3e5-557fe4a9a9dc"
      },
      "source": [
        "dic = \"/content/drive/My Drive/Colab Notebooks/\"\n",
        "fig.savefig(dic+f\"/Pic/ANN-132-132-132-132-ba{batch}-ep{epoch}(SNR={snr}).png\", dpi=175, bbox_inches='tight')\n",
        "fig.savefig(dic+f\"/Pic/ANN-132-132-132-132-ba{batch}-ep{epoch}(SNR={snr}).eps\", bbox_inches='tight')\n",
        "print(\"Plot Saved!\")"
      ],
      "execution_count": 17,
      "outputs": [
        {
          "output_type": "stream",
          "text": [
            "Plot Saved!\n"
          ],
          "name": "stdout"
        }
      ]
    }
  ]
}