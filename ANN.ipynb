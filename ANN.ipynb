{
  "nbformat": 4,
  "nbformat_minor": 0,
  "metadata": {
    "colab": {
      "name": "ANN.ipynb",
      "version": "0.3.2",
      "provenance": [],
      "collapsed_sections": [],
      "include_colab_link": true
    },
    "kernelspec": {
      "name": "python3",
      "display_name": "Python 3"
    },
    "accelerator": "TPU"
  },
  "cells": [
    {
      "cell_type": "markdown",
      "metadata": {
        "id": "view-in-github",
        "colab_type": "text"
      },
      "source": [
        "<a href=\"https://colab.research.google.com/github/MohsenJadidi/Automatic-Modulation-Classification-AMC/blob/master/ANN.ipynb\" target=\"_parent\"><img src=\"https://colab.research.google.com/assets/colab-badge.svg\" alt=\"Open In Colab\"/></a>"
      ]
    },
    {
      "cell_type": "code",
      "metadata": {
        "id": "NbWAylFFl7H3",
        "colab_type": "code",
        "outputId": "420a2bfc-e25e-4a58-e7b3-e95efb493f02",
        "colab": {
          "base_uri": "https://localhost:8080/",
          "height": 121
        }
      },
      "source": [
        "from google.colab import drive\n",
        "drive.mount('/content/drive')\n"
      ],
      "execution_count": 1,
      "outputs": [
        {
          "output_type": "stream",
          "text": [
            "Go to this URL in a browser: https://accounts.google.com/o/oauth2/auth?client_id=947318989803-6bn6qk8qdgf4n4g3pfee6491hc0brc4i.apps.googleusercontent.com&redirect_uri=urn%3Aietf%3Awg%3Aoauth%3A2.0%3Aoob&scope=email%20https%3A%2F%2Fwww.googleapis.com%2Fauth%2Fdocs.test%20https%3A%2F%2Fwww.googleapis.com%2Fauth%2Fdrive%20https%3A%2F%2Fwww.googleapis.com%2Fauth%2Fdrive.photos.readonly%20https%3A%2F%2Fwww.googleapis.com%2Fauth%2Fpeopleapi.readonly&response_type=code\n",
            "\n",
            "Enter your authorization code:\n",
            "··········\n",
            "Mounted at /content/drive\n"
          ],
          "name": "stdout"
        }
      ]
    },
    {
      "cell_type": "markdown",
      "metadata": {
        "id": "UR0ATiKBk6rG",
        "colab_type": "text"
      },
      "source": [
        "# Importing the dataset"
      ]
    },
    {
      "cell_type": "code",
      "metadata": {
        "id": "JfzzfiDSuxMs",
        "colab_type": "code",
        "colab": {}
      },
      "source": [
        "import pickle\n",
        "fileName = 'RML2016.10a_dict.pkl'\n",
        "with open(\"/content/drive/My Drive/Colab Notebooks/\"+fileName,'rb') as f:\n",
        "  data = pickle.load(f,encoding='bytes')\n",
        " "
      ],
      "execution_count": 0,
      "outputs": []
    },
    {
      "cell_type": "code",
      "metadata": {
        "id": "yjAg9T-0uzyh",
        "colab_type": "code",
        "outputId": "74d4c97e-4ffe-42e0-9245-2aed9dc3e666",
        "colab": {
          "base_uri": "https://localhost:8080/",
          "height": 34
        }
      },
      "source": [
        "import numpy as np\n",
        "X = []\n",
        "labels = [] # label each example by a pair (modulation type, snr)\n",
        "total_examples = 0\n",
        "analog = [b'AM-DSB', b'AM-SSB', b'WBFM']\n",
        "\n",
        "for mod_type, snr in data.keys():\n",
        "    if (mod_type not in analog):      \n",
        "        current_matrix = data[(mod_type, snr)]        \n",
        "        total_examples += current_matrix.shape[0]\n",
        "        for i in range(current_matrix.shape[0]):\n",
        "            X.append(current_matrix[i])\n",
        "            labels.append((str(mod_type, 'ascii'), snr)) # mod_type is of type bytes\n",
        "    \n",
        "X = np.array(X)         # First row is QPSK snr=2, seconde is PAM4 snr=8 , ...\n",
        "labels = np.array(labels)\n",
        "\n",
        "y = labels[:,0]\n",
        "\n",
        "print(f'loaded {total_examples} signal vectors into X{X.shape} and their corresponding'\n",
        "      f' labels into labels{labels.shape}')  \n",
        "# print(np.unique(labels[:,0]))\n"
      ],
      "execution_count": 3,
      "outputs": [
        {
          "output_type": "stream",
          "text": [
            "loaded 160000 signal vectors into X(160000, 2, 128) and their corresponding labels into labels(160000, 2)\n"
          ],
          "name": "stdout"
        }
      ]
    },
    {
      "cell_type": "code",
      "metadata": {
        "id": "pbeDr3FVv57v",
        "colab_type": "code",
        "outputId": "5fc0e790-fd40-49b7-d931-2c402f4a57e7",
        "colab": {
          "base_uri": "https://localhost:8080/",
          "height": 104
        }
      },
      "source": [
        "# Encoding categorical data\n",
        "from sklearn.preprocessing import LabelEncoder, OneHotEncoder\n",
        "labelencoder_y = LabelEncoder()\n",
        "y = labelencoder_y.fit_transform(y)\n",
        "onehotencoder = OneHotEncoder()\n",
        "y = onehotencoder.fit_transform(y.reshape(-1,1)).toarray()"
      ],
      "execution_count": 4,
      "outputs": [
        {
          "output_type": "stream",
          "text": [
            "/usr/local/lib/python3.6/dist-packages/sklearn/preprocessing/_encoders.py:415: FutureWarning: The handling of integer data will change in version 0.22. Currently, the categories are determined based on the range [0, max(values)], while in the future they will be determined based on the unique values.\n",
            "If you want the future behaviour and silence this warning, you can specify \"categories='auto'\".\n",
            "In case you used a LabelEncoder before this OneHotEncoder to convert the categories to integers, then you can now use the OneHotEncoder directly.\n",
            "  warnings.warn(msg, FutureWarning)\n"
          ],
          "name": "stderr"
        }
      ]
    },
    {
      "cell_type": "code",
      "metadata": {
        "id": "-Z6iUKbJwKlT",
        "colab_type": "code",
        "outputId": "9bbc5841-2779-49a5-f37b-4b5b3626e4ad",
        "colab": {
          "base_uri": "https://localhost:8080/",
          "height": 34
        }
      },
      "source": [
        "snrList = [str(2*i-20) for i in range(20)]  # snrList = -20, -18, -16 , ... ,0, ... ,18\n",
        "snr = snrList[19]\n",
        "numberOfEachExamples = 1000\n",
        "print(\"SNR :\", snrList)"
      ],
      "execution_count": 5,
      "outputs": [
        {
          "output_type": "stream",
          "text": [
            "SNR : ['-20', '-18', '-16', '-14', '-12', '-10', '-8', '-6', '-4', '-2', '0', '2', '4', '6', '8', '10', '12', '14', '16', '18']\n"
          ],
          "name": "stdout"
        }
      ]
    },
    {
      "cell_type": "code",
      "metadata": {
        "id": "-DiHGfSPwKb1",
        "colab_type": "code",
        "colab": {}
      },
      "source": [
        "output = [[labels[i*numberOfEachExamples, 0],y[i*numberOfEachExamples]] for i in range(int(X.shape[0]/numberOfEachExamples))]\n",
        "output = dict(output)"
      ],
      "execution_count": 0,
      "outputs": []
    },
    {
      "cell_type": "code",
      "metadata": {
        "id": "0OJ3GghKwrbs",
        "colab_type": "code",
        "outputId": "3a1d30bc-6648-4844-9b10-a33d86188f89",
        "colab": {
          "base_uri": "https://localhost:8080/",
          "height": 34
        }
      },
      "source": [
        "Xsnr = np.zeros(shape=(X.shape[0],X.shape[1],X.shape[2]+1))\n",
        "for i in range(X.shape[0]):\n",
        "    snr = int(labels[i,1])\n",
        "    Xsnr[i,0,:] = np.insert(X[i,0,:],0,snr)\n",
        "    Xsnr[i,1,:] = np.insert(X[i,1,:],0,snr)\n",
        "    \n",
        "print(Xsnr.shape)"
      ],
      "execution_count": 7,
      "outputs": [
        {
          "output_type": "stream",
          "text": [
            "(160000, 2, 129)\n"
          ],
          "name": "stdout"
        }
      ]
    },
    {
      "cell_type": "code",
      "metadata": {
        "id": "Cx7l0G_3ww0w",
        "colab_type": "code",
        "outputId": "393271c6-10f5-49eb-d2c3-9af5f3cc4854",
        "colab": {
          "base_uri": "https://localhost:8080/",
          "height": 50
        }
      },
      "source": [
        "###### Splitting the dataset into the Training set and Test set ######\n",
        "from sklearn.model_selection import train_test_split\n",
        "X_train, X_test, y_train, y_test = train_test_split(Xsnr, y, test_size = 0.2, random_state = 0)\n",
        "# The below line better for Cross_val part\n",
        "#X_train, X_test, y_train, y_test = train_test_split(Xsnr, y, test_size = 1, random_state = 0)\n",
        "\n",
        "print(X_train.shape)\n",
        "print(X_test.shape)"
      ],
      "execution_count": 8,
      "outputs": [
        {
          "output_type": "stream",
          "text": [
            "(128000, 2, 129)\n",
            "(32000, 2, 129)\n"
          ],
          "name": "stdout"
        }
      ]
    },
    {
      "cell_type": "code",
      "metadata": {
        "id": "gGeDKe8GLNJ9",
        "colab_type": "code",
        "outputId": "21237278-a5b3-4026-9f69-1b27b047dd15",
        "colab": {
          "base_uri": "https://localhost:8080/",
          "height": 50
        }
      },
      "source": [
        "X_train = X_train[:,:,1:] # snr important for train\n",
        "\n",
        "y_test18 = []\n",
        "X_test18 = []\n",
        "\n",
        "for i in range(X_test.shape[0]):\n",
        "    if X_test[i,0,0] == 18:\n",
        "        X_test18.append(X_test[i])\n",
        "        y_test18.append(y_test[i])\n",
        "        \n",
        "X_test18 = np.array(X_test18)\n",
        "y_test18 = np.array(y_test18)        \n",
        "X_test18 = X_test18[:,:,1:]\n",
        "\n",
        "\n",
        "print(X_train.shape)\n",
        "print(X_test18.shape)"
      ],
      "execution_count": 9,
      "outputs": [
        {
          "output_type": "stream",
          "text": [
            "(128000, 2, 128)\n",
            "(1653, 2, 128)\n"
          ],
          "name": "stdout"
        }
      ]
    },
    {
      "cell_type": "code",
      "metadata": {
        "id": "V4OinfCHLd8y",
        "colab_type": "code",
        "outputId": "0da3f68e-f203-4c53-b795-b3fceeacb43e",
        "colab": {
          "base_uri": "https://localhost:8080/",
          "height": 50
        }
      },
      "source": [
        "# Change IQ to amplitude and phase\n",
        "X_cmplx = X_train[:,0,:] + 1j* X_train[:,1,:]    \n",
        "X_amp = np.abs(X_cmplx)\n",
        "X_ang = np.arctan2(X_train[:,1,:],X_train[:,0,:]) / np.pi\n",
        "    \n",
        "X_amp = np.reshape(X_amp,(-1,1,128))\n",
        "X_ang = np.reshape(X_ang,(-1,1,128))\n",
        "    \n",
        "X_train_AmpPhs = np.concatenate((X_amp,X_ang), axis=1) \n",
        "##\n",
        "X_cmplx = X_test18[:,0,:] + 1j* X_test18[:,1,:]    \n",
        "X_amp = np.abs(X_cmplx)\n",
        "X_ang = np.arctan2(X_test18[:,1,:],X_test18[:,0,:]) / np.pi\n",
        "    \n",
        "X_amp = np.reshape(X_amp,(-1,1,128))\n",
        "X_ang = np.reshape(X_ang,(-1,1,128))\n",
        "    \n",
        "X_test18_AmpPhs = np.concatenate((X_amp,X_ang), axis=1) \n",
        "##\n",
        "\n",
        "print(X_train_AmpPhs.shape)\n",
        "print(X_test18_AmpPhs.shape)"
      ],
      "execution_count": 10,
      "outputs": [
        {
          "output_type": "stream",
          "text": [
            "(128000, 2, 128)\n",
            "(1653, 2, 128)\n"
          ],
          "name": "stdout"
        }
      ]
    },
    {
      "cell_type": "code",
      "metadata": {
        "id": "NuKWgf69MhKo",
        "colab_type": "code",
        "colab": {}
      },
      "source": [
        "from sklearn.preprocessing import StandardScaler\n",
        "sc = StandardScaler()\n",
        "X_train = X_train.reshape([X_train.shape[0],256])\n",
        "X_train = sc.fit_transform(X_train)\n",
        "X_train = X_train.reshape([X_train.shape[0],2,128])\n",
        "#X_test = X_test.reshape([1600,256])\n",
        "X_test18 = X_test18.reshape([X_test18.shape[0],256])\n",
        "X_test18 = sc.transform(X_test18)\n",
        "X_test18 = X_test18.reshape([X_test18.shape[0],2,128])\n"
      ],
      "execution_count": 0,
      "outputs": []
    },
    {
      "cell_type": "code",
      "metadata": {
        "id": "gGTuYsrYNnWb",
        "colab_type": "code",
        "colab": {}
      },
      "source": [
        "X_train = X_train.reshape([X_train.shape[0],256])\n",
        "X_test18 = X_test18.reshape([X_test18.shape[0],256])"
      ],
      "execution_count": 0,
      "outputs": []
    },
    {
      "cell_type": "markdown",
      "metadata": {
        "id": "UWipMIzTw3SN",
        "colab_type": "text"
      },
      "source": [
        "# Making Simple model"
      ]
    },
    {
      "cell_type": "code",
      "metadata": {
        "id": "1t4bapTyw8Lp",
        "colab_type": "code",
        "outputId": "11ce4831-2aa5-4805-ce29-bc13237c6062",
        "colab": {
          "base_uri": "https://localhost:8080/",
          "height": 322
        }
      },
      "source": [
        "# Importing the Keras libraries and packages\n",
        "import keras\n",
        "from keras.models import Sequential\n",
        "from keras.layers import Dense\n",
        "from keras.layers import Dropout\n",
        "# Initialising the ANN\n",
        "\n",
        "\n",
        "classifier = Sequential()\n",
        "\n",
        "# Adding the input layer and the first hidden layer\n",
        "classifier.add(Dense(units = 1052, kernel_initializer = 'uniform', activation = 'relu', input_dim = 256))\n",
        "dout = 0.4\n",
        "classifier.add(Dropout(rate = dout))\n",
        "\n",
        "# Adding the second hidden layer\n",
        "#classifier.add(Dense(units = 132, kernel_initializer = 'uniform', activation = 'relu'))\n",
        "#classifier.add(Dropout(rate = dout))\n",
        "\n",
        "#classifier.add(Dense(units = 132, kernel_initializer = 'uniform', activation = 'relu'))\n",
        "#classifier.add(Dropout(rate = dout))\n",
        "\n",
        "#classifier.add(Dense(units = 132, kernel_initializer = 'uniform', activation = 'relu'))\n",
        "#classifier.add(Dropout(rate = dout))\n",
        "\n",
        "#classifier.add(Dense(units = 132, kernel_initializer = 'uniform', activation = 'relu'))\n",
        "#classifier.add(Dropout(rate = dout))\n",
        "\n",
        "# Adding the output layer\n",
        "classifier.add(Dense(units = 8, kernel_initializer = 'uniform', activation = 'softmax'))\n",
        "\n",
        "# Compiling the ANN\n",
        "classifier.compile(optimizer = 'adam', loss = 'categorical_crossentropy', metrics = ['accuracy'])\n",
        "\n",
        "#logger = keras.callbacks.TensorBoard(log_dir=\"./logs\", write_graph=True, histogram_freq=0)\n",
        "\n",
        "classifier.summary()\n",
        "\n",
        "print(\"Model Created!\")"
      ],
      "execution_count": 97,
      "outputs": [
        {
          "output_type": "stream",
          "text": [
            "W0822 18:57:56.181553 139703420299136 deprecation.py:506] From /usr/local/lib/python3.6/dist-packages/keras/backend/tensorflow_backend.py:3445: calling dropout (from tensorflow.python.ops.nn_ops) with keep_prob is deprecated and will be removed in a future version.\n",
            "Instructions for updating:\n",
            "Please use `rate` instead of `keep_prob`. Rate should be set to `rate = 1 - keep_prob`.\n"
          ],
          "name": "stderr"
        },
        {
          "output_type": "stream",
          "text": [
            "_________________________________________________________________\n",
            "Layer (type)                 Output Shape              Param #   \n",
            "=================================================================\n",
            "dense_27 (Dense)             (None, 1052)              270364    \n",
            "_________________________________________________________________\n",
            "dropout_1 (Dropout)          (None, 1052)              0         \n",
            "_________________________________________________________________\n",
            "dense_28 (Dense)             (None, 8)                 8424      \n",
            "=================================================================\n",
            "Total params: 278,788\n",
            "Trainable params: 278,788\n",
            "Non-trainable params: 0\n",
            "_________________________________________________________________\n",
            "Model Created!\n"
          ],
          "name": "stdout"
        }
      ]
    },
    {
      "cell_type": "code",
      "metadata": {
        "id": "P0K9N5wL2x3F",
        "colab_type": "code",
        "outputId": "7c57ab22-5b33-4aa9-b8c9-a719dc53b72f",
        "colab": {
          "base_uri": "https://localhost:8080/",
          "height": 907
        }
      },
      "source": [
        "batch = 1024\n",
        "epoch = 100\n",
        "\n",
        "history = classifier.fit(X_train, y_train, batch_size = batch, epochs = epoch, validation_data=(X_test18, y_test18))\n",
        "#history = classifier.fit(X_train, y_train, batch_size = batch, epochs = epoch)"
      ],
      "execution_count": 0,
      "outputs": [
        {
          "output_type": "stream",
          "text": [
            "Train on 128000 samples, validate on 1653 samples\n",
            "Epoch 1/100\n",
            "128000/128000 [==============================] - 10s 76us/step - loss: 1.8724 - acc: 0.2617 - val_loss: 1.5500 - val_acc: 0.3733\n",
            "Epoch 2/100\n",
            "128000/128000 [==============================] - 9s 67us/step - loss: 1.7328 - acc: 0.3223 - val_loss: 1.4770 - val_acc: 0.4392\n",
            "Epoch 3/100\n",
            "128000/128000 [==============================] - 8s 66us/step - loss: 1.6905 - acc: 0.3405 - val_loss: 1.4579 - val_acc: 0.4380\n",
            "Epoch 4/100\n",
            "128000/128000 [==============================] - 8s 66us/step - loss: 1.6623 - acc: 0.3549 - val_loss: 1.4366 - val_acc: 0.4356\n",
            "Epoch 5/100\n",
            "128000/128000 [==============================] - 8s 66us/step - loss: 1.6405 - acc: 0.3647 - val_loss: 1.4370 - val_acc: 0.4295\n",
            "Epoch 6/100\n",
            "128000/128000 [==============================] - 8s 65us/step - loss: 1.6214 - acc: 0.3725 - val_loss: 1.4158 - val_acc: 0.4434\n",
            "Epoch 7/100\n",
            "128000/128000 [==============================] - 8s 65us/step - loss: 1.6017 - acc: 0.3800 - val_loss: 1.4121 - val_acc: 0.4561\n",
            "Epoch 8/100\n",
            "128000/128000 [==============================] - 8s 64us/step - loss: 1.5866 - acc: 0.3871 - val_loss: 1.4003 - val_acc: 0.4453\n",
            "Epoch 9/100\n",
            "128000/128000 [==============================] - 8s 64us/step - loss: 1.5717 - acc: 0.3917 - val_loss: 1.3899 - val_acc: 0.4325\n",
            "Epoch 10/100\n",
            "128000/128000 [==============================] - 8s 65us/step - loss: 1.5590 - acc: 0.3988 - val_loss: 1.3739 - val_acc: 0.4519\n",
            "Epoch 11/100\n",
            "128000/128000 [==============================] - 8s 64us/step - loss: 1.5463 - acc: 0.4028 - val_loss: 1.3676 - val_acc: 0.4453\n",
            "Epoch 12/100\n",
            "128000/128000 [==============================] - 9s 67us/step - loss: 1.5311 - acc: 0.4101 - val_loss: 1.3717 - val_acc: 0.4549\n",
            "Epoch 13/100\n",
            "128000/128000 [==============================] - 8s 66us/step - loss: 1.5210 - acc: 0.4138 - val_loss: 1.3601 - val_acc: 0.4670\n",
            "Epoch 14/100\n",
            "128000/128000 [==============================] - 8s 64us/step - loss: 1.5078 - acc: 0.4180 - val_loss: 1.3433 - val_acc: 0.4682\n",
            "Epoch 15/100\n",
            "128000/128000 [==============================] - 8s 65us/step - loss: 1.4983 - acc: 0.4223 - val_loss: 1.3497 - val_acc: 0.4610\n",
            "Epoch 16/100\n",
            "128000/128000 [==============================] - 8s 66us/step - loss: 1.4869 - acc: 0.4273 - val_loss: 1.3450 - val_acc: 0.4555\n",
            "Epoch 17/100\n",
            "128000/128000 [==============================] - 8s 65us/step - loss: 1.4807 - acc: 0.4304 - val_loss: 1.3436 - val_acc: 0.4580\n",
            "Epoch 18/100\n",
            "128000/128000 [==============================] - 8s 65us/step - loss: 1.4726 - acc: 0.4333 - val_loss: 1.3287 - val_acc: 0.4694\n",
            "Epoch 19/100\n",
            "128000/128000 [==============================] - 8s 65us/step - loss: 1.4650 - acc: 0.4357 - val_loss: 1.3253 - val_acc: 0.4725\n",
            "Epoch 20/100\n",
            "128000/128000 [==============================] - 8s 64us/step - loss: 1.4561 - acc: 0.4412 - val_loss: 1.3159 - val_acc: 0.4694\n",
            "Epoch 21/100\n",
            "128000/128000 [==============================] - 8s 65us/step - loss: 1.4466 - acc: 0.4436 - val_loss: 1.3244 - val_acc: 0.4670\n",
            "Epoch 22/100\n",
            "128000/128000 [==============================] - 8s 66us/step - loss: 1.4397 - acc: 0.4468 - val_loss: 1.3257 - val_acc: 0.4616\n",
            "Epoch 23/100\n",
            "128000/128000 [==============================] - 8s 64us/step - loss: 1.4306 - acc: 0.4506 - val_loss: 1.3203 - val_acc: 0.4658\n",
            "Epoch 24/100\n",
            "128000/128000 [==============================] - 8s 64us/step - loss: 1.4254 - acc: 0.4545 - val_loss: 1.3222 - val_acc: 0.4646\n",
            "Epoch 25/100\n",
            "128000/128000 [==============================] - 8s 64us/step - loss: 1.4216 - acc: 0.4548 - val_loss: 1.3144 - val_acc: 0.4580\n",
            "Epoch 26/100\n",
            "128000/128000 [==============================] - 8s 64us/step - loss: 1.4143 - acc: 0.4574 - val_loss: 1.3320 - val_acc: 0.4598\n",
            "Epoch 27/100\n",
            "128000/128000 [==============================] - 8s 64us/step - loss: 1.4044 - acc: 0.4630 - val_loss: 1.3097 - val_acc: 0.4670\n",
            "Epoch 28/100\n",
            "128000/128000 [==============================] - 8s 66us/step - loss: 1.3974 - acc: 0.4660 - val_loss: 1.3198 - val_acc: 0.4646\n",
            "Epoch 29/100\n",
            "128000/128000 [==============================] - 8s 65us/step - loss: 1.3922 - acc: 0.4685 - val_loss: 1.3250 - val_acc: 0.4574\n",
            "Epoch 30/100\n",
            "128000/128000 [==============================] - 8s 65us/step - loss: 1.3881 - acc: 0.4694 - val_loss: 1.3138 - val_acc: 0.4725\n",
            "Epoch 31/100\n",
            "128000/128000 [==============================] - 8s 65us/step - loss: 1.3838 - acc: 0.4712 - val_loss: 1.3089 - val_acc: 0.4767\n",
            "Epoch 32/100\n",
            "128000/128000 [==============================] - 8s 65us/step - loss: 1.3789 - acc: 0.4724 - val_loss: 1.3126 - val_acc: 0.4834\n",
            "Epoch 33/100\n",
            "128000/128000 [==============================] - 8s 64us/step - loss: 1.3729 - acc: 0.4768 - val_loss: 1.3133 - val_acc: 0.4694\n",
            "Epoch 34/100\n",
            "128000/128000 [==============================] - 8s 65us/step - loss: 1.3653 - acc: 0.4798 - val_loss: 1.3067 - val_acc: 0.4707\n",
            "Epoch 35/100\n",
            " 75776/128000 [================>.............] - ETA: 3s - loss: 1.3472 - acc: 0.4880"
          ],
          "name": "stdout"
        }
      ]
    },
    {
      "cell_type": "markdown",
      "metadata": {
        "id": "OVFgwssVfxtd",
        "colab_type": "text"
      },
      "source": [
        "# Save model"
      ]
    },
    {
      "cell_type": "code",
      "metadata": {
        "id": "fKe0m_39HiWU",
        "colab_type": "code",
        "outputId": "4568105a-5599-4ceb-d711-ac6d0b849c15",
        "colab": {
          "base_uri": "https://localhost:8080/",
          "height": 34
        }
      },
      "source": [
        "dic = \"/content/drive/My Drive/Colab Notebooks/\"\n",
        "classifier.save(dic+f'SaveModel/ANN-1052-ba{batch}-ep{epoch}-(dout=0)-input(IQ)(SNR=all).h5')\n",
        "print('Model Saved!')"
      ],
      "execution_count": 95,
      "outputs": [
        {
          "output_type": "stream",
          "text": [
            "Model Saved!\n"
          ],
          "name": "stdout"
        }
      ]
    },
    {
      "cell_type": "markdown",
      "metadata": {
        "id": "cNGu7HtyhGc2",
        "colab_type": "text"
      },
      "source": [
        "\n",
        "# Prediction(only SNR=18)"
      ]
    },
    {
      "cell_type": "code",
      "metadata": {
        "id": "6irYYHCZ6A2C",
        "colab_type": "code",
        "outputId": "cfe1a37d-39fa-40a7-dc55-cafd5f5f102e",
        "colab": {
          "base_uri": "https://localhost:8080/",
          "height": 84
        }
      },
      "source": [
        "y_pred = classifier.predict(X_test18)\n",
        "y_pred = np.argmax(y_pred, axis=1)\n",
        "\n",
        "y_real = np.argmax(y_test18, axis=1)\n",
        "# Making the Confusion Matrix\n",
        "from sklearn.metrics import confusion_matrix\n",
        "cm = confusion_matrix(y_real, y_pred)\n",
        "cm_norm = cm.astype('float') / cm.sum(axis=1)[:, np.newaxis]\n",
        "\n",
        "acc_test = classifier.evaluate(X_test18, y_test18)[1]\n",
        "acc_train = classifier.evaluate(X_train, y_train)[1]\n",
        "\n",
        "print(\"Acc Test : \", acc_test)\n",
        "print(\"Acc Train : \", acc_train)"
      ],
      "execution_count": 34,
      "outputs": [
        {
          "output_type": "stream",
          "text": [
            "1653/1653 [==============================] - 0s 23us/step\n",
            "128000/128000 [==============================] - 3s 23us/step\n",
            "Acc Test :  0.4996975198234851\n",
            "Acc Train :  0.479921875\n"
          ],
          "name": "stdout"
        }
      ]
    },
    {
      "cell_type": "markdown",
      "metadata": {
        "id": "seZ0vLFhjMOv",
        "colab_type": "text"
      },
      "source": [
        "#Cross_val(mean accuracy)"
      ]
    },
    {
      "cell_type": "code",
      "metadata": {
        "id": "oXeIQ_7HjTeC",
        "colab_type": "code",
        "colab": {}
      },
      "source": [
        "# Evaluating the ANN\n",
        "from keras.wrappers.scikit_learn import KerasClassifier\n",
        "from sklearn.model_selection import cross_val_score\n",
        "from keras.models import Sequential\n",
        "from keras.layers import Dense\n",
        "from keras.layers import Dropout\n",
        "\n",
        "def build_classifier():\n",
        "    classifier = Sequential()\n",
        "    classifier.add(Dense(units = 132, kernel_initializer = 'uniform', activation = 'relu', input_dim = 256))    \n",
        "    dout = 0.1\n",
        "    classifier.add(Dropout(p = dout))\n",
        "    classifier.add(Dense(units = 132, kernel_initializer = 'uniform', activation = 'relu'))\n",
        "    classifier.add(Dropout(p = dout))\n",
        "    classifier.add(Dense(units = 8, kernel_initializer = 'uniform', activation = 'softmax'))\n",
        "    classifier.compile(optimizer = 'adam', loss = 'categorical_crossentropy', metrics = ['accuracy'])\n",
        "    return classifier\n",
        "classifier = KerasClassifier(build_fn = build_classifier)\n",
        "batch = 10\n",
        "epoch = 25\n",
        "classifier = KerasClassifier(build_fn = build_classifier, batch_size = batch, epochs = epoch)\n",
        "# It is better test_size = 1 in Splitting the dataset part\n",
        "accuracies = cross_val_score(estimator = classifier, X = X_train, y = y_train, cv = 5, n_jobs = 1)\n",
        "mean = accuracies.mean()\n",
        "variance = accuracies.std()"
      ],
      "execution_count": 0,
      "outputs": []
    },
    {
      "cell_type": "markdown",
      "metadata": {
        "id": "E-G3camZi47h",
        "colab_type": "text"
      },
      "source": [
        "# Accuracy vs Droupout"
      ]
    },
    {
      "cell_type": "code",
      "metadata": {
        "id": "vC5FYw4Mi9mc",
        "colab_type": "code",
        "colab": {}
      },
      "source": [
        "from keras.wrappers.scikit_learn import KerasClassifier\n",
        "from sklearn.model_selection import cross_val_score\n",
        "from keras.models import Sequential\n",
        "from keras.layers import Dense\n",
        "from keras.layers import Dropout\n",
        "\n",
        "means = []\n",
        "for i in range(16):\n",
        "  def build_classifier():\n",
        "      classifier = Sequential()\n",
        "      classifier.add(Dense(units = 132, kernel_initializer = 'uniform', activation = 'relu', input_dim = 256))\n",
        "      dout = 0.05*i\n",
        "      classifier.add(Dropout(rate = dout))\n",
        "      classifier.add(Dense(units = 132, kernel_initializer = 'uniform', activation = 'relu'))\n",
        "      classifier.add(Dropout(rate = dout))\n",
        "      classifier.add(Dense(units = 8, kernel_initializer = 'uniform', activation = 'softmax'))\n",
        "      classifier.compile(optimizer = 'adam', loss = 'categorical_crossentropy', metrics = ['accuracy'])\n",
        "      return classifier\n",
        "\n",
        "  print(\"Dropout :\", 0.05*i)\n",
        "  batch = 10\n",
        "  epoch = 25\n",
        "  classifier = KerasClassifier(build_fn = build_classifier, batch_size = batch, epochs = epoch, verbose=0)\n",
        "  # It is better test_size = 1 in Splitting the dataset part\n",
        "  accuracies = cross_val_score(estimator = classifier, X = X_train, y = y_train, cv = 5, n_jobs = 1)\n",
        "  mean = accuracies.mean()\n",
        "  variance = accuracies.std()\n",
        "  print(mean)\n",
        "  means.append(mean)"
      ],
      "execution_count": 0,
      "outputs": []
    },
    {
      "cell_type": "code",
      "metadata": {
        "id": "_EDsmrFQ6gUC",
        "colab_type": "code",
        "colab": {}
      },
      "source": [
        "\n",
        "import matplotlib.pyplot as plt\n",
        "\n",
        "ax = plt.plot(d, means, 'ro')\n",
        "plt.grid()\n",
        "plt.title('Accuracy vs Dropout for ANN (SNR=18)')\n",
        "plt.xlabel('Dropout', fontsize=8)\n",
        "plt.ylabel('Accuracy', fontsize=8)\n",
        "plt.ylim([0.30,0.5])\n",
        "plt.yticks(np.arange(0.3, 0.5, step=0.02))\n",
        "\n",
        "\n",
        "dic = \"/content/drive/My Drive/Colab Notebooks/\"\n",
        "# fig = ax.get_figure()\n",
        "plt.savefig(dic+f\"/Pic/ANN-CrossVal(5)-132-132-ba{batch}-ep{epoch}(SNR={snr}).png\", dpi=175, bbox_inches='tight')\n",
        "plt.savefig(dic+f\"/Pic/ANN-CrossVal(5)-132-132-ba{batch}-ep{epoch}(SNR={snr}).eps\", bbox_inches='tight')\n",
        "\n",
        "print(\"Plot Saved!\")"
      ],
      "execution_count": 0,
      "outputs": []
    },
    {
      "cell_type": "markdown",
      "metadata": {
        "id": "ORPI905hhNfE",
        "colab_type": "text"
      },
      "source": [
        "# Grid Search"
      ]
    },
    {
      "cell_type": "code",
      "metadata": {
        "id": "JrHIolb35V1o",
        "colab_type": "code",
        "colab": {}
      },
      "source": [
        "# Tuning the ANN\n",
        "from keras.wrappers.scikit_learn import KerasClassifier\n",
        "from sklearn.model_selection import GridSearchCV\n",
        "from keras.models import Sequential\n",
        "from keras.layers import Dense, Dropout\n",
        "\n",
        "def build_classifier(n1):\n",
        "    classifier = Sequential()\n",
        "    classifier.add(Dense(units = n1, kernel_initializer = 'uniform', activation = 'relu', input_dim = 256))    \n",
        "    dout = 0.2\n",
        "    classifier.add(Dropout(p = dout))\n",
        "    classifier.add(Dense(units = n1, kernel_initializer = 'uniform', activation = 'relu'))\n",
        "    classifier.add(Dropout(p = dout))\n",
        "    classifier.add(Dense(units = 8, kernel_initializer = 'uniform', activation = 'softmax'))\n",
        "    classifier.compile(optimizer = 'adam', loss = 'categorical_crossentropy', metrics = ['accuracy'])\n",
        "    return classifier\n",
        "classifier = KerasClassifier(build_fn = build_classifier)\n",
        "parameters = {'batch_size': [10, 25, 50, 75, 100],\n",
        "              'epochs': [10, 20, 50, 100],\n",
        "              'optimizer': ['adam', 'rmsprop'],\n",
        "              'n1':[66, 99, 165, 198, 231, 264, 297 ,396],\n",
        "              'n2':[66, 99, 165, 198, 231, 264, 297 ,396]}\n",
        "\n",
        "parameters = {'n1':[66, 99, 165, 198, 231, 264, 297 ,396]}\n",
        "grid_search = GridSearchCV(estimator = classifier,\n",
        "                           param_grid = parameters,\n",
        "                           scoring = 'accuracy',\n",
        "                           cv = 2)\n",
        "\n",
        "grid_search = grid_search.fit(X_train, y_train)\n",
        "best_parameters = grid_search.best_params_\n",
        "best_accuracy = grid_search.best_score_\n",
        "\n",
        "print('best_parameters : ', best_parameters)\n",
        "print('best_accuracy : ', best_accuracy)"
      ],
      "execution_count": 0,
      "outputs": []
    },
    {
      "cell_type": "markdown",
      "metadata": {
        "id": "ShXqOJL47hCE",
        "colab_type": "text"
      },
      "source": [
        "# Plot Confusion Matrix"
      ]
    },
    {
      "cell_type": "code",
      "metadata": {
        "id": "-6AbLWccANuo",
        "colab_type": "code",
        "colab": {
          "base_uri": "https://localhost:8080/",
          "height": 84
        },
        "outputId": "21287b36-a702-4ba0-a7d7-2b6912502b92"
      },
      "source": [
        "import matplotlib.pyplot as plt\n",
        "import seaborn as sns\n",
        "from sklearn.metrics import confusion_matrix\n",
        "import pandas as pd\n",
        "\n",
        "modulation_order = []\n",
        "modulation_order_dict = dict()\n",
        "\n",
        "for key,value in output.items():\n",
        "    modulation_order_dict[np.argmax(value)] = str(key)\n",
        "    \n",
        "for i in range(8):\n",
        "    modulation_order.append(modulation_order_dict[i])\n",
        "    \n",
        "acc_test = classifier.evaluate(X_test18, y_test18)[1]\n",
        "acc_train = classifier.evaluate(X_train, y_train)[1]\n",
        "\n",
        "print(\"Acc Test : \", acc_test)\n",
        "print(\"Acc Train : \", acc_train)    "
      ],
      "execution_count": 23,
      "outputs": [
        {
          "output_type": "stream",
          "text": [
            "1653/1653 [==============================] - 0s 28us/step\n",
            "128000/128000 [==============================] - 3s 24us/step\n",
            "Acc Test :  0.4996975198234851\n",
            "Acc Train :  0.479921875\n"
          ],
          "name": "stdout"
        }
      ]
    },
    {
      "cell_type": "code",
      "metadata": {
        "id": "Vv5RzFyj_Cj1",
        "colab_type": "code",
        "colab": {}
      },
      "source": [
        "dic = \"/content/drive/My Drive/Colab Notebooks/\"\n",
        "acc = []\n",
        "\n",
        "for snr in snrList:\n",
        "  print('SNR: ', snr)\n",
        "    \n",
        "  y_test_snr = []\n",
        "  X_test_snr = []\n",
        "  for i in range(X_test.shape[0]):\n",
        "    if X_test[i,0,0] == int(snr):\n",
        "      X_test_snr.append(X_test[i])\n",
        "      y_test_snr.append(y_test[i])\n",
        "        \n",
        "  X_test_snr = np.array(X_test_snr)\n",
        "  y_test_snr = np.array(y_test_snr)        \n",
        "  X_test_snr = X_test_snr[:,:,1:]\n",
        "  \n",
        "  X_test_snr = X_test_snr.reshape([X_test_snr.shape[0],256])\n",
        "  X_test_snr = sc.transform(X_test_snr)\n",
        "  X_test_snr = X_test_snr.reshape([X_test_snr.shape[0],2,128])\n",
        "  \n",
        "  X_test_snr = X_test_snr.reshape([X_test_snr.shape[0],256]) # Only for ANN\n",
        "    \n",
        "  acc_test = classifier.evaluate(X_test_snr, y_test_snr)[1]\n",
        "  acc.append(acc_test)\n",
        "  print(acc_test)\n",
        "'''  \n",
        "  y_pred = classifier.predict(X_test_snr)\n",
        "  y_pred = np.argmax(y_pred, axis=1)\n",
        "\n",
        "  y_real = np.argmax(y_test_snr, axis=1)\n",
        "  # Making the Confusion Matrix\n",
        "  cm = confusion_matrix(y_real, y_pred)\n",
        "  cm_norm = cm.astype('float') / cm.sum(axis=1)[:, np.newaxis]\n",
        "    \n",
        "    \n",
        "  cmDataFrame = pd.DataFrame(cm_norm, index=modulation_order, columns = modulation_order)\n",
        "  plt.figure(figsize=(6, 5))\n",
        "  ax = sns.heatmap(cmDataFrame, annot=True, annot_kws={\"size\": 8}, fmt='.2f', linewidths=.5, cmap=\"Greens\")\n",
        "\n",
        "  plt.title(f\"ANN Confusion Matrix (SNR={snr})\")\n",
        "  plt.xlabel(\"Predicted label  \\n\\n TrainAcc={:.2}, TestAcc={:.2}\".format(acc_train,acc_test), fontsize=8)\n",
        "  plt.ylabel(\"True lable\", fontsize=8)\n",
        "  plt.setp(ax.get_xticklabels(), rotation=45, ha=\"right\",rotation_mode=\"anchor\", fontsize=8)\n",
        "  plt.setp(ax.get_yticklabels(), fontsize=8)\n",
        "  fig = ax.get_figure()\n",
        "\n",
        "  fig.savefig(dic+f\"/Pic/ANN/ANN-132-ba{batch}-ep{epoch}-(dout=0)-input(IQ)(SNR={snr}).png\", dpi=175, bbox_inches='tight')\n",
        "  fig.savefig(dic+f\"/Pic/ANN/ANN-132-ba{batch}-ep{epoch}-(dout=0)-input(IQ)(SNR={snr}).eps\", bbox_inches='tight')\n",
        "  print(\"Plot Saved!\")\n",
        "   \n",
        "\n",
        "  del(y_test_snr)\n",
        "  del(X_test_snr)\n",
        "'''      \n",
        "print(acc)    \n",
        "    "
      ],
      "execution_count": 0,
      "outputs": []
    },
    {
      "cell_type": "code",
      "metadata": {
        "id": "ChOWgrSYHMmB",
        "colab_type": "code",
        "colab": {}
      },
      "source": [
        "X_test18"
      ],
      "execution_count": 0,
      "outputs": []
    },
    {
      "cell_type": "code",
      "metadata": {
        "id": "wJdL7PP_7jir",
        "colab_type": "code",
        "colab": {
          "base_uri": "https://localhost:8080/",
          "height": 386
        },
        "outputId": "9e1551a0-3245-4dd4-facb-eed6ebf300e7"
      },
      "source": [
        "import matplotlib.pyplot as plt\n",
        "import seaborn as sns\n",
        "import pandas as pd\n",
        "\n",
        "modulation_order = []\n",
        "modulation_order_dict = dict()\n",
        "\n",
        "for key,value in output.items():\n",
        "    modulation_order_dict[np.argmax(value)] = str(key)\n",
        "    \n",
        "for i in range(8):\n",
        "    modulation_order.append(modulation_order_dict[i])\n",
        "    \n",
        "    \n",
        "    \n",
        "cmDataFrame = pd.DataFrame(cm_norm, index=modulation_order, columns = modulation_order)\n",
        "plt.figure(figsize=(6, 5))\n",
        "ax = sns.heatmap(cmDataFrame, annot=True, annot_kws={\"size\": 8}, fmt='.2f', linewidths=.5, cmap=\"Greens\")\n",
        "\n",
        "plt.title(f\"AANN Confusion Matrix (SNR={snr})\")\n",
        "plt.xlabel(\"Predicted label  \\n\\n TrainAcc={:.2}, TestAcc={:.2}\".format(acc_train,acc_test), fontsize=8)\n",
        "plt.ylabel(\"True lable\", fontsize=8)\n",
        "plt.setp(ax.get_xticklabels(), rotation=45, ha=\"right\",rotation_mode=\"anchor\", fontsize=8)\n",
        "plt.setp(ax.get_yticklabels(), fontsize=8)\n",
        "fig = ax.get_figure()"
      ],
      "execution_count": 35,
      "outputs": [
        {
          "output_type": "display_data",
          "data": {
            "image/png": "[encoded data removed]",
            "text/plain": [
              "<Figure size 432x360 with 2 Axes>"
            ]
          },
          "metadata": {
            "tags": []
          }
        }
      ]
    },
    {
      "cell_type": "code",
      "metadata": {
        "id": "x8eHSHvA7_ud",
        "colab_type": "code",
        "colab": {}
      },
      "source": [
        "dic = \"/content/drive/My Drive/Colab Notebooks/\"\n",
        "fig.savefig(dic+f\"/Pic/ANN/ANN-132-ba{batch}-ep{epoch}-(dout=0)-(SNR={snr}).png\", dpi=175, bbox_inches='tight')\n",
        "print(\"Plot Saved!\")"
      ],
      "execution_count": 0,
      "outputs": []
    },
    {
      "cell_type": "markdown",
      "metadata": {
        "id": "XRGfQj5oJH9B",
        "colab_type": "text"
      },
      "source": [
        "# Plot Model"
      ]
    },
    {
      "cell_type": "code",
      "metadata": {
        "id": "IJx_GdLiJG2R",
        "colab_type": "code",
        "colab": {}
      },
      "source": [
        "import keras\n",
        "import pydot\n",
        "import pydotplus\n",
        "from keras.utils.vis_utils import model_to_dot\n",
        "from keras.utils import plot_model\n",
        "keras.utils.vis_utils.pydot = pydot\n",
        "file = ''\n",
        "plot_model(classifier,show_shapes=True,show_layer_names=False, to_file='model.png' , rankdir='LR')\n",
        "plot_model(classifier,show_shapes=True,show_layer_names=False, to_file='model.eps' , rankdir='LR')\n"
      ],
      "execution_count": 0,
      "outputs": []
    },
    {
      "cell_type": "markdown",
      "metadata": {
        "id": "9_d7UlrRJTdJ",
        "colab_type": "text"
      },
      "source": [
        "# Plot accuracy and loss"
      ]
    },
    {
      "cell_type": "code",
      "metadata": {
        "id": "Ofyw4cqWJZQD",
        "colab_type": "code",
        "colab": {}
      },
      "source": [
        "def plot_history(history):\n",
        "    loss_list = [s for s in history.history.keys() if 'loss' in s and 'val' not in s]\n",
        "    val_loss_list = [s for s in history.history.keys() if 'loss' in s and 'val' in s]\n",
        "    acc_list = [s for s in history.history.keys() if 'acc' in s and 'val' not in s]\n",
        "    val_acc_list = [s for s in history.history.keys() if 'acc' in s and 'val' in s]\n",
        "    \n",
        "    if len(loss_list) == 0:\n",
        "        print('Loss is missing in history')\n",
        "        return \n",
        "    \n",
        "    ## As loss always exists\n",
        "    epochs = range(1,len(history.history[loss_list[0]]) + 1)\n",
        "    \n",
        "    ## Loss\n",
        "    plt.figure(1)\n",
        "    for l in loss_list:\n",
        "        plt.plot(epochs, history.history[l], 'b', label='Training loss (' + str(str(format(history.history[l][-1],'.5f'))+')'))\n",
        "    for l in val_loss_list:\n",
        "        plt.plot(epochs, history.history[l], 'g', label='Validation loss (' + str(str(format(history.history[l][-1],'.5f'))+')'))  \n",
        "    \n",
        "    plt.title('Loss')\n",
        "    plt.xlabel('Epochs')\n",
        "    plt.ylabel('Loss')\n",
        "    plt.legend()\n",
        "    \n",
        "    ## Accuracy\n",
        "    plt.figure(2)\n",
        "    for l in acc_list:\n",
        "        plt.plot(epochs, history.history[l], 'b', label='Training accuracy (' + str(format(history.history[l][-1],'.5f'))+')')\n",
        "    for l in val_acc_list:    \n",
        "        plt.plot(epochs, history.history[l], 'g', label='Validation accuracy (' + str(format(history.history[l][-1],'.5f'))+')')\n",
        "\n",
        "    plt.title('Accuracy')\n",
        "    plt.xlabel('Epochs')\n",
        "    plt.ylabel('Accuracy')\n",
        "    plt.legend()\n",
        "    plt.show()\n"
      ],
      "execution_count": 0,
      "outputs": []
    },
    {
      "cell_type": "code",
      "metadata": {
        "id": "LvZtjPOeJadx",
        "colab_type": "code",
        "colab": {}
      },
      "source": [
        "plot_history(classifier.history)"
      ],
      "execution_count": 0,
      "outputs": []
    },
    {
      "cell_type": "code",
      "metadata": {
        "id": "4YwGx5eVtNHf",
        "colab_type": "code",
        "colab": {}
      },
      "source": [
        "from keras.models import load_model\n",
        "\n",
        "model = load_model('my_model.h5')"
      ],
      "execution_count": 0,
      "outputs": []
    }
  ]
}