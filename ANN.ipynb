{
  "nbformat": 4,
  "nbformat_minor": 0,
  "metadata": {
    "colab": {
      "name": "ANN.ipynb",
      "version": "0.3.2",
      "provenance": [],
      "collapsed_sections": [],
      "include_colab_link": true
    },
    "kernelspec": {
      "name": "python3",
      "display_name": "Python 3"
    },
    "accelerator": "TPU"
  },
  "cells": [
    {
      "cell_type": "markdown",
      "metadata": {
        "id": "view-in-github",
        "colab_type": "text"
      },
      "source": [
        "<a href=\"https://colab.research.google.com/github/MohsenJadidi/Automatic-Modulation-Classification-AMC/blob/master/ANN.ipynb\" target=\"_parent\"><img src=\"https://colab.research.google.com/assets/colab-badge.svg\" alt=\"Open In Colab\"/></a>"
      ]
    },
    {
      "cell_type": "code",
      "metadata": {
        "id": "NbWAylFFl7H3",
        "colab_type": "code",
        "outputId": "ae9c4f4b-b962-4e08-c617-3a81eda6f880",
        "colab": {
          "base_uri": "https://localhost:8080/",
          "height": 121
        }
      },
      "source": [
        "from google.colab import drive\n",
        "drive.mount('/content/drive')\n"
      ],
      "execution_count": 1,
      "outputs": [
        {
          "output_type": "stream",
          "text": [
            "Go to this URL in a browser: https://accounts.google.com/o/oauth2/auth?client_id=947318989803-6bn6qk8qdgf4n4g3pfee6491hc0brc4i.apps.googleusercontent.com&redirect_uri=urn%3Aietf%3Awg%3Aoauth%3A2.0%3Aoob&scope=email%20https%3A%2F%2Fwww.googleapis.com%2Fauth%2Fdocs.test%20https%3A%2F%2Fwww.googleapis.com%2Fauth%2Fdrive%20https%3A%2F%2Fwww.googleapis.com%2Fauth%2Fdrive.photos.readonly%20https%3A%2F%2Fwww.googleapis.com%2Fauth%2Fpeopleapi.readonly&response_type=code\n",
            "\n",
            "Enter your authorization code:\n",
            "··········\n",
            "Mounted at /content/drive\n"
          ],
          "name": "stdout"
        }
      ]
    },
    {
      "cell_type": "markdown",
      "metadata": {
        "id": "UR0ATiKBk6rG",
        "colab_type": "text"
      },
      "source": [
        "# Importing the dataset"
      ]
    },
    {
      "cell_type": "code",
      "metadata": {
        "id": "JfzzfiDSuxMs",
        "colab_type": "code",
        "colab": {}
      },
      "source": [
        "import pickle\n",
        "fileName = 'RML2016.10a_dict.pkl'\n",
        "with open(\"/content/drive/My Drive/Colab Notebooks/\"+fileName,'rb') as f:\n",
        "  data = pickle.load(f,encoding='bytes')\n",
        " "
      ],
      "execution_count": 0,
      "outputs": []
    },
    {
      "cell_type": "code",
      "metadata": {
        "id": "yjAg9T-0uzyh",
        "colab_type": "code",
        "outputId": "a769c238-9ed8-4a2f-ff03-58e58fa2920c",
        "colab": {
          "base_uri": "https://localhost:8080/",
          "height": 34
        }
      },
      "source": [
        "import numpy as np\n",
        "X = []\n",
        "labels = [] # label each example by a pair (modulation type, snr)\n",
        "total_examples = 0\n",
        "analog = [b'AM-DSB', b'AM-SSB', b'WBFM']\n",
        "\n",
        "for mod_type, snr in data.keys():\n",
        "    if (mod_type not in analog):      \n",
        "        current_matrix = data[(mod_type, snr)]        \n",
        "        total_examples += current_matrix.shape[0]\n",
        "        for i in range(current_matrix.shape[0]):\n",
        "            X.append(current_matrix[i])\n",
        "            labels.append((str(mod_type, 'ascii'), snr)) # mod_type is of type bytes\n",
        "    \n",
        "X = np.array(X)         # First row is QPSK snr=2, seconde is PAM4 snr=8 , ...\n",
        "labels = np.array(labels)\n",
        "\n",
        "y = labels[:,0]\n",
        "\n",
        "print(f'loaded {total_examples} signal vectors into X{X.shape} and their corresponding'\n",
        "      f' labels into labels{labels.shape}')  \n",
        "# print(np.unique(labels[:,0]))\n"
      ],
      "execution_count": 3,
      "outputs": [
        {
          "output_type": "stream",
          "text": [
            "loaded 160000 signal vectors into X(160000, 2, 128) and their corresponding labels into labels(160000, 2)\n"
          ],
          "name": "stdout"
        }
      ]
    },
    {
      "cell_type": "code",
      "metadata": {
        "id": "pbeDr3FVv57v",
        "colab_type": "code",
        "outputId": "6a976fd6-be74-4af3-b984-2cfe3b473dce",
        "colab": {
          "base_uri": "https://localhost:8080/",
          "height": 104
        }
      },
      "source": [
        "# Encoding categorical data\n",
        "from sklearn.preprocessing import LabelEncoder, OneHotEncoder\n",
        "labelencoder_y = LabelEncoder()\n",
        "y = labelencoder_y.fit_transform(y)\n",
        "onehotencoder = OneHotEncoder()\n",
        "y = onehotencoder.fit_transform(y.reshape(-1,1)).toarray()"
      ],
      "execution_count": 4,
      "outputs": [
        {
          "output_type": "stream",
          "text": [
            "/usr/local/lib/python3.6/dist-packages/sklearn/preprocessing/_encoders.py:415: FutureWarning: The handling of integer data will change in version 0.22. Currently, the categories are determined based on the range [0, max(values)], while in the future they will be determined based on the unique values.\n",
            "If you want the future behaviour and silence this warning, you can specify \"categories='auto'\".\n",
            "In case you used a LabelEncoder before this OneHotEncoder to convert the categories to integers, then you can now use the OneHotEncoder directly.\n",
            "  warnings.warn(msg, FutureWarning)\n"
          ],
          "name": "stderr"
        }
      ]
    },
    {
      "cell_type": "code",
      "metadata": {
        "id": "-Z6iUKbJwKlT",
        "colab_type": "code",
        "outputId": "8e023b80-70ef-4503-c7b7-2648def3d0dd",
        "colab": {
          "base_uri": "https://localhost:8080/",
          "height": 34
        }
      },
      "source": [
        "snrList = [str(2*i-20) for i in range(20)]  # snrList = -20, -18, -16 , ... ,0, ... ,18\n",
        "snr = snrList[19]\n",
        "numberOfEachExamples = 1000\n",
        "print(\"SNR :\", snrList)"
      ],
      "execution_count": 5,
      "outputs": [
        {
          "output_type": "stream",
          "text": [
            "SNR : ['-20', '-18', '-16', '-14', '-12', '-10', '-8', '-6', '-4', '-2', '0', '2', '4', '6', '8', '10', '12', '14', '16', '18']\n"
          ],
          "name": "stdout"
        }
      ]
    },
    {
      "cell_type": "code",
      "metadata": {
        "id": "-DiHGfSPwKb1",
        "colab_type": "code",
        "colab": {}
      },
      "source": [
        "output = [[labels[i*numberOfEachExamples, 0],y[i*numberOfEachExamples]] for i in range(int(X.shape[0]/numberOfEachExamples))]\n",
        "output = dict(output)"
      ],
      "execution_count": 0,
      "outputs": []
    },
    {
      "cell_type": "code",
      "metadata": {
        "id": "0OJ3GghKwrbs",
        "colab_type": "code",
        "outputId": "81626d01-3e5b-443e-8b2a-0b74e3c17b1b",
        "colab": {
          "base_uri": "https://localhost:8080/",
          "height": 34
        }
      },
      "source": [
        "Xsnr = np.zeros(shape=(X.shape[0],X.shape[1],X.shape[2]+1))\n",
        "for i in range(X.shape[0]):\n",
        "    snr = int(labels[i,1])\n",
        "    Xsnr[i,0,:] = np.insert(X[i,0,:],0,snr)\n",
        "    Xsnr[i,1,:] = np.insert(X[i,1,:],0,snr)\n",
        "    \n",
        "print(Xsnr.shape)"
      ],
      "execution_count": 7,
      "outputs": [
        {
          "output_type": "stream",
          "text": [
            "(160000, 2, 129)\n"
          ],
          "name": "stdout"
        }
      ]
    },
    {
      "cell_type": "code",
      "metadata": {
        "id": "Cx7l0G_3ww0w",
        "colab_type": "code",
        "outputId": "336608ee-521a-48c5-a535-4f7c9d77c52f",
        "colab": {
          "base_uri": "https://localhost:8080/",
          "height": 50
        }
      },
      "source": [
        "###### Splitting the dataset into the Training set and Test set ######\n",
        "from sklearn.model_selection import train_test_split\n",
        "X_train, X_test, y_train, y_test = train_test_split(Xsnr, y, test_size = 0.2, random_state = 0)\n",
        "# The below line better for Cross_val part\n",
        "#X_train, X_test, y_train, y_test = train_test_split(Xsnr, y, test_size = 1, random_state = 0)\n",
        "\n",
        "print(X_train.shape)\n",
        "print(X_test.shape)"
      ],
      "execution_count": 8,
      "outputs": [
        {
          "output_type": "stream",
          "text": [
            "(128000, 2, 129)\n",
            "(32000, 2, 129)\n"
          ],
          "name": "stdout"
        }
      ]
    },
    {
      "cell_type": "code",
      "metadata": {
        "id": "gGeDKe8GLNJ9",
        "colab_type": "code",
        "outputId": "18be13de-a6a3-4eb2-cfb1-690caa09f1f1",
        "colab": {
          "base_uri": "https://localhost:8080/",
          "height": 50
        }
      },
      "source": [
        "X_train = X_train[:,:,1:] # snr important for train\n",
        "\n",
        "y_test18 = []\n",
        "X_test18 = []\n",
        "\n",
        "for i in range(X_test.shape[0]):\n",
        "    if X_test[i,0,0] == 18:\n",
        "        X_test18.append(X_test[i])\n",
        "        y_test18.append(y_test[i])\n",
        "        \n",
        "X_test18 = np.array(X_test18)\n",
        "y_test18 = np.array(y_test18)        \n",
        "X_test18 = X_test18[:,:,1:]\n",
        "\n",
        "\n",
        "print(X_train.shape)\n",
        "print(X_test18.shape)"
      ],
      "execution_count": 9,
      "outputs": [
        {
          "output_type": "stream",
          "text": [
            "(128000, 2, 128)\n",
            "(1653, 2, 128)\n"
          ],
          "name": "stdout"
        }
      ]
    },
    {
      "cell_type": "code",
      "metadata": {
        "id": "V4OinfCHLd8y",
        "colab_type": "code",
        "outputId": "9b9414f7-9a10-41f9-d7ce-117d69524e08",
        "colab": {
          "base_uri": "https://localhost:8080/",
          "height": 50
        }
      },
      "source": [
        "# Change IQ to amplitude and phase\n",
        "X_cmplx = X_train[:,0,:] + 1j* X_train[:,1,:]    \n",
        "X_amp = np.abs(X_cmplx)\n",
        "X_ang = np.arctan2(X_train[:,1,:],X_train[:,0,:]) / np.pi\n",
        "    \n",
        "X_amp = np.reshape(X_amp,(-1,1,128))\n",
        "X_ang = np.reshape(X_ang,(-1,1,128))\n",
        "    \n",
        "X_train_AmpPhs = np.concatenate((X_amp,X_ang), axis=1) \n",
        "##\n",
        "X_cmplx = X_test18[:,0,:] + 1j* X_test18[:,1,:]    \n",
        "X_amp = np.abs(X_cmplx)\n",
        "X_ang = np.arctan2(X_test18[:,1,:],X_test18[:,0,:]) / np.pi\n",
        "    \n",
        "X_amp = np.reshape(X_amp,(-1,1,128))\n",
        "X_ang = np.reshape(X_ang,(-1,1,128))\n",
        "    \n",
        "X_test18_AmpPhs = np.concatenate((X_amp,X_ang), axis=1) \n",
        "##\n",
        "\n",
        "print(X_train_AmpPhs.shape)\n",
        "print(X_test18_AmpPhs.shape)"
      ],
      "execution_count": 10,
      "outputs": [
        {
          "output_type": "stream",
          "text": [
            "(128000, 2, 128)\n",
            "(1653, 2, 128)\n"
          ],
          "name": "stdout"
        }
      ]
    },
    {
      "cell_type": "code",
      "metadata": {
        "id": "NuKWgf69MhKo",
        "colab_type": "code",
        "colab": {}
      },
      "source": [
        "from sklearn.preprocessing import StandardScaler\n",
        "sc = StandardScaler()\n",
        "X_train = X_train.reshape([X_train.shape[0],256])\n",
        "X_train = sc.fit_transform(X_train)\n",
        "X_train = X_train.reshape([X_train.shape[0],2,128])\n",
        "#X_test = X_test.reshape([1600,256])\n",
        "X_test18 = X_test18.reshape([X_test18.shape[0],256])\n",
        "X_test18 = sc.transform(X_test18)\n",
        "X_test18 = X_test18.reshape([X_test18.shape[0],2,128])\n"
      ],
      "execution_count": 0,
      "outputs": []
    },
    {
      "cell_type": "code",
      "metadata": {
        "id": "gGTuYsrYNnWb",
        "colab_type": "code",
        "colab": {}
      },
      "source": [
        "X_train = X_train.reshape([X_train.shape[0],256])\n",
        "X_test18 = X_test18.reshape([X_test18.shape[0],256])"
      ],
      "execution_count": 0,
      "outputs": []
    },
    {
      "cell_type": "markdown",
      "metadata": {
        "id": "UWipMIzTw3SN",
        "colab_type": "text"
      },
      "source": [
        "# Making Simple model"
      ]
    },
    {
      "cell_type": "code",
      "metadata": {
        "id": "1t4bapTyw8Lp",
        "colab_type": "code",
        "outputId": "40a3b8de-555b-4364-8c6f-661d39aa5ae3",
        "colab": {
          "base_uri": "https://localhost:8080/",
          "height": 218
        }
      },
      "source": [
        "# Importing the Keras libraries and packages\n",
        "import keras\n",
        "from keras.models import Sequential\n",
        "from keras.layers import Dense\n",
        "from keras.layers import Dropout\n",
        "# Initialising the ANN\n",
        "\n",
        "\n",
        "classifier = Sequential()\n",
        "\n",
        "# Adding the input layer and the first hidden layer\n",
        "classifier.add(Dense(units = 16896, kernel_initializer = 'uniform', activation = 'relu', input_dim = 256))\n",
        "#dout = 0.4\n",
        "#classifier.add(Dropout(rate = dout))\n",
        "\n",
        "# Adding the second hidden layer\n",
        "#classifier.add(Dense(units = 132, kernel_initializer = 'uniform', activation = 'relu'))\n",
        "#classifier.add(Dropout(rate = dout))\n",
        "\n",
        "#classifier.add(Dense(units = 132, kernel_initializer = 'uniform', activation = 'relu'))\n",
        "#classifier.add(Dropout(rate = dout))\n",
        "\n",
        "#classifier.add(Dense(units = 132, kernel_initializer = 'uniform', activation = 'relu'))\n",
        "#classifier.add(Dropout(rate = dout))\n",
        "\n",
        "#classifier.add(Dense(units = 132, kernel_initializer = 'uniform', activation = 'relu'))\n",
        "#classifier.add(Dropout(rate = dout))\n",
        "\n",
        "# Adding the output layer\n",
        "classifier.add(Dense(units = 8, kernel_initializer = 'uniform', activation = 'softmax'))\n",
        "\n",
        "# Compiling the ANN\n",
        "classifier.compile(optimizer = 'adam', loss = 'categorical_crossentropy', metrics = ['accuracy'])\n",
        "\n",
        "#logger = keras.callbacks.TensorBoard(log_dir=\"./logs\", write_graph=True, histogram_freq=0)\n",
        "\n",
        "classifier.summary()\n",
        "\n",
        "print(\"Model Created!\")"
      ],
      "execution_count": 17,
      "outputs": [
        {
          "output_type": "stream",
          "text": [
            "_________________________________________________________________\n",
            "Layer (type)                 Output Shape              Param #   \n",
            "=================================================================\n",
            "dense_3 (Dense)              (None, 16896)             4342272   \n",
            "_________________________________________________________________\n",
            "dense_4 (Dense)              (None, 8)                 135176    \n",
            "=================================================================\n",
            "Total params: 4,477,448\n",
            "Trainable params: 4,477,448\n",
            "Non-trainable params: 0\n",
            "_________________________________________________________________\n",
            "Model Created!\n"
          ],
          "name": "stdout"
        }
      ]
    },
    {
      "cell_type": "code",
      "metadata": {
        "id": "P0K9N5wL2x3F",
        "colab_type": "code",
        "outputId": "84f6e7b0-d9b8-4e73-8ddc-ae1f3d21cbee",
        "colab": {
          "base_uri": "https://localhost:8080/",
          "height": 1000
        }
      },
      "source": [
        "batch = 1024\n",
        "epoch = 100\n",
        "\n",
        "history = classifier.fit(X_train, y_train, batch_size = batch, epochs = epoch, validation_data=(X_test18, y_test18))\n",
        "#history = classifier.fit(X_train, y_train, batch_size = batch, epochs = epoch)"
      ],
      "execution_count": 18,
      "outputs": [
        {
          "output_type": "stream",
          "text": [
            "Train on 128000 samples, validate on 1653 samples\n",
            "Epoch 1/100\n",
            "128000/128000 [==============================] - 66s 516us/step - loss: 2.2302 - acc: 0.2702 - val_loss: 1.6867 - val_acc: 0.3926\n",
            "Epoch 2/100\n",
            "128000/128000 [==============================] - 66s 514us/step - loss: 1.5921 - acc: 0.4114 - val_loss: 1.4991 - val_acc: 0.4404\n",
            "Epoch 3/100\n",
            "128000/128000 [==============================] - 66s 514us/step - loss: 1.3334 - acc: 0.5055 - val_loss: 1.4287 - val_acc: 0.4646\n",
            "Epoch 4/100\n",
            "128000/128000 [==============================] - 66s 513us/step - loss: 1.1447 - acc: 0.5798 - val_loss: 1.3621 - val_acc: 0.4785\n",
            "Epoch 5/100\n",
            "128000/128000 [==============================] - 66s 513us/step - loss: 1.0029 - acc: 0.6343 - val_loss: 1.3420 - val_acc: 0.4979\n",
            "Epoch 6/100\n",
            "128000/128000 [==============================] - 66s 514us/step - loss: 0.8813 - acc: 0.6821 - val_loss: 1.2409 - val_acc: 0.5251\n",
            "Epoch 7/100\n",
            "128000/128000 [==============================] - 66s 514us/step - loss: 0.7763 - acc: 0.7224 - val_loss: 1.2623 - val_acc: 0.5172\n",
            "Epoch 8/100\n",
            "128000/128000 [==============================] - 66s 513us/step - loss: 0.7049 - acc: 0.7490 - val_loss: 1.1626 - val_acc: 0.5312\n",
            "Epoch 9/100\n",
            "128000/128000 [==============================] - 66s 514us/step - loss: 0.6526 - acc: 0.7689 - val_loss: 1.1687 - val_acc: 0.5566\n",
            "Epoch 10/100\n",
            "128000/128000 [==============================] - 66s 513us/step - loss: 0.5782 - acc: 0.7971 - val_loss: 1.2066 - val_acc: 0.5499\n",
            "Epoch 11/100\n",
            "128000/128000 [==============================] - 66s 513us/step - loss: 0.5250 - acc: 0.8173 - val_loss: 1.1883 - val_acc: 0.5675\n",
            "Epoch 12/100\n",
            "128000/128000 [==============================] - 66s 514us/step - loss: 0.4713 - acc: 0.8349 - val_loss: 1.1719 - val_acc: 0.5747\n",
            "Epoch 13/100\n",
            "128000/128000 [==============================] - 66s 514us/step - loss: 0.4472 - acc: 0.8438 - val_loss: 1.1955 - val_acc: 0.5723\n",
            "Epoch 14/100\n",
            "128000/128000 [==============================] - 66s 514us/step - loss: 0.4103 - acc: 0.8569 - val_loss: 1.1624 - val_acc: 0.5953\n",
            "Epoch 15/100\n",
            "128000/128000 [==============================] - 66s 513us/step - loss: 0.4015 - acc: 0.8594 - val_loss: 1.1870 - val_acc: 0.5808\n",
            "Epoch 16/100\n",
            "128000/128000 [==============================] - 66s 513us/step - loss: 0.3822 - acc: 0.8659 - val_loss: 1.1412 - val_acc: 0.6013\n",
            "Epoch 17/100\n",
            "128000/128000 [==============================] - 66s 514us/step - loss: 0.3397 - acc: 0.8804 - val_loss: 1.2052 - val_acc: 0.6019\n",
            "Epoch 18/100\n",
            "128000/128000 [==============================] - 66s 515us/step - loss: 0.3070 - acc: 0.8925 - val_loss: 1.1268 - val_acc: 0.6031\n",
            "Epoch 19/100\n",
            "128000/128000 [==============================] - 66s 514us/step - loss: 0.3154 - acc: 0.8889 - val_loss: 1.1102 - val_acc: 0.6044\n",
            "Epoch 20/100\n",
            "128000/128000 [==============================] - 66s 512us/step - loss: 0.3052 - acc: 0.8926 - val_loss: 1.2267 - val_acc: 0.5838\n",
            "Epoch 21/100\n",
            "128000/128000 [==============================] - 66s 512us/step - loss: 0.2886 - acc: 0.8984 - val_loss: 1.0808 - val_acc: 0.6279\n",
            "Epoch 22/100\n",
            "128000/128000 [==============================] - 66s 512us/step - loss: 0.2586 - acc: 0.9094 - val_loss: 1.1402 - val_acc: 0.6086\n",
            "Epoch 23/100\n",
            "128000/128000 [==============================] - 65s 512us/step - loss: 0.2638 - acc: 0.9067 - val_loss: 1.2459 - val_acc: 0.6056\n",
            "Epoch 24/100\n",
            "128000/128000 [==============================] - 66s 513us/step - loss: 0.2658 - acc: 0.9071 - val_loss: 1.2159 - val_acc: 0.6201\n",
            "Epoch 25/100\n",
            "128000/128000 [==============================] - 66s 512us/step - loss: 0.1963 - acc: 0.9339 - val_loss: 1.0962 - val_acc: 0.6261\n",
            "Epoch 26/100\n",
            "128000/128000 [==============================] - 65s 510us/step - loss: 0.2132 - acc: 0.9254 - val_loss: 1.2124 - val_acc: 0.6183\n",
            "Epoch 27/100\n",
            "128000/128000 [==============================] - 66s 513us/step - loss: 0.3617 - acc: 0.8767 - val_loss: 1.4185 - val_acc: 0.5747\n",
            "Epoch 28/100\n",
            "128000/128000 [==============================] - 66s 514us/step - loss: 0.4626 - acc: 0.8438 - val_loss: 1.3576 - val_acc: 0.6110\n",
            "Epoch 29/100\n",
            "128000/128000 [==============================] - 65s 511us/step - loss: 0.3146 - acc: 0.8878 - val_loss: 1.2126 - val_acc: 0.6328\n",
            "Epoch 30/100\n",
            "128000/128000 [==============================] - 66s 513us/step - loss: 0.1946 - acc: 0.9316 - val_loss: 1.0769 - val_acc: 0.6334\n",
            "Epoch 31/100\n",
            "128000/128000 [==============================] - 66s 513us/step - loss: 0.1238 - acc: 0.9595 - val_loss: 1.0626 - val_acc: 0.6394\n",
            "Epoch 32/100\n",
            "128000/128000 [==============================] - 66s 514us/step - loss: 0.1421 - acc: 0.9505 - val_loss: 1.1064 - val_acc: 0.6413\n",
            "Epoch 33/100\n",
            "128000/128000 [==============================] - 65s 511us/step - loss: 0.1179 - acc: 0.9599 - val_loss: 1.0249 - val_acc: 0.6606\n",
            "Epoch 34/100\n",
            "128000/128000 [==============================] - 66s 513us/step - loss: 0.1093 - acc: 0.9632 - val_loss: 1.1170 - val_acc: 0.6473\n",
            "Epoch 35/100\n",
            "128000/128000 [==============================] - 65s 510us/step - loss: 0.1560 - acc: 0.9450 - val_loss: 1.3036 - val_acc: 0.6316\n",
            "Epoch 36/100\n",
            "128000/128000 [==============================] - 65s 510us/step - loss: 0.2532 - acc: 0.9139 - val_loss: 1.4847 - val_acc: 0.6255\n",
            "Epoch 37/100\n",
            "128000/128000 [==============================] - 66s 513us/step - loss: 0.2345 - acc: 0.9189 - val_loss: 1.4346 - val_acc: 0.6171\n",
            "Epoch 38/100\n",
            "128000/128000 [==============================] - 65s 511us/step - loss: 0.2162 - acc: 0.9254 - val_loss: 1.3625 - val_acc: 0.6261\n",
            "Epoch 39/100\n",
            "128000/128000 [==============================] - 65s 512us/step - loss: 0.1771 - acc: 0.9379 - val_loss: 1.4530 - val_acc: 0.6116\n",
            "Epoch 40/100\n",
            "128000/128000 [==============================] - 66s 512us/step - loss: 0.1582 - acc: 0.9438 - val_loss: 1.2095 - val_acc: 0.6461\n",
            "Epoch 41/100\n",
            "128000/128000 [==============================] - 66s 512us/step - loss: 0.1268 - acc: 0.9560 - val_loss: 1.4067 - val_acc: 0.6134\n",
            "Epoch 42/100\n",
            "128000/128000 [==============================] - 65s 511us/step - loss: 0.1354 - acc: 0.9531 - val_loss: 1.3817 - val_acc: 0.6431\n",
            "Epoch 43/100\n",
            "128000/128000 [==============================] - 66s 513us/step - loss: 0.1111 - acc: 0.9613 - val_loss: 1.3559 - val_acc: 0.6310\n",
            "Epoch 44/100\n",
            "128000/128000 [==============================] - 75s 588us/step - loss: 0.0791 - acc: 0.9737 - val_loss: 1.2045 - val_acc: 0.6388\n",
            "Epoch 45/100\n",
            "128000/128000 [==============================] - 83s 651us/step - loss: 0.0810 - acc: 0.9721 - val_loss: 1.4533 - val_acc: 0.6467\n",
            "Epoch 46/100\n",
            "128000/128000 [==============================] - 83s 650us/step - loss: 0.1577 - acc: 0.9467 - val_loss: 1.5858 - val_acc: 0.6340\n",
            "Epoch 47/100\n",
            "128000/128000 [==============================] - 83s 650us/step - loss: 0.4472 - acc: 0.8703 - val_loss: 1.7514 - val_acc: 0.6110\n",
            "Epoch 48/100\n",
            "128000/128000 [==============================] - 83s 649us/step - loss: 0.3367 - acc: 0.8893 - val_loss: 1.4738 - val_acc: 0.6267\n",
            "Epoch 49/100\n",
            "128000/128000 [==============================] - 83s 647us/step - loss: 0.1727 - acc: 0.9407 - val_loss: 1.2819 - val_acc: 0.6485\n",
            "Epoch 50/100\n",
            "128000/128000 [==============================] - 83s 648us/step - loss: 0.0842 - acc: 0.9720 - val_loss: 1.1532 - val_acc: 0.6739\n",
            "Epoch 51/100\n",
            "128000/128000 [==============================] - 83s 649us/step - loss: 0.0373 - acc: 0.9902 - val_loss: 0.9130 - val_acc: 0.6951\n",
            "Epoch 52/100\n",
            "128000/128000 [==============================] - 83s 648us/step - loss: 0.0092 - acc: 0.9996 - val_loss: 0.8164 - val_acc: 0.6933\n",
            "Epoch 53/100\n",
            "128000/128000 [==============================] - 83s 647us/step - loss: 0.0049 - acc: 1.0000 - val_loss: 0.7986 - val_acc: 0.7042\n",
            "Epoch 54/100\n",
            "128000/128000 [==============================] - 82s 641us/step - loss: 0.0041 - acc: 1.0000 - val_loss: 0.8026 - val_acc: 0.6933\n",
            "Epoch 55/100\n",
            "128000/128000 [==============================] - 82s 639us/step - loss: 0.0038 - acc: 1.0000 - val_loss: 0.8107 - val_acc: 0.6993\n",
            "Epoch 56/100\n",
            "128000/128000 [==============================] - 82s 642us/step - loss: 0.0035 - acc: 1.0000 - val_loss: 0.8015 - val_acc: 0.7036\n",
            "Epoch 57/100\n",
            "128000/128000 [==============================] - 82s 640us/step - loss: 0.0033 - acc: 1.0000 - val_loss: 0.8179 - val_acc: 0.6957\n",
            "Epoch 58/100\n",
            "128000/128000 [==============================] - 82s 642us/step - loss: 0.0031 - acc: 1.0000 - val_loss: 0.8055 - val_acc: 0.6981\n",
            "Epoch 59/100\n",
            "128000/128000 [==============================] - 82s 642us/step - loss: 0.0029 - acc: 1.0000 - val_loss: 0.8173 - val_acc: 0.6957\n",
            "Epoch 60/100\n",
            "128000/128000 [==============================] - 82s 640us/step - loss: 0.0028 - acc: 1.0000 - val_loss: 0.8190 - val_acc: 0.6969\n",
            "Epoch 61/100\n",
            "128000/128000 [==============================] - 82s 642us/step - loss: 0.0026 - acc: 1.0000 - val_loss: 0.8168 - val_acc: 0.7018\n",
            "Epoch 62/100\n",
            "128000/128000 [==============================] - 82s 640us/step - loss: 0.0025 - acc: 1.0000 - val_loss: 0.8180 - val_acc: 0.6909\n",
            "Epoch 63/100\n",
            "128000/128000 [==============================] - 82s 641us/step - loss: 0.0024 - acc: 1.0000 - val_loss: 0.8209 - val_acc: 0.6999\n",
            "Epoch 64/100\n",
            "128000/128000 [==============================] - 82s 644us/step - loss: 0.0022 - acc: 1.0000 - val_loss: 0.8254 - val_acc: 0.7018\n",
            "Epoch 65/100\n",
            "128000/128000 [==============================] - 82s 642us/step - loss: 0.0021 - acc: 1.0000 - val_loss: 0.8171 - val_acc: 0.7011\n",
            "Epoch 66/100\n",
            "128000/128000 [==============================] - 82s 640us/step - loss: 0.0020 - acc: 1.0000 - val_loss: 0.8340 - val_acc: 0.6927\n",
            "Epoch 67/100\n",
            "128000/128000 [==============================] - 83s 645us/step - loss: 0.0019 - acc: 1.0000 - val_loss: 0.8275 - val_acc: 0.6969\n",
            "Epoch 68/100\n",
            "128000/128000 [==============================] - 82s 642us/step - loss: 0.0018 - acc: 1.0000 - val_loss: 0.8436 - val_acc: 0.6963\n",
            "Epoch 69/100\n",
            "128000/128000 [==============================] - 82s 638us/step - loss: 0.0018 - acc: 1.0000 - val_loss: 0.8320 - val_acc: 0.6969\n",
            "Epoch 70/100\n",
            "128000/128000 [==============================] - 82s 638us/step - loss: 0.0017 - acc: 1.0000 - val_loss: 0.8432 - val_acc: 0.6993\n",
            "Epoch 71/100\n",
            "128000/128000 [==============================] - 82s 640us/step - loss: 0.0016 - acc: 1.0000 - val_loss: 0.8531 - val_acc: 0.6963\n",
            "Epoch 72/100\n",
            "128000/128000 [==============================] - 82s 637us/step - loss: 0.0015 - acc: 1.0000 - val_loss: 0.8468 - val_acc: 0.6975\n",
            "Epoch 73/100\n",
            "128000/128000 [==============================] - 82s 643us/step - loss: 0.0015 - acc: 1.0000 - val_loss: 0.8504 - val_acc: 0.6939\n",
            "Epoch 74/100\n",
            "128000/128000 [==============================] - 83s 645us/step - loss: 0.0014 - acc: 1.0000 - val_loss: 0.8594 - val_acc: 0.6993\n",
            "Epoch 75/100\n",
            "128000/128000 [==============================] - 82s 643us/step - loss: 0.0013 - acc: 1.0000 - val_loss: 0.8593 - val_acc: 0.6903\n",
            "Epoch 76/100\n",
            "128000/128000 [==============================] - 83s 647us/step - loss: 0.0013 - acc: 1.0000 - val_loss: 0.8609 - val_acc: 0.7005\n",
            "Epoch 77/100\n",
            "128000/128000 [==============================] - 83s 651us/step - loss: 0.0012 - acc: 1.0000 - val_loss: 0.8667 - val_acc: 0.6878\n",
            "Epoch 78/100\n",
            "128000/128000 [==============================] - 83s 651us/step - loss: 0.0012 - acc: 1.0000 - val_loss: 0.8681 - val_acc: 0.6957\n",
            "Epoch 79/100\n",
            "128000/128000 [==============================] - 84s 653us/step - loss: 0.0011 - acc: 1.0000 - val_loss: 0.8670 - val_acc: 0.6969\n",
            "Epoch 80/100\n",
            "128000/128000 [==============================] - 83s 648us/step - loss: 0.0010 - acc: 1.0000 - val_loss: 0.8698 - val_acc: 0.6939\n",
            "Epoch 81/100\n",
            "128000/128000 [==============================] - 83s 645us/step - loss: 9.9157e-04 - acc: 1.0000 - val_loss: 0.8820 - val_acc: 0.6987\n",
            "Epoch 82/100\n",
            "128000/128000 [==============================] - 83s 648us/step - loss: 9.4486e-04 - acc: 1.0000 - val_loss: 0.8690 - val_acc: 0.6957\n",
            "Epoch 83/100\n",
            "128000/128000 [==============================] - 83s 651us/step - loss: 8.9196e-04 - acc: 1.0000 - val_loss: 0.8827 - val_acc: 0.7005\n",
            "Epoch 84/100\n",
            "128000/128000 [==============================] - 83s 651us/step - loss: 8.4858e-04 - acc: 1.0000 - val_loss: 0.8878 - val_acc: 0.6884\n",
            "Epoch 85/100\n",
            "128000/128000 [==============================] - 83s 649us/step - loss: 8.0913e-04 - acc: 1.0000 - val_loss: 0.8967 - val_acc: 0.6969\n",
            "Epoch 86/100\n",
            "128000/128000 [==============================] - 84s 652us/step - loss: 7.6436e-04 - acc: 1.0000 - val_loss: 0.8907 - val_acc: 0.6969\n",
            "Epoch 87/100\n",
            "128000/128000 [==============================] - 83s 650us/step - loss: 7.3199e-04 - acc: 1.0000 - val_loss: 0.8893 - val_acc: 0.6945\n",
            "Epoch 88/100\n",
            "128000/128000 [==============================] - 83s 647us/step - loss: 6.8672e-04 - acc: 1.0000 - val_loss: 0.8943 - val_acc: 0.7024\n",
            "Epoch 89/100\n",
            "128000/128000 [==============================] - 83s 645us/step - loss: 6.4910e-04 - acc: 1.0000 - val_loss: 0.8931 - val_acc: 0.6987\n",
            "Epoch 90/100\n",
            "128000/128000 [==============================] - 83s 646us/step - loss: 6.1824e-04 - acc: 1.0000 - val_loss: 0.9167 - val_acc: 0.6975\n",
            "Epoch 91/100\n",
            "128000/128000 [==============================] - 82s 642us/step - loss: 5.9221e-04 - acc: 1.0000 - val_loss: 0.8996 - val_acc: 0.6963\n",
            "Epoch 92/100\n",
            "128000/128000 [==============================] - 82s 643us/step - loss: 5.5731e-04 - acc: 1.0000 - val_loss: 0.9166 - val_acc: 0.6957\n",
            "Epoch 93/100\n",
            "128000/128000 [==============================] - 83s 647us/step - loss: 5.3358e-04 - acc: 1.0000 - val_loss: 0.9136 - val_acc: 0.7048\n",
            "Epoch 94/100\n",
            "128000/128000 [==============================] - 83s 650us/step - loss: 4.9965e-04 - acc: 1.0000 - val_loss: 0.9215 - val_acc: 0.6963\n",
            "Epoch 95/100\n",
            "128000/128000 [==============================] - 83s 648us/step - loss: 4.7798e-04 - acc: 1.0000 - val_loss: 0.9375 - val_acc: 0.6933\n",
            "Epoch 96/100\n",
            "128000/128000 [==============================] - 83s 645us/step - loss: 4.4961e-04 - acc: 1.0000 - val_loss: 0.9383 - val_acc: 0.6951\n",
            "Epoch 97/100\n",
            "128000/128000 [==============================] - 83s 648us/step - loss: 4.2375e-04 - acc: 1.0000 - val_loss: 0.9363 - val_acc: 0.6999\n",
            "Epoch 98/100\n",
            "128000/128000 [==============================] - 83s 648us/step - loss: 4.0396e-04 - acc: 1.0000 - val_loss: 0.9339 - val_acc: 0.7042\n",
            "Epoch 99/100\n",
            "128000/128000 [==============================] - 83s 647us/step - loss: 3.7840e-04 - acc: 1.0000 - val_loss: 0.9353 - val_acc: 0.6909\n",
            "Epoch 100/100\n",
            "128000/128000 [==============================] - 83s 651us/step - loss: 3.6639e-04 - acc: 1.0000 - val_loss: 0.9402 - val_acc: 0.6939\n"
          ],
          "name": "stdout"
        }
      ]
    },
    {
      "cell_type": "markdown",
      "metadata": {
        "id": "OVFgwssVfxtd",
        "colab_type": "text"
      },
      "source": [
        "# Save model"
      ]
    },
    {
      "cell_type": "code",
      "metadata": {
        "id": "fKe0m_39HiWU",
        "colab_type": "code",
        "colab": {}
      },
      "source": [
        "dic = \"/content/drive/My Drive/Colab Notebooks/\"\n",
        "classifier.save(dic+f'SaveModel/ANN-16896-ba{batch}-ep{epoch}-(dout=0)-input(IQ)(SNR=all).h5')\n",
        "\n",
        "f = open(dic+f'SaveModel/ANN-16896-ba{batch}-ep{epoch}-(dout=0)-input(IQ)(SNR=all)-history.txt',\"w\")\n",
        "f.write( str(classifier.history.history) )\n",
        "f.close()\n",
        "\n",
        "print('Model Saved!')"
      ],
      "execution_count": 0,
      "outputs": []
    },
    {
      "cell_type": "markdown",
      "metadata": {
        "id": "cNGu7HtyhGc2",
        "colab_type": "text"
      },
      "source": [
        "\n",
        "# Prediction(only SNR=18)"
      ]
    },
    {
      "cell_type": "code",
      "metadata": {
        "id": "6irYYHCZ6A2C",
        "colab_type": "code",
        "outputId": "cfe1a37d-39fa-40a7-dc55-cafd5f5f102e",
        "colab": {
          "base_uri": "https://localhost:8080/",
          "height": 84
        }
      },
      "source": [
        "y_pred = classifier.predict(X_test18)\n",
        "y_pred = np.argmax(y_pred, axis=1)\n",
        "\n",
        "y_real = np.argmax(y_test18, axis=1)\n",
        "# Making the Confusion Matrix\n",
        "from sklearn.metrics import confusion_matrix\n",
        "cm = confusion_matrix(y_real, y_pred)\n",
        "cm_norm = cm.astype('float') / cm.sum(axis=1)[:, np.newaxis]\n",
        "\n",
        "acc_test = classifier.evaluate(X_test18, y_test18)[1]\n",
        "acc_train = classifier.evaluate(X_train, y_train)[1]\n",
        "\n",
        "print(\"Acc Test : \", acc_test)\n",
        "print(\"Acc Train : \", acc_train)"
      ],
      "execution_count": 0,
      "outputs": [
        {
          "output_type": "stream",
          "text": [
            "1653/1653 [==============================] - 0s 23us/step\n",
            "128000/128000 [==============================] - 3s 23us/step\n",
            "Acc Test :  0.4996975198234851\n",
            "Acc Train :  0.479921875\n"
          ],
          "name": "stdout"
        }
      ]
    },
    {
      "cell_type": "markdown",
      "metadata": {
        "id": "seZ0vLFhjMOv",
        "colab_type": "text"
      },
      "source": [
        "#Cross_val(mean accuracy)"
      ]
    },
    {
      "cell_type": "code",
      "metadata": {
        "id": "oXeIQ_7HjTeC",
        "colab_type": "code",
        "colab": {}
      },
      "source": [
        "# Evaluating the ANN\n",
        "from keras.wrappers.scikit_learn import KerasClassifier\n",
        "from sklearn.model_selection import cross_val_score\n",
        "from keras.models import Sequential\n",
        "from keras.layers import Dense\n",
        "from keras.layers import Dropout\n",
        "\n",
        "def build_classifier():\n",
        "    classifier = Sequential()\n",
        "    classifier.add(Dense(units = 132, kernel_initializer = 'uniform', activation = 'relu', input_dim = 256))    \n",
        "    dout = 0.1\n",
        "    classifier.add(Dropout(p = dout))\n",
        "    classifier.add(Dense(units = 132, kernel_initializer = 'uniform', activation = 'relu'))\n",
        "    classifier.add(Dropout(p = dout))\n",
        "    classifier.add(Dense(units = 8, kernel_initializer = 'uniform', activation = 'softmax'))\n",
        "    classifier.compile(optimizer = 'adam', loss = 'categorical_crossentropy', metrics = ['accuracy'])\n",
        "    return classifier\n",
        "classifier = KerasClassifier(build_fn = build_classifier)\n",
        "batch = 10\n",
        "epoch = 25\n",
        "classifier = KerasClassifier(build_fn = build_classifier, batch_size = batch, epochs = epoch)\n",
        "# It is better test_size = 1 in Splitting the dataset part\n",
        "accuracies = cross_val_score(estimator = classifier, X = X_train, y = y_train, cv = 5, n_jobs = 1)\n",
        "mean = accuracies.mean()\n",
        "variance = accuracies.std()"
      ],
      "execution_count": 0,
      "outputs": []
    },
    {
      "cell_type": "markdown",
      "metadata": {
        "id": "E-G3camZi47h",
        "colab_type": "text"
      },
      "source": [
        "# Accuracy vs Droupout"
      ]
    },
    {
      "cell_type": "code",
      "metadata": {
        "id": "vC5FYw4Mi9mc",
        "colab_type": "code",
        "colab": {}
      },
      "source": [
        "from keras.wrappers.scikit_learn import KerasClassifier\n",
        "from sklearn.model_selection import cross_val_score\n",
        "from keras.models import Sequential\n",
        "from keras.layers import Dense\n",
        "from keras.layers import Dropout\n",
        "\n",
        "means = []\n",
        "for i in range(16):\n",
        "  def build_classifier():\n",
        "      classifier = Sequential()\n",
        "      classifier.add(Dense(units = 132, kernel_initializer = 'uniform', activation = 'relu', input_dim = 256))\n",
        "      dout = 0.05*i\n",
        "      classifier.add(Dropout(rate = dout))\n",
        "      classifier.add(Dense(units = 132, kernel_initializer = 'uniform', activation = 'relu'))\n",
        "      classifier.add(Dropout(rate = dout))\n",
        "      classifier.add(Dense(units = 8, kernel_initializer = 'uniform', activation = 'softmax'))\n",
        "      classifier.compile(optimizer = 'adam', loss = 'categorical_crossentropy', metrics = ['accuracy'])\n",
        "      return classifier\n",
        "\n",
        "  print(\"Dropout :\", 0.05*i)\n",
        "  batch = 10\n",
        "  epoch = 25\n",
        "  classifier = KerasClassifier(build_fn = build_classifier, batch_size = batch, epochs = epoch, verbose=0)\n",
        "  # It is better test_size = 1 in Splitting the dataset part\n",
        "  accuracies = cross_val_score(estimator = classifier, X = X_train, y = y_train, cv = 5, n_jobs = 1)\n",
        "  mean = accuracies.mean()\n",
        "  variance = accuracies.std()\n",
        "  print(mean)\n",
        "  means.append(mean)"
      ],
      "execution_count": 0,
      "outputs": []
    },
    {
      "cell_type": "code",
      "metadata": {
        "id": "_EDsmrFQ6gUC",
        "colab_type": "code",
        "colab": {}
      },
      "source": [
        "\n",
        "import matplotlib.pyplot as plt\n",
        "\n",
        "ax = plt.plot(d, means, 'ro')\n",
        "plt.grid()\n",
        "plt.title('Accuracy vs Dropout for ANN (SNR=18)')\n",
        "plt.xlabel('Dropout', fontsize=8)\n",
        "plt.ylabel('Accuracy', fontsize=8)\n",
        "plt.ylim([0.30,0.5])\n",
        "plt.yticks(np.arange(0.3, 0.5, step=0.02))\n",
        "\n",
        "\n",
        "dic = \"/content/drive/My Drive/Colab Notebooks/\"\n",
        "# fig = ax.get_figure()\n",
        "plt.savefig(dic+f\"/Pic/ANN-CrossVal(5)-132-132-ba{batch}-ep{epoch}(SNR={snr}).png\", dpi=175, bbox_inches='tight')\n",
        "plt.savefig(dic+f\"/Pic/ANN-CrossVal(5)-132-132-ba{batch}-ep{epoch}(SNR={snr}).eps\", bbox_inches='tight')\n",
        "\n",
        "print(\"Plot Saved!\")"
      ],
      "execution_count": 0,
      "outputs": []
    },
    {
      "cell_type": "markdown",
      "metadata": {
        "id": "ORPI905hhNfE",
        "colab_type": "text"
      },
      "source": [
        "# Grid Search"
      ]
    },
    {
      "cell_type": "code",
      "metadata": {
        "id": "JrHIolb35V1o",
        "colab_type": "code",
        "colab": {}
      },
      "source": [
        "# Tuning the ANN\n",
        "from keras.wrappers.scikit_learn import KerasClassifier\n",
        "from sklearn.model_selection import GridSearchCV\n",
        "from keras.models import Sequential\n",
        "from keras.layers import Dense, Dropout\n",
        "\n",
        "def build_classifier(n1):\n",
        "    classifier = Sequential()\n",
        "    classifier.add(Dense(units = n1, kernel_initializer = 'uniform', activation = 'relu', input_dim = 256))    \n",
        "    dout = 0.2\n",
        "    classifier.add(Dropout(p = dout))\n",
        "    classifier.add(Dense(units = n1, kernel_initializer = 'uniform', activation = 'relu'))\n",
        "    classifier.add(Dropout(p = dout))\n",
        "    classifier.add(Dense(units = 8, kernel_initializer = 'uniform', activation = 'softmax'))\n",
        "    classifier.compile(optimizer = 'adam', loss = 'categorical_crossentropy', metrics = ['accuracy'])\n",
        "    return classifier\n",
        "classifier = KerasClassifier(build_fn = build_classifier)\n",
        "parameters = {'batch_size': [10, 25, 50, 75, 100],\n",
        "              'epochs': [10, 20, 50, 100],\n",
        "              'optimizer': ['adam', 'rmsprop'],\n",
        "              'n1':[66, 99, 165, 198, 231, 264, 297 ,396],\n",
        "              'n2':[66, 99, 165, 198, 231, 264, 297 ,396]}\n",
        "\n",
        "parameters = {'n1':[66, 99, 165, 198, 231, 264, 297 ,396]}\n",
        "grid_search = GridSearchCV(estimator = classifier,\n",
        "                           param_grid = parameters,\n",
        "                           scoring = 'accuracy',\n",
        "                           cv = 2)\n",
        "\n",
        "grid_search = grid_search.fit(X_train, y_train)\n",
        "best_parameters = grid_search.best_params_\n",
        "best_accuracy = grid_search.best_score_\n",
        "\n",
        "print('best_parameters : ', best_parameters)\n",
        "print('best_accuracy : ', best_accuracy)"
      ],
      "execution_count": 0,
      "outputs": []
    },
    {
      "cell_type": "markdown",
      "metadata": {
        "id": "ShXqOJL47hCE",
        "colab_type": "text"
      },
      "source": [
        "# Plot Confusion Matrix"
      ]
    },
    {
      "cell_type": "code",
      "metadata": {
        "id": "-6AbLWccANuo",
        "colab_type": "code",
        "outputId": "21287b36-a702-4ba0-a7d7-2b6912502b92",
        "colab": {
          "base_uri": "https://localhost:8080/",
          "height": 84
        }
      },
      "source": [
        "import matplotlib.pyplot as plt\n",
        "import seaborn as sns\n",
        "from sklearn.metrics import confusion_matrix\n",
        "import pandas as pd\n",
        "\n",
        "modulation_order = []\n",
        "modulation_order_dict = dict()\n",
        "\n",
        "for key,value in output.items():\n",
        "    modulation_order_dict[np.argmax(value)] = str(key)\n",
        "    \n",
        "for i in range(8):\n",
        "    modulation_order.append(modulation_order_dict[i])\n",
        "    \n",
        "acc_test = classifier.evaluate(X_test18, y_test18)[1]\n",
        "acc_train = classifier.evaluate(X_train, y_train)[1]\n",
        "\n",
        "print(\"Acc Test : \", acc_test)\n",
        "print(\"Acc Train : \", acc_train)    "
      ],
      "execution_count": 0,
      "outputs": [
        {
          "output_type": "stream",
          "text": [
            "1653/1653 [==============================] - 0s 28us/step\n",
            "128000/128000 [==============================] - 3s 24us/step\n",
            "Acc Test :  0.4996975198234851\n",
            "Acc Train :  0.479921875\n"
          ],
          "name": "stdout"
        }
      ]
    },
    {
      "cell_type": "code",
      "metadata": {
        "id": "Vv5RzFyj_Cj1",
        "colab_type": "code",
        "colab": {
          "base_uri": "https://localhost:8080/",
          "height": 1000
        },
        "outputId": "6b07a268-5df7-4d1e-dfdd-2d5eba9ab99d"
      },
      "source": [
        "dic = \"/content/drive/My Drive/Colab Notebooks/\"\n",
        "acc = []\n",
        "\n",
        "for snr in snrList:\n",
        "  print('SNR: ', snr)\n",
        "    \n",
        "  y_test_snr = []\n",
        "  X_test_snr = []\n",
        "  for i in range(X_test.shape[0]):\n",
        "    if X_test[i,0,0] == int(snr):\n",
        "      X_test_snr.append(X_test[i])\n",
        "      y_test_snr.append(y_test[i])\n",
        "        \n",
        "  X_test_snr = np.array(X_test_snr)\n",
        "  y_test_snr = np.array(y_test_snr)        \n",
        "  X_test_snr = X_test_snr[:,:,1:]\n",
        "  \n",
        "  X_test_snr = X_test_snr.reshape([X_test_snr.shape[0],256])\n",
        "  X_test_snr = sc.transform(X_test_snr)\n",
        "  X_test_snr = X_test_snr.reshape([X_test_snr.shape[0],2,128])\n",
        "  \n",
        "  X_test_snr = X_test_snr.reshape([X_test_snr.shape[0],256]) # Only for ANN\n",
        "    \n",
        "  acc_test = classifier.evaluate(X_test_snr, y_test_snr)[1]\n",
        "  acc.append(acc_test)\n",
        "  print(acc_test)\n",
        "'''  \n",
        "  y_pred = classifier.predict(X_test_snr)\n",
        "  y_pred = np.argmax(y_pred, axis=1)\n",
        "\n",
        "  y_real = np.argmax(y_test_snr, axis=1)\n",
        "  # Making the Confusion Matrix\n",
        "  cm = confusion_matrix(y_real, y_pred)\n",
        "  cm_norm = cm.astype('float') / cm.sum(axis=1)[:, np.newaxis]\n",
        "    \n",
        "    \n",
        "  cmDataFrame = pd.DataFrame(cm_norm, index=modulation_order, columns = modulation_order)\n",
        "  plt.figure(figsize=(6, 5))\n",
        "  ax = sns.heatmap(cmDataFrame, annot=True, annot_kws={\"size\": 8}, fmt='.2f', linewidths=.5, cmap=\"Greens\")\n",
        "\n",
        "  plt.title(f\"ANN Confusion Matrix (SNR={snr})\")\n",
        "  plt.xlabel(\"Predicted label  \\n\\n TrainAcc={:.2}, TestAcc={:.2}\".format(acc_train,acc_test), fontsize=8)\n",
        "  plt.ylabel(\"True lable\", fontsize=8)\n",
        "  plt.setp(ax.get_xticklabels(), rotation=45, ha=\"right\",rotation_mode=\"anchor\", fontsize=8)\n",
        "  plt.setp(ax.get_yticklabels(), fontsize=8)\n",
        "  fig = ax.get_figure()\n",
        "\n",
        "  fig.savefig(dic+f\"/Pic/ANN/ANN-132-ba{batch}-ep{epoch}-(dout=0)-input(IQ)(SNR={snr}).png\", dpi=175, bbox_inches='tight')\n",
        "  fig.savefig(dic+f\"/Pic/ANN/ANN-132-ba{batch}-ep{epoch}-(dout=0)-input(IQ)(SNR={snr}).eps\", bbox_inches='tight')\n",
        "  print(\"Plot Saved!\")\n",
        "   \n",
        "\n",
        "  del(y_test_snr)\n",
        "  del(X_test_snr)\n",
        "'''      \n",
        "print(acc)    \n",
        "    "
      ],
      "execution_count": 21,
      "outputs": [
        {
          "output_type": "stream",
          "text": [
            "SNR:  -20\n",
            "1636/1636 [==============================] - 1s 338us/step\n",
            "0.12102689486552567\n",
            "SNR:  -18\n",
            "1630/1630 [==============================] - 1s 345us/step\n",
            "0.131901840618783\n",
            "SNR:  -16\n",
            "1606/1606 [==============================] - 1s 349us/step\n",
            "0.13138231633238004\n",
            "SNR:  -14\n",
            "1633/1633 [==============================] - 1s 353us/step\n",
            "0.14329454990814453\n",
            "SNR:  -12\n",
            "1567/1567 [==============================] - 1s 343us/step\n",
            "0.16656030626074858\n",
            "SNR:  -10\n",
            "1561/1561 [==============================] - 1s 345us/step\n",
            "0.19346572701210094\n",
            "SNR:  -8\n",
            "1605/1605 [==============================] - 1s 349us/step\n",
            "0.233021806872151\n",
            "SNR:  -6\n",
            "1605/1605 [==============================] - 1s 346us/step\n",
            "0.30404984425532855\n",
            "SNR:  -4\n",
            "1600/1600 [==============================] - 1s 340us/step\n",
            "0.42625\n",
            "SNR:  -2\n",
            "1642/1642 [==============================] - 1s 358us/step\n",
            "0.5121802678932952\n",
            "SNR:  0\n",
            "1570/1570 [==============================] - 1s 362us/step\n",
            "0.6388535031847133\n",
            "SNR:  2\n",
            "1577/1577 [==============================] - 1s 369us/step\n",
            "0.6670894103104659\n",
            "SNR:  4\n",
            "1555/1555 [==============================] - 1s 342us/step\n",
            "0.6906752415025349\n",
            "SNR:  6\n",
            "1598/1598 [==============================] - 1s 338us/step\n",
            "0.6814768464305673\n",
            "SNR:  8\n",
            "1568/1568 [==============================] - 1s 343us/step\n",
            "0.6938775510204082\n",
            "SNR:  10\n",
            "1542/1542 [==============================] - 1s 353us/step\n",
            "0.6932555123216602\n",
            "SNR:  12\n",
            "1598/1598 [==============================] - 1s 342us/step\n",
            "0.6939924905386675\n",
            "SNR:  14\n",
            "1616/1616 [==============================] - 1s 345us/step\n",
            "0.7060643564356436\n",
            "SNR:  16\n",
            "1638/1638 [==============================] - 1s 341us/step\n",
            "0.7045177044449272\n",
            "SNR:  18\n",
            "1653/1653 [==============================] - 1s 339us/step\n",
            "0.6938898974090941\n",
            "[0.12102689486552567, 0.131901840618783, 0.13138231633238004, 0.14329454990814453, 0.16656030626074858, 0.19346572701210094, 0.233021806872151, 0.30404984425532855, 0.42625, 0.5121802678932952, 0.6388535031847133, 0.6670894103104659, 0.6906752415025349, 0.6814768464305673, 0.6938775510204082, 0.6932555123216602, 0.6939924905386675, 0.7060643564356436, 0.7045177044449272, 0.6938898974090941]\n"
          ],
          "name": "stdout"
        }
      ]
    },
    {
      "cell_type": "code",
      "metadata": {
        "id": "ChOWgrSYHMmB",
        "colab_type": "code",
        "colab": {}
      },
      "source": [
        "X_test18"
      ],
      "execution_count": 0,
      "outputs": []
    },
    {
      "cell_type": "code",
      "metadata": {
        "id": "wJdL7PP_7jir",
        "colab_type": "code",
        "outputId": "9e1551a0-3245-4dd4-facb-eed6ebf300e7",
        "colab": {
          "base_uri": "https://localhost:8080/",
          "height": 386
        }
      },
      "source": [
        "import matplotlib.pyplot as plt\n",
        "import seaborn as sns\n",
        "import pandas as pd\n",
        "\n",
        "modulation_order = []\n",
        "modulation_order_dict = dict()\n",
        "\n",
        "for key,value in output.items():\n",
        "    modulation_order_dict[np.argmax(value)] = str(key)\n",
        "    \n",
        "for i in range(8):\n",
        "    modulation_order.append(modulation_order_dict[i])\n",
        "    \n",
        "    \n",
        "    \n",
        "cmDataFrame = pd.DataFrame(cm_norm, index=modulation_order, columns = modulation_order)\n",
        "plt.figure(figsize=(6, 5))\n",
        "ax = sns.heatmap(cmDataFrame, annot=True, annot_kws={\"size\": 8}, fmt='.2f', linewidths=.5, cmap=\"Greens\")\n",
        "\n",
        "plt.title(f\"AANN Confusion Matrix (SNR={snr})\")\n",
        "plt.xlabel(\"Predicted label  \\n\\n TrainAcc={:.2}, TestAcc={:.2}\".format(acc_train,acc_test), fontsize=8)\n",
        "plt.ylabel(\"True lable\", fontsize=8)\n",
        "plt.setp(ax.get_xticklabels(), rotation=45, ha=\"right\",rotation_mode=\"anchor\", fontsize=8)\n",
        "plt.setp(ax.get_yticklabels(), fontsize=8)\n",
        "fig = ax.get_figure()"
      ],
      "execution_count": 0,
      "outputs": [
        {
          "output_type": "display_data",
          "data": {
            "image/png": "[encoded data removed]",
            "text/plain": [
              "<Figure size 432x360 with 2 Axes>"
            ]
          },
          "metadata": {
            "tags": []
          }
        }
      ]
    },
    {
      "cell_type": "code",
      "metadata": {
        "id": "x8eHSHvA7_ud",
        "colab_type": "code",
        "colab": {}
      },
      "source": [
        "dic = \"/content/drive/My Drive/Colab Notebooks/\"\n",
        "fig.savefig(dic+f\"/Pic/ANN/ANN-132-ba{batch}-ep{epoch}-(dout=0)-(SNR={snr}).png\", dpi=175, bbox_inches='tight')\n",
        "print(\"Plot Saved!\")"
      ],
      "execution_count": 0,
      "outputs": []
    },
    {
      "cell_type": "markdown",
      "metadata": {
        "id": "XRGfQj5oJH9B",
        "colab_type": "text"
      },
      "source": [
        "# Plot Model"
      ]
    },
    {
      "cell_type": "code",
      "metadata": {
        "id": "IJx_GdLiJG2R",
        "colab_type": "code",
        "colab": {}
      },
      "source": [
        "import keras\n",
        "import pydot\n",
        "import pydotplus\n",
        "from keras.utils.vis_utils import model_to_dot\n",
        "from keras.utils import plot_model\n",
        "keras.utils.vis_utils.pydot = pydot\n",
        "file = ''\n",
        "plot_model(classifier,show_shapes=True,show_layer_names=False, to_file='model.png' , rankdir='LR')\n",
        "plot_model(classifier,show_shapes=True,show_layer_names=False, to_file='model.eps' , rankdir='LR')\n"
      ],
      "execution_count": 0,
      "outputs": []
    },
    {
      "cell_type": "markdown",
      "metadata": {
        "id": "9_d7UlrRJTdJ",
        "colab_type": "text"
      },
      "source": [
        "# Plot accuracy and loss"
      ]
    },
    {
      "cell_type": "code",
      "metadata": {
        "id": "Ofyw4cqWJZQD",
        "colab_type": "code",
        "colab": {}
      },
      "source": [
        "import matplotlib.pyplot as plt\n",
        "def plot_history(history):\n",
        "    loss_list = [s for s in history.history.keys() if 'loss' in s and 'val' not in s]\n",
        "    val_loss_list = [s for s in history.history.keys() if 'loss' in s and 'val' in s]\n",
        "    acc_list = [s for s in history.history.keys() if 'acc' in s and 'val' not in s]\n",
        "    val_acc_list = [s for s in history.history.keys() if 'acc' in s and 'val' in s]\n",
        "    \n",
        "    if len(loss_list) == 0:\n",
        "        print('Loss is missing in history')\n",
        "        return \n",
        "    \n",
        "    ## As loss always exists\n",
        "    epochs = range(1,len(history.history[loss_list[0]]) + 1)\n",
        "    \n",
        "    ## Loss\n",
        "    plt.figure(1)\n",
        "    for l in loss_list:\n",
        "        plt.plot(epochs, history.history[l], 'b', label='Training loss (' + str(str(format(history.history[l][-1],'.5f'))+')'))\n",
        "    for l in val_loss_list:\n",
        "        plt.plot(epochs, history.history[l], 'g', label='Validation loss (' + str(str(format(history.history[l][-1],'.5f'))+')'))  \n",
        "    \n",
        "    plt.title('Loss')\n",
        "    plt.xlabel('Epochs')\n",
        "    plt.ylabel('Loss')\n",
        "    plt.legend()\n",
        "    \n",
        "    ## Accuracy\n",
        "    plt.figure(2)\n",
        "    for l in acc_list:\n",
        "        plt.plot(epochs, history.history[l], 'b', label='Training accuracy (' + str(format(history.history[l][-1],'.5f'))+')')\n",
        "    for l in val_acc_list:    \n",
        "        plt.plot(epochs, history.history[l], 'g', label='Validation accuracy (' + str(format(history.history[l][-1],'.5f'))+')')\n",
        "\n",
        "    plt.title('Accuracy')\n",
        "    plt.xlabel('Epochs')\n",
        "    plt.ylabel('Accuracy')\n",
        "    plt.legend()\n",
        "    plt.show()\n"
      ],
      "execution_count": 0,
      "outputs": []
    },
    {
      "cell_type": "code",
      "metadata": {
        "id": "LvZtjPOeJadx",
        "colab_type": "code",
        "colab": {
          "base_uri": "https://localhost:8080/",
          "height": 574
        },
        "outputId": "d8fa47d0-c2fc-4e56-b420-f01545a1a9d4"
      },
      "source": [
        "plot_history(classifier.history)"
      ],
      "execution_count": 41,
      "outputs": [
        {
          "output_type": "display_data",
          "data": {
            "image/png": "[encoded data removed]",
            "text/plain": [
              "<Figure size 432x288 with 1 Axes>"
            ]
          },
          "metadata": {
            "tags": []
          }
        },
        {
          "output_type": "display_data",
          "data": {
            "image/png": "[encoded data removed]",
            "text/plain": [
              "<Figure size 432x288 with 1 Axes>"
            ]
          },
          "metadata": {
            "tags": []
          }
        }
      ]
    },
    {
      "cell_type": "code",
      "metadata": {
        "id": "4YwGx5eVtNHf",
        "colab_type": "code",
        "colab": {
          "base_uri": "https://localhost:8080/",
          "height": 34
        },
        "outputId": "25d9433a-498e-4505-86b3-fd52214ec9be"
      },
      "source": [
        "from keras.models import load_model\n",
        "dic = \"/content/drive/My Drive/Colab Notebooks/\"\n",
        "\n",
        "model = load_model(dic+f'SaveModel/ANN-528-ba{batch}-ep{epoch}-(dout=0)-input(IQ)(SNR=all).h5')\n",
        "\n",
        "print('Model loaded!')"
      ],
      "execution_count": 24,
      "outputs": [
        {
          "output_type": "stream",
          "text": [
            "Model loaded!\n"
          ],
          "name": "stdout"
        }
      ]
    },
    {
      "cell_type": "code",
      "metadata": {
        "id": "6pAIUxXfoxJD",
        "colab_type": "code",
        "colab": {}
      },
      "source": [
        "dic = \"/content/drive/My Drive/Colab Notebooks/\"\n",
        "type(classifier.history.history)\n",
        "\n"
      ],
      "execution_count": 0,
      "outputs": []
    }
  ]
}