{
  "nbformat": 4,
  "nbformat_minor": 0,
  "metadata": {
    "colab": {
      "name": "ANN.ipynb",
      "version": "0.3.2",
      "provenance": [],
      "collapsed_sections": [],
      "include_colab_link": true
    },
    "kernelspec": {
      "name": "python3",
      "display_name": "Python 3"
    },
    "accelerator": "TPU"
  },
  "cells": [
    {
      "cell_type": "markdown",
      "metadata": {
        "id": "view-in-github",
        "colab_type": "text"
      },
      "source": [
        "<a href=\"https://colab.research.google.com/github/MohsenJadidi/Automatic-Modulation-Classification-AMC/blob/master/ANN.ipynb\" target=\"_parent\"><img src=\"https://colab.research.google.com/assets/colab-badge.svg\" alt=\"Open In Colab\"/></a>"
      ]
    },
    {
      "cell_type": "code",
      "metadata": {
        "id": "NbWAylFFl7H3",
        "colab_type": "code",
        "outputId": "d7b2c04f-1404-4694-8135-f5beb34030ad",
        "colab": {
          "base_uri": "https://localhost:8080/",
          "height": 121
        }
      },
      "source": [
        "from google.colab import drive\n",
        "drive.mount('/content/drive')\n"
      ],
      "execution_count": 1,
      "outputs": [
        {
          "output_type": "stream",
          "text": [
            "Go to this URL in a browser: https://accounts.google.com/o/oauth2/auth?client_id=947318989803-6bn6qk8qdgf4n4g3pfee6491hc0brc4i.apps.googleusercontent.com&redirect_uri=urn%3Aietf%3Awg%3Aoauth%3A2.0%3Aoob&scope=email%20https%3A%2F%2Fwww.googleapis.com%2Fauth%2Fdocs.test%20https%3A%2F%2Fwww.googleapis.com%2Fauth%2Fdrive%20https%3A%2F%2Fwww.googleapis.com%2Fauth%2Fdrive.photos.readonly%20https%3A%2F%2Fwww.googleapis.com%2Fauth%2Fpeopleapi.readonly&response_type=code\n",
            "\n",
            "Enter your authorization code:\n",
            "··········\n",
            "Mounted at /content/drive\n"
          ],
          "name": "stdout"
        }
      ]
    },
    {
      "cell_type": "markdown",
      "metadata": {
        "id": "UR0ATiKBk6rG",
        "colab_type": "text"
      },
      "source": [
        "# Importing the dataset"
      ]
    },
    {
      "cell_type": "code",
      "metadata": {
        "id": "JfzzfiDSuxMs",
        "colab_type": "code",
        "colab": {}
      },
      "source": [
        "import pickle\n",
        "fileName = 'RML2016.10a_dict.pkl'\n",
        "with open(\"/content/drive/My Drive/Colab Notebooks/\"+fileName,'rb') as f:\n",
        "  data = pickle.load(f,encoding='bytes')\n",
        " "
      ],
      "execution_count": 0,
      "outputs": []
    },
    {
      "cell_type": "code",
      "metadata": {
        "id": "yjAg9T-0uzyh",
        "colab_type": "code",
        "outputId": "e03ccb4b-1589-4ddc-b6db-629a15519ef4",
        "colab": {
          "base_uri": "https://localhost:8080/",
          "height": 34
        }
      },
      "source": [
        "import numpy as np\n",
        "X = []\n",
        "labels = [] # label each example by a pair (modulation type, snr)\n",
        "total_examples = 0\n",
        "analog = [b'AM-DSB', b'AM-SSB', b'WBFM']\n",
        "\n",
        "for mod_type, snr in data.keys():\n",
        "    if (mod_type not in analog):      \n",
        "        current_matrix = data[(mod_type, snr)]        \n",
        "        total_examples += current_matrix.shape[0]\n",
        "        for i in range(current_matrix.shape[0]):\n",
        "            X.append(current_matrix[i])\n",
        "            labels.append((str(mod_type, 'ascii'), snr)) # mod_type is of type bytes\n",
        "    \n",
        "X = np.array(X)         # First row is QPSK snr=2, seconde is PAM4 snr=8 , ...\n",
        "labels = np.array(labels)\n",
        "\n",
        "y = labels[:,0]\n",
        "\n",
        "print(f'loaded {total_examples} signal vectors into X{X.shape} and their corresponding'\n",
        "      f' labels into labels{labels.shape}')  \n",
        "# print(np.unique(labels[:,0]))\n"
      ],
      "execution_count": 3,
      "outputs": [
        {
          "output_type": "stream",
          "text": [
            "loaded 160000 signal vectors into X(160000, 2, 128) and their corresponding labels into labels(160000, 2)\n"
          ],
          "name": "stdout"
        }
      ]
    },
    {
      "cell_type": "code",
      "metadata": {
        "id": "pbeDr3FVv57v",
        "colab_type": "code",
        "outputId": "42b6f151-c1e8-4626-8d4a-231b454eec7f",
        "colab": {
          "base_uri": "https://localhost:8080/",
          "height": 104
        }
      },
      "source": [
        "# Encoding categorical data\n",
        "from sklearn.preprocessing import LabelEncoder, OneHotEncoder\n",
        "labelencoder_y = LabelEncoder()\n",
        "y = labelencoder_y.fit_transform(y)\n",
        "onehotencoder = OneHotEncoder()\n",
        "y = onehotencoder.fit_transform(y.reshape(-1,1)).toarray()"
      ],
      "execution_count": 4,
      "outputs": [
        {
          "output_type": "stream",
          "text": [
            "/usr/local/lib/python3.6/dist-packages/sklearn/preprocessing/_encoders.py:415: FutureWarning: The handling of integer data will change in version 0.22. Currently, the categories are determined based on the range [0, max(values)], while in the future they will be determined based on the unique values.\n",
            "If you want the future behaviour and silence this warning, you can specify \"categories='auto'\".\n",
            "In case you used a LabelEncoder before this OneHotEncoder to convert the categories to integers, then you can now use the OneHotEncoder directly.\n",
            "  warnings.warn(msg, FutureWarning)\n"
          ],
          "name": "stderr"
        }
      ]
    },
    {
      "cell_type": "code",
      "metadata": {
        "id": "-Z6iUKbJwKlT",
        "colab_type": "code",
        "outputId": "d900d500-98db-46d8-8277-e50e80b96760",
        "colab": {
          "base_uri": "https://localhost:8080/",
          "height": 34
        }
      },
      "source": [
        "snrList = [str(2*i-20) for i in range(20)]  # snrList = -20, -18, -16 , ... ,0, ... ,18\n",
        "snr = snrList[19]\n",
        "numberOfEachExamples = 1000\n",
        "print(\"SNR :\", snrList)"
      ],
      "execution_count": 5,
      "outputs": [
        {
          "output_type": "stream",
          "text": [
            "SNR : ['-20', '-18', '-16', '-14', '-12', '-10', '-8', '-6', '-4', '-2', '0', '2', '4', '6', '8', '10', '12', '14', '16', '18']\n"
          ],
          "name": "stdout"
        }
      ]
    },
    {
      "cell_type": "code",
      "metadata": {
        "id": "-DiHGfSPwKb1",
        "colab_type": "code",
        "colab": {}
      },
      "source": [
        "output = [[labels[i*numberOfEachExamples, 0],y[i*numberOfEachExamples]] for i in range(int(X.shape[0]/numberOfEachExamples))]\n",
        "output = dict(output)"
      ],
      "execution_count": 0,
      "outputs": []
    },
    {
      "cell_type": "code",
      "metadata": {
        "id": "0OJ3GghKwrbs",
        "colab_type": "code",
        "outputId": "11736130-ab51-4b88-f418-bdff92a68100",
        "colab": {
          "base_uri": "https://localhost:8080/",
          "height": 34
        }
      },
      "source": [
        "Xsnr = np.zeros(shape=(X.shape[0],X.shape[1],X.shape[2]+1))\n",
        "for i in range(X.shape[0]):\n",
        "    snr = int(labels[i,1])\n",
        "    Xsnr[i,0,:] = np.insert(X[i,0,:],0,snr)\n",
        "    Xsnr[i,1,:] = np.insert(X[i,1,:],0,snr)\n",
        "    \n",
        "print(Xsnr.shape)"
      ],
      "execution_count": 7,
      "outputs": [
        {
          "output_type": "stream",
          "text": [
            "(160000, 2, 129)\n"
          ],
          "name": "stdout"
        }
      ]
    },
    {
      "cell_type": "code",
      "metadata": {
        "id": "Cx7l0G_3ww0w",
        "colab_type": "code",
        "outputId": "7a00357b-5cbd-4e07-fe0e-32863d6504d5",
        "colab": {
          "base_uri": "https://localhost:8080/",
          "height": 50
        }
      },
      "source": [
        "###### Splitting the dataset into the Training set and Test set ######\n",
        "from sklearn.model_selection import train_test_split\n",
        "X_train, X_test, y_train, y_test = train_test_split(Xsnr, y, test_size = 0.2, random_state = 0)\n",
        "# The below line better for Cross_val part\n",
        "#X_train, X_test, y_train, y_test = train_test_split(Xsnr, y, test_size = 1, random_state = 0)\n",
        "\n",
        "print(X_train.shape)\n",
        "print(X_test.shape)"
      ],
      "execution_count": 8,
      "outputs": [
        {
          "output_type": "stream",
          "text": [
            "(128000, 2, 129)\n",
            "(32000, 2, 129)\n"
          ],
          "name": "stdout"
        }
      ]
    },
    {
      "cell_type": "code",
      "metadata": {
        "id": "gGeDKe8GLNJ9",
        "colab_type": "code",
        "outputId": "8466080a-e9e3-44f1-9af0-0ce8b69edd5d",
        "colab": {
          "base_uri": "https://localhost:8080/",
          "height": 50
        }
      },
      "source": [
        "X_train = X_train[:,:,1:] # snr important for train\n",
        "\n",
        "y_test18 = []\n",
        "X_test18 = []\n",
        "\n",
        "for i in range(X_test.shape[0]):\n",
        "    if X_test[i,0,0] == 18:\n",
        "        X_test18.append(X_test[i])\n",
        "        y_test18.append(y_test[i])\n",
        "        \n",
        "X_test18 = np.array(X_test18)\n",
        "y_test18 = np.array(y_test18)        \n",
        "X_test18 = X_test18[:,:,1:]\n",
        "\n",
        "\n",
        "print(X_train.shape)\n",
        "print(X_test18.shape)"
      ],
      "execution_count": 9,
      "outputs": [
        {
          "output_type": "stream",
          "text": [
            "(128000, 2, 128)\n",
            "(1653, 2, 128)\n"
          ],
          "name": "stdout"
        }
      ]
    },
    {
      "cell_type": "code",
      "metadata": {
        "id": "V4OinfCHLd8y",
        "colab_type": "code",
        "outputId": "9fe7368d-f8f7-4f24-b068-f30918d6942e",
        "colab": {
          "base_uri": "https://localhost:8080/",
          "height": 50
        }
      },
      "source": [
        "# Change IQ to amplitude and phase\n",
        "X_cmplx = X_train[:,0,:] + 1j* X_train[:,1,:]    \n",
        "X_amp = np.abs(X_cmplx)\n",
        "X_ang = np.arctan2(X_train[:,1,:],X_train[:,0,:]) / np.pi\n",
        "    \n",
        "X_amp = np.reshape(X_amp,(-1,1,128))\n",
        "X_ang = np.reshape(X_ang,(-1,1,128))\n",
        "    \n",
        "X_train_AmpPhs = np.concatenate((X_amp,X_ang), axis=1) \n",
        "##\n",
        "X_cmplx = X_test18[:,0,:] + 1j* X_test18[:,1,:]    \n",
        "X_amp = np.abs(X_cmplx)\n",
        "X_ang = np.arctan2(X_test18[:,1,:],X_test18[:,0,:]) / np.pi\n",
        "    \n",
        "X_amp = np.reshape(X_amp,(-1,1,128))\n",
        "X_ang = np.reshape(X_ang,(-1,1,128))\n",
        "    \n",
        "X_test18_AmpPhs = np.concatenate((X_amp,X_ang), axis=1) \n",
        "##\n",
        "\n",
        "print(X_train_AmpPhs.shape)\n",
        "print(X_test18_AmpPhs.shape)"
      ],
      "execution_count": 10,
      "outputs": [
        {
          "output_type": "stream",
          "text": [
            "(128000, 2, 128)\n",
            "(1653, 2, 128)\n"
          ],
          "name": "stdout"
        }
      ]
    },
    {
      "cell_type": "code",
      "metadata": {
        "id": "NuKWgf69MhKo",
        "colab_type": "code",
        "colab": {}
      },
      "source": [
        "from sklearn.preprocessing import StandardScaler\n",
        "sc = StandardScaler()\n",
        "#X_train = X_train.reshape([X_train.shape[0],256])\n",
        "X_train = X_train_AmpPhs.reshape([X_train.shape[0],256])\n",
        "X_train = sc.fit_transform(X_train)\n",
        "X_train = X_train.reshape([X_train.shape[0],2,128])\n",
        "#X_test = X_test.reshape([1600,256])\n",
        "#X_test18 = X_test18.reshape([X_test18.shape[0],256])\n",
        "X_test18 = X_test18_AmpPhs.reshape([X_test18.shape[0],256])\n",
        "X_test18 = sc.transform(X_test18)\n",
        "X_test18 = X_test18.reshape([X_test18.shape[0],2,128])\n"
      ],
      "execution_count": 0,
      "outputs": []
    },
    {
      "cell_type": "code",
      "metadata": {
        "id": "gGTuYsrYNnWb",
        "colab_type": "code",
        "colab": {}
      },
      "source": [
        "X_train = X_train.reshape([X_train.shape[0],256])\n",
        "X_test18 = X_test18.reshape([X_test18.shape[0],256])"
      ],
      "execution_count": 0,
      "outputs": []
    },
    {
      "cell_type": "markdown",
      "metadata": {
        "id": "UWipMIzTw3SN",
        "colab_type": "text"
      },
      "source": [
        "# Making Simple model"
      ]
    },
    {
      "cell_type": "code",
      "metadata": {
        "id": "1t4bapTyw8Lp",
        "colab_type": "code",
        "outputId": "954e4680-d514-425c-ea10-64bb622a34b5",
        "colab": {
          "base_uri": "https://localhost:8080/",
          "height": 454
        }
      },
      "source": [
        "# Importing the Keras libraries and packages\n",
        "import keras\n",
        "from keras.models import Sequential\n",
        "from keras.layers import Dense\n",
        "from keras.layers import Dropout\n",
        "# Initialising the ANN\n",
        "from keras.layers import LeakyReLU\n",
        "\n",
        "classifier = Sequential()\n",
        "\n",
        "# Adding the input layer and the first hidden layer\n",
        "classifier.add(Dense(units = 330, kernel_initializer = 'uniform', activation = 'relu', input_dim = 256))\n",
        "dout = 0.1\n",
        "classifier.add(Dropout(rate = dout))\n",
        "\n",
        "# Adding the second hidden layer\n",
        "classifier.add(Dense(units = 330, kernel_initializer = 'uniform', activation = 'relu'))\n",
        "classifier.add(Dropout(rate = dout))\n",
        "\n",
        "classifier.add(Dense(units = 330, kernel_initializer = 'uniform', activation = 'relu'))\n",
        "classifier.add(Dropout(rate = dout))\n",
        "\n",
        "classifier.add(Dense(units = 330, kernel_initializer = 'uniform', activation = 'relu'))\n",
        "classifier.add(Dropout(rate = dout))\n",
        "\n",
        "#classifier.add(Dense(units = 132, kernel_initializer = 'uniform', activation = 'relu'))\n",
        "#classifier.add(Dropout(rate = dout))\n",
        "\n",
        "# Adding the output layer\n",
        "classifier.add(Dense(units = 8, kernel_initializer = 'uniform', activation = 'softmax'))\n",
        "\n",
        "# Compiling the ANN\n",
        "classifier.compile(optimizer = 'adam', loss = 'categorical_crossentropy', metrics = ['accuracy'])\n",
        "\n",
        "#logger = keras.callbacks.TensorBoard(log_dir=\"./logs\", write_graph=True, histogram_freq=0)\n",
        "\n",
        "classifier.summary()\n",
        "\n",
        "print(\"Model Created!\")"
      ],
      "execution_count": 33,
      "outputs": [
        {
          "output_type": "stream",
          "text": [
            "_________________________________________________________________\n",
            "Layer (type)                 Output Shape              Param #   \n",
            "=================================================================\n",
            "dense_21 (Dense)             (None, 330)               84810     \n",
            "_________________________________________________________________\n",
            "dropout_17 (Dropout)         (None, 330)               0         \n",
            "_________________________________________________________________\n",
            "dense_22 (Dense)             (None, 330)               109230    \n",
            "_________________________________________________________________\n",
            "dropout_18 (Dropout)         (None, 330)               0         \n",
            "_________________________________________________________________\n",
            "dense_23 (Dense)             (None, 330)               109230    \n",
            "_________________________________________________________________\n",
            "dropout_19 (Dropout)         (None, 330)               0         \n",
            "_________________________________________________________________\n",
            "dense_24 (Dense)             (None, 330)               109230    \n",
            "_________________________________________________________________\n",
            "dropout_20 (Dropout)         (None, 330)               0         \n",
            "_________________________________________________________________\n",
            "dense_25 (Dense)             (None, 8)                 2648      \n",
            "=================================================================\n",
            "Total params: 415,148\n",
            "Trainable params: 415,148\n",
            "Non-trainable params: 0\n",
            "_________________________________________________________________\n",
            "Model Created!\n"
          ],
          "name": "stdout"
        }
      ]
    },
    {
      "cell_type": "code",
      "metadata": {
        "id": "P0K9N5wL2x3F",
        "colab_type": "code",
        "outputId": "9d188d2a-45e3-4741-ee07-36391e9ac458",
        "colab": {
          "base_uri": "https://localhost:8080/",
          "height": 1000
        }
      },
      "source": [
        "batch = 1024\n",
        "epoch = 100\n",
        "\n",
        "history = classifier.fit(X_train, y_train, batch_size = batch, epochs = epoch, validation_data=(X_test18, y_test18))\n",
        "#history = classifier.fit(X_train, y_train, batch_size = batch, epochs = epoch)"
      ],
      "execution_count": 34,
      "outputs": [
        {
          "output_type": "stream",
          "text": [
            "Train on 128000 samples, validate on 1653 samples\n",
            "Epoch 1/100\n",
            "128000/128000 [==============================] - 15s 114us/step - loss: 1.7847 - acc: 0.2743 - val_loss: 0.9999 - val_acc: 0.5547\n",
            "Epoch 2/100\n",
            "128000/128000 [==============================] - 14s 107us/step - loss: 1.4371 - acc: 0.3906 - val_loss: 0.7019 - val_acc: 0.6461\n",
            "Epoch 3/100\n",
            "128000/128000 [==============================] - 14s 107us/step - loss: 1.3406 - acc: 0.4243 - val_loss: 0.6469 - val_acc: 0.6794\n",
            "Epoch 4/100\n",
            "128000/128000 [==============================] - 14s 109us/step - loss: 1.2958 - acc: 0.4422 - val_loss: 0.6132 - val_acc: 0.6854\n",
            "Epoch 5/100\n",
            "128000/128000 [==============================] - 14s 106us/step - loss: 1.2649 - acc: 0.4550 - val_loss: 0.6494 - val_acc: 0.6588\n",
            "Epoch 6/100\n",
            "128000/128000 [==============================] - 14s 106us/step - loss: 1.2380 - acc: 0.4671 - val_loss: 0.5837 - val_acc: 0.6981\n",
            "Epoch 7/100\n",
            "128000/128000 [==============================] - 14s 107us/step - loss: 1.2198 - acc: 0.4747 - val_loss: 0.5985 - val_acc: 0.6703\n",
            "Epoch 8/100\n",
            "128000/128000 [==============================] - 14s 106us/step - loss: 1.1975 - acc: 0.4831 - val_loss: 0.5664 - val_acc: 0.6975\n",
            "Epoch 9/100\n",
            "128000/128000 [==============================] - 14s 107us/step - loss: 1.1798 - acc: 0.4896 - val_loss: 0.5598 - val_acc: 0.6951\n",
            "Epoch 10/100\n",
            "128000/128000 [==============================] - 14s 108us/step - loss: 1.1617 - acc: 0.4981 - val_loss: 0.5629 - val_acc: 0.6951\n",
            "Epoch 11/100\n",
            "128000/128000 [==============================] - 14s 107us/step - loss: 1.1432 - acc: 0.5060 - val_loss: 0.5755 - val_acc: 0.6927\n",
            "Epoch 12/100\n",
            "128000/128000 [==============================] - 14s 108us/step - loss: 1.1260 - acc: 0.5139 - val_loss: 0.5637 - val_acc: 0.6909\n",
            "Epoch 13/100\n",
            "128000/128000 [==============================] - 14s 109us/step - loss: 1.1108 - acc: 0.5202 - val_loss: 0.5603 - val_acc: 0.6939\n",
            "Epoch 14/100\n",
            "128000/128000 [==============================] - 14s 107us/step - loss: 1.0973 - acc: 0.5290 - val_loss: 0.5413 - val_acc: 0.7066\n",
            "Epoch 15/100\n",
            "128000/128000 [==============================] - 14s 107us/step - loss: 1.0792 - acc: 0.5357 - val_loss: 0.5536 - val_acc: 0.7060\n",
            "Epoch 16/100\n",
            "128000/128000 [==============================] - 14s 107us/step - loss: 1.0621 - acc: 0.5433 - val_loss: 0.5456 - val_acc: 0.7005\n",
            "Epoch 17/100\n",
            "128000/128000 [==============================] - 14s 107us/step - loss: 1.0453 - acc: 0.5493 - val_loss: 0.5476 - val_acc: 0.6957\n",
            "Epoch 18/100\n",
            "128000/128000 [==============================] - 14s 107us/step - loss: 1.0284 - acc: 0.5566 - val_loss: 0.5388 - val_acc: 0.7108\n",
            "Epoch 19/100\n",
            "128000/128000 [==============================] - 14s 107us/step - loss: 1.0159 - acc: 0.5626 - val_loss: 0.5496 - val_acc: 0.7054\n",
            "Epoch 20/100\n",
            "128000/128000 [==============================] - 14s 107us/step - loss: 1.0036 - acc: 0.5679 - val_loss: 0.5360 - val_acc: 0.7199\n",
            "Epoch 21/100\n",
            "128000/128000 [==============================] - 14s 108us/step - loss: 0.9870 - acc: 0.5756 - val_loss: 0.5410 - val_acc: 0.7078\n",
            "Epoch 22/100\n",
            "128000/128000 [==============================] - 14s 107us/step - loss: 0.9744 - acc: 0.5793 - val_loss: 0.5415 - val_acc: 0.7036\n",
            "Epoch 23/100\n",
            "128000/128000 [==============================] - 14s 107us/step - loss: 0.9593 - acc: 0.5874 - val_loss: 0.5402 - val_acc: 0.7120\n",
            "Epoch 24/100\n",
            "128000/128000 [==============================] - 14s 107us/step - loss: 0.9492 - acc: 0.5932 - val_loss: 0.5347 - val_acc: 0.7036\n",
            "Epoch 25/100\n",
            "128000/128000 [==============================] - 14s 106us/step - loss: 0.9366 - acc: 0.5956 - val_loss: 0.5395 - val_acc: 0.7042\n",
            "Epoch 26/100\n",
            "128000/128000 [==============================] - 14s 107us/step - loss: 0.9206 - acc: 0.6020 - val_loss: 0.5427 - val_acc: 0.7181\n",
            "Epoch 27/100\n",
            "128000/128000 [==============================] - 14s 110us/step - loss: 0.9104 - acc: 0.6071 - val_loss: 0.5577 - val_acc: 0.7011\n",
            "Epoch 28/100\n",
            "128000/128000 [==============================] - 14s 107us/step - loss: 0.9015 - acc: 0.6095 - val_loss: 0.5659 - val_acc: 0.6957\n",
            "Epoch 29/100\n",
            "128000/128000 [==============================] - 14s 107us/step - loss: 0.8903 - acc: 0.6164 - val_loss: 0.5365 - val_acc: 0.7066\n",
            "Epoch 30/100\n",
            "128000/128000 [==============================] - 14s 107us/step - loss: 0.8782 - acc: 0.6220 - val_loss: 0.5385 - val_acc: 0.7054\n",
            "Epoch 31/100\n",
            "128000/128000 [==============================] - 14s 107us/step - loss: 0.8692 - acc: 0.6281 - val_loss: 0.5344 - val_acc: 0.7090\n",
            "Epoch 32/100\n",
            "128000/128000 [==============================] - 14s 106us/step - loss: 0.8621 - acc: 0.6302 - val_loss: 0.5614 - val_acc: 0.7060\n",
            "Epoch 33/100\n",
            "128000/128000 [==============================] - 14s 108us/step - loss: 0.8512 - acc: 0.6349 - val_loss: 0.5346 - val_acc: 0.7060\n",
            "Epoch 34/100\n",
            "128000/128000 [==============================] - 14s 106us/step - loss: 0.8421 - acc: 0.6388 - val_loss: 0.5587 - val_acc: 0.7090\n",
            "Epoch 35/100\n",
            "128000/128000 [==============================] - 14s 107us/step - loss: 0.8349 - acc: 0.6420 - val_loss: 0.5321 - val_acc: 0.7187\n",
            "Epoch 36/100\n",
            "128000/128000 [==============================] - 14s 108us/step - loss: 0.8219 - acc: 0.6482 - val_loss: 0.5571 - val_acc: 0.6999\n",
            "Epoch 37/100\n",
            "128000/128000 [==============================] - 14s 107us/step - loss: 0.8155 - acc: 0.6523 - val_loss: 0.5640 - val_acc: 0.7011\n",
            "Epoch 38/100\n",
            "128000/128000 [==============================] - 14s 106us/step - loss: 0.8125 - acc: 0.6549 - val_loss: 0.5383 - val_acc: 0.7084\n",
            "Epoch 39/100\n",
            "128000/128000 [==============================] - 14s 106us/step - loss: 0.8038 - acc: 0.6576 - val_loss: 0.5740 - val_acc: 0.6963\n",
            "Epoch 40/100\n",
            "128000/128000 [==============================] - 14s 106us/step - loss: 0.7936 - acc: 0.6624 - val_loss: 0.5507 - val_acc: 0.7078\n",
            "Epoch 41/100\n",
            "128000/128000 [==============================] - 14s 106us/step - loss: 0.7879 - acc: 0.6659 - val_loss: 0.5472 - val_acc: 0.7139\n",
            "Epoch 42/100\n",
            "128000/128000 [==============================] - 14s 106us/step - loss: 0.7812 - acc: 0.6701 - val_loss: 0.5533 - val_acc: 0.6993\n",
            "Epoch 43/100\n",
            "128000/128000 [==============================] - 14s 105us/step - loss: 0.7731 - acc: 0.6727 - val_loss: 0.5569 - val_acc: 0.7024\n",
            "Epoch 44/100\n",
            "128000/128000 [==============================] - 14s 106us/step - loss: 0.7679 - acc: 0.6749 - val_loss: 0.5564 - val_acc: 0.7066\n",
            "Epoch 45/100\n",
            "128000/128000 [==============================] - 14s 106us/step - loss: 0.7641 - acc: 0.6782 - val_loss: 0.5540 - val_acc: 0.7018\n",
            "Epoch 46/100\n",
            "128000/128000 [==============================] - 14s 106us/step - loss: 0.7547 - acc: 0.6813 - val_loss: 0.5735 - val_acc: 0.7005\n",
            "Epoch 47/100\n",
            "128000/128000 [==============================] - 14s 106us/step - loss: 0.7494 - acc: 0.6844 - val_loss: 0.5484 - val_acc: 0.6975\n",
            "Epoch 48/100\n",
            "128000/128000 [==============================] - 13s 105us/step - loss: 0.7451 - acc: 0.6872 - val_loss: 0.5553 - val_acc: 0.7157\n",
            "Epoch 49/100\n",
            "128000/128000 [==============================] - 14s 106us/step - loss: 0.7371 - acc: 0.6935 - val_loss: 0.5610 - val_acc: 0.7018\n",
            "Epoch 50/100\n",
            "128000/128000 [==============================] - 14s 107us/step - loss: 0.7343 - acc: 0.6912 - val_loss: 0.5797 - val_acc: 0.7084\n",
            "Epoch 51/100\n",
            "128000/128000 [==============================] - 13s 105us/step - loss: 0.7260 - acc: 0.6965 - val_loss: 0.5617 - val_acc: 0.7114\n",
            "Epoch 52/100\n",
            "128000/128000 [==============================] - 14s 106us/step - loss: 0.7235 - acc: 0.6977 - val_loss: 0.5662 - val_acc: 0.7084\n",
            "Epoch 53/100\n",
            "128000/128000 [==============================] - 14s 105us/step - loss: 0.7156 - acc: 0.7033 - val_loss: 0.5517 - val_acc: 0.7078\n",
            "Epoch 54/100\n",
            "128000/128000 [==============================] - 13s 105us/step - loss: 0.7135 - acc: 0.7054 - val_loss: 0.5630 - val_acc: 0.7126\n",
            "Epoch 55/100\n",
            "128000/128000 [==============================] - 14s 106us/step - loss: 0.7087 - acc: 0.7070 - val_loss: 0.5571 - val_acc: 0.7235\n",
            "Epoch 56/100\n",
            "128000/128000 [==============================] - 13s 105us/step - loss: 0.7014 - acc: 0.7091 - val_loss: 0.5624 - val_acc: 0.7211\n",
            "Epoch 57/100\n",
            "128000/128000 [==============================] - 14s 106us/step - loss: 0.6966 - acc: 0.7110 - val_loss: 0.5767 - val_acc: 0.7132\n",
            "Epoch 58/100\n",
            "128000/128000 [==============================] - 14s 107us/step - loss: 0.6952 - acc: 0.7151 - val_loss: 0.5694 - val_acc: 0.7151\n",
            "Epoch 59/100\n",
            "128000/128000 [==============================] - 13s 105us/step - loss: 0.6920 - acc: 0.7143 - val_loss: 0.5703 - val_acc: 0.7296\n",
            "Epoch 60/100\n",
            "128000/128000 [==============================] - 13s 105us/step - loss: 0.6865 - acc: 0.7172 - val_loss: 0.5506 - val_acc: 0.7217\n",
            "Epoch 61/100\n",
            "128000/128000 [==============================] - 13s 105us/step - loss: 0.6810 - acc: 0.7190 - val_loss: 0.5665 - val_acc: 0.7199\n",
            "Epoch 62/100\n",
            "128000/128000 [==============================] - 13s 105us/step - loss: 0.6799 - acc: 0.7210 - val_loss: 0.5668 - val_acc: 0.7048\n",
            "Epoch 63/100\n",
            "128000/128000 [==============================] - 13s 105us/step - loss: 0.6740 - acc: 0.7247 - val_loss: 0.5839 - val_acc: 0.7096\n",
            "Epoch 64/100\n",
            "128000/128000 [==============================] - 13s 105us/step - loss: 0.6730 - acc: 0.7251 - val_loss: 0.5652 - val_acc: 0.7114\n",
            "Epoch 65/100\n",
            "128000/128000 [==============================] - 13s 104us/step - loss: 0.6683 - acc: 0.7258 - val_loss: 0.5551 - val_acc: 0.7163\n",
            "Epoch 66/100\n",
            "128000/128000 [==============================] - 13s 105us/step - loss: 0.6650 - acc: 0.7282 - val_loss: 0.5612 - val_acc: 0.7205\n",
            "Epoch 67/100\n",
            "128000/128000 [==============================] - 13s 105us/step - loss: 0.6619 - acc: 0.7313 - val_loss: 0.5716 - val_acc: 0.7060\n",
            "Epoch 68/100\n",
            "128000/128000 [==============================] - 13s 105us/step - loss: 0.6565 - acc: 0.7345 - val_loss: 0.5765 - val_acc: 0.7181\n",
            "Epoch 69/100\n",
            "128000/128000 [==============================] - 13s 105us/step - loss: 0.6537 - acc: 0.7346 - val_loss: 0.5721 - val_acc: 0.7157\n",
            "Epoch 70/100\n",
            "128000/128000 [==============================] - 14s 107us/step - loss: 0.6497 - acc: 0.7377 - val_loss: 0.5716 - val_acc: 0.7157\n",
            "Epoch 71/100\n",
            "128000/128000 [==============================] - 14s 107us/step - loss: 0.6454 - acc: 0.7398 - val_loss: 0.5658 - val_acc: 0.7102\n",
            "Epoch 72/100\n",
            "128000/128000 [==============================] - 14s 108us/step - loss: 0.6428 - acc: 0.7389 - val_loss: 0.5828 - val_acc: 0.7175\n",
            "Epoch 73/100\n",
            "128000/128000 [==============================] - 14s 109us/step - loss: 0.6408 - acc: 0.7420 - val_loss: 0.5799 - val_acc: 0.7114\n",
            "Epoch 74/100\n",
            "128000/128000 [==============================] - 14s 108us/step - loss: 0.6367 - acc: 0.7450 - val_loss: 0.5872 - val_acc: 0.7084\n",
            "Epoch 75/100\n",
            "128000/128000 [==============================] - 14s 107us/step - loss: 0.6345 - acc: 0.7448 - val_loss: 0.5991 - val_acc: 0.7151\n",
            "Epoch 76/100\n",
            "128000/128000 [==============================] - 14s 107us/step - loss: 0.6308 - acc: 0.7465 - val_loss: 0.5860 - val_acc: 0.7102\n",
            "Epoch 77/100\n",
            "128000/128000 [==============================] - 14s 107us/step - loss: 0.6268 - acc: 0.7475 - val_loss: 0.5795 - val_acc: 0.7175\n",
            "Epoch 78/100\n",
            "128000/128000 [==============================] - 14s 107us/step - loss: 0.6259 - acc: 0.7494 - val_loss: 0.5812 - val_acc: 0.7120\n",
            "Epoch 79/100\n",
            "128000/128000 [==============================] - 14s 107us/step - loss: 0.6233 - acc: 0.7510 - val_loss: 0.5893 - val_acc: 0.7102\n",
            "Epoch 80/100\n",
            "128000/128000 [==============================] - 14s 107us/step - loss: 0.6213 - acc: 0.7511 - val_loss: 0.5809 - val_acc: 0.7181\n",
            "Epoch 81/100\n",
            "128000/128000 [==============================] - 14s 109us/step - loss: 0.6196 - acc: 0.7531 - val_loss: 0.5972 - val_acc: 0.7066\n",
            "Epoch 82/100\n",
            "128000/128000 [==============================] - 14s 107us/step - loss: 0.6141 - acc: 0.7553 - val_loss: 0.5844 - val_acc: 0.7120\n",
            "Epoch 83/100\n",
            "128000/128000 [==============================] - 14s 106us/step - loss: 0.6097 - acc: 0.7563 - val_loss: 0.5860 - val_acc: 0.7126\n",
            "Epoch 84/100\n",
            "128000/128000 [==============================] - 14s 107us/step - loss: 0.6126 - acc: 0.7564 - val_loss: 0.5872 - val_acc: 0.7078\n",
            "Epoch 85/100\n",
            "128000/128000 [==============================] - 14s 107us/step - loss: 0.6071 - acc: 0.7581 - val_loss: 0.5959 - val_acc: 0.7114\n",
            "Epoch 86/100\n",
            "128000/128000 [==============================] - 14s 107us/step - loss: 0.6066 - acc: 0.7590 - val_loss: 0.5852 - val_acc: 0.7175\n",
            "Epoch 87/100\n",
            "128000/128000 [==============================] - 14s 106us/step - loss: 0.6046 - acc: 0.7596 - val_loss: 0.5854 - val_acc: 0.7078\n",
            "Epoch 88/100\n",
            "128000/128000 [==============================] - 14s 106us/step - loss: 0.6064 - acc: 0.7597 - val_loss: 0.5891 - val_acc: 0.7090\n",
            "Epoch 89/100\n",
            "128000/128000 [==============================] - 14s 106us/step - loss: 0.5967 - acc: 0.7637 - val_loss: 0.5923 - val_acc: 0.7036\n",
            "Epoch 90/100\n",
            "128000/128000 [==============================] - 14s 106us/step - loss: 0.5937 - acc: 0.7654 - val_loss: 0.6025 - val_acc: 0.7151\n",
            "Epoch 91/100\n",
            "128000/128000 [==============================] - 14s 106us/step - loss: 0.5989 - acc: 0.7629 - val_loss: 0.6012 - val_acc: 0.7084\n",
            "Epoch 92/100\n",
            "128000/128000 [==============================] - 14s 106us/step - loss: 0.5895 - acc: 0.7673 - val_loss: 0.6051 - val_acc: 0.7108\n",
            "Epoch 93/100\n",
            "128000/128000 [==============================] - 14s 107us/step - loss: 0.5913 - acc: 0.7673 - val_loss: 0.6020 - val_acc: 0.7090\n",
            "Epoch 94/100\n",
            "128000/128000 [==============================] - 14s 107us/step - loss: 0.5896 - acc: 0.7676 - val_loss: 0.5873 - val_acc: 0.7132\n",
            "Epoch 95/100\n",
            "128000/128000 [==============================] - 14s 109us/step - loss: 0.5884 - acc: 0.7691 - val_loss: 0.5995 - val_acc: 0.7120\n",
            "Epoch 96/100\n",
            "128000/128000 [==============================] - 14s 107us/step - loss: 0.5819 - acc: 0.7717 - val_loss: 0.5960 - val_acc: 0.7229\n",
            "Epoch 97/100\n",
            "128000/128000 [==============================] - 14s 107us/step - loss: 0.5827 - acc: 0.7713 - val_loss: 0.6026 - val_acc: 0.7205\n",
            "Epoch 98/100\n",
            "128000/128000 [==============================] - 14s 107us/step - loss: 0.5822 - acc: 0.7717 - val_loss: 0.6026 - val_acc: 0.7096\n",
            "Epoch 99/100\n",
            "128000/128000 [==============================] - 14s 108us/step - loss: 0.5772 - acc: 0.7738 - val_loss: 0.6001 - val_acc: 0.7217\n",
            "Epoch 100/100\n",
            "128000/128000 [==============================] - 14s 107us/step - loss: 0.5755 - acc: 0.7748 - val_loss: 0.6113 - val_acc: 0.7096\n"
          ],
          "name": "stdout"
        }
      ]
    },
    {
      "cell_type": "markdown",
      "metadata": {
        "id": "OVFgwssVfxtd",
        "colab_type": "text"
      },
      "source": [
        "# Save model"
      ]
    },
    {
      "cell_type": "code",
      "metadata": {
        "id": "fKe0m_39HiWU",
        "colab_type": "code",
        "outputId": "e5f6b81d-44f0-4507-c431-a30ac216148e",
        "colab": {
          "base_uri": "https://localhost:8080/",
          "height": 34
        }
      },
      "source": [
        "dic = \"/content/drive/My Drive/Colab Notebooks/\"\n",
        "classifier.save(dic+f'SaveModel/ANN-330-330-330-330-ba{batch}-ep{epoch}-(dout=0.1)-input(AP)(SNR=all).h5')\n",
        "\n",
        "f = open(dic+f'SaveModel/ANN-330-330-330-330-ba{batch}-ep{epoch}-(dout=0.1)-input(AP)(SNR=all)-history.txt',\"w\")\n",
        "f.write( str(classifier.history.history) )\n",
        "f.close()\n",
        "\n",
        "print('Model Saved!')"
      ],
      "execution_count": 36,
      "outputs": [
        {
          "output_type": "stream",
          "text": [
            "Model Saved!\n"
          ],
          "name": "stdout"
        }
      ]
    },
    {
      "cell_type": "markdown",
      "metadata": {
        "id": "cNGu7HtyhGc2",
        "colab_type": "text"
      },
      "source": [
        "\n",
        "# Prediction(only SNR=18)"
      ]
    },
    {
      "cell_type": "code",
      "metadata": {
        "id": "6irYYHCZ6A2C",
        "colab_type": "code",
        "outputId": "cfe1a37d-39fa-40a7-dc55-cafd5f5f102e",
        "colab": {
          "base_uri": "https://localhost:8080/",
          "height": 84
        }
      },
      "source": [
        "y_pred = classifier.predict(X_test18)\n",
        "y_pred = np.argmax(y_pred, axis=1)\n",
        "\n",
        "y_real = np.argmax(y_test18, axis=1)\n",
        "# Making the Confusion Matrix\n",
        "from sklearn.metrics import confusion_matrix\n",
        "cm = confusion_matrix(y_real, y_pred)\n",
        "cm_norm = cm.astype('float') / cm.sum(axis=1)[:, np.newaxis]\n",
        "\n",
        "acc_test = classifier.evaluate(X_test18, y_test18)[1]\n",
        "acc_train = classifier.evaluate(X_train, y_train)[1]\n",
        "\n",
        "print(\"Acc Test : \", acc_test)\n",
        "print(\"Acc Train : \", acc_train)"
      ],
      "execution_count": 0,
      "outputs": [
        {
          "output_type": "stream",
          "text": [
            "1653/1653 [==============================] - 0s 23us/step\n",
            "128000/128000 [==============================] - 3s 23us/step\n",
            "Acc Test :  0.4996975198234851\n",
            "Acc Train :  0.479921875\n"
          ],
          "name": "stdout"
        }
      ]
    },
    {
      "cell_type": "markdown",
      "metadata": {
        "id": "seZ0vLFhjMOv",
        "colab_type": "text"
      },
      "source": [
        "#Cross_val(mean accuracy)"
      ]
    },
    {
      "cell_type": "code",
      "metadata": {
        "id": "oXeIQ_7HjTeC",
        "colab_type": "code",
        "colab": {}
      },
      "source": [
        "# Evaluating the ANN\n",
        "from keras.wrappers.scikit_learn import KerasClassifier\n",
        "from sklearn.model_selection import cross_val_score\n",
        "from keras.models import Sequential\n",
        "from keras.layers import Dense\n",
        "from keras.layers import Dropout\n",
        "\n",
        "def build_classifier():\n",
        "    classifier = Sequential()\n",
        "    classifier.add(Dense(units = 132, kernel_initializer = 'uniform', activation = 'relu', input_dim = 256))    \n",
        "    dout = 0.1\n",
        "    classifier.add(Dropout(p = dout))\n",
        "    classifier.add(Dense(units = 132, kernel_initializer = 'uniform', activation = 'relu'))\n",
        "    classifier.add(Dropout(p = dout))\n",
        "    classifier.add(Dense(units = 8, kernel_initializer = 'uniform', activation = 'softmax'))\n",
        "    classifier.compile(optimizer = 'adam', loss = 'categorical_crossentropy', metrics = ['accuracy'])\n",
        "    return classifier\n",
        "classifier = KerasClassifier(build_fn = build_classifier)\n",
        "batch = 10\n",
        "epoch = 25\n",
        "classifier = KerasClassifier(build_fn = build_classifier, batch_size = batch, epochs = epoch)\n",
        "# It is better test_size = 1 in Splitting the dataset part\n",
        "accuracies = cross_val_score(estimator = classifier, X = X_train, y = y_train, cv = 5, n_jobs = 1)\n",
        "mean = accuracies.mean()\n",
        "variance = accuracies.std()"
      ],
      "execution_count": 0,
      "outputs": []
    },
    {
      "cell_type": "markdown",
      "metadata": {
        "id": "E-G3camZi47h",
        "colab_type": "text"
      },
      "source": [
        "# Accuracy vs Droupout"
      ]
    },
    {
      "cell_type": "code",
      "metadata": {
        "id": "vC5FYw4Mi9mc",
        "colab_type": "code",
        "colab": {}
      },
      "source": [
        "from keras.wrappers.scikit_learn import KerasClassifier\n",
        "from sklearn.model_selection import cross_val_score\n",
        "from keras.models import Sequential\n",
        "from keras.layers import Dense\n",
        "from keras.layers import Dropout\n",
        "\n",
        "means = []\n",
        "for i in range(16):\n",
        "  def build_classifier():\n",
        "      classifier = Sequential()\n",
        "      classifier.add(Dense(units = 132, kernel_initializer = 'uniform', activation = 'relu', input_dim = 256))\n",
        "      dout = 0.05*i\n",
        "      classifier.add(Dropout(rate = dout))\n",
        "      classifier.add(Dense(units = 132, kernel_initializer = 'uniform', activation = 'relu'))\n",
        "      classifier.add(Dropout(rate = dout))\n",
        "      classifier.add(Dense(units = 8, kernel_initializer = 'uniform', activation = 'softmax'))\n",
        "      classifier.compile(optimizer = 'adam', loss = 'categorical_crossentropy', metrics = ['accuracy'])\n",
        "      return classifier\n",
        "\n",
        "  print(\"Dropout :\", 0.05*i)\n",
        "  batch = 10\n",
        "  epoch = 25\n",
        "  classifier = KerasClassifier(build_fn = build_classifier, batch_size = batch, epochs = epoch, verbose=0)\n",
        "  # It is better test_size = 1 in Splitting the dataset part\n",
        "  accuracies = cross_val_score(estimator = classifier, X = X_train, y = y_train, cv = 5, n_jobs = 1)\n",
        "  mean = accuracies.mean()\n",
        "  variance = accuracies.std()\n",
        "  print(mean)\n",
        "  means.append(mean)"
      ],
      "execution_count": 0,
      "outputs": []
    },
    {
      "cell_type": "code",
      "metadata": {
        "id": "_EDsmrFQ6gUC",
        "colab_type": "code",
        "colab": {}
      },
      "source": [
        "\n",
        "import matplotlib.pyplot as plt\n",
        "\n",
        "ax = plt.plot(d, means, 'ro')\n",
        "plt.grid()\n",
        "plt.title('Accuracy vs Dropout for ANN (SNR=18)')\n",
        "plt.xlabel('Dropout', fontsize=8)\n",
        "plt.ylabel('Accuracy', fontsize=8)\n",
        "plt.ylim([0.30,0.5])\n",
        "plt.yticks(np.arange(0.3, 0.5, step=0.02))\n",
        "\n",
        "\n",
        "dic = \"/content/drive/My Drive/Colab Notebooks/\"\n",
        "# fig = ax.get_figure()\n",
        "plt.savefig(dic+f\"/Pic/ANN-CrossVal(5)-132-132-ba{batch}-ep{epoch}(SNR={snr}).png\", dpi=175, bbox_inches='tight')\n",
        "plt.savefig(dic+f\"/Pic/ANN-CrossVal(5)-132-132-ba{batch}-ep{epoch}(SNR={snr}).eps\", bbox_inches='tight')\n",
        "\n",
        "print(\"Plot Saved!\")"
      ],
      "execution_count": 0,
      "outputs": []
    },
    {
      "cell_type": "markdown",
      "metadata": {
        "id": "ORPI905hhNfE",
        "colab_type": "text"
      },
      "source": [
        "# Grid Search"
      ]
    },
    {
      "cell_type": "code",
      "metadata": {
        "id": "JrHIolb35V1o",
        "colab_type": "code",
        "colab": {}
      },
      "source": [
        "# Tuning the ANN\n",
        "from keras.wrappers.scikit_learn import KerasClassifier\n",
        "from sklearn.model_selection import GridSearchCV\n",
        "from keras.models import Sequential\n",
        "from keras.layers import Dense, Dropout\n",
        "\n",
        "def build_classifier(n1):\n",
        "    classifier = Sequential()\n",
        "    classifier.add(Dense(units = n1, kernel_initializer = 'uniform', activation = 'relu', input_dim = 256))    \n",
        "    dout = 0.2\n",
        "    classifier.add(Dropout(p = dout))\n",
        "    classifier.add(Dense(units = n1, kernel_initializer = 'uniform', activation = 'relu'))\n",
        "    classifier.add(Dropout(p = dout))\n",
        "    classifier.add(Dense(units = 8, kernel_initializer = 'uniform', activation = 'softmax'))\n",
        "    classifier.compile(optimizer = 'adam', loss = 'categorical_crossentropy', metrics = ['accuracy'])\n",
        "    return classifier\n",
        "classifier = KerasClassifier(build_fn = build_classifier)\n",
        "parameters = {'batch_size': [10, 25, 50, 75, 100],\n",
        "              'epochs': [10, 20, 50, 100],\n",
        "              'optimizer': ['adam', 'rmsprop'],\n",
        "              'n1':[66, 99, 165, 198, 231, 264, 297 ,396],\n",
        "              'n2':[66, 99, 165, 198, 231, 264, 297 ,396]}\n",
        "\n",
        "parameters = {'n1':[66, 99, 165, 198, 231, 264, 297 ,396]}\n",
        "grid_search = GridSearchCV(estimator = classifier,\n",
        "                           param_grid = parameters,\n",
        "                           scoring = 'accuracy',\n",
        "                           cv = 2)\n",
        "\n",
        "grid_search = grid_search.fit(X_train, y_train)\n",
        "best_parameters = grid_search.best_params_\n",
        "best_accuracy = grid_search.best_score_\n",
        "\n",
        "print('best_parameters : ', best_parameters)\n",
        "print('best_accuracy : ', best_accuracy)"
      ],
      "execution_count": 0,
      "outputs": []
    },
    {
      "cell_type": "markdown",
      "metadata": {
        "id": "ShXqOJL47hCE",
        "colab_type": "text"
      },
      "source": [
        "# Plot Confusion Matrix"
      ]
    },
    {
      "cell_type": "code",
      "metadata": {
        "id": "-6AbLWccANuo",
        "colab_type": "code",
        "colab": {}
      },
      "source": [
        "import matplotlib.pyplot as plt\n",
        "import seaborn as sns\n",
        "from sklearn.metrics import confusion_matrix\n",
        "import pandas as pd\n",
        "\n",
        "modulation_order = []\n",
        "modulation_order_dict = dict()\n",
        "\n",
        "for key,value in output.items():\n",
        "    modulation_order_dict[np.argmax(value)] = str(key)\n",
        "    \n",
        "for i in range(8):\n",
        "    modulation_order.append(modulation_order_dict[i])\n",
        "    \n",
        "acc_test = classifier.evaluate(X_test18, y_test18)[1]\n",
        "acc_train = classifier.evaluate(X_train, y_train)[1]\n",
        "\n",
        "print(\"Acc Test : \", acc_test)\n",
        "print(\"Acc Train : \", acc_train)    "
      ],
      "execution_count": 0,
      "outputs": []
    },
    {
      "cell_type": "code",
      "metadata": {
        "id": "Vv5RzFyj_Cj1",
        "colab_type": "code",
        "outputId": "44865bed-b0ce-4bc4-8707-f2e7c7cfc528",
        "colab": {
          "base_uri": "https://localhost:8080/",
          "height": 1000
        }
      },
      "source": [
        "dic = \"/content/drive/My Drive/Colab Notebooks/\"\n",
        "acc = []\n",
        "\n",
        "for snr in snrList:\n",
        "  print('SNR: ', snr)\n",
        "    \n",
        "  y_test_snr = []\n",
        "  X_test_snr = []\n",
        "  for i in range(X_test.shape[0]):\n",
        "    if X_test[i,0,0] == int(snr):\n",
        "      X_test_snr.append(X_test[i])\n",
        "      y_test_snr.append(y_test[i])\n",
        "        \n",
        "  X_test_snr = np.array(X_test_snr)\n",
        "  y_test_snr = np.array(y_test_snr)        \n",
        "  X_test_snr = X_test_snr[:,:,1:]\n",
        "  \n",
        "  X_test_snr = X_test_snr.reshape([X_test_snr.shape[0],256])\n",
        "  X_test_snr = sc.transform(X_test_snr)\n",
        "  X_test_snr = X_test_snr.reshape([X_test_snr.shape[0],2,128])\n",
        "  \n",
        "  X_test_snr = X_test_snr.reshape([X_test_snr.shape[0],256]) # Only for ANN\n",
        "    \n",
        "  acc_test = classifier.evaluate(X_test_snr, y_test_snr)[1]\n",
        "  acc.append(acc_test)\n",
        "  print(acc_test)\n",
        "'''  \n",
        "  y_pred = classifier.predict(X_test_snr)\n",
        "  y_pred = np.argmax(y_pred, axis=1)\n",
        "\n",
        "  y_real = np.argmax(y_test_snr, axis=1)\n",
        "  # Making the Confusion Matrix\n",
        "  cm = confusion_matrix(y_real, y_pred)\n",
        "  cm_norm = cm.astype('float') / cm.sum(axis=1)[:, np.newaxis]\n",
        "    \n",
        "    \n",
        "  cmDataFrame = pd.DataFrame(cm_norm, index=modulation_order, columns = modulation_order)\n",
        "  plt.figure(figsize=(6, 5))\n",
        "  ax = sns.heatmap(cmDataFrame, annot=True, annot_kws={\"size\": 8}, fmt='.2f', linewidths=.5, cmap=\"Greens\")\n",
        "\n",
        "  plt.title(f\"ANN Confusion Matrix (SNR={snr})\")\n",
        "  plt.xlabel(\"Predicted label  \\n\\n TrainAcc={:.2}, TestAcc={:.2}\".format(acc_train,acc_test), fontsize=8)\n",
        "  plt.ylabel(\"True lable\", fontsize=8)\n",
        "  plt.setp(ax.get_xticklabels(), rotation=45, ha=\"right\",rotation_mode=\"anchor\", fontsize=8)\n",
        "  plt.setp(ax.get_yticklabels(), fontsize=8)\n",
        "  fig = ax.get_figure()\n",
        "\n",
        "  fig.savefig(dic+f\"/Pic/ANN/ANN-132-ba{batch}-ep{epoch}-(dout=0)-input(IQ)(SNR={snr}).png\", dpi=175, bbox_inches='tight')\n",
        "  fig.savefig(dic+f\"/Pic/ANN/ANN-132-ba{batch}-ep{epoch}-(dout=0)-input(IQ)(SNR={snr}).eps\", bbox_inches='tight')\n",
        "  print(\"Plot Saved!\")\n",
        "   \n",
        "\n",
        "  del(y_test_snr)\n",
        "  del(X_test_snr)\n",
        "'''      \n",
        "print(acc)    \n",
        "    "
      ],
      "execution_count": 49,
      "outputs": [
        {
          "output_type": "stream",
          "text": [
            "SNR:  -20\n",
            "1636/1636 [==============================] - 0s 81us/step\n",
            "0.12163814180929096\n",
            "SNR:  -18\n",
            "1630/1630 [==============================] - 0s 79us/step\n",
            "0.12269938655791839\n",
            "SNR:  -16\n",
            "1606/1606 [==============================] - 0s 86us/step\n",
            "0.12079701120797011\n",
            "SNR:  -14\n",
            "1633/1633 [==============================] - 0s 79us/step\n",
            "0.13655848132271892\n",
            "SNR:  -12\n",
            "1567/1567 [==============================] - 0s 87us/step\n",
            "0.1614550094202817\n",
            "SNR:  -10\n",
            "1561/1561 [==============================] - 0s 83us/step\n",
            "0.174247277371972\n",
            "SNR:  -8\n",
            "1605/1605 [==============================] - 0s 86us/step\n",
            "0.22118380062305296\n",
            "SNR:  -6\n",
            "1605/1605 [==============================] - 0s 84us/step\n",
            "0.3015576324730276\n",
            "SNR:  -4\n",
            "1600/1600 [==============================] - 0s 81us/step\n",
            "0.3975\n",
            "SNR:  -2\n",
            "1642/1642 [==============================] - 0s 82us/step\n",
            "0.5438489646046228\n",
            "SNR:  0\n",
            "1570/1570 [==============================] - 0s 81us/step\n",
            "0.6242038216560509\n",
            "SNR:  2\n",
            "1577/1577 [==============================] - 0s 82us/step\n",
            "0.638554216886368\n",
            "SNR:  4\n",
            "1555/1555 [==============================] - 0s 85us/step\n",
            "0.6418006430484857\n",
            "SNR:  6\n",
            "1598/1598 [==============================] - 0s 78us/step\n",
            "0.657071339211267\n",
            "SNR:  8\n",
            "1568/1568 [==============================] - 0s 80us/step\n",
            "0.6588010204081632\n",
            "SNR:  10\n",
            "1542/1542 [==============================] - 0s 80us/step\n",
            "0.6523994812319096\n",
            "SNR:  12\n",
            "1598/1598 [==============================] - 0s 82us/step\n",
            "0.66270337922403\n",
            "SNR:  14\n",
            "1616/1616 [==============================] - 0s 85us/step\n",
            "0.6547029702970297\n",
            "SNR:  16\n",
            "1638/1638 [==============================] - 0s 81us/step\n",
            "0.6678876679604452\n",
            "SNR:  18\n",
            "1653/1653 [==============================] - 0s 82us/step\n",
            "0.6636418635312962\n",
            "[0.12163814180929096, 0.12269938655791839, 0.12079701120797011, 0.13655848132271892, 0.1614550094202817, 0.174247277371972, 0.22118380062305296, 0.3015576324730276, 0.3975, 0.5438489646046228, 0.6242038216560509, 0.638554216886368, 0.6418006430484857, 0.657071339211267, 0.6588010204081632, 0.6523994812319096, 0.66270337922403, 0.6547029702970297, 0.6678876679604452, 0.6636418635312962]\n"
          ],
          "name": "stdout"
        }
      ]
    },
    {
      "cell_type": "markdown",
      "metadata": {
        "id": "uqzr8Yei2vp1",
        "colab_type": "text"
      },
      "source": [
        "Vs SNR if **AmpPhas**"
      ]
    },
    {
      "cell_type": "code",
      "metadata": {
        "id": "ChOWgrSYHMmB",
        "colab_type": "code",
        "colab": {
          "base_uri": "https://localhost:8080/",
          "height": 1000
        },
        "outputId": "1cf89152-f20e-490a-b055-25b9f1e4b592"
      },
      "source": [
        "acc = []\n",
        "\n",
        "for snr in snrList:\n",
        "  print('SNR: ', snr)\n",
        "    \n",
        "  y_test_snr = []\n",
        "  X_test_snr = []\n",
        "  for i in range(X_test.shape[0]):\n",
        "    if X_test[i,0,0] == int(snr):\n",
        "      X_test_snr.append(X_test[i])\n",
        "      y_test_snr.append(y_test[i])\n",
        "        \n",
        "  X_test_snr = np.array(X_test_snr)\n",
        "  y_test_snr = np.array(y_test_snr)        \n",
        "  X_test_snr = X_test_snr[:,:,1:]\n",
        "  \n",
        "  X_cmplx = X_test_snr[:,0,:] + 1j* X_test_snr[:,1,:]    \n",
        "  X_amp = np.abs(X_cmplx)\n",
        "  X_ang = np.arctan2(X_test_snr[:,1,:],X_test_snr[:,0,:]) / np.pi\n",
        "        \n",
        "  X_amp = np.reshape(X_amp,(-1,1,128))\n",
        "  X_ang = np.reshape(X_ang,(-1,1,128))\n",
        "        \n",
        "  X_test_snr = np.concatenate((X_amp,X_ang), axis=1) \n",
        "  \n",
        "  \n",
        "  \n",
        "  X_test_snr = X_test_snr.reshape([X_test_snr.shape[0],256])\n",
        "  X_test_snr = sc.transform(X_test_snr)\n",
        "  X_test_snr = X_test_snr.reshape([X_test_snr.shape[0],2,128])\n",
        "  \n",
        "  X_test_snr = X_test_snr.reshape([X_test_snr.shape[0],256]) # Only for ANN\n",
        "    \n",
        "  acc_test = classifier.evaluate(X_test_snr, y_test_snr)[1]\n",
        "  acc.append(acc_test)\n",
        "  print(acc_test)\n",
        "    \n",
        "print(acc)    \n",
        "\n"
      ],
      "execution_count": 37,
      "outputs": [
        {
          "output_type": "stream",
          "text": [
            "SNR:  -20\n",
            "1636/1636 [==============================] - 0s 60us/step\n",
            "0.13753056234718827\n",
            "SNR:  -18\n",
            "1630/1630 [==============================] - 0s 55us/step\n",
            "0.11411042950270366\n",
            "SNR:  -16\n",
            "1606/1606 [==============================] - 0s 60us/step\n",
            "0.12640099626400997\n",
            "SNR:  -14\n",
            "1633/1633 [==============================] - 0s 61us/step\n",
            "0.13717085119412126\n",
            "SNR:  -12\n",
            "1567/1567 [==============================] - 0s 57us/step\n",
            "0.13146139115532568\n",
            "SNR:  -10\n",
            "1561/1561 [==============================] - 0s 59us/step\n",
            "0.1575912876552225\n",
            "SNR:  -8\n",
            "1605/1605 [==============================] - 0s 58us/step\n",
            "0.17009345795320946\n",
            "SNR:  -6\n",
            "1605/1605 [==============================] - 0s 52us/step\n",
            "0.2529595015669166\n",
            "SNR:  -4\n",
            "1600/1600 [==============================] - 0s 52us/step\n",
            "0.28375\n",
            "SNR:  -2\n",
            "1642/1642 [==============================] - 0s 56us/step\n",
            "0.4226552984891652\n",
            "SNR:  0\n",
            "1570/1570 [==============================] - 0s 58us/step\n",
            "0.532484076433121\n",
            "SNR:  2\n",
            "1577/1577 [==============================] - 0s 60us/step\n",
            "0.639822447723275\n",
            "SNR:  4\n",
            "1555/1555 [==============================] - 0s 59us/step\n",
            "0.6932475885777611\n",
            "SNR:  6\n",
            "1598/1598 [==============================] - 0s 57us/step\n",
            "0.7008760948951015\n",
            "SNR:  8\n",
            "1568/1568 [==============================] - 0s 52us/step\n",
            "0.7066326530612245\n",
            "SNR:  10\n",
            "1542/1542 [==============================] - 0s 50us/step\n",
            "0.7094682230869002\n",
            "SNR:  12\n",
            "1598/1598 [==============================] - 0s 49us/step\n",
            "0.6952440549196379\n",
            "SNR:  14\n",
            "1616/1616 [==============================] - 0s 52us/step\n",
            "0.7308168316831684\n",
            "SNR:  16\n",
            "1638/1638 [==============================] - 0s 54us/step\n",
            "0.7234432234432234\n",
            "SNR:  18\n",
            "1653/1653 [==============================] - 0s 55us/step\n",
            "0.7096188750616075\n",
            "[0.13753056234718827, 0.11411042950270366, 0.12640099626400997, 0.13717085119412126, 0.13146139115532568, 0.1575912876552225, 0.17009345795320946, 0.2529595015669166, 0.28375, 0.4226552984891652, 0.532484076433121, 0.639822447723275, 0.6932475885777611, 0.7008760948951015, 0.7066326530612245, 0.7094682230869002, 0.6952440549196379, 0.7308168316831684, 0.7234432234432234, 0.7096188750616075]\n"
          ],
          "name": "stdout"
        }
      ]
    },
    {
      "cell_type": "code",
      "metadata": {
        "id": "wJdL7PP_7jir",
        "colab_type": "code",
        "outputId": "9e1551a0-3245-4dd4-facb-eed6ebf300e7",
        "colab": {
          "base_uri": "https://localhost:8080/",
          "height": 386
        }
      },
      "source": [
        "import matplotlib.pyplot as plt\n",
        "import seaborn as sns\n",
        "import pandas as pd\n",
        "\n",
        "modulation_order = []\n",
        "modulation_order_dict = dict()\n",
        "\n",
        "for key,value in output.items():\n",
        "    modulation_order_dict[np.argmax(value)] = str(key)\n",
        "    \n",
        "for i in range(8):\n",
        "    modulation_order.append(modulation_order_dict[i])\n",
        "    \n",
        "    \n",
        "    \n",
        "cmDataFrame = pd.DataFrame(cm_norm, index=modulation_order, columns = modulation_order)\n",
        "plt.figure(figsize=(6, 5))\n",
        "ax = sns.heatmap(cmDataFrame, annot=True, annot_kws={\"size\": 8}, fmt='.2f', linewidths=.5, cmap=\"Greens\")\n",
        "\n",
        "plt.title(f\"AANN Confusion Matrix (SNR={snr})\")\n",
        "plt.xlabel(\"Predicted label  \\n\\n TrainAcc={:.2}, TestAcc={:.2}\".format(acc_train,acc_test), fontsize=8)\n",
        "plt.ylabel(\"True lable\", fontsize=8)\n",
        "plt.setp(ax.get_xticklabels(), rotation=45, ha=\"right\",rotation_mode=\"anchor\", fontsize=8)\n",
        "plt.setp(ax.get_yticklabels(), fontsize=8)\n",
        "fig = ax.get_figure()"
      ],
      "execution_count": 0,
      "outputs": [
        {
          "output_type": "display_data",
          "data": {
            "image/png": "[encoded data removed]",
            "text/plain": [
              "<Figure size 432x360 with 2 Axes>"
            ]
          },
          "metadata": {
            "tags": []
          }
        }
      ]
    },
    {
      "cell_type": "code",
      "metadata": {
        "id": "x8eHSHvA7_ud",
        "colab_type": "code",
        "colab": {}
      },
      "source": [
        "dic = \"/content/drive/My Drive/Colab Notebooks/\"\n",
        "fig.savefig(dic+f\"/Pic/ANN/ANN-132-ba{batch}-ep{epoch}-(dout=0)-(SNR={snr}).png\", dpi=175, bbox_inches='tight')\n",
        "print(\"Plot Saved!\")"
      ],
      "execution_count": 0,
      "outputs": []
    },
    {
      "cell_type": "markdown",
      "metadata": {
        "id": "XRGfQj5oJH9B",
        "colab_type": "text"
      },
      "source": [
        "# Plot Model"
      ]
    },
    {
      "cell_type": "code",
      "metadata": {
        "id": "IJx_GdLiJG2R",
        "colab_type": "code",
        "colab": {}
      },
      "source": [
        "import keras\n",
        "import pydot\n",
        "import pydotplus\n",
        "from keras.utils.vis_utils import model_to_dot\n",
        "from keras.utils import plot_model\n",
        "keras.utils.vis_utils.pydot = pydot\n",
        "file = ''\n",
        "plot_model(classifier,show_shapes=True,show_layer_names=False, to_file='model.png' , rankdir='LR')\n",
        "plot_model(classifier,show_shapes=True,show_layer_names=False, to_file='model.eps' , rankdir='LR')\n"
      ],
      "execution_count": 0,
      "outputs": []
    },
    {
      "cell_type": "markdown",
      "metadata": {
        "id": "9_d7UlrRJTdJ",
        "colab_type": "text"
      },
      "source": [
        "# Plot accuracy and loss"
      ]
    },
    {
      "cell_type": "code",
      "metadata": {
        "id": "Ofyw4cqWJZQD",
        "colab_type": "code",
        "colab": {}
      },
      "source": [
        "import matplotlib.pyplot as plt\n",
        "def plot_history(history):\n",
        "    loss_list = [s for s in history.history.keys() if 'loss' in s and 'val' not in s]\n",
        "    val_loss_list = [s for s in history.history.keys() if 'loss' in s and 'val' in s]\n",
        "    acc_list = [s for s in history.history.keys() if 'acc' in s and 'val' not in s]\n",
        "    val_acc_list = [s for s in history.history.keys() if 'acc' in s and 'val' in s]\n",
        "    \n",
        "    if len(loss_list) == 0:\n",
        "        print('Loss is missing in history')\n",
        "        return \n",
        "    \n",
        "    ## As loss always exists\n",
        "    epochs = range(1,len(history.history[loss_list[0]]) + 1)\n",
        "    \n",
        "    ## Loss\n",
        "    plt.figure(1)\n",
        "    for l in loss_list:\n",
        "        plt.plot(epochs, history.history[l], 'b', label='Training loss (' + str(str(format(history.history[l][-1],'.5f'))+')'))\n",
        "    for l in val_loss_list:\n",
        "        plt.plot(epochs, history.history[l], 'g', label='Validation loss (' + str(str(format(history.history[l][-1],'.5f'))+')'))  \n",
        "    \n",
        "    plt.title('Loss')\n",
        "    plt.xlabel('Epochs')\n",
        "    plt.ylabel('Loss')\n",
        "    plt.legend()\n",
        "    \n",
        "    ## Accuracy\n",
        "    plt.figure(2)\n",
        "    for l in acc_list:\n",
        "        plt.plot(epochs, history.history[l], 'b', label='Training accuracy (' + str(format(history.history[l][-1],'.5f'))+')')\n",
        "    for l in val_acc_list:    \n",
        "        plt.plot(epochs, history.history[l], 'g', label='Validation accuracy (' + str(format(history.history[l][-1],'.5f'))+')')\n",
        "\n",
        "    plt.title('Accuracy')\n",
        "    plt.xlabel('Epochs')\n",
        "    plt.ylabel('Accuracy')\n",
        "    plt.legend()\n",
        "    plt.show()\n"
      ],
      "execution_count": 0,
      "outputs": []
    },
    {
      "cell_type": "code",
      "metadata": {
        "id": "LvZtjPOeJadx",
        "colab_type": "code",
        "outputId": "5695fa05-c8cd-4ed7-a51f-a2d5a537baf5",
        "colab": {
          "base_uri": "https://localhost:8080/",
          "height": 574
        }
      },
      "source": [
        "plot_history(classifier.history)"
      ],
      "execution_count": 0,
      "outputs": [
        {
          "output_type": "display_data",
          "data": {
            "image/png": "[encoded data removed]",
            "text/plain": [
              "<Figure size 432x288 with 1 Axes>"
            ]
          },
          "metadata": {
            "tags": []
          }
        },
        {
          "output_type": "display_data",
          "data": {
            "image/png": "[encoded data removed]",
            "text/plain": [
              "<Figure size 432x288 with 1 Axes>"
            ]
          },
          "metadata": {
            "tags": []
          }
        }
      ]
    },
    {
      "cell_type": "code",
      "metadata": {
        "id": "4YwGx5eVtNHf",
        "colab_type": "code",
        "outputId": "3d9754d3-7ab8-4366-ac41-3f10c9b41106",
        "colab": {
          "base_uri": "https://localhost:8080/",
          "height": 34
        }
      },
      "source": [
        "from keras.models import load_model\n",
        "dic = \"/content/drive/My Drive/Colab Notebooks/\"\n",
        "\n",
        "model = load_model(dic+f'SaveModel/ANN-264-264-264-264-ba{batch}-ep{epoch}-(dout=0.1)-input(AP)(SNR=all).h5')\n",
        "\n",
        "print('Model loaded!')"
      ],
      "execution_count": 30,
      "outputs": [
        {
          "output_type": "stream",
          "text": [
            "Model loaded!\n"
          ],
          "name": "stdout"
        }
      ]
    },
    {
      "cell_type": "code",
      "metadata": {
        "id": "6pAIUxXfoxJD",
        "colab_type": "code",
        "outputId": "0542dfe1-4406-42e1-a4c0-620e9565761a",
        "colab": {
          "base_uri": "https://localhost:8080/",
          "height": 1000
        }
      },
      "source": [
        "classifier = model\n",
        "model.get_config()\n",
        "\n",
        "\n",
        "\n"
      ],
      "execution_count": 31,
      "outputs": [
        {
          "output_type": "execute_result",
          "data": {
            "text/plain": [
              "{'layers': [{'class_name': 'Dense',\n",
              "   'config': {'activation': 'relu',\n",
              "    'activity_regularizer': None,\n",
              "    'batch_input_shape': (None, 256),\n",
              "    'bias_constraint': None,\n",
              "    'bias_initializer': {'class_name': 'Zeros', 'config': {}},\n",
              "    'bias_regularizer': None,\n",
              "    'dtype': 'float32',\n",
              "    'kernel_constraint': None,\n",
              "    'kernel_initializer': {'class_name': 'RandomUniform',\n",
              "     'config': {'maxval': 0.05, 'minval': -0.05, 'seed': None}},\n",
              "    'kernel_regularizer': None,\n",
              "    'name': 'dense_11',\n",
              "    'trainable': True,\n",
              "    'units': 264,\n",
              "    'use_bias': True}},\n",
              "  {'class_name': 'Dropout',\n",
              "   'config': {'name': 'dropout_9',\n",
              "    'noise_shape': None,\n",
              "    'rate': 0.1,\n",
              "    'seed': None,\n",
              "    'trainable': True}},\n",
              "  {'class_name': 'Dense',\n",
              "   'config': {'activation': 'relu',\n",
              "    'activity_regularizer': None,\n",
              "    'bias_constraint': None,\n",
              "    'bias_initializer': {'class_name': 'Zeros', 'config': {}},\n",
              "    'bias_regularizer': None,\n",
              "    'kernel_constraint': None,\n",
              "    'kernel_initializer': {'class_name': 'RandomUniform',\n",
              "     'config': {'maxval': 0.05, 'minval': -0.05, 'seed': None}},\n",
              "    'kernel_regularizer': None,\n",
              "    'name': 'dense_12',\n",
              "    'trainable': True,\n",
              "    'units': 264,\n",
              "    'use_bias': True}},\n",
              "  {'class_name': 'Dropout',\n",
              "   'config': {'name': 'dropout_10',\n",
              "    'noise_shape': None,\n",
              "    'rate': 0.1,\n",
              "    'seed': None,\n",
              "    'trainable': True}},\n",
              "  {'class_name': 'Dense',\n",
              "   'config': {'activation': 'relu',\n",
              "    'activity_regularizer': None,\n",
              "    'bias_constraint': None,\n",
              "    'bias_initializer': {'class_name': 'Zeros', 'config': {}},\n",
              "    'bias_regularizer': None,\n",
              "    'kernel_constraint': None,\n",
              "    'kernel_initializer': {'class_name': 'RandomUniform',\n",
              "     'config': {'maxval': 0.05, 'minval': -0.05, 'seed': None}},\n",
              "    'kernel_regularizer': None,\n",
              "    'name': 'dense_13',\n",
              "    'trainable': True,\n",
              "    'units': 264,\n",
              "    'use_bias': True}},\n",
              "  {'class_name': 'Dropout',\n",
              "   'config': {'name': 'dropout_11',\n",
              "    'noise_shape': None,\n",
              "    'rate': 0.1,\n",
              "    'seed': None,\n",
              "    'trainable': True}},\n",
              "  {'class_name': 'Dense',\n",
              "   'config': {'activation': 'relu',\n",
              "    'activity_regularizer': None,\n",
              "    'bias_constraint': None,\n",
              "    'bias_initializer': {'class_name': 'Zeros', 'config': {}},\n",
              "    'bias_regularizer': None,\n",
              "    'kernel_constraint': None,\n",
              "    'kernel_initializer': {'class_name': 'RandomUniform',\n",
              "     'config': {'maxval': 0.05, 'minval': -0.05, 'seed': None}},\n",
              "    'kernel_regularizer': None,\n",
              "    'name': 'dense_14',\n",
              "    'trainable': True,\n",
              "    'units': 264,\n",
              "    'use_bias': True}},\n",
              "  {'class_name': 'Dropout',\n",
              "   'config': {'name': 'dropout_12',\n",
              "    'noise_shape': None,\n",
              "    'rate': 0.1,\n",
              "    'seed': None,\n",
              "    'trainable': True}},\n",
              "  {'class_name': 'Dense',\n",
              "   'config': {'activation': 'softmax',\n",
              "    'activity_regularizer': None,\n",
              "    'bias_constraint': None,\n",
              "    'bias_initializer': {'class_name': 'Zeros', 'config': {}},\n",
              "    'bias_regularizer': None,\n",
              "    'kernel_constraint': None,\n",
              "    'kernel_initializer': {'class_name': 'RandomUniform',\n",
              "     'config': {'maxval': 0.05, 'minval': -0.05, 'seed': None}},\n",
              "    'kernel_regularizer': None,\n",
              "    'name': 'dense_15',\n",
              "    'trainable': True,\n",
              "    'units': 8,\n",
              "    'use_bias': True}}],\n",
              " 'name': 'sequential_3'}"
            ]
          },
          "metadata": {
            "tags": []
          },
          "execution_count": 31
        }
      ]
    }
  ]
}