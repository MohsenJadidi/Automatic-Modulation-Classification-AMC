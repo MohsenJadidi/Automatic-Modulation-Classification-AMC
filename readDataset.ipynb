{
  "nbformat": 4,
  "nbformat_minor": 0,
  "metadata": {
    "colab": {
      "name": "readDataset.ipynb",
      "version": "0.3.2",
      "provenance": [],
      "collapsed_sections": [],
      "include_colab_link": true
    },
    "kernelspec": {
      "name": "python3",
      "display_name": "Python 3"
    }
  },
  "cells": [
    {
      "cell_type": "markdown",
      "metadata": {
        "id": "view-in-github",
        "colab_type": "text"
      },
      "source": [
        "<a href=\"https://colab.research.google.com/github/MohsenJadidi/Automatic-Modulation-Classification-AMC/blob/master/readDataset.ipynb\" target=\"_parent\"><img src=\"https://colab.research.google.com/assets/colab-badge.svg\" alt=\"Open In Colab\"/></a>"
      ]
    },
    {
      "cell_type": "code",
      "metadata": {
        "id": "8ZBIlU83Q0BN",
        "colab_type": "code",
        "colab": {}
      },
      "source": [
        "import pickle\n",
        "import numpy as np\n",
        "\n",
        "def readDataset(filename):\n",
        "    with open(filename,'rb') as f:\n",
        "    #with open('2016.04C.multisnr.pkl','rb') as f:\n",
        "      data = pickle.load(f,encoding='bytes')        # for example use data[(b'8PSK', -20)]\n",
        "    \n",
        "    # Print kinds modulation\n",
        "    # print([ str(l[0], 'ascii') +' snr='+str(l[1]) for l in data.keys()])\n",
        "      \n",
        "    X = []\n",
        "    labels = [] # label each example by a pair (modulation type, snr)\n",
        "    total_examples = 0\n",
        "    analog = [b'AM-DSB', b'AM-SSB', b'WBFM']\n",
        "    \n",
        "    for mod_type, snr in data.keys():\n",
        "        if (mod_type not in analog):      \n",
        "            current_matrix = data[(mod_type, snr)]        \n",
        "            total_examples += current_matrix.shape[0]\n",
        "            for i in range(current_matrix.shape[0]):\n",
        "                X.append(current_matrix[i])\n",
        "                labels.append((str(mod_type, 'ascii'), snr)) # mod_type is of type bytes\n",
        "        \n",
        "    X = np.array(X)         # First row is QPSK snr=2, seconde is PAM4 snr=8 , ...\n",
        "    labels = np.array(labels)\n",
        "    \n",
        "    y = labels[:,0]\n",
        "\n",
        "    print(f'loaded {total_examples} signal vectors into X{X.shape} and their corresponding'\n",
        "          f' labels into labels{labels.shape}')  \n",
        "    # print(np.unique(labels[:,0]))\n",
        "    \n",
        "    # Encoding categorical data\n",
        "    from sklearn.preprocessing import LabelEncoder, OneHotEncoder\n",
        "    labelencoder_y = LabelEncoder()\n",
        "    y = labelencoder_y.fit_transform(y)\n",
        "    onehotencoder = OneHotEncoder()\n",
        "    y = onehotencoder.fit_transform(y.reshape(-1,1)).toarray()\n",
        "\n",
        "    return X, y, labels\n",
        "\n"
      ],
      "execution_count": 0,
      "outputs": []
    }
  ]
}