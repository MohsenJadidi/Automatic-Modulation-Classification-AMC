{
  "nbformat": 4,
  "nbformat_minor": 0,
  "metadata": {
    "colab": {
      "name": "DenseNet.ipynb",
      "version": "0.3.2",
      "provenance": [],
      "collapsed_sections": [],
      "include_colab_link": true
    },
    "kernelspec": {
      "name": "python3",
      "display_name": "Python 3"
    },
    "accelerator": "GPU"
  },
  "cells": [
    {
      "cell_type": "markdown",
      "metadata": {
        "id": "view-in-github",
        "colab_type": "text"
      },
      "source": [
        "<a href=\"https://colab.research.google.com/github/MohsenJadidi/Automatic-Modulation-Classification-AMC/blob/master/DenseNet.ipynb\" target=\"_parent\"><img src=\"https://colab.research.google.com/assets/colab-badge.svg\" alt=\"Open In Colab\"/></a>"
      ]
    },
    {
      "cell_type": "code",
      "metadata": {
        "id": "m0dBrWRWh7UO",
        "colab_type": "code",
        "colab": {
          "base_uri": "https://localhost:8080/",
          "height": 34
        },
        "outputId": "899fcc9f-4f7f-4175-ff83-ea3b2e5113e9"
      },
      "source": [
        "from google.colab import drive\n",
        "drive.mount('/content/drive')"
      ],
      "execution_count": 1,
      "outputs": [
        {
          "output_type": "stream",
          "text": [
            "Drive already mounted at /content/drive; to attempt to forcibly remount, call drive.mount(\"/content/drive\", force_remount=True).\n"
          ],
          "name": "stdout"
        }
      ]
    },
    {
      "cell_type": "markdown",
      "metadata": {
        "id": "UR0ATiKBk6rG",
        "colab_type": "text"
      },
      "source": [
        "# Importing the dataset (Copy from CNN.ipynb and merge cells)"
      ]
    },
    {
      "cell_type": "code",
      "metadata": {
        "id": "JfzzfiDSuxMs",
        "colab_type": "code",
        "colab": {
          "base_uri": "https://localhost:8080/",
          "height": 289
        },
        "outputId": "1cf8c178-6a79-4208-bce7-c3960e78b181"
      },
      "source": [
        "import pickle\n",
        "fileName = 'RML2016.10a_dict.pkl'\n",
        "with open(\"/content/drive/My Drive/Colab Notebooks/\"+fileName,'rb') as f:\n",
        "  data = pickle.load(f,encoding='bytes')\n",
        " \n",
        "\n",
        "import numpy as np\n",
        "X = []\n",
        "labels = [] # label each example by a pair (modulation type, snr)\n",
        "total_examples = 0\n",
        "analog = [b'AM-DSB', b'AM-SSB', b'WBFM']\n",
        "\n",
        "for mod_type, snr in data.keys():\n",
        "    if (mod_type not in analog):      \n",
        "        current_matrix = data[(mod_type, snr)]        \n",
        "        total_examples += current_matrix.shape[0]\n",
        "        for i in range(current_matrix.shape[0]):\n",
        "            X.append(current_matrix[i])\n",
        "            labels.append((str(mod_type, 'ascii'), snr)) # mod_type is of type bytes\n",
        "    \n",
        "X = np.array(X)         # First row is QPSK snr=2, seconde is PAM4 snr=8 , ...\n",
        "labels = np.array(labels)\n",
        "\n",
        "y = labels[:,0]\n",
        "\n",
        "print(f'loaded {total_examples} signal vectors into X{X.shape} and their corresponding'\n",
        "      f' labels into labels{labels.shape}')  \n",
        "# print(np.unique(labels[:,0]))\n",
        "\n",
        "\n",
        "# Encoding categorical data\n",
        "from sklearn.preprocessing import LabelEncoder, OneHotEncoder\n",
        "labelencoder_y = LabelEncoder()\n",
        "y = labelencoder_y.fit_transform(y)\n",
        "onehotencoder = OneHotEncoder()\n",
        "y = onehotencoder.fit_transform(y.reshape(-1,1)).toarray()\n",
        "\n",
        "\n",
        "snrList = [str(2*i-20) for i in range(20)]  # snrList = -20, -18, -16 , ... ,0, ... ,18\n",
        "snr = snrList[19]\n",
        "numberOfEachExamples = 1000\n",
        "print(\"SNR :\", snr)\n",
        "\n",
        "output = [[labels[i*numberOfEachExamples, 0],y[i*numberOfEachExamples]] for i in range(int(X.shape[0]/numberOfEachExamples))]\n",
        "output = dict(output)\n",
        "\n",
        "Xsnr = np.zeros(shape=(X.shape[0],X.shape[1],X.shape[2]+1))\n",
        "for i in range(X.shape[0]):\n",
        "    snr = int(labels[i,1])\n",
        "    Xsnr[i,0,:] = np.insert(X[i,0,:],0,snr)\n",
        "    Xsnr[i,1,:] = np.insert(X[i,1,:],0,snr)\n",
        "    \n",
        "print(Xsnr.shape)\n",
        "\n",
        "###### Splitting the dataset into the Training set and Test set ######\n",
        "from sklearn.model_selection import train_test_split\n",
        "X_train, X_test, y_train, y_test = train_test_split(Xsnr, y, test_size = 0.2, random_state = 0)\n",
        "# The below line better for Cross_val part\n",
        "#X_train, X_test, y_train, y_test = train_test_split(Xsnr, y, test_size = 1, random_state = 0)\n",
        "\n",
        "print(X_train.shape)\n",
        "print(X_test.shape)\n",
        "\n",
        "\n",
        "X_train = X_train[:,:,1:] # snr important for train\n",
        "\n",
        "y_test18 = []\n",
        "X_test18 = []\n",
        "\n",
        "for i in range(X_test.shape[0]):\n",
        "    if X_test[i,0,0] == 18:\n",
        "        X_test18.append(X_test[i])\n",
        "        y_test18.append(y_test[i])\n",
        "        \n",
        "X_test18 = np.array(X_test18)\n",
        "y_test18 = np.array(y_test18)        \n",
        "X_test18 = X_test18[:,:,1:]\n",
        "\n",
        "\n",
        "print(X_train.shape)\n",
        "print(X_test18.shape)\n",
        "\n",
        "\n",
        "# Change IQ to amplitude and phase\n",
        "X_cmplx = X_train[:,0,:] + 1j* X_train[:,1,:]    \n",
        "X_amp = np.abs(X_cmplx)\n",
        "X_ang = np.arctan2(X_train[:,1,:],X_train[:,0,:]) / np.pi\n",
        "    \n",
        "X_amp = np.reshape(X_amp,(-1,1,128))\n",
        "X_ang = np.reshape(X_ang,(-1,1,128))\n",
        "    \n",
        "X_train_AmpPhs = np.concatenate((X_amp,X_ang), axis=1) \n",
        "##\n",
        "X_cmplx = X_test18[:,0,:] + 1j* X_test18[:,1,:]    \n",
        "X_amp = np.abs(X_cmplx)\n",
        "X_ang = np.arctan2(X_test18[:,1,:],X_test18[:,0,:]) / np.pi\n",
        "    \n",
        "X_amp = np.reshape(X_amp,(-1,1,128))\n",
        "X_ang = np.reshape(X_ang,(-1,1,128))\n",
        "    \n",
        "X_test18_AmpPhs = np.concatenate((X_amp,X_ang), axis=1) \n",
        "##\n",
        "\n",
        "print(X_train_AmpPhs.shape)\n",
        "print(X_test18_AmpPhs.shape)\n",
        "\n",
        "\n",
        "from sklearn.preprocessing import StandardScaler\n",
        "sc = StandardScaler()\n",
        "X_train = X_train.reshape([X_train.shape[0],256])\n",
        "#X_train = X_train_AmpPhs.reshape([X_train.shape[0],256])\n",
        "X_train = sc.fit_transform(X_train)\n",
        "X_train = X_train.reshape([X_train.shape[0],2,128])\n",
        "#X_test = X_test.reshape([1600,256])\n",
        "X_test18 = X_test18.reshape([X_test18.shape[0],256])\n",
        "#X_test18 = X_test18_AmpPhs.reshape([X_test18.shape[0],256])\n",
        "X_test18 = sc.transform(X_test18)\n",
        "X_test18 = X_test18.reshape([X_test18.shape[0],2,128])\n",
        "\n",
        "# Reshape\n",
        "X_train = X_train.reshape(-1,2, 128, 1)   #Reshape for CNN -  (6400,2,128)->(6400,2,128,1)!!\n",
        "X_test18 = X_test18.reshape(-1,2, 128, 1)\n",
        "\n",
        "print(X_train.shape)\n",
        "print(X_test18.shape)"
      ],
      "execution_count": 2,
      "outputs": [
        {
          "output_type": "stream",
          "text": [
            "loaded 160000 signal vectors into X(160000, 2, 128) and their corresponding labels into labels(160000, 2)\n"
          ],
          "name": "stdout"
        },
        {
          "output_type": "stream",
          "text": [
            "/usr/local/lib/python3.6/dist-packages/sklearn/preprocessing/_encoders.py:415: FutureWarning: The handling of integer data will change in version 0.22. Currently, the categories are determined based on the range [0, max(values)], while in the future they will be determined based on the unique values.\n",
            "If you want the future behaviour and silence this warning, you can specify \"categories='auto'\".\n",
            "In case you used a LabelEncoder before this OneHotEncoder to convert the categories to integers, then you can now use the OneHotEncoder directly.\n",
            "  warnings.warn(msg, FutureWarning)\n"
          ],
          "name": "stderr"
        },
        {
          "output_type": "stream",
          "text": [
            "SNR : 18\n",
            "(160000, 2, 129)\n",
            "(128000, 2, 129)\n",
            "(32000, 2, 129)\n",
            "(128000, 2, 128)\n",
            "(1653, 2, 128)\n",
            "(128000, 2, 128)\n",
            "(1653, 2, 128)\n",
            "(128000, 2, 128, 1)\n",
            "(1653, 2, 128, 1)\n"
          ],
          "name": "stdout"
        }
      ]
    },
    {
      "cell_type": "markdown",
      "metadata": {
        "id": "drh0_kLlLXWK",
        "colab_type": "text"
      },
      "source": [
        "## Import Module"
      ]
    },
    {
      "cell_type": "code",
      "metadata": {
        "id": "x9wXGX95LU7H",
        "colab_type": "code",
        "colab": {
          "base_uri": "https://localhost:8080/",
          "height": 34
        },
        "outputId": "46890164-5c3f-432c-8cc3-a9862080e6a8"
      },
      "source": [
        "import keras\n",
        "from keras.models import Sequential\n",
        "from keras.models import Model\n",
        "from keras.layers import Conv2D\n",
        "from keras.layers import MaxPooling2D\n",
        "from keras.layers import Flatten\n",
        "from keras.layers import Dense\n",
        "from keras.layers import Dropout\n",
        "from keras.layers import Input\n",
        "from keras.layers import concatenate\n",
        "from keras.layers.convolutional import ZeroPadding2D\n"
      ],
      "execution_count": 3,
      "outputs": [
        {
          "output_type": "stream",
          "text": [
            "Using TensorFlow backend.\n"
          ],
          "name": "stderr"
        }
      ]
    },
    {
      "cell_type": "markdown",
      "metadata": {
        "colab_type": "text",
        "id": "9wgTgaCsQaAz"
      },
      "source": [
        "#Making DenseNet0 model (three-convolutional-layer)\n",
        "(Thesis :DEEP NEURAL NETWORK ARCHITECTURES FOR MODULATION CLASSIFICATION)"
      ]
    },
    {
      "cell_type": "code",
      "metadata": {
        "id": "r-gBNzVMOVfg",
        "colab_type": "code",
        "colab": {}
      },
      "source": [
        "dout = 0.5\n",
        "\n",
        "modelInput = Input(shape=(2,128,1))\n",
        "\n",
        "x1 = Conv2D(filters = 128,kernel_size = (1,3), padding='same', activation = 'relu')(modelInput)\n",
        "x1 = Dropout(rate=dout)(x1)\n",
        "\n",
        "#x2 = ZeroPadding2D(padding = (0,1))(x1)\n",
        "x2 = Conv2D(filters = 64,kernel_size = (2,3), padding='same', activation = 'relu')(x1)\n",
        "x2 = Dropout(rate=dout)(x2)\n",
        "\n",
        "concat1 = concatenate([x1,x2])\n",
        "\n",
        "x3 = Conv2D(filters = 64,kernel_size = (1,3), padding='same', activation = 'relu')(concat1)\n",
        "x3 = Dropout(rate=dout)(x3)\n",
        "\n",
        "x4 = Flatten()(x3)\n",
        "\n",
        "x5 = Dense(output_dim = 128 , activation = 'relu')(x4)\n",
        "x5 = Dropout(rate=dout)(x5)\n",
        "\n",
        "out = Dense(output_dim = 8 , activation = 'softmax')(x5)\n",
        "\n",
        "\n",
        "classifier = Model(inputs = modelInput, outputs = out)\n",
        "\n",
        "classifier.summary()\n",
        "\n",
        "classifier.compile(optimizer = 'adam', loss = 'categorical_crossentropy', metrics = ['accuracy'])\n",
        "\n",
        "print(\"Model Created!\")"
      ],
      "execution_count": 0,
      "outputs": []
    },
    {
      "cell_type": "markdown",
      "metadata": {
        "id": "OGZsbyzL3PiK",
        "colab_type": "text"
      },
      "source": [
        "Fully Dense"
      ]
    },
    {
      "cell_type": "code",
      "metadata": {
        "id": "LMKIWksc2JDl",
        "colab_type": "code",
        "colab": {
          "base_uri": "https://localhost:8080/",
          "height": 773
        },
        "outputId": "5b2435df-d741-4162-92e9-962bcc3fa3c4"
      },
      "source": [
        "dout = 0.5\n",
        "\n",
        "modelInput = Input(shape=(2,128,1))\n",
        "\n",
        "x1 = Conv2D(filters = 128,kernel_size = (1,3), padding='same', activation = 'relu')(modelInput)\n",
        "x1 = Dropout(rate=dout)(x1)\n",
        "\n",
        "concat1 = concatenate([x1,modelInput])\n",
        "\n",
        "#x2 = ZeroPadding2D(padding = (0,1))(x1)\n",
        "x2 = Conv2D(filters = 64,kernel_size = (2,3), padding='same', activation = 'relu')(concat1)\n",
        "x2 = Dropout(rate=dout)(x2)\n",
        "\n",
        "concat2 = concatenate([x2,x1,modelInput])\n",
        "\n",
        "x3 = Conv2D(filters = 64,kernel_size = (1,3), padding='same', activation = 'relu')(concat2)\n",
        "x3 = Dropout(rate=dout)(x3)\n",
        "\n",
        "concat3 = concatenate([x3,x2,x1,modelInput])\n",
        "\n",
        "x4 = Flatten()(concat3)\n",
        "\n",
        "x5 = Dense(output_dim = 128 , activation = 'relu')(x4)\n",
        "x5 = Dropout(rate=dout)(x5)\n",
        "\n",
        "out = Dense(output_dim = 8 , activation = 'softmax')(x5)\n",
        "\n",
        "\n",
        "classifier = Model(inputs = modelInput, outputs = out)\n",
        "\n",
        "classifier.summary()\n",
        "\n",
        "classifier.compile(optimizer = 'adam', loss = 'categorical_crossentropy', metrics = ['accuracy'])\n",
        "\n",
        "print(\"Model Created!\")"
      ],
      "execution_count": 8,
      "outputs": [
        {
          "output_type": "stream",
          "text": [
            "Model: \"model_2\"\n",
            "__________________________________________________________________________________________________\n",
            "Layer (type)                    Output Shape         Param #     Connected to                     \n",
            "==================================================================================================\n",
            "input_2 (InputLayer)            (None, 2, 128, 1)    0                                            \n",
            "__________________________________________________________________________________________________\n",
            "conv2d_4 (Conv2D)               (None, 2, 128, 128)  512         input_2[0][0]                    \n",
            "__________________________________________________________________________________________________\n",
            "dropout_5 (Dropout)             (None, 2, 128, 128)  0           conv2d_4[0][0]                   \n",
            "__________________________________________________________________________________________________\n",
            "concatenate_2 (Concatenate)     (None, 2, 128, 129)  0           dropout_5[0][0]                  \n",
            "                                                                 input_2[0][0]                    \n",
            "__________________________________________________________________________________________________\n",
            "conv2d_5 (Conv2D)               (None, 2, 128, 64)   49600       concatenate_2[0][0]              \n",
            "__________________________________________________________________________________________________\n",
            "dropout_6 (Dropout)             (None, 2, 128, 64)   0           conv2d_5[0][0]                   \n",
            "__________________________________________________________________________________________________\n",
            "concatenate_3 (Concatenate)     (None, 2, 128, 193)  0           dropout_6[0][0]                  \n",
            "                                                                 dropout_5[0][0]                  \n",
            "                                                                 input_2[0][0]                    \n",
            "__________________________________________________________________________________________________\n",
            "conv2d_6 (Conv2D)               (None, 2, 128, 64)   37120       concatenate_3[0][0]              \n",
            "__________________________________________________________________________________________________\n",
            "dropout_7 (Dropout)             (None, 2, 128, 64)   0           conv2d_6[0][0]                   \n",
            "__________________________________________________________________________________________________\n",
            "concatenate_4 (Concatenate)     (None, 2, 128, 257)  0           dropout_7[0][0]                  \n",
            "                                                                 dropout_6[0][0]                  \n",
            "                                                                 dropout_5[0][0]                  \n",
            "                                                                 input_2[0][0]                    \n",
            "__________________________________________________________________________________________________\n",
            "flatten_2 (Flatten)             (None, 65792)        0           concatenate_4[0][0]              \n",
            "__________________________________________________________________________________________________\n",
            "dense_3 (Dense)                 (None, 128)          8421504     flatten_2[0][0]                  \n",
            "__________________________________________________________________________________________________\n",
            "dropout_8 (Dropout)             (None, 128)          0           dense_3[0][0]                    \n",
            "__________________________________________________________________________________________________\n",
            "dense_4 (Dense)                 (None, 8)            1032        dropout_8[0][0]                  \n",
            "==================================================================================================\n",
            "Total params: 8,509,768\n",
            "Trainable params: 8,509,768\n",
            "Non-trainable params: 0\n",
            "__________________________________________________________________________________________________\n",
            "Model Created!\n"
          ],
          "name": "stdout"
        },
        {
          "output_type": "stream",
          "text": [
            "/usr/local/lib/python3.6/dist-packages/ipykernel_launcher.py:23: UserWarning: Update your `Dense` call to the Keras 2 API: `Dense(activation=\"relu\", units=128)`\n",
            "/usr/local/lib/python3.6/dist-packages/ipykernel_launcher.py:26: UserWarning: Update your `Dense` call to the Keras 2 API: `Dense(activation=\"softmax\", units=8)`\n"
          ],
          "name": "stderr"
        }
      ]
    },
    {
      "cell_type": "markdown",
      "metadata": {
        "colab_type": "text",
        "id": "cnHiNbZAQ6uG"
      },
      "source": [
        "#Making DenseNet1 model (four-convolutional-layer)\n",
        "(Thesis :DEEP NEURAL NETWORK ARCHITECTURES FOR MODULATION CLASSIFICATION)"
      ]
    },
    {
      "cell_type": "code",
      "metadata": {
        "colab_type": "code",
        "id": "49RD9nMVQ6uK",
        "colab": {
          "base_uri": "https://localhost:8080/",
          "height": 722
        },
        "outputId": "1b59867e-5937-42a0-a4d3-977d76ecf8a8"
      },
      "source": [
        "dout = 0.5\n",
        "\n",
        "modelInput = Input(shape=(2,128,1))\n",
        "\n",
        "x1 = Conv2D(filters = 128,kernel_size = (1,3), padding='same', activation = 'relu')(modelInput)\n",
        "x1 = Dropout(rate=dout)(x1)\n",
        "\n",
        "x2 = Conv2D(filters = 128,kernel_size = (2,3), padding='same', activation = 'relu')(x1)\n",
        "x2 = Dropout(rate=dout)(x2)\n",
        "\n",
        "concat1 = concatenate([x1,x2], axis=3)\n",
        "\n",
        "x3 = Conv2D(filters = 64,kernel_size = (1,3), padding='same', activation = 'relu')(concat1)\n",
        "x3 = Dropout(rate=dout)(x3)\n",
        "\n",
        "concat2 = concatenate([x1,x2,x3], axis=3)\n",
        "\n",
        "x4 = Conv2D(filters = 64,kernel_size = (1,3), padding='same', activation = 'relu')(concat2)\n",
        "x4 = Dropout(rate=dout)(x4)\n",
        "\n",
        "x5 = Flatten()(x4)\n",
        "\n",
        "x6 = Dense(output_dim = 128 , activation = 'relu')(x5)\n",
        "x6 = Dropout(rate=dout)(x5)\n",
        "\n",
        "out = Dense(output_dim = 8 , activation = 'softmax')(x6)\n",
        "\n",
        "classifier = Model(inputs = modelInput, outputs = out)\n",
        "\n",
        "classifier.compile(optimizer = 'adam', loss = 'categorical_crossentropy', metrics = ['accuracy'])\n",
        "\n",
        "classifier.summary()\n",
        "\n",
        "print(\"Model Created!\")"
      ],
      "execution_count": 13,
      "outputs": [
        {
          "output_type": "stream",
          "text": [
            "Model: \"model_3\"\n",
            "__________________________________________________________________________________________________\n",
            "Layer (type)                    Output Shape         Param #     Connected to                     \n",
            "==================================================================================================\n",
            "input_3 (InputLayer)            (None, 2, 128, 1)    0                                            \n",
            "__________________________________________________________________________________________________\n",
            "conv2d_7 (Conv2D)               (None, 2, 128, 128)  512         input_3[0][0]                    \n",
            "__________________________________________________________________________________________________\n",
            "dropout_9 (Dropout)             (None, 2, 128, 128)  0           conv2d_7[0][0]                   \n",
            "__________________________________________________________________________________________________\n",
            "conv2d_8 (Conv2D)               (None, 2, 128, 128)  98432       dropout_9[0][0]                  \n",
            "__________________________________________________________________________________________________\n",
            "dropout_10 (Dropout)            (None, 2, 128, 128)  0           conv2d_8[0][0]                   \n",
            "__________________________________________________________________________________________________\n",
            "concatenate_5 (Concatenate)     (None, 2, 128, 256)  0           dropout_9[0][0]                  \n",
            "                                                                 dropout_10[0][0]                 \n",
            "__________________________________________________________________________________________________\n",
            "conv2d_9 (Conv2D)               (None, 2, 128, 64)   49216       concatenate_5[0][0]              \n",
            "__________________________________________________________________________________________________\n",
            "dropout_11 (Dropout)            (None, 2, 128, 64)   0           conv2d_9[0][0]                   \n",
            "__________________________________________________________________________________________________\n",
            "concatenate_6 (Concatenate)     (None, 2, 128, 320)  0           dropout_9[0][0]                  \n",
            "                                                                 dropout_10[0][0]                 \n",
            "                                                                 dropout_11[0][0]                 \n",
            "__________________________________________________________________________________________________\n",
            "conv2d_10 (Conv2D)              (None, 2, 128, 64)   61504       concatenate_6[0][0]              \n",
            "__________________________________________________________________________________________________\n",
            "dropout_12 (Dropout)            (None, 2, 128, 64)   0           conv2d_10[0][0]                  \n",
            "__________________________________________________________________________________________________\n",
            "flatten_3 (Flatten)             (None, 16384)        0           dropout_12[0][0]                 \n",
            "__________________________________________________________________________________________________\n",
            "dropout_13 (Dropout)            (None, 16384)        0           flatten_3[0][0]                  \n",
            "__________________________________________________________________________________________________\n",
            "dense_6 (Dense)                 (None, 8)            131080      dropout_13[0][0]                 \n",
            "==================================================================================================\n",
            "Total params: 340,744\n",
            "Trainable params: 340,744\n",
            "Non-trainable params: 0\n",
            "__________________________________________________________________________________________________\n",
            "Model Created!\n"
          ],
          "name": "stdout"
        },
        {
          "output_type": "stream",
          "text": [
            "/usr/local/lib/python3.6/dist-packages/ipykernel_launcher.py:23: UserWarning: Update your `Dense` call to the Keras 2 API: `Dense(activation=\"relu\", units=128)`\n",
            "/usr/local/lib/python3.6/dist-packages/ipykernel_launcher.py:26: UserWarning: Update your `Dense` call to the Keras 2 API: `Dense(activation=\"softmax\", units=8)`\n"
          ],
          "name": "stderr"
        }
      ]
    },
    {
      "cell_type": "markdown",
      "metadata": {
        "id": "VmbKUEecRtnS",
        "colab_type": "text"
      },
      "source": [
        "#Making DenseNet2 model (five-convolutional-layer)\n",
        "(Thesis :DEEP NEURAL NETWORK ARCHITECTURES FOR MODULATION CLASSIFICATION)"
      ]
    },
    {
      "cell_type": "code",
      "metadata": {
        "id": "Lj7OLRgtRreS",
        "colab_type": "code",
        "colab": {
          "base_uri": "https://localhost:8080/",
          "height": 907
        },
        "outputId": "2fc6193f-c601-4855-8673-71194e590275"
      },
      "source": [
        "dout = 0.5\n",
        "\n",
        "modelInput = Input(shape=(2,128,1))\n",
        "\n",
        "x1 = Conv2D(filters = 128,kernel_size = (1,7), padding='same', activation = 'relu')(modelInput)\n",
        "x1 = Dropout(rate=dout)(x1)\n",
        "\n",
        "x2 = Conv2D(filters = 128,kernel_size = (2,5), padding='same', activation = 'relu')(x1)\n",
        "x2 = Dropout(rate=dout)(x2)\n",
        "\n",
        "concat1 = concatenate([x1,x2], axis=3)\n",
        "\n",
        "x3 = Conv2D(filters = 128,kernel_size = (1,3), padding='same', activation = 'relu')(concat1)\n",
        "x3 = Dropout(rate=dout)(x3)\n",
        "\n",
        "concat2 = concatenate([x1,x2,x3], axis=3)\n",
        "\n",
        "x4 = Conv2D(filters = 64,kernel_size = (1,3), padding='same', activation = 'relu')(concat2)\n",
        "x4 = Dropout(rate=dout)(x4)\n",
        "\n",
        "concat3 = concatenate([x1,x2,x3,x4], axis=3)\n",
        "\n",
        "x5 = Conv2D(filters = 64,kernel_size = (1,3), padding='same', activation = 'relu')(concat3)\n",
        "x5 = Dropout(rate=dout)(x5)\n",
        "\n",
        "x6 = Flatten()(x5)\n",
        "\n",
        "x7 = Dense(output_dim = 128 , activation = 'relu')(x6)\n",
        "x7 = Dropout(rate=dout)(x7)\n",
        "\n",
        "out = Dense(output_dim = 8 , activation = 'softmax')(x7)\n",
        "\n",
        "classifier = Model(inputs = modelInput, outputs = out)\n",
        "\n",
        "classifier.summary()\n",
        "\n",
        "classifier.compile(optimizer = 'adam', loss = 'categorical_crossentropy', metrics = ['accuracy'])\n",
        "\n",
        "print(\"Model Created!\")"
      ],
      "execution_count": 20,
      "outputs": [
        {
          "output_type": "stream",
          "text": [
            "Model: \"model_6\"\n",
            "__________________________________________________________________________________________________\n",
            "Layer (type)                    Output Shape         Param #     Connected to                     \n",
            "==================================================================================================\n",
            "input_6 (InputLayer)            (None, 2, 128, 1)    0                                            \n",
            "__________________________________________________________________________________________________\n",
            "conv2d_21 (Conv2D)              (None, 2, 128, 128)  1024        input_6[0][0]                    \n",
            "__________________________________________________________________________________________________\n",
            "dropout_26 (Dropout)            (None, 2, 128, 128)  0           conv2d_21[0][0]                  \n",
            "__________________________________________________________________________________________________\n",
            "conv2d_22 (Conv2D)              (None, 2, 128, 128)  163968      dropout_26[0][0]                 \n",
            "__________________________________________________________________________________________________\n",
            "dropout_27 (Dropout)            (None, 2, 128, 128)  0           conv2d_22[0][0]                  \n",
            "__________________________________________________________________________________________________\n",
            "concatenate_13 (Concatenate)    (None, 2, 128, 256)  0           dropout_26[0][0]                 \n",
            "                                                                 dropout_27[0][0]                 \n",
            "__________________________________________________________________________________________________\n",
            "conv2d_23 (Conv2D)              (None, 2, 128, 128)  98432       concatenate_13[0][0]             \n",
            "__________________________________________________________________________________________________\n",
            "dropout_28 (Dropout)            (None, 2, 128, 128)  0           conv2d_23[0][0]                  \n",
            "__________________________________________________________________________________________________\n",
            "concatenate_14 (Concatenate)    (None, 2, 128, 384)  0           dropout_26[0][0]                 \n",
            "                                                                 dropout_27[0][0]                 \n",
            "                                                                 dropout_28[0][0]                 \n",
            "__________________________________________________________________________________________________\n",
            "conv2d_24 (Conv2D)              (None, 2, 128, 64)   73792       concatenate_14[0][0]             \n",
            "__________________________________________________________________________________________________\n",
            "dropout_29 (Dropout)            (None, 2, 128, 64)   0           conv2d_24[0][0]                  \n",
            "__________________________________________________________________________________________________\n",
            "concatenate_15 (Concatenate)    (None, 2, 128, 448)  0           dropout_26[0][0]                 \n",
            "                                                                 dropout_27[0][0]                 \n",
            "                                                                 dropout_28[0][0]                 \n",
            "                                                                 dropout_29[0][0]                 \n",
            "__________________________________________________________________________________________________\n",
            "conv2d_25 (Conv2D)              (None, 2, 128, 64)   86080       concatenate_15[0][0]             \n",
            "__________________________________________________________________________________________________\n",
            "dropout_30 (Dropout)            (None, 2, 128, 64)   0           conv2d_25[0][0]                  \n",
            "__________________________________________________________________________________________________\n",
            "flatten_6 (Flatten)             (None, 16384)        0           dropout_30[0][0]                 \n",
            "__________________________________________________________________________________________________\n",
            "dense_11 (Dense)                (None, 128)          2097280     flatten_6[0][0]                  \n",
            "__________________________________________________________________________________________________\n",
            "dropout_31 (Dropout)            (None, 128)          0           dense_11[0][0]                   \n",
            "__________________________________________________________________________________________________\n",
            "dense_12 (Dense)                (None, 8)            1032        dropout_31[0][0]                 \n",
            "==================================================================================================\n",
            "Total params: 2,521,608\n",
            "Trainable params: 2,521,608\n",
            "Non-trainable params: 0\n",
            "__________________________________________________________________________________________________\n",
            "Model Created!\n"
          ],
          "name": "stdout"
        },
        {
          "output_type": "stream",
          "text": [
            "/usr/local/lib/python3.6/dist-packages/ipykernel_launcher.py:28: UserWarning: Update your `Dense` call to the Keras 2 API: `Dense(activation=\"relu\", units=128)`\n",
            "/usr/local/lib/python3.6/dist-packages/ipykernel_launcher.py:31: UserWarning: Update your `Dense` call to the Keras 2 API: `Dense(activation=\"softmax\", units=8)`\n"
          ],
          "name": "stderr"
        }
      ]
    },
    {
      "cell_type": "markdown",
      "metadata": {
        "id": "ct6SfO0K3RPR",
        "colab_type": "text"
      },
      "source": [
        "# Fitting model"
      ]
    },
    {
      "cell_type": "code",
      "metadata": {
        "id": "fTK9sEg7uiRA",
        "colab_type": "code",
        "colab": {
          "base_uri": "https://localhost:8080/",
          "height": 1000
        },
        "outputId": "8b310023-ad42-4311-dd17-73483d25ca9a"
      },
      "source": [
        "batch = 1024\n",
        "epoch = 100\n",
        "\n",
        "history = classifier.fit(X_train, y_train, batch_size = batch, epochs = epoch, validation_data=(X_test18, y_test18))\n",
        "#history = classifier.fit(X_train, y_train, batch_size = batch, epochs = epoch)"
      ],
      "execution_count": 0,
      "outputs": [
        {
          "output_type": "stream",
          "text": [
            "Train on 128000 samples, validate on 1653 samples\n",
            "Epoch 1/100\n",
            "128000/128000 [==============================] - 94s 731us/step - loss: 1.8401 - acc: 0.2450 - val_loss: 1.0707 - val_acc: 0.5197\n",
            "Epoch 2/100\n",
            "128000/128000 [==============================] - 89s 695us/step - loss: 1.4474 - acc: 0.3658 - val_loss: 0.8565 - val_acc: 0.5693\n",
            "Epoch 3/100\n",
            "128000/128000 [==============================] - 89s 695us/step - loss: 1.3644 - acc: 0.3956 - val_loss: 0.8167 - val_acc: 0.6201\n",
            "Epoch 4/100\n",
            "128000/128000 [==============================] - 89s 693us/step - loss: 1.3101 - acc: 0.4309 - val_loss: 0.6492 - val_acc: 0.6957\n",
            "Epoch 5/100\n",
            "128000/128000 [==============================] - 89s 694us/step - loss: 1.2446 - acc: 0.4648 - val_loss: 0.5690 - val_acc: 0.6969\n",
            "Epoch 6/100\n",
            "128000/128000 [==============================] - 89s 695us/step - loss: 1.1847 - acc: 0.4885 - val_loss: 0.4788 - val_acc: 0.7429\n",
            "Epoch 7/100\n",
            "128000/128000 [==============================] - 88s 691us/step - loss: 1.1476 - acc: 0.5046 - val_loss: 0.3991 - val_acc: 0.7774\n",
            "Epoch 8/100\n",
            "128000/128000 [==============================] - 88s 689us/step - loss: 1.1191 - acc: 0.5159 - val_loss: 0.3658 - val_acc: 0.8016\n",
            "Epoch 9/100\n",
            "128000/128000 [==============================] - 88s 690us/step - loss: 1.0884 - acc: 0.5277 - val_loss: 0.3196 - val_acc: 0.8191\n",
            "Epoch 10/100\n",
            "128000/128000 [==============================] - 88s 690us/step - loss: 1.0654 - acc: 0.5373 - val_loss: 0.3208 - val_acc: 0.8227\n",
            "Epoch 11/100\n",
            "128000/128000 [==============================] - 88s 690us/step - loss: 1.0505 - acc: 0.5437 - val_loss: 0.2802 - val_acc: 0.8294\n",
            "Epoch 12/100\n",
            "128000/128000 [==============================] - 88s 689us/step - loss: 1.0395 - acc: 0.5486 - val_loss: 0.2687 - val_acc: 0.8445\n",
            "Epoch 13/100\n",
            "128000/128000 [==============================] - 88s 691us/step - loss: 1.0302 - acc: 0.5506 - val_loss: 0.2540 - val_acc: 0.8469\n",
            "Epoch 14/100\n",
            "128000/128000 [==============================] - 88s 690us/step - loss: 1.0230 - acc: 0.5531 - val_loss: 0.2712 - val_acc: 0.8355\n",
            "Epoch 15/100\n",
            "128000/128000 [==============================] - 88s 689us/step - loss: 1.0115 - acc: 0.5563 - val_loss: 0.2413 - val_acc: 0.8457\n",
            "Epoch 16/100\n",
            "128000/128000 [==============================] - 88s 688us/step - loss: 1.0023 - acc: 0.5621 - val_loss: 0.2463 - val_acc: 0.8536\n",
            "Epoch 17/100\n",
            "128000/128000 [==============================] - 88s 688us/step - loss: 0.9962 - acc: 0.5621 - val_loss: 0.2563 - val_acc: 0.8415\n",
            "Epoch 18/100\n",
            "128000/128000 [==============================] - 88s 687us/step - loss: 0.9969 - acc: 0.5633 - val_loss: 0.2303 - val_acc: 0.8542\n",
            "Epoch 19/100\n",
            "128000/128000 [==============================] - 88s 689us/step - loss: 0.9888 - acc: 0.5668 - val_loss: 0.2300 - val_acc: 0.8560\n",
            "Epoch 20/100\n",
            "128000/128000 [==============================] - 88s 689us/step - loss: 0.9847 - acc: 0.5674 - val_loss: 0.2072 - val_acc: 0.8724\n",
            "Epoch 21/100\n",
            "128000/128000 [==============================] - 88s 689us/step - loss: 0.9816 - acc: 0.5697 - val_loss: 0.2383 - val_acc: 0.8500\n",
            "Epoch 22/100\n",
            "128000/128000 [==============================] - 88s 690us/step - loss: 0.9752 - acc: 0.5723 - val_loss: 0.2242 - val_acc: 0.8633\n",
            "Epoch 23/100\n",
            "128000/128000 [==============================] - 88s 688us/step - loss: 0.9727 - acc: 0.5737 - val_loss: 0.2110 - val_acc: 0.8657\n",
            "Epoch 24/100\n",
            "128000/128000 [==============================] - 88s 684us/step - loss: 0.9719 - acc: 0.5733 - val_loss: 0.2254 - val_acc: 0.8566\n",
            "Epoch 25/100\n",
            "128000/128000 [==============================] - 88s 688us/step - loss: 0.9699 - acc: 0.5749 - val_loss: 0.2185 - val_acc: 0.8566\n",
            "Epoch 26/100\n",
            "128000/128000 [==============================] - 88s 689us/step - loss: 0.9688 - acc: 0.5748 - val_loss: 0.2077 - val_acc: 0.8603\n",
            "Epoch 27/100\n",
            "128000/128000 [==============================] - 88s 689us/step - loss: 0.9657 - acc: 0.5764 - val_loss: 0.2091 - val_acc: 0.8639\n",
            "Epoch 28/100\n",
            "128000/128000 [==============================] - 88s 689us/step - loss: 0.9612 - acc: 0.5775 - val_loss: 0.2001 - val_acc: 0.8717\n",
            "Epoch 29/100\n",
            "128000/128000 [==============================] - 88s 687us/step - loss: 0.9587 - acc: 0.5807 - val_loss: 0.2055 - val_acc: 0.8705\n",
            "Epoch 30/100\n",
            "128000/128000 [==============================] - 88s 685us/step - loss: 0.9593 - acc: 0.5800 - val_loss: 0.2046 - val_acc: 0.8699\n",
            "Epoch 31/100\n",
            "128000/128000 [==============================] - 88s 689us/step - loss: 0.9543 - acc: 0.5792 - val_loss: 0.2011 - val_acc: 0.8639\n",
            "Epoch 32/100\n",
            "128000/128000 [==============================] - 88s 689us/step - loss: 0.9532 - acc: 0.5821 - val_loss: 0.2278 - val_acc: 0.8536\n",
            "Epoch 33/100\n",
            "128000/128000 [==============================] - 88s 687us/step - loss: 0.9514 - acc: 0.5820 - val_loss: 0.2007 - val_acc: 0.8699\n",
            "Epoch 34/100\n",
            "128000/128000 [==============================] - 88s 688us/step - loss: 0.9473 - acc: 0.5839 - val_loss: 0.2102 - val_acc: 0.8603\n",
            "Epoch 35/100\n",
            "128000/128000 [==============================] - 88s 689us/step - loss: 0.9466 - acc: 0.5850 - val_loss: 0.1984 - val_acc: 0.8693\n",
            "Epoch 36/100\n",
            "128000/128000 [==============================] - 88s 688us/step - loss: 0.9453 - acc: 0.5849 - val_loss: 0.2009 - val_acc: 0.8621\n",
            "Epoch 37/100\n",
            "128000/128000 [==============================] - 88s 689us/step - loss: 0.9434 - acc: 0.5845 - val_loss: 0.1953 - val_acc: 0.8705\n",
            "Epoch 38/100\n",
            "128000/128000 [==============================] - 88s 689us/step - loss: 0.9414 - acc: 0.5870 - val_loss: 0.1938 - val_acc: 0.8705\n",
            "Epoch 39/100\n",
            "128000/128000 [==============================] - 88s 689us/step - loss: 0.9388 - acc: 0.5869 - val_loss: 0.1995 - val_acc: 0.8639\n",
            "Epoch 40/100\n",
            "128000/128000 [==============================] - 88s 689us/step - loss: 0.9355 - acc: 0.5878 - val_loss: 0.1963 - val_acc: 0.8675\n",
            "Epoch 41/100\n",
            "128000/128000 [==============================] - 88s 689us/step - loss: 0.9352 - acc: 0.5894 - val_loss: 0.2050 - val_acc: 0.8651\n",
            "Epoch 42/100\n",
            "128000/128000 [==============================] - 88s 689us/step - loss: 0.9352 - acc: 0.5878 - val_loss: 0.2008 - val_acc: 0.8633\n",
            "Epoch 43/100\n",
            "128000/128000 [==============================] - 88s 689us/step - loss: 0.9313 - acc: 0.5910 - val_loss: 0.1938 - val_acc: 0.8663\n",
            "Epoch 44/100\n",
            "128000/128000 [==============================] - 88s 689us/step - loss: 0.9300 - acc: 0.5909 - val_loss: 0.1920 - val_acc: 0.8657\n",
            "Epoch 45/100\n",
            "128000/128000 [==============================] - 88s 689us/step - loss: 0.9278 - acc: 0.5925 - val_loss: 0.1968 - val_acc: 0.8724\n",
            "Epoch 46/100\n",
            "128000/128000 [==============================] - 88s 688us/step - loss: 0.9271 - acc: 0.5929 - val_loss: 0.1985 - val_acc: 0.8675\n",
            "Epoch 47/100\n",
            "128000/128000 [==============================] - 88s 688us/step - loss: 0.9239 - acc: 0.5934 - val_loss: 0.1951 - val_acc: 0.8645\n",
            "Epoch 48/100\n",
            "128000/128000 [==============================] - 88s 689us/step - loss: 0.9256 - acc: 0.5940 - val_loss: 0.1964 - val_acc: 0.8705\n",
            "Epoch 49/100\n",
            "128000/128000 [==============================] - 88s 688us/step - loss: 0.9219 - acc: 0.5935 - val_loss: 0.1930 - val_acc: 0.8645\n",
            "Epoch 50/100\n",
            "128000/128000 [==============================] - 88s 689us/step - loss: 0.9223 - acc: 0.5948 - val_loss: 0.1914 - val_acc: 0.8675\n",
            "Epoch 51/100\n",
            "128000/128000 [==============================] - 88s 689us/step - loss: 0.9203 - acc: 0.5964 - val_loss: 0.1957 - val_acc: 0.8724\n",
            "Epoch 52/100\n",
            "128000/128000 [==============================] - 88s 689us/step - loss: 0.9172 - acc: 0.5967 - val_loss: 0.1977 - val_acc: 0.8717\n",
            "Epoch 53/100\n",
            "128000/128000 [==============================] - 88s 688us/step - loss: 0.9168 - acc: 0.5977 - val_loss: 0.1921 - val_acc: 0.8645\n",
            "Epoch 54/100\n",
            "128000/128000 [==============================] - 88s 688us/step - loss: 0.9161 - acc: 0.5971 - val_loss: 0.2004 - val_acc: 0.8639\n",
            "Epoch 55/100\n",
            "128000/128000 [==============================] - 88s 688us/step - loss: 0.9127 - acc: 0.6002 - val_loss: 0.1952 - val_acc: 0.8699\n",
            "Epoch 56/100\n",
            "128000/128000 [==============================] - 88s 688us/step - loss: 0.9113 - acc: 0.5991 - val_loss: 0.1949 - val_acc: 0.8687\n",
            "Epoch 57/100\n",
            "128000/128000 [==============================] - 88s 687us/step - loss: 0.9123 - acc: 0.5988 - val_loss: 0.1924 - val_acc: 0.8742\n",
            "Epoch 58/100\n",
            "128000/128000 [==============================] - 88s 687us/step - loss: 0.9127 - acc: 0.5996 - val_loss: 0.1903 - val_acc: 0.8766\n",
            "Epoch 59/100\n",
            "128000/128000 [==============================] - 88s 688us/step - loss: 0.9056 - acc: 0.6014 - val_loss: 0.1997 - val_acc: 0.8657\n",
            "Epoch 60/100\n",
            "128000/128000 [==============================] - 88s 687us/step - loss: 0.9070 - acc: 0.6025 - val_loss: 0.1953 - val_acc: 0.8699\n",
            "Epoch 61/100\n",
            "128000/128000 [==============================] - 88s 687us/step - loss: 0.9088 - acc: 0.6014 - val_loss: 0.1939 - val_acc: 0.8687\n",
            "Epoch 62/100\n",
            "128000/128000 [==============================] - 88s 687us/step - loss: 0.9079 - acc: 0.6020 - val_loss: 0.1924 - val_acc: 0.8730\n",
            "Epoch 63/100\n",
            "128000/128000 [==============================] - 88s 689us/step - loss: 0.9060 - acc: 0.6025 - val_loss: 0.1924 - val_acc: 0.8730\n",
            "Epoch 64/100\n",
            "128000/128000 [==============================] - 88s 688us/step - loss: 0.9039 - acc: 0.6023 - val_loss: 0.1964 - val_acc: 0.8705\n",
            "Epoch 65/100\n",
            "128000/128000 [==============================] - 88s 687us/step - loss: 0.9056 - acc: 0.6013 - val_loss: 0.1884 - val_acc: 0.8784\n",
            "Epoch 66/100\n",
            "128000/128000 [==============================] - 87s 683us/step - loss: 0.9005 - acc: 0.6048 - val_loss: 0.1933 - val_acc: 0.8711\n",
            "Epoch 67/100\n",
            "128000/128000 [==============================] - 88s 686us/step - loss: 0.9005 - acc: 0.6041 - val_loss: 0.1899 - val_acc: 0.8754\n",
            "Epoch 68/100\n",
            "128000/128000 [==============================] - 88s 688us/step - loss: 0.9003 - acc: 0.6039 - val_loss: 0.1922 - val_acc: 0.8754\n",
            "Epoch 69/100\n",
            "128000/128000 [==============================] - 88s 687us/step - loss: 0.8945 - acc: 0.6083 - val_loss: 0.1949 - val_acc: 0.8693\n",
            "Epoch 70/100\n",
            "128000/128000 [==============================] - 88s 688us/step - loss: 0.8963 - acc: 0.6065 - val_loss: 0.1930 - val_acc: 0.8742\n",
            "Epoch 71/100\n",
            "128000/128000 [==============================] - 88s 688us/step - loss: 0.8945 - acc: 0.6060 - val_loss: 0.2013 - val_acc: 0.8675\n",
            "Epoch 72/100\n",
            "128000/128000 [==============================] - 88s 689us/step - loss: 0.8959 - acc: 0.6083 - val_loss: 0.1943 - val_acc: 0.8742\n",
            "Epoch 73/100\n",
            "128000/128000 [==============================] - 88s 687us/step - loss: 0.8959 - acc: 0.6070 - val_loss: 0.1958 - val_acc: 0.8687\n",
            "Epoch 74/100\n",
            "128000/128000 [==============================] - 88s 688us/step - loss: 0.8907 - acc: 0.6079 - val_loss: 0.1919 - val_acc: 0.8711\n",
            "Epoch 75/100\n",
            " 63488/128000 [=============>................] - ETA: 44s - loss: 0.8893 - acc: 0.6095"
          ],
          "name": "stdout"
        }
      ]
    },
    {
      "cell_type": "markdown",
      "metadata": {
        "id": "OVFgwssVfxtd",
        "colab_type": "text"
      },
      "source": [
        "# Save model"
      ]
    },
    {
      "cell_type": "code",
      "metadata": {
        "id": "fKe0m_39HiWU",
        "colab_type": "code",
        "colab": {}
      },
      "source": [
        "dic = \"/content/drive/My Drive/Colab Notebooks/\"\n",
        "classifier.save(dic+f'SaveModel/DenseNet4-128(1,7)-128(2,5)-128(1,3)-64(1,3)-64(1,3)-ba{batch}-ep{epoch}-(dout=0.5)-input(IQ)(SNR=all).h5')\n",
        "f = open(dic+f'SaveModel/DenseNet4-128(1,7)-128(2,5)-128(1,3)-64(1,3)-64(1,3)-ba{batch}-ep{epoch}-(dout=0.5)-input(IQ)(SNR=all)-history.txt',\"w\")\n",
        "f.write( str(classifier.history.history) )\n",
        "f.close()\n",
        "\n",
        "print('Model Saved!')"
      ],
      "execution_count": 0,
      "outputs": []
    },
    {
      "cell_type": "markdown",
      "metadata": {
        "colab_type": "text",
        "id": "WPUQvSEust2O"
      },
      "source": [
        "\n",
        "# Prediction(only SNR=18)"
      ]
    },
    {
      "cell_type": "code",
      "metadata": {
        "colab_type": "code",
        "id": "L-BjyTtcst2U",
        "colab": {}
      },
      "source": [
        "y_pred = classifier.predict(X_test18)\n",
        "y_pred = np.argmax(y_pred, axis=1)\n",
        "\n",
        "y_real = np.argmax(y_test18, axis=1)\n",
        "# Making the Confusion Matrix\n",
        "from sklearn.metrics import confusion_matrix\n",
        "cm = confusion_matrix(y_real, y_pred)\n",
        "cm_norm = cm.astype('float') / cm.sum(axis=1)[:, np.newaxis]\n",
        "\n",
        "acc_test = classifier.evaluate(X_test18, y_test18)[1]\n",
        "acc_train = classifier.evaluate(X_train, y_train)[1]\n",
        "\n",
        "print(\"Acc Test : \", acc_test)\n",
        "print(\"Acc Train : \", acc_train)\n"
      ],
      "execution_count": 0,
      "outputs": []
    },
    {
      "cell_type": "markdown",
      "metadata": {
        "id": "ShXqOJL47hCE",
        "colab_type": "text"
      },
      "source": [
        "# Plot Confusion Matrix"
      ]
    },
    {
      "cell_type": "code",
      "metadata": {
        "id": "-6AbLWccANuo",
        "colab_type": "code",
        "colab": {
          "base_uri": "https://localhost:8080/",
          "height": 84
        },
        "outputId": "0a027d24-fa50-40a0-a055-cb5fdc1cb3cc"
      },
      "source": [
        "import matplotlib.pyplot as plt\n",
        "import seaborn as sns\n",
        "from sklearn.metrics import confusion_matrix\n",
        "import pandas as pd\n",
        "\n",
        "modulation_order = []\n",
        "modulation_order_dict = dict()\n",
        "\n",
        "for key,value in output.items():\n",
        "    modulation_order_dict[np.argmax(value)] = str(key)\n",
        "    \n",
        "for i in range(8):\n",
        "    modulation_order.append(modulation_order_dict[i])\n",
        "    \n",
        "acc_test = classifier.evaluate(X_test18, y_test18)[1]\n",
        "acc_train = classifier.evaluate(X_train, y_train)[1]\n",
        "\n",
        "print(\"Acc Test : \", acc_test)\n",
        "print(\"Acc Train : \", acc_train)    "
      ],
      "execution_count": 11,
      "outputs": [
        {
          "output_type": "stream",
          "text": [
            "1653/1653 [==============================] - 0s 181us/step\n",
            "128000/128000 [==============================] - 21s 160us/step\n",
            "Acc Test :  0.8378705385592369\n",
            "Acc Train :  0.601984375\n"
          ],
          "name": "stdout"
        }
      ]
    },
    {
      "cell_type": "code",
      "metadata": {
        "id": "Vv5RzFyj_Cj1",
        "colab_type": "code",
        "outputId": "d2494c56-482c-4d88-8090-a5a84bca8a1c",
        "colab": {
          "base_uri": "https://localhost:8080/",
          "height": 1000
        }
      },
      "source": [
        "dic = \"/content/drive/My Drive/Colab Notebooks/\"\n",
        "acc = []\n",
        "\n",
        "for snr in snrList:\n",
        "  print('SNR: ', snr)\n",
        "    \n",
        "  y_test_snr = []\n",
        "  X_test_snr = []\n",
        "  for i in range(X_test.shape[0]):\n",
        "    if X_test[i,0,0] == int(snr):\n",
        "      X_test_snr.append(X_test[i])\n",
        "      y_test_snr.append(y_test[i])\n",
        "        \n",
        "  X_test_snr = np.array(X_test_snr)\n",
        "  y_test_snr = np.array(y_test_snr)        \n",
        "  X_test_snr = X_test_snr[:,:,1:]\n",
        "  \n",
        "  X_test_snr = X_test_snr.reshape([X_test_snr.shape[0],256])\n",
        "  X_test_snr = sc.transform(X_test_snr)\n",
        "  X_test_snr = X_test_snr.reshape([X_test_snr.shape[0],2,128])\n",
        "  \n",
        "  X_test_snr = X_test_snr.reshape(-1,2, 128, 1) # For CNN\n",
        "    \n",
        "  acc_test = classifier.evaluate(X_test_snr, y_test_snr)[1]\n",
        "  acc.append(acc_test)\n",
        "  print(acc_test)\n",
        "  '''\n",
        "  y_pred = classifier.predict(X_test_snr)\n",
        "  y_pred = np.argmax(y_pred, axis=1)\n",
        "\n",
        "  y_real = np.argmax(y_test_snr, axis=1)\n",
        "  # Making the Confusion Matrix\n",
        "  cm = confusion_matrix(y_real, y_pred)\n",
        "  cm_norm = cm.astype('float') / cm.sum(axis=1)[:, np.newaxis]\n",
        "    \n",
        "    \n",
        "  cmDataFrame = pd.DataFrame(cm_norm, index=modulation_order, columns = modulation_order)\n",
        "  plt.figure(figsize=(6, 5))\n",
        "  ax = sns.heatmap(cmDataFrame, annot=True, annot_kws={\"size\": 8}, fmt='.2f', linewidths=.5, cmap=\"Blues\")\n",
        "\n",
        "  plt.title(f\"CNN0[128(1,7)-64(2,5)] Confusion Matrix (SNR={snr})\")\n",
        "  plt.xlabel(\"Predicted label  \\n\\n TrainAcc={:.2}, TestAcc={:.2}\".format(acc_train,acc_test), fontsize=8)\n",
        "  plt.ylabel(\"True lable\", fontsize=8)\n",
        "  plt.setp(ax.get_xticklabels(), rotation=45, ha=\"right\",rotation_mode=\"anchor\", fontsize=8)\n",
        "  plt.setp(ax.get_yticklabels(), fontsize=8)\n",
        "  fig = ax.get_figure()\n",
        "\n",
        "  fig.savefig(dic+f\"/Pic/CNN/CNN0-128(1,7)-64(2,5)-ba{batch}-ep{epoch}-(dout=0.5)-input(IQ)(SNR={snr}).png\", dpi=175, bbox_inches='tight')\n",
        "  fig.savefig(dic+f\"/Pic/CNN/CNN0-128(1,7)-64(2,5)-ba{batch}-ep{epoch}-(dout=0.5)-input(IQ)(SNR={snr}).eps\", bbox_inches='tight')\n",
        "  print(\"Plot Saved!\")\n",
        "'''\n",
        "\n",
        "  del(y_test_snr)\n",
        "  del(X_test_snr)\n",
        "      \n",
        "print(acc)    \n",
        "    "
      ],
      "execution_count": 16,
      "outputs": [
        {
          "output_type": "stream",
          "text": [
            "SNR:  -20\n",
            "1636/1636 [==============================] - 0s 266us/step\n",
            "0.13141809290953546\n",
            "SNR:  -18\n",
            "1630/1630 [==============================] - 0s 230us/step\n",
            "0.12883435589221356\n",
            "SNR:  -16\n",
            "1606/1606 [==============================] - 0s 214us/step\n",
            "0.14009962641955312\n",
            "SNR:  -14\n",
            "1633/1633 [==============================] - 0s 211us/step\n",
            "0.13288426209430496\n",
            "SNR:  -12\n",
            "1567/1567 [==============================] - 0s 215us/step\n",
            "0.15124441604364733\n",
            "SNR:  -10\n",
            "1561/1561 [==============================] - 0s 202us/step\n",
            "0.19218449707427596\n",
            "SNR:  -8\n",
            "1605/1605 [==============================] - 0s 203us/step\n",
            "0.2778816199469789\n",
            "SNR:  -6\n",
            "1605/1605 [==============================] - 0s 197us/step\n",
            "0.3931464174826197\n",
            "SNR:  -4\n",
            "1600/1600 [==============================] - 0s 182us/step\n",
            "0.511875\n",
            "SNR:  -2\n",
            "1642/1642 [==============================] - 0s 193us/step\n",
            "0.6814859927644393\n",
            "SNR:  0\n",
            "1570/1570 [==============================] - 0s 207us/step\n",
            "0.8414012738853504\n",
            "SNR:  2\n",
            "1577/1577 [==============================] - 0s 196us/step\n",
            "0.9042485732781259\n",
            "SNR:  4\n",
            "1555/1555 [==============================] - 0s 217us/step\n",
            "0.9324758843210349\n",
            "SNR:  6\n",
            "1598/1598 [==============================] - 0s 196us/step\n",
            "0.9374217767739326\n",
            "SNR:  8\n",
            "1568/1568 [==============================] - 0s 209us/step\n",
            "0.9387755102040817\n",
            "SNR:  10\n",
            "1542/1542 [==============================] - 0s 196us/step\n",
            "0.9364461738002594\n",
            "SNR:  12\n",
            "1598/1598 [==============================] - 0s 196us/step\n",
            "0.9324155194738482\n",
            "SNR:  14\n",
            "1616/1616 [==============================] - 0s 211us/step\n",
            "0.9399752475247525\n",
            "SNR:  16\n",
            "1638/1638 [==============================] - 0s 197us/step\n",
            "0.9426129426129426\n",
            "SNR:  18\n",
            "1653/1653 [==============================] - 0s 205us/step\n",
            "0.9352692075736293\n",
            "[0.13141809290953546, 0.12883435589221356, 0.14009962641955312, 0.13288426209430496, 0.15124441604364733, 0.19218449707427596, 0.2778816199469789, 0.3931464174826197, 0.511875, 0.6814859927644393, 0.8414012738853504, 0.9042485732781259, 0.9324758843210349, 0.9374217767739326, 0.9387755102040817, 0.9364461738002594, 0.9324155194738482, 0.9399752475247525, 0.9426129426129426, 0.9352692075736293]\n"
          ],
          "name": "stdout"
        }
      ]
    }
  ]
}