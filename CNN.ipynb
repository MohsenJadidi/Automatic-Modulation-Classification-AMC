{
  "nbformat": 4,
  "nbformat_minor": 0,
  "metadata": {
    "colab": {
      "name": "CNN.ipynb",
      "version": "0.3.2",
      "provenance": [],
      "collapsed_sections": [],
      "include_colab_link": true
    },
    "kernelspec": {
      "name": "python3",
      "display_name": "Python 3"
    },
    "accelerator": "GPU"
  },
  "cells": [
    {
      "cell_type": "markdown",
      "metadata": {
        "id": "view-in-github",
        "colab_type": "text"
      },
      "source": [
        "<a href=\"https://colab.research.google.com/github/MohsenJadidi/Automatic-Modulation-Classification-AMC/blob/master/CNN.ipynb\" target=\"_parent\"><img src=\"https://colab.research.google.com/assets/colab-badge.svg\" alt=\"Open In Colab\"/></a>"
      ]
    },
    {
      "cell_type": "code",
      "metadata": {
        "id": "m0dBrWRWh7UO",
        "colab_type": "code",
        "outputId": "f33ba2c0-ecb7-40fe-e40b-7cebccfcdc71",
        "colab": {
          "base_uri": "https://localhost:8080/",
          "height": 121
        }
      },
      "source": [
        "from google.colab import drive\n",
        "drive.mount('/content/drive')"
      ],
      "execution_count": 3,
      "outputs": [
        {
          "output_type": "stream",
          "text": [
            "Go to this URL in a browser: https://accounts.google.com/o/oauth2/auth?client_id=947318989803-6bn6qk8qdgf4n4g3pfee6491hc0brc4i.apps.googleusercontent.com&redirect_uri=urn%3Aietf%3Awg%3Aoauth%3A2.0%3Aoob&scope=email%20https%3A%2F%2Fwww.googleapis.com%2Fauth%2Fdocs.test%20https%3A%2F%2Fwww.googleapis.com%2Fauth%2Fdrive%20https%3A%2F%2Fwww.googleapis.com%2Fauth%2Fdrive.photos.readonly%20https%3A%2F%2Fwww.googleapis.com%2Fauth%2Fpeopleapi.readonly&response_type=code\n",
            "\n",
            "Enter your authorization code:\n",
            "··········\n",
            "Mounted at /content/drive\n"
          ],
          "name": "stdout"
        }
      ]
    },
    {
      "cell_type": "markdown",
      "metadata": {
        "id": "UR0ATiKBk6rG",
        "colab_type": "text"
      },
      "source": [
        "# Importing the dataset"
      ]
    },
    {
      "cell_type": "code",
      "metadata": {
        "id": "JfzzfiDSuxMs",
        "colab_type": "code",
        "colab": {}
      },
      "source": [
        "import pickle\n",
        "fileName = 'RML2016.10a_dict.pkl'\n",
        "with open(\"/content/drive/My Drive/Colab Notebooks/\"+fileName,'rb') as f:\n",
        "  data = pickle.load(f,encoding='bytes')\n",
        " "
      ],
      "execution_count": 0,
      "outputs": []
    },
    {
      "cell_type": "code",
      "metadata": {
        "id": "yjAg9T-0uzyh",
        "colab_type": "code",
        "outputId": "65538990-5823-4f00-bf83-d61477b513cb",
        "colab": {
          "base_uri": "https://localhost:8080/",
          "height": 34
        }
      },
      "source": [
        "import numpy as np\n",
        "X = []\n",
        "labels = [] # label each example by a pair (modulation type, snr)\n",
        "total_examples = 0\n",
        "analog = [b'AM-DSB', b'AM-SSB', b'WBFM']\n",
        "\n",
        "for mod_type, snr in data.keys():\n",
        "    if (mod_type not in analog):      \n",
        "        current_matrix = data[(mod_type, snr)]        \n",
        "        total_examples += current_matrix.shape[0]\n",
        "        for i in range(current_matrix.shape[0]):\n",
        "            X.append(current_matrix[i])\n",
        "            labels.append((str(mod_type, 'ascii'), snr)) # mod_type is of type bytes\n",
        "    \n",
        "X = np.array(X)         # First row is QPSK snr=2, seconde is PAM4 snr=8 , ...\n",
        "labels = np.array(labels)\n",
        "\n",
        "y = labels[:,0]\n",
        "\n",
        "print(f'loaded {total_examples} signal vectors into X{X.shape} and their corresponding'\n",
        "      f' labels into labels{labels.shape}')  \n",
        "# print(np.unique(labels[:,0]))\n"
      ],
      "execution_count": 5,
      "outputs": [
        {
          "output_type": "stream",
          "text": [
            "loaded 160000 signal vectors into X(160000, 2, 128) and their corresponding labels into labels(160000, 2)\n"
          ],
          "name": "stdout"
        }
      ]
    },
    {
      "cell_type": "code",
      "metadata": {
        "id": "pbeDr3FVv57v",
        "colab_type": "code",
        "outputId": "3a5bc591-9fd6-4f24-fc5a-01a3e4eb7c3b",
        "colab": {
          "base_uri": "https://localhost:8080/",
          "height": 104
        }
      },
      "source": [
        "# Encoding categorical data\n",
        "from sklearn.preprocessing import LabelEncoder, OneHotEncoder\n",
        "labelencoder_y = LabelEncoder()\n",
        "y = labelencoder_y.fit_transform(y)\n",
        "onehotencoder = OneHotEncoder()\n",
        "y = onehotencoder.fit_transform(y.reshape(-1,1)).toarray()"
      ],
      "execution_count": 6,
      "outputs": [
        {
          "output_type": "stream",
          "text": [
            "/usr/local/lib/python3.6/dist-packages/sklearn/preprocessing/_encoders.py:415: FutureWarning: The handling of integer data will change in version 0.22. Currently, the categories are determined based on the range [0, max(values)], while in the future they will be determined based on the unique values.\n",
            "If you want the future behaviour and silence this warning, you can specify \"categories='auto'\".\n",
            "In case you used a LabelEncoder before this OneHotEncoder to convert the categories to integers, then you can now use the OneHotEncoder directly.\n",
            "  warnings.warn(msg, FutureWarning)\n"
          ],
          "name": "stderr"
        }
      ]
    },
    {
      "cell_type": "code",
      "metadata": {
        "id": "-Z6iUKbJwKlT",
        "colab_type": "code",
        "outputId": "76897695-1a7e-49ca-c425-397b05345a5a",
        "colab": {
          "base_uri": "https://localhost:8080/",
          "height": 34
        }
      },
      "source": [
        "snrList = [str(2*i-20) for i in range(20)]  # snrList = -20, -18, -16 , ... ,0, ... ,18\n",
        "snr = snrList[19]\n",
        "numberOfEachExamples = 1000\n",
        "print(\"SNR :\", snr)"
      ],
      "execution_count": 7,
      "outputs": [
        {
          "output_type": "stream",
          "text": [
            "SNR : 18\n"
          ],
          "name": "stdout"
        }
      ]
    },
    {
      "cell_type": "code",
      "metadata": {
        "id": "-DiHGfSPwKb1",
        "colab_type": "code",
        "colab": {}
      },
      "source": [
        "output = [[labels[i*numberOfEachExamples, 0],y[i*numberOfEachExamples]] for i in range(int(X.shape[0]/numberOfEachExamples))]\n",
        "output = dict(output)"
      ],
      "execution_count": 0,
      "outputs": []
    },
    {
      "cell_type": "code",
      "metadata": {
        "id": "0OJ3GghKwrbs",
        "colab_type": "code",
        "outputId": "415ffb22-dba1-4b5a-f815-7b96be1a6de7",
        "colab": {
          "base_uri": "https://localhost:8080/",
          "height": 34
        }
      },
      "source": [
        "Xsnr = np.zeros(shape=(X.shape[0],X.shape[1],X.shape[2]+1))\n",
        "for i in range(X.shape[0]):\n",
        "    snr = int(labels[i,1])\n",
        "    Xsnr[i,0,:] = np.insert(X[i,0,:],0,snr)\n",
        "    Xsnr[i,1,:] = np.insert(X[i,1,:],0,snr)\n",
        "    \n",
        "print(Xsnr.shape)"
      ],
      "execution_count": 9,
      "outputs": [
        {
          "output_type": "stream",
          "text": [
            "(160000, 2, 129)\n"
          ],
          "name": "stdout"
        }
      ]
    },
    {
      "cell_type": "code",
      "metadata": {
        "id": "Cx7l0G_3ww0w",
        "colab_type": "code",
        "outputId": "ba862a72-d16d-4fd9-f476-840c161f6d59",
        "colab": {
          "base_uri": "https://localhost:8080/",
          "height": 50
        }
      },
      "source": [
        "###### Splitting the dataset into the Training set and Test set ######\n",
        "from sklearn.model_selection import train_test_split\n",
        "X_train, X_test, y_train, y_test = train_test_split(Xsnr, y, test_size = 0.2, random_state = 0)\n",
        "# The below line better for Cross_val part\n",
        "#X_train, X_test, y_train, y_test = train_test_split(Xsnr, y, test_size = 1, random_state = 0)\n",
        "\n",
        "print(X_train.shape)\n",
        "print(X_test.shape)"
      ],
      "execution_count": 10,
      "outputs": [
        {
          "output_type": "stream",
          "text": [
            "(128000, 2, 129)\n",
            "(32000, 2, 129)\n"
          ],
          "name": "stdout"
        }
      ]
    },
    {
      "cell_type": "code",
      "metadata": {
        "id": "gGeDKe8GLNJ9",
        "colab_type": "code",
        "outputId": "edb761e3-33c6-4b25-ff1f-fef74edb3693",
        "colab": {
          "base_uri": "https://localhost:8080/",
          "height": 50
        }
      },
      "source": [
        "X_train = X_train[:,:,1:] # snr important for train\n",
        "\n",
        "y_test18 = []\n",
        "X_test18 = []\n",
        "\n",
        "for i in range(X_test.shape[0]):\n",
        "    if X_test[i,0,0] == 18:\n",
        "        X_test18.append(X_test[i])\n",
        "        y_test18.append(y_test[i])\n",
        "        \n",
        "X_test18 = np.array(X_test18)\n",
        "y_test18 = np.array(y_test18)        \n",
        "X_test18 = X_test18[:,:,1:]\n",
        "\n",
        "\n",
        "print(X_train.shape)\n",
        "print(X_test18.shape)"
      ],
      "execution_count": 11,
      "outputs": [
        {
          "output_type": "stream",
          "text": [
            "(128000, 2, 128)\n",
            "(1653, 2, 128)\n"
          ],
          "name": "stdout"
        }
      ]
    },
    {
      "cell_type": "code",
      "metadata": {
        "id": "V4OinfCHLd8y",
        "colab_type": "code",
        "outputId": "55d95c1e-359c-4aec-d803-ecf2cc1c7655",
        "colab": {
          "base_uri": "https://localhost:8080/",
          "height": 50
        }
      },
      "source": [
        "# Change IQ to amplitude and phase\n",
        "X_cmplx = X_train[:,0,:] + 1j* X_train[:,1,:]    \n",
        "X_amp = np.abs(X_cmplx)\n",
        "X_ang = np.arctan2(X_train[:,1,:],X_train[:,0,:]) / np.pi\n",
        "    \n",
        "X_amp = np.reshape(X_amp,(-1,1,128))\n",
        "X_ang = np.reshape(X_ang,(-1,1,128))\n",
        "    \n",
        "X_train_AmpPhs = np.concatenate((X_amp,X_ang), axis=1) \n",
        "##\n",
        "X_cmplx = X_test18[:,0,:] + 1j* X_test18[:,1,:]    \n",
        "X_amp = np.abs(X_cmplx)\n",
        "X_ang = np.arctan2(X_test18[:,1,:],X_test18[:,0,:]) / np.pi\n",
        "    \n",
        "X_amp = np.reshape(X_amp,(-1,1,128))\n",
        "X_ang = np.reshape(X_ang,(-1,1,128))\n",
        "    \n",
        "X_test18_AmpPhs = np.concatenate((X_amp,X_ang), axis=1) \n",
        "##\n",
        "\n",
        "print(X_train_AmpPhs.shape)\n",
        "print(X_test18_AmpPhs.shape)"
      ],
      "execution_count": 12,
      "outputs": [
        {
          "output_type": "stream",
          "text": [
            "(128000, 2, 128)\n",
            "(1653, 2, 128)\n"
          ],
          "name": "stdout"
        }
      ]
    },
    {
      "cell_type": "code",
      "metadata": {
        "id": "ujxapqcRw1l3",
        "colab_type": "code",
        "outputId": "a7368bc4-0ca6-4936-f320-d00bd82f2513",
        "colab": {
          "base_uri": "https://localhost:8080/",
          "height": 50
        }
      },
      "source": [
        "from sklearn.preprocessing import StandardScaler\n",
        "sc = StandardScaler()\n",
        "X_train = X_train.reshape([X_train.shape[0],256])\n",
        "#X_train = X_train_AmpPhs.reshape([X_train.shape[0],256])\n",
        "X_train = sc.fit_transform(X_train)\n",
        "X_train = X_train.reshape([X_train.shape[0],2,128])\n",
        "#X_test = X_test.reshape([1600,256])\n",
        "X_test18 = X_test18.reshape([X_test18.shape[0],256])\n",
        "#X_test18 = X_test18_AmpPhs.reshape([X_test18.shape[0],256])\n",
        "X_test18 = sc.transform(X_test18)\n",
        "X_test18 = X_test18.reshape([X_test18.shape[0],2,128])\n",
        "\n",
        "# Reshape\n",
        "X_train = X_train.reshape(-1,2, 128, 1)   #Reshape for CNN -  (6400,2,128)->(6400,2,128,1)!!\n",
        "X_test18 = X_test18.reshape(-1,2, 128, 1)\n",
        "\n",
        "print(X_train.shape)\n",
        "print(X_test18.shape)"
      ],
      "execution_count": 13,
      "outputs": [
        {
          "output_type": "stream",
          "text": [
            "(128000, 2, 128, 1)\n",
            "(1653, 2, 128, 1)\n"
          ],
          "name": "stdout"
        }
      ]
    },
    {
      "cell_type": "markdown",
      "metadata": {
        "id": "5InZvNieUoTS",
        "colab_type": "text"
      },
      "source": [
        "# Making CNN0 model \n",
        "(Article : Convolutional Radio Modulation Recognition Networks - Timothy J. O’Shea)\n"
      ]
    },
    {
      "cell_type": "code",
      "metadata": {
        "id": "Ida-kcQ9Ub0f",
        "colab_type": "code",
        "outputId": "1bce2e1d-e7cc-44c9-a173-9de36b4e92b7",
        "colab": {
          "base_uri": "https://localhost:8080/",
          "height": 605
        }
      },
      "source": [
        "import keras\n",
        "from keras.models import Sequential\n",
        "from keras.layers import Conv2D\n",
        "from keras.layers import MaxPooling2D\n",
        "from keras.layers import Flatten\n",
        "from keras.layers import Dense\n",
        "from keras.layers import Dropout\n",
        "\n",
        "classifier = Sequential()\n",
        "\n",
        "dout = 0.5\n",
        "classifier.add(Conv2D(filters=64, kernel_size=(1,3), input_shape =  (2,128,1), padding='same', activation = 'relu')) \n",
        "classifier.add(Dropout(rate = dout))\n",
        "classifier.add(Conv2D(filters=64,kernel_size=(1,3),  padding='same', activation = 'relu'))\n",
        "classifier.add(Dropout(rate = dout))\n",
        "classifier.add(Conv2D(filters=64,kernel_size=(1,3),  padding='same', activation = 'relu'))\n",
        "classifier.add(Dropout(rate = dout))\n",
        "classifier.add(Conv2D(filters=64,kernel_size=(2,3),  padding='same', activation = 'relu'))\n",
        "classifier.add(Dropout(rate = dout))\n",
        "\n",
        "\n",
        "classifier.add(Flatten())\n",
        "\n",
        "classifier.add(Dense(output_dim = 128 , activation = 'relu')) # hidden layer\n",
        "classifier.add(Dropout(rate = dout))\n",
        "classifier.add(Dense(output_dim = 8 , activation = 'softmax'))\n",
        "\n",
        "#from keras import optimizers\n",
        "#adamOpt = optimizers.adam(lr = 0.01)\n",
        "\n",
        "classifier.compile(optimizer = 'adam', loss = 'categorical_crossentropy', metrics = ['accuracy'])\n",
        "\n",
        "#logger = keras.callbacks.TensorBoard(log_dir=\"./logs\", write_graph=True, histogram_freq=0)\n",
        "\n",
        "classifier.summary()\n",
        "print(\"Model Created!\")"
      ],
      "execution_count": 26,
      "outputs": [
        {
          "output_type": "stream",
          "text": [
            "Model: \"sequential_4\"\n",
            "_________________________________________________________________\n",
            "Layer (type)                 Output Shape              Param #   \n",
            "=================================================================\n",
            "conv2d_10 (Conv2D)           (None, 2, 128, 64)        256       \n",
            "_________________________________________________________________\n",
            "dropout_13 (Dropout)         (None, 2, 128, 64)        0         \n",
            "_________________________________________________________________\n",
            "conv2d_11 (Conv2D)           (None, 2, 128, 64)        12352     \n",
            "_________________________________________________________________\n",
            "dropout_14 (Dropout)         (None, 2, 128, 64)        0         \n",
            "_________________________________________________________________\n",
            "conv2d_12 (Conv2D)           (None, 2, 128, 64)        12352     \n",
            "_________________________________________________________________\n",
            "dropout_15 (Dropout)         (None, 2, 128, 64)        0         \n",
            "_________________________________________________________________\n",
            "conv2d_13 (Conv2D)           (None, 2, 128, 64)        24640     \n",
            "_________________________________________________________________\n",
            "dropout_16 (Dropout)         (None, 2, 128, 64)        0         \n",
            "_________________________________________________________________\n",
            "flatten_4 (Flatten)          (None, 16384)             0         \n",
            "_________________________________________________________________\n",
            "dense_7 (Dense)              (None, 128)               2097280   \n",
            "_________________________________________________________________\n",
            "dropout_17 (Dropout)         (None, 128)               0         \n",
            "_________________________________________________________________\n",
            "dense_8 (Dense)              (None, 8)                 1032      \n",
            "=================================================================\n",
            "Total params: 2,147,912\n",
            "Trainable params: 2,147,912\n",
            "Non-trainable params: 0\n",
            "_________________________________________________________________\n",
            "Model Created!\n"
          ],
          "name": "stdout"
        },
        {
          "output_type": "stream",
          "text": [
            "/usr/local/lib/python3.6/dist-packages/ipykernel_launcher.py:24: UserWarning: Update your `Dense` call to the Keras 2 API: `Dense(activation=\"relu\", units=128)`\n",
            "/usr/local/lib/python3.6/dist-packages/ipykernel_launcher.py:26: UserWarning: Update your `Dense` call to the Keras 2 API: `Dense(activation=\"softmax\", units=8)`\n"
          ],
          "name": "stderr"
        }
      ]
    },
    {
      "cell_type": "markdown",
      "metadata": {
        "id": "DAqdPV-N3Ae_",
        "colab_type": "text"
      },
      "source": [
        "#Making CNN1 model (one-convolutional-layer)\n",
        "(Thesis :DEEP NEURAL NETWORK ARCHITECTURES FOR MODULATION CLASSIFICATION)"
      ]
    },
    {
      "cell_type": "code",
      "metadata": {
        "id": "PaOTxksa3D2s",
        "colab_type": "code",
        "colab": {}
      },
      "source": [
        "import keras\n",
        "from keras.models import Sequential\n",
        "from keras.layers import Conv2D\n",
        "from keras.layers import MaxPooling2D\n",
        "from keras.layers import Flatten\n",
        "from keras.layers import Dense\n",
        "from keras.layers import Dropout\n",
        "\n",
        "classifier = Sequential()\n",
        "\n",
        "dout = 0.5\n",
        "\n",
        "classifier.add(Conv2D(256,1,3, input_shape =  (2,128,1), activation = 'relu')) # 256=number of filter\n",
        "classifier.add(Dropout(rate = dout))\n",
        "\n",
        "classifier.add(Flatten())\n",
        "\n",
        "classifier.add(Dense(output_dim = 128 , activation = 'relu')) # hidden layer\n",
        "classifier.add(Dropout(rate = dout))\n",
        "classifier.add(Dense(output_dim = 8 , activation = 'softmax'))\n",
        "\n",
        "#from keras import optimizers\n",
        "#adamOpt = optimizers.adam(lr = 0.01)\n",
        "\n",
        "classifier.compile(optimizer = 'adam', loss = 'categorical_crossentropy', metrics = ['accuracy'])\n",
        "\n",
        "#logger = keras.callbacks.TensorBoard(log_dir=\"./logs\", write_graph=True, histogram_freq=0)\n",
        "\n",
        "classifier.summary()\n",
        "print(\"Model Created!\")"
      ],
      "execution_count": 0,
      "outputs": []
    },
    {
      "cell_type": "markdown",
      "metadata": {
        "id": "M2HVRLuRvC2h",
        "colab_type": "text"
      },
      "source": [
        "# Making CNN2 model  (two-convolutional-layer)"
      ]
    },
    {
      "cell_type": "code",
      "metadata": {
        "id": "-EPV9BVqvAZG",
        "colab_type": "code",
        "colab": {}
      },
      "source": [
        "import keras\n",
        "from keras.models import Sequential\n",
        "from keras.layers import Conv2D\n",
        "from keras.layers import MaxPooling2D\n",
        "from keras.layers import Flatten\n",
        "from keras.layers import Dense\n",
        "from keras.layers import Dropout\n",
        "\n",
        "classifier = Sequential()\n",
        "\n",
        "dout = 0.4\n",
        "classifier.add(Conv2D(256,(1,3), input_shape =  (2,128,1), activation = 'relu', padding='same')) # 256=number of filter\n",
        "classifier.add(Dropout(rate = dout))\n",
        "classifier.add(Conv2D(80,(2,3), activation = 'relu'))\n",
        "classifier.add(Dropout(rate = dout))\n",
        "\n",
        "classifier.add(Flatten())\n",
        "\n",
        "classifier.add(Dense(output_dim = 128 , activation = 'relu')) # hidden layer\n",
        "classifier.add(Dropout(rate = dout))\n",
        "classifier.add(Dense(output_dim = 8 , activation = 'softmax'))\n",
        "\n",
        "#from keras import optimizers\n",
        "#adamOpt = optimizers.adam(lr = 0.01)\n",
        "\n",
        "classifier.compile(optimizer = 'adam', loss = 'categorical_crossentropy', metrics = ['accuracy'])\n",
        "\n",
        "#logger = keras.callbacks.TensorBoard(log_dir=\"./logs\", write_graph=True, histogram_freq=0)\n",
        "\n",
        "classifier.summary()\n",
        "print(\"Model Created!\")\n"
      ],
      "execution_count": 0,
      "outputs": []
    },
    {
      "cell_type": "markdown",
      "metadata": {
        "id": "PFwbq2eup-98",
        "colab_type": "text"
      },
      "source": [
        "#Making CNN3 model (two-convolutional-layer)"
      ]
    },
    {
      "cell_type": "code",
      "metadata": {
        "id": "4EOnbMLu3Qpw",
        "colab_type": "code",
        "colab": {}
      },
      "source": [
        "import keras\n",
        "from keras.models import Sequential\n",
        "from keras.layers import Conv2D\n",
        "from keras.layers import MaxPooling2D\n",
        "from keras.layers import Flatten\n",
        "from keras.layers import Dense\n",
        "from keras.layers import Dropout\n",
        "\n",
        "classifier = Sequential()\n",
        "\n",
        "dout = 0.4\n",
        "\n",
        "classifier.add(Conv2D(80,2,3, activation = 'relu'))\n",
        "classifier.add(Dropout(rate = dout))\n",
        "\n",
        "classifier.add(Conv2D(256,1,3, input_shape =  (2,128,1), activation = 'relu')) # 256=number of filter\n",
        "classifier.add(Dropout(rate = dout))\n",
        "\n",
        "classifier.add(Flatten())\n",
        "\n",
        "classifier.add(Dense(output_dim = 128 , activation = 'relu')) # hidden layer\n",
        "classifier.add(Dropout(rate = dout))\n",
        "classifier.add(Dense(output_dim = 8 , activation = 'softmax'))\n",
        "\n",
        "#from keras import optimizers\n",
        "#adamOpt = optimizers.adam(lr = 0.01)\n",
        "\n",
        "classifier.compile(optimizer = 'adam', loss = 'categorical_crossentropy', metrics = ['accuracy'])\n",
        "\n",
        "#logger = keras.callbacks.TensorBoard(log_dir=\"./logs\", write_graph=True, histogram_freq=0)\n",
        "\n",
        "classifier.summary()\n",
        "print(\"Model Created!\")"
      ],
      "execution_count": 0,
      "outputs": []
    },
    {
      "cell_type": "markdown",
      "metadata": {
        "id": "tcI2TeYzEwY6",
        "colab_type": "text"
      },
      "source": [
        "#Making CNN4 model (four-convolutional-layer)"
      ]
    },
    {
      "cell_type": "code",
      "metadata": {
        "id": "_EcNw2P4Ew_9",
        "colab_type": "code",
        "colab": {}
      },
      "source": [
        "import keras\n",
        "from keras.models import Sequential\n",
        "from keras.layers import Conv2D\n",
        "from keras.layers import MaxPooling2D\n",
        "from keras.layers import Flatten\n",
        "from keras.layers import Dense\n",
        "from keras.layers import Dropout\n",
        "\n",
        "classifier = Sequential()\n",
        "\n",
        "dout = 0.4\n",
        "classifier.add(Conv2D(256,1,3, input_shape =  (2,128,1), activation = 'relu')) # 256=number of filter\n",
        "classifier.add(Dropout(rate = dout))\n",
        "classifier.add(Conv2D(256,2,3, activation = 'relu')) # 256=number of filter\n",
        "classifier.add(Dropout(rate = dout))\n",
        "\n",
        "classifier.add(Conv2D(80,1,3, activation = 'relu'))\n",
        "classifier.add(Dropout(rate = dout))\n",
        "classifier.add(Conv2D(80,1,3, activation = 'relu'))\n",
        "classifier.add(Dropout(rate = dout))\n",
        "\n",
        "classifier.add(Flatten())\n",
        "\n",
        "classifier.add(Dense(output_dim = 128 , activation = 'relu')) # hidden layer\n",
        "classifier.add(Dropout(rate = dout))\n",
        "classifier.add(Dense(output_dim = 8 , activation = 'softmax'))\n",
        "\n",
        "#from keras import optimizers\n",
        "#adamOpt = optimizers.adam(lr = 0.01)\n",
        "\n",
        "classifier.compile(optimizer = 'adam', loss = 'categorical_crossentropy', metrics = ['accuracy'])\n",
        "\n",
        "#logger = keras.callbacks.TensorBoard(log_dir=\"./logs\", write_graph=True, histogram_freq=0)\n",
        "\n",
        "classifier.summary()\n",
        "print(\"Model Created!\")\n"
      ],
      "execution_count": 0,
      "outputs": []
    },
    {
      "cell_type": "markdown",
      "metadata": {
        "id": "Iv1KiftgFi9w",
        "colab_type": "text"
      },
      "source": [
        "#Making CNN5 model (five-convolutional-layer)"
      ]
    },
    {
      "cell_type": "code",
      "metadata": {
        "id": "DceZWd-aFjkP",
        "colab_type": "code",
        "colab": {}
      },
      "source": [
        "import keras\n",
        "from keras.models import Sequential\n",
        "from keras.layers import Conv2D\n",
        "from keras.layers import MaxPooling2D\n",
        "from keras.layers import Flatten\n",
        "from keras.layers import Dense\n",
        "from keras.layers import Dropout\n",
        "\n",
        "classifier = Sequential()\n",
        "\n",
        "dout = 0.4\n",
        "classifier.add(Conv2D(384,1,3, input_shape =  (2,128,1), activation = 'relu')) \n",
        "classifier.add(Dropout(rate = dout))\n",
        "classifier.add(Conv2D(256,2,3, activation = 'relu'))\n",
        "classifier.add(Dropout(rate = dout))\n",
        "classifier.add(Conv2D(80,1,3, activation = 'relu'))\n",
        "classifier.add(Dropout(rate = dout))\n",
        "classifier.add(Conv2D(256,1,3, activation = 'relu'))\n",
        "classifier.add(Dropout(rate = dout))\n",
        "classifier.add(Conv2D(80,1,3, activation = 'relu'))\n",
        "classifier.add(Dropout(rate = dout))\n",
        "\n",
        "classifier.add(Flatten())\n",
        "\n",
        "classifier.add(Dense(output_dim = 128 , activation = 'relu')) # hidden layer\n",
        "classifier.add(Dropout(rate = dout))\n",
        "classifier.add(Dense(output_dim = 8 , activation = 'softmax'))\n",
        "\n",
        "#from keras import optimizers\n",
        "#adamOpt = optimizers.adam(lr = 0.01)\n",
        "\n",
        "classifier.compile(optimizer = 'adam', loss = 'categorical_crossentropy', metrics = ['accuracy'])\n",
        "\n",
        "#logger = keras.callbacks.TensorBoard(log_dir=\"./logs\", write_graph=True, histogram_freq=0)\n",
        "\n",
        "classifier.summary()\n",
        "print(\"Model Created!\")"
      ],
      "execution_count": 0,
      "outputs": []
    },
    {
      "cell_type": "markdown",
      "metadata": {
        "id": "ct6SfO0K3RPR",
        "colab_type": "text"
      },
      "source": [
        "# Fitting model"
      ]
    },
    {
      "cell_type": "code",
      "metadata": {
        "id": "fTK9sEg7uiRA",
        "colab_type": "code",
        "outputId": "9f514adc-7648-4177-fcfc-51f363e225e6",
        "colab": {
          "base_uri": "https://localhost:8080/",
          "height": 1000
        }
      },
      "source": [
        "batch = 1024\n",
        "epoch = 100\n",
        "\n",
        "history = classifier.fit(X_train, y_train, batch_size = batch, epochs = epoch, validation_data=(X_test18, y_test18))\n",
        "#history = classifier.fit(X_train, y_train, batch_size = batch, epochs = epoch)"
      ],
      "execution_count": 27,
      "outputs": [
        {
          "output_type": "stream",
          "text": [
            "Train on 128000 samples, validate on 1653 samples\n",
            "Epoch 1/100\n",
            "128000/128000 [==============================] - 23s 176us/step - loss: 1.9684 - acc: 0.1802 - val_loss: 1.6354 - val_acc: 0.2880\n",
            "Epoch 2/100\n",
            "128000/128000 [==============================] - 21s 167us/step - loss: 1.8455 - acc: 0.2192 - val_loss: 1.5035 - val_acc: 0.3406\n",
            "Epoch 3/100\n",
            "128000/128000 [==============================] - 21s 167us/step - loss: 1.7990 - acc: 0.2388 - val_loss: 1.3985 - val_acc: 0.4858\n",
            "Epoch 4/100\n",
            "128000/128000 [==============================] - 21s 167us/step - loss: 1.6541 - acc: 0.3050 - val_loss: 1.0268 - val_acc: 0.5439\n",
            "Epoch 5/100\n",
            "128000/128000 [==============================] - 21s 167us/step - loss: 1.5504 - acc: 0.3480 - val_loss: 0.9116 - val_acc: 0.5771\n",
            "Epoch 6/100\n",
            "128000/128000 [==============================] - 21s 167us/step - loss: 1.4977 - acc: 0.3639 - val_loss: 0.8467 - val_acc: 0.5917\n",
            "Epoch 7/100\n",
            "128000/128000 [==============================] - 21s 167us/step - loss: 1.4875 - acc: 0.3732 - val_loss: 0.7576 - val_acc: 0.6304\n",
            "Epoch 8/100\n",
            "128000/128000 [==============================] - 21s 167us/step - loss: 1.4606 - acc: 0.3849 - val_loss: 0.7559 - val_acc: 0.6455\n",
            "Epoch 9/100\n",
            "128000/128000 [==============================] - 21s 167us/step - loss: 1.4410 - acc: 0.3916 - val_loss: 0.6775 - val_acc: 0.6770\n",
            "Epoch 10/100\n",
            "128000/128000 [==============================] - 21s 168us/step - loss: 1.4284 - acc: 0.3967 - val_loss: 0.6572 - val_acc: 0.6848\n",
            "Epoch 11/100\n",
            "128000/128000 [==============================] - 21s 167us/step - loss: 1.4174 - acc: 0.4041 - val_loss: 0.6151 - val_acc: 0.7145\n",
            "Epoch 12/100\n",
            "128000/128000 [==============================] - 21s 167us/step - loss: 1.3856 - acc: 0.4150 - val_loss: 0.4789 - val_acc: 0.7816\n",
            "Epoch 13/100\n",
            "128000/128000 [==============================] - 21s 168us/step - loss: 1.3509 - acc: 0.4287 - val_loss: 0.4616 - val_acc: 0.7641\n",
            "Epoch 14/100\n",
            "128000/128000 [==============================] - 21s 167us/step - loss: 1.3283 - acc: 0.4388 - val_loss: 0.4361 - val_acc: 0.7840\n",
            "Epoch 15/100\n",
            "128000/128000 [==============================] - 21s 168us/step - loss: 1.3155 - acc: 0.4440 - val_loss: 0.4026 - val_acc: 0.7943\n",
            "Epoch 16/100\n",
            "128000/128000 [==============================] - 21s 167us/step - loss: 1.3068 - acc: 0.4488 - val_loss: 0.4152 - val_acc: 0.7901\n",
            "Epoch 17/100\n",
            "128000/128000 [==============================] - 21s 167us/step - loss: 1.3034 - acc: 0.4507 - val_loss: 0.3976 - val_acc: 0.7925\n",
            "Epoch 18/100\n",
            "128000/128000 [==============================] - 21s 167us/step - loss: 1.3005 - acc: 0.4514 - val_loss: 0.4295 - val_acc: 0.7822\n",
            "Epoch 19/100\n",
            "128000/128000 [==============================] - 21s 167us/step - loss: 1.2910 - acc: 0.4529 - val_loss: 0.4086 - val_acc: 0.7762\n",
            "Epoch 20/100\n",
            "128000/128000 [==============================] - 21s 167us/step - loss: 1.2844 - acc: 0.4543 - val_loss: 0.4084 - val_acc: 0.7798\n",
            "Epoch 21/100\n",
            "128000/128000 [==============================] - 21s 167us/step - loss: 1.2796 - acc: 0.4559 - val_loss: 0.4072 - val_acc: 0.7858\n",
            "Epoch 22/100\n",
            "128000/128000 [==============================] - 21s 167us/step - loss: 1.2782 - acc: 0.4575 - val_loss: 0.4051 - val_acc: 0.7786\n",
            "Epoch 23/100\n",
            "128000/128000 [==============================] - 21s 167us/step - loss: 1.2740 - acc: 0.4598 - val_loss: 0.4008 - val_acc: 0.7937\n",
            "Epoch 24/100\n",
            "128000/128000 [==============================] - 21s 168us/step - loss: 1.2707 - acc: 0.4608 - val_loss: 0.4086 - val_acc: 0.7774\n",
            "Epoch 25/100\n",
            "128000/128000 [==============================] - 21s 167us/step - loss: 1.2693 - acc: 0.4612 - val_loss: 0.4061 - val_acc: 0.7774\n",
            "Epoch 26/100\n",
            "128000/128000 [==============================] - 21s 168us/step - loss: 1.2678 - acc: 0.4610 - val_loss: 0.3905 - val_acc: 0.7901\n",
            "Epoch 27/100\n",
            "128000/128000 [==============================] - 21s 167us/step - loss: 1.2639 - acc: 0.4607 - val_loss: 0.4006 - val_acc: 0.7604\n",
            "Epoch 28/100\n",
            "128000/128000 [==============================] - 21s 167us/step - loss: 1.2572 - acc: 0.4649 - val_loss: 0.3781 - val_acc: 0.7937\n",
            "Epoch 29/100\n",
            "128000/128000 [==============================] - 21s 168us/step - loss: 1.2537 - acc: 0.4662 - val_loss: 0.3864 - val_acc: 0.7737\n",
            "Epoch 30/100\n",
            "128000/128000 [==============================] - 21s 167us/step - loss: 1.2497 - acc: 0.4683 - val_loss: 0.3793 - val_acc: 0.7985\n",
            "Epoch 31/100\n",
            "128000/128000 [==============================] - 21s 167us/step - loss: 1.2474 - acc: 0.4696 - val_loss: 0.3811 - val_acc: 0.7804\n",
            "Epoch 32/100\n",
            "128000/128000 [==============================] - 21s 167us/step - loss: 1.2471 - acc: 0.4695 - val_loss: 0.3808 - val_acc: 0.7901\n",
            "Epoch 33/100\n",
            "128000/128000 [==============================] - 21s 167us/step - loss: 1.2419 - acc: 0.4716 - val_loss: 0.3739 - val_acc: 0.7949\n",
            "Epoch 34/100\n",
            "128000/128000 [==============================] - 21s 167us/step - loss: 1.2407 - acc: 0.4722 - val_loss: 0.3651 - val_acc: 0.8052\n",
            "Epoch 35/100\n",
            "128000/128000 [==============================] - 21s 168us/step - loss: 1.2373 - acc: 0.4741 - val_loss: 0.3965 - val_acc: 0.8028\n",
            "Epoch 36/100\n",
            "128000/128000 [==============================] - 21s 167us/step - loss: 1.2386 - acc: 0.4724 - val_loss: 0.3552 - val_acc: 0.8040\n",
            "Epoch 37/100\n",
            "128000/128000 [==============================] - 21s 167us/step - loss: 1.2337 - acc: 0.4774 - val_loss: 0.3553 - val_acc: 0.8040\n",
            "Epoch 38/100\n",
            "128000/128000 [==============================] - 21s 167us/step - loss: 1.2295 - acc: 0.4776 - val_loss: 0.3575 - val_acc: 0.8040\n",
            "Epoch 39/100\n",
            "128000/128000 [==============================] - 21s 167us/step - loss: 1.2289 - acc: 0.4768 - val_loss: 0.3750 - val_acc: 0.7937\n",
            "Epoch 40/100\n",
            "128000/128000 [==============================] - 22s 168us/step - loss: 1.2278 - acc: 0.4782 - val_loss: 0.3566 - val_acc: 0.8010\n",
            "Epoch 41/100\n",
            "128000/128000 [==============================] - 21s 167us/step - loss: 1.2162 - acc: 0.4818 - val_loss: 0.3456 - val_acc: 0.8046\n",
            "Epoch 42/100\n",
            "128000/128000 [==============================] - 22s 168us/step - loss: 1.2094 - acc: 0.4824 - val_loss: 0.3573 - val_acc: 0.7985\n",
            "Epoch 43/100\n",
            "128000/128000 [==============================] - 21s 168us/step - loss: 1.2086 - acc: 0.4828 - val_loss: 0.3455 - val_acc: 0.8100\n",
            "Epoch 44/100\n",
            "128000/128000 [==============================] - 21s 168us/step - loss: 1.2037 - acc: 0.4836 - val_loss: 0.3531 - val_acc: 0.8028\n",
            "Epoch 45/100\n",
            "128000/128000 [==============================] - 21s 168us/step - loss: 1.2008 - acc: 0.4855 - val_loss: 0.3531 - val_acc: 0.7979\n",
            "Epoch 46/100\n",
            "128000/128000 [==============================] - 21s 168us/step - loss: 1.1948 - acc: 0.4859 - val_loss: 0.3404 - val_acc: 0.7992\n",
            "Epoch 47/100\n",
            "128000/128000 [==============================] - 21s 168us/step - loss: 1.1905 - acc: 0.4880 - val_loss: 0.3384 - val_acc: 0.8131\n",
            "Epoch 48/100\n",
            "128000/128000 [==============================] - 21s 168us/step - loss: 1.1853 - acc: 0.4881 - val_loss: 0.3381 - val_acc: 0.8064\n",
            "Epoch 49/100\n",
            "128000/128000 [==============================] - 21s 168us/step - loss: 1.1859 - acc: 0.4885 - val_loss: 0.3440 - val_acc: 0.8028\n",
            "Epoch 50/100\n",
            "128000/128000 [==============================] - 21s 168us/step - loss: 1.1788 - acc: 0.4895 - val_loss: 0.3297 - val_acc: 0.8113\n",
            "Epoch 51/100\n",
            "128000/128000 [==============================] - 21s 168us/step - loss: 1.1816 - acc: 0.4891 - val_loss: 0.3413 - val_acc: 0.8076\n",
            "Epoch 52/100\n",
            "128000/128000 [==============================] - 21s 168us/step - loss: 1.1797 - acc: 0.4895 - val_loss: 0.3402 - val_acc: 0.8034\n",
            "Epoch 53/100\n",
            "128000/128000 [==============================] - 21s 167us/step - loss: 1.1786 - acc: 0.4903 - val_loss: 0.3298 - val_acc: 0.8125\n",
            "Epoch 54/100\n",
            "128000/128000 [==============================] - 21s 167us/step - loss: 1.1762 - acc: 0.4907 - val_loss: 0.3295 - val_acc: 0.8179\n",
            "Epoch 55/100\n",
            "128000/128000 [==============================] - 21s 167us/step - loss: 1.1754 - acc: 0.4915 - val_loss: 0.3283 - val_acc: 0.8137\n",
            "Epoch 56/100\n",
            "128000/128000 [==============================] - 21s 167us/step - loss: 1.1729 - acc: 0.4919 - val_loss: 0.3262 - val_acc: 0.8155\n",
            "Epoch 57/100\n",
            "128000/128000 [==============================] - 21s 167us/step - loss: 1.1728 - acc: 0.4917 - val_loss: 0.3304 - val_acc: 0.8149\n",
            "Epoch 58/100\n",
            "128000/128000 [==============================] - 21s 167us/step - loss: 1.1713 - acc: 0.4936 - val_loss: 0.3265 - val_acc: 0.8064\n",
            "Epoch 59/100\n",
            "128000/128000 [==============================] - 21s 167us/step - loss: 1.1714 - acc: 0.4914 - val_loss: 0.3261 - val_acc: 0.8161\n",
            "Epoch 60/100\n",
            "128000/128000 [==============================] - 21s 167us/step - loss: 1.1635 - acc: 0.4942 - val_loss: 0.3215 - val_acc: 0.8076\n",
            "Epoch 61/100\n",
            "128000/128000 [==============================] - 21s 167us/step - loss: 1.1604 - acc: 0.4954 - val_loss: 0.3276 - val_acc: 0.8246\n",
            "Epoch 62/100\n",
            "128000/128000 [==============================] - 21s 168us/step - loss: 1.1582 - acc: 0.4946 - val_loss: 0.3256 - val_acc: 0.8155\n",
            "Epoch 63/100\n",
            "128000/128000 [==============================] - 21s 167us/step - loss: 1.1548 - acc: 0.4963 - val_loss: 0.3179 - val_acc: 0.8143\n",
            "Epoch 64/100\n",
            "128000/128000 [==============================] - 21s 168us/step - loss: 1.1563 - acc: 0.4955 - val_loss: 0.3127 - val_acc: 0.8270\n",
            "Epoch 65/100\n",
            "128000/128000 [==============================] - 21s 168us/step - loss: 1.1561 - acc: 0.4973 - val_loss: 0.3172 - val_acc: 0.8227\n",
            "Epoch 66/100\n",
            "128000/128000 [==============================] - 21s 168us/step - loss: 1.1523 - acc: 0.4974 - val_loss: 0.3182 - val_acc: 0.8197\n",
            "Epoch 67/100\n",
            "128000/128000 [==============================] - 21s 168us/step - loss: 1.1523 - acc: 0.4979 - val_loss: 0.3143 - val_acc: 0.8234\n",
            "Epoch 68/100\n",
            "128000/128000 [==============================] - 21s 167us/step - loss: 1.1525 - acc: 0.4995 - val_loss: 0.3103 - val_acc: 0.8294\n",
            "Epoch 69/100\n",
            "128000/128000 [==============================] - 21s 167us/step - loss: 1.1463 - acc: 0.5016 - val_loss: 0.3088 - val_acc: 0.8246\n",
            "Epoch 70/100\n",
            "128000/128000 [==============================] - 21s 167us/step - loss: 1.1478 - acc: 0.5016 - val_loss: 0.3036 - val_acc: 0.8306\n",
            "Epoch 71/100\n",
            "128000/128000 [==============================] - 21s 168us/step - loss: 1.1471 - acc: 0.5018 - val_loss: 0.3037 - val_acc: 0.8355\n",
            "Epoch 72/100\n",
            "128000/128000 [==============================] - 21s 168us/step - loss: 1.1451 - acc: 0.5022 - val_loss: 0.3019 - val_acc: 0.8294\n",
            "Epoch 73/100\n",
            "128000/128000 [==============================] - 21s 167us/step - loss: 1.1455 - acc: 0.5043 - val_loss: 0.3030 - val_acc: 0.8215\n",
            "Epoch 74/100\n",
            "128000/128000 [==============================] - 21s 168us/step - loss: 1.1436 - acc: 0.5046 - val_loss: 0.2982 - val_acc: 0.8282\n",
            "Epoch 75/100\n",
            "128000/128000 [==============================] - 21s 167us/step - loss: 1.1405 - acc: 0.5047 - val_loss: 0.2907 - val_acc: 0.8361\n",
            "Epoch 76/100\n",
            "128000/128000 [==============================] - 22s 168us/step - loss: 1.1387 - acc: 0.5061 - val_loss: 0.2952 - val_acc: 0.8294\n",
            "Epoch 77/100\n",
            "128000/128000 [==============================] - 21s 167us/step - loss: 1.1394 - acc: 0.5061 - val_loss: 0.2945 - val_acc: 0.8330\n",
            "Epoch 78/100\n",
            "128000/128000 [==============================] - 21s 168us/step - loss: 1.1399 - acc: 0.5067 - val_loss: 0.2893 - val_acc: 0.8318\n",
            "Epoch 79/100\n",
            "128000/128000 [==============================] - 21s 168us/step - loss: 1.1361 - acc: 0.5071 - val_loss: 0.2901 - val_acc: 0.8342\n",
            "Epoch 80/100\n",
            "128000/128000 [==============================] - 21s 168us/step - loss: 1.1336 - acc: 0.5101 - val_loss: 0.2902 - val_acc: 0.8409\n",
            "Epoch 81/100\n",
            "128000/128000 [==============================] - 21s 168us/step - loss: 1.1354 - acc: 0.5100 - val_loss: 0.2800 - val_acc: 0.8433\n",
            "Epoch 82/100\n",
            "128000/128000 [==============================] - 21s 168us/step - loss: 1.1337 - acc: 0.5088 - val_loss: 0.2783 - val_acc: 0.8391\n",
            "Epoch 83/100\n",
            "128000/128000 [==============================] - 21s 168us/step - loss: 1.1319 - acc: 0.5111 - val_loss: 0.2843 - val_acc: 0.8379\n",
            "Epoch 84/100\n",
            "128000/128000 [==============================] - 21s 168us/step - loss: 1.1277 - acc: 0.5110 - val_loss: 0.2913 - val_acc: 0.8318\n",
            "Epoch 85/100\n",
            "128000/128000 [==============================] - 21s 168us/step - loss: 1.1264 - acc: 0.5129 - val_loss: 0.2742 - val_acc: 0.8367\n",
            "Epoch 86/100\n",
            "128000/128000 [==============================] - 21s 168us/step - loss: 1.1185 - acc: 0.5169 - val_loss: 0.2648 - val_acc: 0.8524\n",
            "Epoch 87/100\n",
            "128000/128000 [==============================] - 21s 168us/step - loss: 1.1149 - acc: 0.5155 - val_loss: 0.2633 - val_acc: 0.8403\n",
            "Epoch 88/100\n",
            "128000/128000 [==============================] - 22s 168us/step - loss: 1.1132 - acc: 0.5178 - val_loss: 0.2700 - val_acc: 0.8512\n",
            "Epoch 89/100\n",
            "128000/128000 [==============================] - 21s 168us/step - loss: 1.1125 - acc: 0.5175 - val_loss: 0.2757 - val_acc: 0.8415\n",
            "Epoch 90/100\n",
            "128000/128000 [==============================] - 22s 168us/step - loss: 1.1073 - acc: 0.5201 - val_loss: 0.2715 - val_acc: 0.8415\n",
            "Epoch 91/100\n",
            "128000/128000 [==============================] - 21s 168us/step - loss: 1.1043 - acc: 0.5199 - val_loss: 0.2740 - val_acc: 0.8361\n",
            "Epoch 92/100\n",
            "128000/128000 [==============================] - 21s 168us/step - loss: 1.1010 - acc: 0.5218 - val_loss: 0.2714 - val_acc: 0.8445\n",
            "Epoch 93/100\n",
            "128000/128000 [==============================] - 21s 168us/step - loss: 1.1036 - acc: 0.5202 - val_loss: 0.2683 - val_acc: 0.8445\n",
            "Epoch 94/100\n",
            "128000/128000 [==============================] - 21s 168us/step - loss: 1.1005 - acc: 0.5239 - val_loss: 0.2781 - val_acc: 0.8379\n",
            "Epoch 95/100\n",
            "128000/128000 [==============================] - 21s 168us/step - loss: 1.0963 - acc: 0.5240 - val_loss: 0.2647 - val_acc: 0.8427\n",
            "Epoch 96/100\n",
            "128000/128000 [==============================] - 21s 168us/step - loss: 1.0971 - acc: 0.5222 - val_loss: 0.2573 - val_acc: 0.8494\n",
            "Epoch 97/100\n",
            "128000/128000 [==============================] - 21s 167us/step - loss: 1.0980 - acc: 0.5223 - val_loss: 0.2678 - val_acc: 0.8421\n",
            "Epoch 98/100\n",
            "128000/128000 [==============================] - 21s 168us/step - loss: 1.0962 - acc: 0.5229 - val_loss: 0.2606 - val_acc: 0.8506\n",
            "Epoch 99/100\n",
            "128000/128000 [==============================] - 21s 168us/step - loss: 1.0939 - acc: 0.5239 - val_loss: 0.2623 - val_acc: 0.8494\n",
            "Epoch 100/100\n",
            "128000/128000 [==============================] - 21s 168us/step - loss: 1.0956 - acc: 0.5244 - val_loss: 0.2538 - val_acc: 0.8554\n"
          ],
          "name": "stdout"
        }
      ]
    },
    {
      "cell_type": "code",
      "metadata": {
        "id": "aXKlbDvMkD6E",
        "colab_type": "code",
        "colab": {}
      },
      "source": [
        ""
      ],
      "execution_count": 0,
      "outputs": []
    },
    {
      "cell_type": "markdown",
      "metadata": {
        "id": "OVFgwssVfxtd",
        "colab_type": "text"
      },
      "source": [
        "# Save model"
      ]
    },
    {
      "cell_type": "code",
      "metadata": {
        "id": "fKe0m_39HiWU",
        "colab_type": "code",
        "outputId": "46e9c99f-6e50-4761-f574-d794b65e6377",
        "colab": {
          "base_uri": "https://localhost:8080/",
          "height": 34
        }
      },
      "source": [
        "\n",
        "dic = \"/content/drive/My Drive/Colab Notebooks/\"\n",
        "classifier.save(dic+f'SaveModel/CNN3-64(1,3)-64(1,3)-64(1,3)-64(2,3)-ba{batch}-ep{epoch}-(dout=0.5)-input(IQ)(SNR=all).h5')\n",
        "f = open(dic+f'SaveModel/CNN3-64(1,3)-64(1,3)-64(1,3)-64(2,3)-ba{batch}-ep{epoch}-(dout=0.5)-input(IQ)(SNR=all)-history.txt',\"w\")\n",
        "f.write( str(classifier.history.history) )\n",
        "f.close()\n",
        "\n",
        "print('Model Saved!')"
      ],
      "execution_count": 28,
      "outputs": [
        {
          "output_type": "stream",
          "text": [
            "Model Saved!\n"
          ],
          "name": "stdout"
        }
      ]
    },
    {
      "cell_type": "markdown",
      "metadata": {
        "id": "cNGu7HtyhGc2",
        "colab_type": "text"
      },
      "source": [
        "\n",
        "# Prediction(only SNR=18)"
      ]
    },
    {
      "cell_type": "code",
      "metadata": {
        "id": "6irYYHCZ6A2C",
        "colab_type": "code",
        "outputId": "0c97d29a-7e7a-4ca7-b475-755aa83278d9",
        "colab": {
          "base_uri": "https://localhost:8080/",
          "height": 84
        }
      },
      "source": [
        "y_pred = classifier.predict(X_test18)\n",
        "y_pred = np.argmax(y_pred, axis=1)\n",
        "\n",
        "y_real = np.argmax(y_test18, axis=1)\n",
        "# Making the Confusion Matrix\n",
        "from sklearn.metrics import confusion_matrix\n",
        "cm = confusion_matrix(y_real, y_pred)\n",
        "cm_norm = cm.astype('float') / cm.sum(axis=1)[:, np.newaxis]\n",
        "\n",
        "acc_test = classifier.evaluate(X_test18, y_test18)[1]\n",
        "acc_train = classifier.evaluate(X_train, y_train)[1]\n",
        "\n",
        "print(\"Acc Test : \", acc_test)\n",
        "print(\"Acc Train : \", acc_train)\n"
      ],
      "execution_count": 0,
      "outputs": [
        {
          "output_type": "stream",
          "text": [
            "1653/1653 [==============================] - 0s 81us/step\n",
            "128000/128000 [==============================] - 10s 79us/step\n",
            "Acc Test :  0.8354506957408376\n",
            "Acc Train :  0.5644609375\n"
          ],
          "name": "stdout"
        }
      ]
    },
    {
      "cell_type": "markdown",
      "metadata": {
        "id": "ShXqOJL47hCE",
        "colab_type": "text"
      },
      "source": [
        "# Plot Confusion Matrix"
      ]
    },
    {
      "cell_type": "code",
      "metadata": {
        "id": "-6AbLWccANuo",
        "colab_type": "code",
        "outputId": "62ca62f1-de76-41fc-867e-1259e9ea2242",
        "colab": {
          "base_uri": "https://localhost:8080/",
          "height": 84
        }
      },
      "source": [
        "import matplotlib.pyplot as plt\n",
        "import seaborn as sns\n",
        "from sklearn.metrics import confusion_matrix\n",
        "import pandas as pd\n",
        "\n",
        "modulation_order = []\n",
        "modulation_order_dict = dict()\n",
        "\n",
        "for key,value in output.items():\n",
        "    modulation_order_dict[np.argmax(value)] = str(key)\n",
        "    \n",
        "for i in range(8):\n",
        "    modulation_order.append(modulation_order_dict[i])\n",
        "    \n",
        "acc_test = classifier.evaluate(X_test18, y_test18)[1]\n",
        "acc_train = classifier.evaluate(X_train, y_train)[1]\n",
        "\n",
        "print(\"Acc Test : \", acc_test)\n",
        "print(\"Acc Train : \", acc_train)    "
      ],
      "execution_count": 29,
      "outputs": [
        {
          "output_type": "stream",
          "text": [
            "1653/1653 [==============================] - 0s 172us/step\n",
            "128000/128000 [==============================] - 17s 130us/step\n",
            "Acc Test :  0.8554143981001843\n",
            "Acc Train :  0.579328125\n"
          ],
          "name": "stdout"
        }
      ]
    },
    {
      "cell_type": "code",
      "metadata": {
        "id": "Vv5RzFyj_Cj1",
        "colab_type": "code",
        "outputId": "fa722349-8bcd-4cb4-f9a0-57cc32cf6c2f",
        "colab": {
          "base_uri": "https://localhost:8080/",
          "height": 1000
        }
      },
      "source": [
        "dic = \"/content/drive/My Drive/Colab Notebooks/\"\n",
        "acc = []\n",
        "\n",
        "for snr in snrList:\n",
        "  print('SNR: ', snr)\n",
        "    \n",
        "  y_test_snr = []\n",
        "  X_test_snr = []\n",
        "  for i in range(X_test.shape[0]):\n",
        "    if X_test[i,0,0] == int(snr):\n",
        "      X_test_snr.append(X_test[i])\n",
        "      y_test_snr.append(y_test[i])\n",
        "        \n",
        "  X_test_snr = np.array(X_test_snr)\n",
        "  y_test_snr = np.array(y_test_snr)        \n",
        "  X_test_snr = X_test_snr[:,:,1:]\n",
        "  \n",
        "  X_test_snr = X_test_snr.reshape([X_test_snr.shape[0],256])\n",
        "  X_test_snr = sc.transform(X_test_snr)\n",
        "  X_test_snr = X_test_snr.reshape([X_test_snr.shape[0],2,128])\n",
        "  \n",
        "  X_test_snr = X_test_snr.reshape(-1,2, 128, 1) # For CNN\n",
        "    \n",
        "  acc_test = classifier.evaluate(X_test_snr, y_test_snr)[1]\n",
        "  acc.append(acc_test)\n",
        "  print(acc_test)\n",
        "  '''\n",
        "  y_pred = classifier.predict(X_test_snr)\n",
        "  y_pred = np.argmax(y_pred, axis=1)\n",
        "\n",
        "  y_real = np.argmax(y_test_snr, axis=1)\n",
        "  # Making the Confusion Matrix\n",
        "  cm = confusion_matrix(y_real, y_pred)\n",
        "  cm_norm = cm.astype('float') / cm.sum(axis=1)[:, np.newaxis]\n",
        "    \n",
        "    \n",
        "  cmDataFrame = pd.DataFrame(cm_norm, index=modulation_order, columns = modulation_order)\n",
        "  plt.figure(figsize=(6, 5))\n",
        "  ax = sns.heatmap(cmDataFrame, annot=True, annot_kws={\"size\": 8}, fmt='.2f', linewidths=.5, cmap=\"Blues\")\n",
        "\n",
        "  plt.title(f\"CNN0[128(1,7)-64(2,5)] Confusion Matrix (SNR={snr})\")\n",
        "  plt.xlabel(\"Predicted label  \\n\\n TrainAcc={:.2}, TestAcc={:.2}\".format(acc_train,acc_test), fontsize=8)\n",
        "  plt.ylabel(\"True lable\", fontsize=8)\n",
        "  plt.setp(ax.get_xticklabels(), rotation=45, ha=\"right\",rotation_mode=\"anchor\", fontsize=8)\n",
        "  plt.setp(ax.get_yticklabels(), fontsize=8)\n",
        "  fig = ax.get_figure()\n",
        "\n",
        "  fig.savefig(dic+f\"/Pic/CNN/CNN0-128(1,7)-64(2,5)-ba{batch}-ep{epoch}-(dout=0.5)-input(IQ)(SNR={snr}).png\", dpi=175, bbox_inches='tight')\n",
        "  fig.savefig(dic+f\"/Pic/CNN/CNN0-128(1,7)-64(2,5)-ba{batch}-ep{epoch}-(dout=0.5)-input(IQ)(SNR={snr}).eps\", bbox_inches='tight')\n",
        "  print(\"Plot Saved!\")\n",
        "'''\n",
        "\n",
        "  del(y_test_snr)\n",
        "  del(X_test_snr)\n",
        "      \n",
        "print(acc)    \n",
        "    "
      ],
      "execution_count": 30,
      "outputs": [
        {
          "output_type": "stream",
          "text": [
            "SNR:  -20\n",
            "1636/1636 [==============================] - 0s 138us/step\n",
            "0.12163814180929096\n",
            "SNR:  -18\n",
            "1630/1630 [==============================] - 0s 155us/step\n",
            "0.1122699386777322\n",
            "SNR:  -16\n",
            "1606/1606 [==============================] - 0s 139us/step\n",
            "0.1320049813200498\n",
            "SNR:  -14\n",
            "1633/1633 [==============================] - 0s 131us/step\n",
            "0.12614819350887937\n",
            "SNR:  -12\n",
            "1567/1567 [==============================] - 0s 157us/step\n",
            "0.18251435859004023\n",
            "SNR:  -10\n",
            "1561/1561 [==============================] - 0s 146us/step\n",
            "0.2261370915793059\n",
            "SNR:  -8\n",
            "1605/1605 [==============================] - 0s 135us/step\n",
            "0.31588785046728973\n",
            "SNR:  -6\n",
            "1605/1605 [==============================] - 0s 127us/step\n",
            "0.42679127733284067\n",
            "SNR:  -4\n",
            "1600/1600 [==============================] - 0s 130us/step\n",
            "0.528125\n",
            "SNR:  -2\n",
            "1642/1642 [==============================] - 0s 134us/step\n",
            "0.6693057246533439\n",
            "SNR:  0\n",
            "1570/1570 [==============================] - 0s 134us/step\n",
            "0.7821656050955414\n",
            "SNR:  2\n",
            "1577/1577 [==============================] - 0s 138us/step\n",
            "0.830691185833611\n",
            "SNR:  4\n",
            "1555/1555 [==============================] - 0s 149us/step\n",
            "0.8456591637954834\n",
            "SNR:  6\n",
            "1598/1598 [==============================] - 0s 125us/step\n",
            "0.832916145405274\n",
            "SNR:  8\n",
            "1568/1568 [==============================] - 0s 128us/step\n",
            "0.8367346938775511\n",
            "SNR:  10\n",
            "1542/1542 [==============================] - 0s 130us/step\n",
            "0.8527885862516212\n",
            "SNR:  12\n",
            "1598/1598 [==============================] - 0s 130us/step\n",
            "0.8416770966688593\n",
            "SNR:  14\n",
            "1616/1616 [==============================] - 0s 133us/step\n",
            "0.8428217821782178\n",
            "SNR:  16\n",
            "1638/1638 [==============================] - 0s 126us/step\n",
            "0.8565323565323565\n",
            "SNR:  18\n",
            "1653/1653 [==============================] - 0s 129us/step\n",
            "0.8554143981001843\n",
            "[0.12163814180929096, 0.1122699386777322, 0.1320049813200498, 0.12614819350887937, 0.18251435859004023, 0.2261370915793059, 0.31588785046728973, 0.42679127733284067, 0.528125, 0.6693057246533439, 0.7821656050955414, 0.830691185833611, 0.8456591637954834, 0.832916145405274, 0.8367346938775511, 0.8527885862516212, 0.8416770966688593, 0.8428217821782178, 0.8565323565323565, 0.8554143981001843]\n"
          ],
          "name": "stdout"
        }
      ]
    },
    {
      "cell_type": "markdown",
      "metadata": {
        "id": "9_d7UlrRJTdJ",
        "colab_type": "text"
      },
      "source": [
        "# Plot accuracy and loss"
      ]
    },
    {
      "cell_type": "code",
      "metadata": {
        "id": "Ofyw4cqWJZQD",
        "colab_type": "code",
        "colab": {}
      },
      "source": [
        "import matplotlib.pyplot as plt\n",
        "def plot_history(history):\n",
        "    loss_list = [s for s in history.history.keys() if 'loss' in s and 'val' not in s]\n",
        "    val_loss_list = [s for s in history.history.keys() if 'loss' in s and 'val' in s]\n",
        "    acc_list = [s for s in history.history.keys() if 'acc' in s and 'val' not in s]\n",
        "    val_acc_list = [s for s in history.history.keys() if 'acc' in s and 'val' in s]\n",
        "    \n",
        "    if len(loss_list) == 0:\n",
        "        print('Loss is missing in history')\n",
        "        return \n",
        "    \n",
        "    ## As loss always exists\n",
        "    epochs = range(1,len(history.history[loss_list[0]]) + 1)\n",
        "    \n",
        "    ## Loss\n",
        "    plt.figure(1)\n",
        "    for l in loss_list:\n",
        "        plt.plot(epochs, history.history[l], 'b', label='Training loss (' + str(str(format(history.history[l][-1],'.5f'))+')'))\n",
        "    for l in val_loss_list:\n",
        "        plt.plot(epochs, history.history[l], 'g', label='Validation loss (' + str(str(format(history.history[l][-1],'.5f'))+')'))  \n",
        "    \n",
        "    plt.title('Loss')\n",
        "    plt.xlabel('Epochs')\n",
        "    plt.ylabel('Loss')\n",
        "    plt.legend()\n",
        "    \n",
        "    ## Accuracy\n",
        "    plt.figure(2)\n",
        "    for l in acc_list:\n",
        "        plt.plot(epochs, history.history[l], 'b', label='Training accuracy (' + str(format(history.history[l][-1],'.5f'))+')')\n",
        "    for l in val_acc_list:    \n",
        "        plt.plot(epochs, history.history[l], 'g', label='Validation accuracy (' + str(format(history.history[l][-1],'.5f'))+')')\n",
        "\n",
        "    plt.title('Accuracy')\n",
        "    plt.xlabel('Epochs')\n",
        "    plt.ylabel('Accuracy')\n",
        "    plt.legend()\n",
        "    plt.show()\n",
        "    \n"
      ],
      "execution_count": 0,
      "outputs": []
    },
    {
      "cell_type": "code",
      "metadata": {
        "id": "LvZtjPOeJadx",
        "colab_type": "code",
        "outputId": "5baecf76-4ccd-4d5f-9c32-c43305ec564b",
        "colab": {
          "base_uri": "https://localhost:8080/",
          "height": 574
        }
      },
      "source": [
        "plot_history(classifier.history)"
      ],
      "execution_count": 0,
      "outputs": [
        {
          "output_type": "display_data",
          "data": {
            "image/png": "[encoded data removed]",
            "text/plain": [
              "<Figure size 432x288 with 1 Axes>"
            ]
          },
          "metadata": {
            "tags": []
          }
        },
        {
          "output_type": "display_data",
          "data": {
            "image/png": "[encoded data removed]",
            "text/plain": [
              "<Figure size 432x288 with 1 Axes>"
            ]
          },
          "metadata": {
            "tags": []
          }
        }
      ]
    },
    {
      "cell_type": "markdown",
      "metadata": {
        "id": "cYsdM-_E0JOk",
        "colab_type": "text"
      },
      "source": [
        "Laod Model"
      ]
    },
    {
      "cell_type": "code",
      "metadata": {
        "id": "4YwGx5eVtNHf",
        "colab_type": "code",
        "outputId": "b4b4dfc6-89c8-4fa2-912e-d13005e9258f",
        "colab": {
          "base_uri": "https://localhost:8080/",
          "height": 34
        }
      },
      "source": [
        "from keras.models import load_model\n",
        "dic = \"/content/drive/My Drive/Colab Notebooks/\"\n",
        "\n",
        "model = load_model(dic+f'SaveModel/CNN0-128(1,5)-64(2,5)-ba{batch}-ep{epoch}-(dout=0.5)-input(IQ)(SNR=all).h5')\n",
        "\n",
        "print('Model loaded!')"
      ],
      "execution_count": 0,
      "outputs": [
        {
          "output_type": "stream",
          "text": [
            "Model loaded!\n"
          ],
          "name": "stdout"
        }
      ]
    },
    {
      "cell_type": "code",
      "metadata": {
        "id": "6pAIUxXfoxJD",
        "colab_type": "code",
        "outputId": "bb04d472-266b-4c15-fc0e-c17cfeed44dd",
        "colab": {
          "base_uri": "https://localhost:8080/",
          "height": 1000
        }
      },
      "source": [
        "classifier = model\n",
        "model.get_config()\n",
        "\n",
        "\n",
        "\n",
        "\n"
      ],
      "execution_count": 0,
      "outputs": [
        {
          "output_type": "execute_result",
          "data": {
            "text/plain": [
              "{'layers': [{'class_name': 'Conv2D',\n",
              "   'config': {'activation': 'relu',\n",
              "    'activity_regularizer': None,\n",
              "    'batch_input_shape': (None, 2, 128, 1),\n",
              "    'bias_constraint': None,\n",
              "    'bias_initializer': {'class_name': 'Zeros', 'config': {}},\n",
              "    'bias_regularizer': None,\n",
              "    'data_format': 'channels_last',\n",
              "    'dilation_rate': (1, 1),\n",
              "    'dtype': 'float32',\n",
              "    'filters': 128,\n",
              "    'kernel_constraint': None,\n",
              "    'kernel_initializer': {'class_name': 'VarianceScaling',\n",
              "     'config': {'distribution': 'uniform',\n",
              "      'mode': 'fan_avg',\n",
              "      'scale': 1.0,\n",
              "      'seed': None}},\n",
              "    'kernel_regularizer': None,\n",
              "    'kernel_size': (1, 5),\n",
              "    'name': 'conv2d_9',\n",
              "    'padding': 'same',\n",
              "    'strides': (1, 1),\n",
              "    'trainable': True,\n",
              "    'use_bias': True}},\n",
              "  {'class_name': 'Dropout',\n",
              "   'config': {'dtype': 'float32',\n",
              "    'name': 'dropout_13',\n",
              "    'noise_shape': None,\n",
              "    'rate': 0.5,\n",
              "    'seed': None,\n",
              "    'trainable': True}},\n",
              "  {'class_name': 'Conv2D',\n",
              "   'config': {'activation': 'relu',\n",
              "    'activity_regularizer': None,\n",
              "    'bias_constraint': None,\n",
              "    'bias_initializer': {'class_name': 'Zeros', 'config': {}},\n",
              "    'bias_regularizer': None,\n",
              "    'data_format': 'channels_last',\n",
              "    'dilation_rate': (1, 1),\n",
              "    'dtype': 'float32',\n",
              "    'filters': 64,\n",
              "    'kernel_constraint': None,\n",
              "    'kernel_initializer': {'class_name': 'VarianceScaling',\n",
              "     'config': {'distribution': 'uniform',\n",
              "      'mode': 'fan_avg',\n",
              "      'scale': 1.0,\n",
              "      'seed': None}},\n",
              "    'kernel_regularizer': None,\n",
              "    'kernel_size': (2, 5),\n",
              "    'name': 'conv2d_10',\n",
              "    'padding': 'same',\n",
              "    'strides': (1, 1),\n",
              "    'trainable': True,\n",
              "    'use_bias': True}},\n",
              "  {'class_name': 'Dropout',\n",
              "   'config': {'dtype': 'float32',\n",
              "    'name': 'dropout_14',\n",
              "    'noise_shape': None,\n",
              "    'rate': 0.5,\n",
              "    'seed': None,\n",
              "    'trainable': True}},\n",
              "  {'class_name': 'Flatten',\n",
              "   'config': {'data_format': 'channels_last',\n",
              "    'dtype': 'float32',\n",
              "    'name': 'flatten_5',\n",
              "    'trainable': True}},\n",
              "  {'class_name': 'Dense',\n",
              "   'config': {'activation': 'relu',\n",
              "    'activity_regularizer': None,\n",
              "    'bias_constraint': None,\n",
              "    'bias_initializer': {'class_name': 'Zeros', 'config': {}},\n",
              "    'bias_regularizer': None,\n",
              "    'dtype': 'float32',\n",
              "    'kernel_constraint': None,\n",
              "    'kernel_initializer': {'class_name': 'VarianceScaling',\n",
              "     'config': {'distribution': 'uniform',\n",
              "      'mode': 'fan_avg',\n",
              "      'scale': 1.0,\n",
              "      'seed': None}},\n",
              "    'kernel_regularizer': None,\n",
              "    'name': 'dense_9',\n",
              "    'trainable': True,\n",
              "    'units': 128,\n",
              "    'use_bias': True}},\n",
              "  {'class_name': 'Dropout',\n",
              "   'config': {'dtype': 'float32',\n",
              "    'name': 'dropout_15',\n",
              "    'noise_shape': None,\n",
              "    'rate': 0.5,\n",
              "    'seed': None,\n",
              "    'trainable': True}},\n",
              "  {'class_name': 'Dense',\n",
              "   'config': {'activation': 'softmax',\n",
              "    'activity_regularizer': None,\n",
              "    'bias_constraint': None,\n",
              "    'bias_initializer': {'class_name': 'Zeros', 'config': {}},\n",
              "    'bias_regularizer': None,\n",
              "    'dtype': 'float32',\n",
              "    'kernel_constraint': None,\n",
              "    'kernel_initializer': {'class_name': 'VarianceScaling',\n",
              "     'config': {'distribution': 'uniform',\n",
              "      'mode': 'fan_avg',\n",
              "      'scale': 1.0,\n",
              "      'seed': None}},\n",
              "    'kernel_regularizer': None,\n",
              "    'name': 'dense_10',\n",
              "    'trainable': True,\n",
              "    'units': 8,\n",
              "    'use_bias': True}}],\n",
              " 'name': 'sequential_5'}"
            ]
          },
          "metadata": {
            "tags": []
          },
          "execution_count": 48
        }
      ]
    }
  ]
}