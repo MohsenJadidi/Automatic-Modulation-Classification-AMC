{
  "nbformat": 4,
  "nbformat_minor": 0,
  "metadata": {
    "colab": {
      "name": "CNN.ipynb",
      "version": "0.3.2",
      "provenance": [],
      "collapsed_sections": [],
      "include_colab_link": true
    },
    "kernelspec": {
      "name": "python3",
      "display_name": "Python 3"
    },
    "accelerator": "GPU"
  },
  "cells": [
    {
      "cell_type": "markdown",
      "metadata": {
        "id": "view-in-github",
        "colab_type": "text"
      },
      "source": [
        "<a href=\"https://colab.research.google.com/github/MohsenJadidi/Automatic-Modulation-Classification-AMC/blob/master/CNN.ipynb\" target=\"_parent\"><img src=\"https://colab.research.google.com/assets/colab-badge.svg\" alt=\"Open In Colab\"/></a>"
      ]
    },
    {
      "cell_type": "code",
      "metadata": {
        "id": "m0dBrWRWh7UO",
        "colab_type": "code",
        "outputId": "51a1a571-57ac-4342-acad-684a16fddc5f",
        "colab": {
          "base_uri": "https://localhost:8080/",
          "height": 121
        }
      },
      "source": [
        "from google.colab import drive\n",
        "drive.mount('/content/drive')"
      ],
      "execution_count": 1,
      "outputs": [
        {
          "output_type": "stream",
          "text": [
            "Go to this URL in a browser: https://accounts.google.com/o/oauth2/auth?client_id=947318989803-6bn6qk8qdgf4n4g3pfee6491hc0brc4i.apps.googleusercontent.com&redirect_uri=urn%3Aietf%3Awg%3Aoauth%3A2.0%3Aoob&scope=email%20https%3A%2F%2Fwww.googleapis.com%2Fauth%2Fdocs.test%20https%3A%2F%2Fwww.googleapis.com%2Fauth%2Fdrive%20https%3A%2F%2Fwww.googleapis.com%2Fauth%2Fdrive.photos.readonly%20https%3A%2F%2Fwww.googleapis.com%2Fauth%2Fpeopleapi.readonly&response_type=code\n",
            "\n",
            "Enter your authorization code:\n",
            "··········\n",
            "Mounted at /content/drive\n"
          ],
          "name": "stdout"
        }
      ]
    },
    {
      "cell_type": "markdown",
      "metadata": {
        "id": "UR0ATiKBk6rG",
        "colab_type": "text"
      },
      "source": [
        "# Importing the dataset"
      ]
    },
    {
      "cell_type": "code",
      "metadata": {
        "id": "JfzzfiDSuxMs",
        "colab_type": "code",
        "colab": {}
      },
      "source": [
        "import pickle\n",
        "fileName = 'RML2016.10a_dict.pkl'\n",
        "with open(\"/content/drive/My Drive/Colab Notebooks/\"+fileName,'rb') as f:\n",
        "  data = pickle.load(f,encoding='bytes')\n",
        " "
      ],
      "execution_count": 0,
      "outputs": []
    },
    {
      "cell_type": "code",
      "metadata": {
        "id": "yjAg9T-0uzyh",
        "colab_type": "code",
        "outputId": "6795aa55-ac03-4050-9f25-2f66cb858831",
        "colab": {
          "base_uri": "https://localhost:8080/",
          "height": 34
        }
      },
      "source": [
        "import numpy as np\n",
        "X = []\n",
        "labels = [] # label each example by a pair (modulation type, snr)\n",
        "total_examples = 0\n",
        "analog = [b'AM-DSB', b'AM-SSB', b'WBFM']\n",
        "\n",
        "for mod_type, snr in data.keys():\n",
        "    if (mod_type not in analog):      \n",
        "        current_matrix = data[(mod_type, snr)]        \n",
        "        total_examples += current_matrix.shape[0]\n",
        "        for i in range(current_matrix.shape[0]):\n",
        "            X.append(current_matrix[i])\n",
        "            labels.append((str(mod_type, 'ascii'), snr)) # mod_type is of type bytes\n",
        "    \n",
        "X = np.array(X)         # First row is QPSK snr=2, seconde is PAM4 snr=8 , ...\n",
        "labels = np.array(labels)\n",
        "\n",
        "y = labels[:,0]\n",
        "\n",
        "print(f'loaded {total_examples} signal vectors into X{X.shape} and their corresponding'\n",
        "      f' labels into labels{labels.shape}')  \n",
        "# print(np.unique(labels[:,0]))\n"
      ],
      "execution_count": 3,
      "outputs": [
        {
          "output_type": "stream",
          "text": [
            "loaded 160000 signal vectors into X(160000, 2, 128) and their corresponding labels into labels(160000, 2)\n"
          ],
          "name": "stdout"
        }
      ]
    },
    {
      "cell_type": "code",
      "metadata": {
        "id": "pbeDr3FVv57v",
        "colab_type": "code",
        "outputId": "78333b99-55ca-4e44-895f-d45465c1cfae",
        "colab": {
          "base_uri": "https://localhost:8080/",
          "height": 104
        }
      },
      "source": [
        "# Encoding categorical data\n",
        "from sklearn.preprocessing import LabelEncoder, OneHotEncoder\n",
        "labelencoder_y = LabelEncoder()\n",
        "y = labelencoder_y.fit_transform(y)\n",
        "onehotencoder = OneHotEncoder()\n",
        "y = onehotencoder.fit_transform(y.reshape(-1,1)).toarray()"
      ],
      "execution_count": 4,
      "outputs": [
        {
          "output_type": "stream",
          "text": [
            "/usr/local/lib/python3.6/dist-packages/sklearn/preprocessing/_encoders.py:415: FutureWarning: The handling of integer data will change in version 0.22. Currently, the categories are determined based on the range [0, max(values)], while in the future they will be determined based on the unique values.\n",
            "If you want the future behaviour and silence this warning, you can specify \"categories='auto'\".\n",
            "In case you used a LabelEncoder before this OneHotEncoder to convert the categories to integers, then you can now use the OneHotEncoder directly.\n",
            "  warnings.warn(msg, FutureWarning)\n"
          ],
          "name": "stderr"
        }
      ]
    },
    {
      "cell_type": "code",
      "metadata": {
        "id": "-Z6iUKbJwKlT",
        "colab_type": "code",
        "outputId": "6e9a9b91-43f7-4b51-ac7f-0e8ed996ffb6",
        "colab": {
          "base_uri": "https://localhost:8080/",
          "height": 34
        }
      },
      "source": [
        "snrList = [str(2*i-20) for i in range(20)]  # snrList = -20, -18, -16 , ... ,0, ... ,18\n",
        "snr = snrList[19]\n",
        "numberOfEachExamples = 1000\n",
        "print(\"SNR :\", snr)"
      ],
      "execution_count": 5,
      "outputs": [
        {
          "output_type": "stream",
          "text": [
            "SNR : 18\n"
          ],
          "name": "stdout"
        }
      ]
    },
    {
      "cell_type": "code",
      "metadata": {
        "id": "-DiHGfSPwKb1",
        "colab_type": "code",
        "colab": {}
      },
      "source": [
        "output = [[labels[i*numberOfEachExamples, 0],y[i*numberOfEachExamples]] for i in range(int(X.shape[0]/numberOfEachExamples))]\n",
        "output = dict(output)"
      ],
      "execution_count": 0,
      "outputs": []
    },
    {
      "cell_type": "code",
      "metadata": {
        "id": "0OJ3GghKwrbs",
        "colab_type": "code",
        "outputId": "d3ff8a5e-38e6-4adf-d5ee-32c66b2bbd4b",
        "colab": {
          "base_uri": "https://localhost:8080/",
          "height": 34
        }
      },
      "source": [
        "Xsnr = np.zeros(shape=(X.shape[0],X.shape[1],X.shape[2]+1))\n",
        "for i in range(X.shape[0]):\n",
        "    snr = int(labels[i,1])\n",
        "    Xsnr[i,0,:] = np.insert(X[i,0,:],0,snr)\n",
        "    Xsnr[i,1,:] = np.insert(X[i,1,:],0,snr)\n",
        "    \n",
        "print(Xsnr.shape)"
      ],
      "execution_count": 7,
      "outputs": [
        {
          "output_type": "stream",
          "text": [
            "(160000, 2, 129)\n"
          ],
          "name": "stdout"
        }
      ]
    },
    {
      "cell_type": "code",
      "metadata": {
        "id": "Cx7l0G_3ww0w",
        "colab_type": "code",
        "outputId": "80325eac-20ac-4743-bb25-19c050d6b9a6",
        "colab": {
          "base_uri": "https://localhost:8080/",
          "height": 50
        }
      },
      "source": [
        "###### Splitting the dataset into the Training set and Test set ######\n",
        "from sklearn.model_selection import train_test_split\n",
        "X_train, X_test, y_train, y_test = train_test_split(Xsnr, y, test_size = 0.2, random_state = 0)\n",
        "# The below line better for Cross_val part\n",
        "#X_train, X_test, y_train, y_test = train_test_split(Xsnr, y, test_size = 1, random_state = 0)\n",
        "\n",
        "print(X_train.shape)\n",
        "print(X_test.shape)"
      ],
      "execution_count": 8,
      "outputs": [
        {
          "output_type": "stream",
          "text": [
            "(128000, 2, 129)\n",
            "(32000, 2, 129)\n"
          ],
          "name": "stdout"
        }
      ]
    },
    {
      "cell_type": "code",
      "metadata": {
        "id": "gGeDKe8GLNJ9",
        "colab_type": "code",
        "outputId": "7eb564d4-8621-4c25-a681-bd98d46bcb42",
        "colab": {
          "base_uri": "https://localhost:8080/",
          "height": 50
        }
      },
      "source": [
        "X_train = X_train[:,:,1:] # snr important for train\n",
        "\n",
        "y_test18 = []\n",
        "X_test18 = []\n",
        "\n",
        "for i in range(X_test.shape[0]):\n",
        "    if X_test[i,0,0] == 18:\n",
        "        X_test18.append(X_test[i])\n",
        "        y_test18.append(y_test[i])\n",
        "        \n",
        "X_test18 = np.array(X_test18)\n",
        "y_test18 = np.array(y_test18)        \n",
        "X_test18 = X_test18[:,:,1:]\n",
        "\n",
        "\n",
        "print(X_train.shape)\n",
        "print(X_test18.shape)"
      ],
      "execution_count": 9,
      "outputs": [
        {
          "output_type": "stream",
          "text": [
            "(128000, 2, 128)\n",
            "(1653, 2, 128)\n"
          ],
          "name": "stdout"
        }
      ]
    },
    {
      "cell_type": "code",
      "metadata": {
        "id": "V4OinfCHLd8y",
        "colab_type": "code",
        "outputId": "2094b8f0-9da0-4b7d-c2e8-4b59bd69d2e9",
        "colab": {
          "base_uri": "https://localhost:8080/",
          "height": 50
        }
      },
      "source": [
        "# Change IQ to amplitude and phase\n",
        "X_cmplx = X_train[:,0,:] + 1j* X_train[:,1,:]    \n",
        "X_amp = np.abs(X_cmplx)\n",
        "X_ang = np.arctan2(X_train[:,1,:],X_train[:,0,:]) / np.pi\n",
        "    \n",
        "X_amp = np.reshape(X_amp,(-1,1,128))\n",
        "X_ang = np.reshape(X_ang,(-1,1,128))\n",
        "    \n",
        "X_train_AmpPhs = np.concatenate((X_amp,X_ang), axis=1) \n",
        "##\n",
        "X_cmplx = X_test18[:,0,:] + 1j* X_test18[:,1,:]    \n",
        "X_amp = np.abs(X_cmplx)\n",
        "X_ang = np.arctan2(X_test18[:,1,:],X_test18[:,0,:]) / np.pi\n",
        "    \n",
        "X_amp = np.reshape(X_amp,(-1,1,128))\n",
        "X_ang = np.reshape(X_ang,(-1,1,128))\n",
        "    \n",
        "X_test18_AmpPhs = np.concatenate((X_amp,X_ang), axis=1) \n",
        "##\n",
        "\n",
        "print(X_train_AmpPhs.shape)\n",
        "print(X_test18_AmpPhs.shape)"
      ],
      "execution_count": 10,
      "outputs": [
        {
          "output_type": "stream",
          "text": [
            "(128000, 2, 128)\n",
            "(1653, 2, 128)\n"
          ],
          "name": "stdout"
        }
      ]
    },
    {
      "cell_type": "code",
      "metadata": {
        "id": "ujxapqcRw1l3",
        "colab_type": "code",
        "outputId": "6dbcb02f-29db-4776-d8b4-b51dccf296cf",
        "colab": {
          "base_uri": "https://localhost:8080/",
          "height": 50
        }
      },
      "source": [
        "from sklearn.preprocessing import StandardScaler\n",
        "sc = StandardScaler()\n",
        "X_train = X_train.reshape([X_train.shape[0],256])\n",
        "#X_train = X_train_AmpPhs.reshape([X_train.shape[0],256])\n",
        "X_train = sc.fit_transform(X_train)\n",
        "X_train = X_train.reshape([X_train.shape[0],2,128])\n",
        "#X_test = X_test.reshape([1600,256])\n",
        "X_test18 = X_test18.reshape([X_test18.shape[0],256])\n",
        "#X_test18 = X_test18_AmpPhs.reshape([X_test18.shape[0],256])\n",
        "X_test18 = sc.transform(X_test18)\n",
        "X_test18 = X_test18.reshape([X_test18.shape[0],2,128])\n",
        "\n",
        "# Reshape\n",
        "X_train = X_train.reshape(-1,2, 128, 1)   #Reshape for CNN -  (6400,2,128)->(6400,2,128,1)!!\n",
        "X_test18 = X_test18.reshape(-1,2, 128, 1)\n",
        "\n",
        "print(X_train.shape)\n",
        "print(X_test18.shape)"
      ],
      "execution_count": 11,
      "outputs": [
        {
          "output_type": "stream",
          "text": [
            "(128000, 2, 128, 1)\n",
            "(1653, 2, 128, 1)\n"
          ],
          "name": "stdout"
        }
      ]
    },
    {
      "cell_type": "markdown",
      "metadata": {
        "id": "5InZvNieUoTS",
        "colab_type": "text"
      },
      "source": [
        "# Making CNN0 model \n",
        "(Article : Convolutional Radio Modulation Recognition Networks - Timothy J. O’Shea)\n"
      ]
    },
    {
      "cell_type": "code",
      "metadata": {
        "id": "Ida-kcQ9Ub0f",
        "colab_type": "code",
        "outputId": "679d3c7c-30aa-4b37-e66f-fa8f59c81dd9",
        "colab": {
          "base_uri": "https://localhost:8080/",
          "height": 454
        }
      },
      "source": [
        "import keras\n",
        "from keras.models import Sequential\n",
        "from keras.layers import Conv2D\n",
        "from keras.layers import MaxPooling2D\n",
        "from keras.layers import Flatten\n",
        "from keras.layers import Dense\n",
        "from keras.layers import Dropout\n",
        "\n",
        "classifier = Sequential()\n",
        "\n",
        "dout = 0.5\n",
        "classifier.add(Conv2D(filters=32, kernel_size=(1,3), input_shape =  (2,128,1), padding='same', activation = 'relu')) \n",
        "classifier.add(Dropout(rate = dout))\n",
        "classifier.add(Conv2D(filters=32,kernel_size=(2,3),  padding='same', activation = 'relu'))\n",
        "classifier.add(Dropout(rate = dout))\n",
        "\n",
        "classifier.add(Flatten())\n",
        "\n",
        "classifier.add(Dense(output_dim = 128 , activation = 'relu')) # hidden layer\n",
        "classifier.add(Dropout(rate = dout))\n",
        "classifier.add(Dense(output_dim = 8 , activation = 'softmax'))\n",
        "\n",
        "#from keras import optimizers\n",
        "#adamOpt = optimizers.adam(lr = 0.01)\n",
        "\n",
        "classifier.compile(optimizer = 'adam', loss = 'categorical_crossentropy', metrics = ['accuracy'])\n",
        "\n",
        "#logger = keras.callbacks.TensorBoard(log_dir=\"./logs\", write_graph=True, histogram_freq=0)\n",
        "\n",
        "classifier.summary()\n",
        "print(\"Model Created!\")"
      ],
      "execution_count": 41,
      "outputs": [
        {
          "output_type": "stream",
          "text": [
            "_________________________________________________________________\n",
            "Layer (type)                 Output Shape              Param #   \n",
            "=================================================================\n",
            "conv2d_13 (Conv2D)           (None, 2, 128, 32)        128       \n",
            "_________________________________________________________________\n",
            "dropout_19 (Dropout)         (None, 2, 128, 32)        0         \n",
            "_________________________________________________________________\n",
            "conv2d_14 (Conv2D)           (None, 2, 128, 32)        6176      \n",
            "_________________________________________________________________\n",
            "dropout_20 (Dropout)         (None, 2, 128, 32)        0         \n",
            "_________________________________________________________________\n",
            "flatten_7 (Flatten)          (None, 8192)              0         \n",
            "_________________________________________________________________\n",
            "dense_13 (Dense)             (None, 128)               1048704   \n",
            "_________________________________________________________________\n",
            "dropout_21 (Dropout)         (None, 128)               0         \n",
            "_________________________________________________________________\n",
            "dense_14 (Dense)             (None, 8)                 1032      \n",
            "=================================================================\n",
            "Total params: 1,056,040\n",
            "Trainable params: 1,056,040\n",
            "Non-trainable params: 0\n",
            "_________________________________________________________________\n",
            "Model Created!\n"
          ],
          "name": "stdout"
        },
        {
          "output_type": "stream",
          "text": [
            "/usr/local/lib/python3.6/dist-packages/ipykernel_launcher.py:19: UserWarning: Update your `Dense` call to the Keras 2 API: `Dense(activation=\"relu\", units=128)`\n",
            "/usr/local/lib/python3.6/dist-packages/ipykernel_launcher.py:21: UserWarning: Update your `Dense` call to the Keras 2 API: `Dense(activation=\"softmax\", units=8)`\n"
          ],
          "name": "stderr"
        }
      ]
    },
    {
      "cell_type": "markdown",
      "metadata": {
        "id": "DAqdPV-N3Ae_",
        "colab_type": "text"
      },
      "source": [
        "#Making CNN1 model (one-convolutional-layer)\n",
        "(Thesis :DEEP NEURAL NETWORK ARCHITECTURES FOR MODULATION CLASSIFICATION)"
      ]
    },
    {
      "cell_type": "code",
      "metadata": {
        "id": "PaOTxksa3D2s",
        "colab_type": "code",
        "colab": {}
      },
      "source": [
        "import keras\n",
        "from keras.models import Sequential\n",
        "from keras.layers import Conv2D\n",
        "from keras.layers import MaxPooling2D\n",
        "from keras.layers import Flatten\n",
        "from keras.layers import Dense\n",
        "from keras.layers import Dropout\n",
        "\n",
        "classifier = Sequential()\n",
        "\n",
        "dout = 0.6\n",
        "\n",
        "classifier.add(Conv2D(256,1,3, input_shape =  (2,128,1), activation = 'relu')) # 256=number of filter\n",
        "classifier.add(Dropout(rate = dout))\n",
        "\n",
        "classifier.add(Flatten())\n",
        "\n",
        "classifier.add(Dense(output_dim = 128 , activation = 'relu')) # hidden layer\n",
        "classifier.add(Dropout(rate = dout))\n",
        "classifier.add(Dense(output_dim = 8 , activation = 'softmax'))\n",
        "\n",
        "#from keras import optimizers\n",
        "#adamOpt = optimizers.adam(lr = 0.01)\n",
        "\n",
        "classifier.compile(optimizer = 'adam', loss = 'categorical_crossentropy', metrics = ['accuracy'])\n",
        "\n",
        "#logger = keras.callbacks.TensorBoard(log_dir=\"./logs\", write_graph=True, histogram_freq=0)\n",
        "\n",
        "classifier.summary()\n",
        "print(\"Model Created!\")"
      ],
      "execution_count": 0,
      "outputs": []
    },
    {
      "cell_type": "markdown",
      "metadata": {
        "id": "M2HVRLuRvC2h",
        "colab_type": "text"
      },
      "source": [
        "# Making CNN2 model  (two-convolutional-layer)"
      ]
    },
    {
      "cell_type": "code",
      "metadata": {
        "id": "-EPV9BVqvAZG",
        "colab_type": "code",
        "colab": {}
      },
      "source": [
        "import keras\n",
        "from keras.models import Sequential\n",
        "from keras.layers import Conv2D\n",
        "from keras.layers import MaxPooling2D\n",
        "from keras.layers import Flatten\n",
        "from keras.layers import Dense\n",
        "from keras.layers import Dropout\n",
        "\n",
        "classifier = Sequential()\n",
        "\n",
        "dout = 0.4\n",
        "classifier.add(Conv2D(256,(1,3), input_shape =  (2,128,1), activation = 'relu', padding='same')) # 256=number of filter\n",
        "classifier.add(Dropout(rate = dout))\n",
        "classifier.add(Conv2D(80,(2,3), activation = 'relu'))\n",
        "classifier.add(Dropout(rate = dout))\n",
        "\n",
        "classifier.add(Flatten())\n",
        "\n",
        "classifier.add(Dense(output_dim = 128 , activation = 'relu')) # hidden layer\n",
        "classifier.add(Dropout(rate = dout))\n",
        "classifier.add(Dense(output_dim = 8 , activation = 'softmax'))\n",
        "\n",
        "#from keras import optimizers\n",
        "#adamOpt = optimizers.adam(lr = 0.01)\n",
        "\n",
        "classifier.compile(optimizer = 'adam', loss = 'categorical_crossentropy', metrics = ['accuracy'])\n",
        "\n",
        "#logger = keras.callbacks.TensorBoard(log_dir=\"./logs\", write_graph=True, histogram_freq=0)\n",
        "\n",
        "classifier.summary()\n",
        "print(\"Model Created!\")\n"
      ],
      "execution_count": 0,
      "outputs": []
    },
    {
      "cell_type": "markdown",
      "metadata": {
        "id": "PFwbq2eup-98",
        "colab_type": "text"
      },
      "source": [
        "#Making CNN3 model (two-convolutional-layer)"
      ]
    },
    {
      "cell_type": "code",
      "metadata": {
        "id": "4EOnbMLu3Qpw",
        "colab_type": "code",
        "colab": {}
      },
      "source": [
        "import keras\n",
        "from keras.models import Sequential\n",
        "from keras.layers import Conv2D\n",
        "from keras.layers import MaxPooling2D\n",
        "from keras.layers import Flatten\n",
        "from keras.layers import Dense\n",
        "from keras.layers import Dropout\n",
        "\n",
        "classifier = Sequential()\n",
        "\n",
        "dout = 0.4\n",
        "\n",
        "classifier.add(Conv2D(80,2,3, activation = 'relu'))\n",
        "classifier.add(Dropout(rate = dout))\n",
        "\n",
        "classifier.add(Conv2D(256,1,3, input_shape =  (2,128,1), activation = 'relu')) # 256=number of filter\n",
        "classifier.add(Dropout(rate = dout))\n",
        "\n",
        "classifier.add(Flatten())\n",
        "\n",
        "classifier.add(Dense(output_dim = 128 , activation = 'relu')) # hidden layer\n",
        "classifier.add(Dropout(rate = dout))\n",
        "classifier.add(Dense(output_dim = 8 , activation = 'softmax'))\n",
        "\n",
        "#from keras import optimizers\n",
        "#adamOpt = optimizers.adam(lr = 0.01)\n",
        "\n",
        "classifier.compile(optimizer = 'adam', loss = 'categorical_crossentropy', metrics = ['accuracy'])\n",
        "\n",
        "#logger = keras.callbacks.TensorBoard(log_dir=\"./logs\", write_graph=True, histogram_freq=0)\n",
        "\n",
        "classifier.summary()\n",
        "print(\"Model Created!\")"
      ],
      "execution_count": 0,
      "outputs": []
    },
    {
      "cell_type": "markdown",
      "metadata": {
        "id": "tcI2TeYzEwY6",
        "colab_type": "text"
      },
      "source": [
        "#Making CNN4 model (four-convolutional-layer)"
      ]
    },
    {
      "cell_type": "code",
      "metadata": {
        "id": "_EcNw2P4Ew_9",
        "colab_type": "code",
        "colab": {}
      },
      "source": [
        "import keras\n",
        "from keras.models import Sequential\n",
        "from keras.layers import Conv2D\n",
        "from keras.layers import MaxPooling2D\n",
        "from keras.layers import Flatten\n",
        "from keras.layers import Dense\n",
        "from keras.layers import Dropout\n",
        "\n",
        "classifier = Sequential()\n",
        "\n",
        "dout = 0.4\n",
        "classifier.add(Conv2D(256,1,3, input_shape =  (2,128,1), activation = 'relu')) # 256=number of filter\n",
        "classifier.add(Dropout(rate = dout))\n",
        "classifier.add(Conv2D(256,2,3, activation = 'relu')) # 256=number of filter\n",
        "classifier.add(Dropout(rate = dout))\n",
        "\n",
        "classifier.add(Conv2D(80,1,3, activation = 'relu'))\n",
        "classifier.add(Dropout(rate = dout))\n",
        "classifier.add(Conv2D(80,1,3, activation = 'relu'))\n",
        "classifier.add(Dropout(rate = dout))\n",
        "\n",
        "classifier.add(Flatten())\n",
        "\n",
        "classifier.add(Dense(output_dim = 128 , activation = 'relu')) # hidden layer\n",
        "classifier.add(Dropout(rate = dout))\n",
        "classifier.add(Dense(output_dim = 8 , activation = 'softmax'))\n",
        "\n",
        "#from keras import optimizers\n",
        "#adamOpt = optimizers.adam(lr = 0.01)\n",
        "\n",
        "classifier.compile(optimizer = 'adam', loss = 'categorical_crossentropy', metrics = ['accuracy'])\n",
        "\n",
        "#logger = keras.callbacks.TensorBoard(log_dir=\"./logs\", write_graph=True, histogram_freq=0)\n",
        "\n",
        "classifier.summary()\n",
        "print(\"Model Created!\")\n"
      ],
      "execution_count": 0,
      "outputs": []
    },
    {
      "cell_type": "markdown",
      "metadata": {
        "id": "Iv1KiftgFi9w",
        "colab_type": "text"
      },
      "source": [
        "#Making CNN5 model (five-convolutional-layer)"
      ]
    },
    {
      "cell_type": "code",
      "metadata": {
        "id": "DceZWd-aFjkP",
        "colab_type": "code",
        "colab": {}
      },
      "source": [
        "import keras\n",
        "from keras.models import Sequential\n",
        "from keras.layers import Conv2D\n",
        "from keras.layers import MaxPooling2D\n",
        "from keras.layers import Flatten\n",
        "from keras.layers import Dense\n",
        "from keras.layers import Dropout\n",
        "\n",
        "classifier = Sequential()\n",
        "\n",
        "dout = 0.4\n",
        "classifier.add(Conv2D(384,1,3, input_shape =  (2,128,1), activation = 'relu')) \n",
        "classifier.add(Dropout(rate = dout))\n",
        "classifier.add(Conv2D(256,2,3, activation = 'relu'))\n",
        "classifier.add(Dropout(rate = dout))\n",
        "classifier.add(Conv2D(80,1,3, activation = 'relu'))\n",
        "classifier.add(Dropout(rate = dout))\n",
        "classifier.add(Conv2D(256,1,3, activation = 'relu'))\n",
        "classifier.add(Dropout(rate = dout))\n",
        "classifier.add(Conv2D(80,1,3, activation = 'relu'))\n",
        "classifier.add(Dropout(rate = dout))\n",
        "\n",
        "classifier.add(Flatten())\n",
        "\n",
        "classifier.add(Dense(output_dim = 128 , activation = 'relu')) # hidden layer\n",
        "classifier.add(Dropout(rate = dout))\n",
        "classifier.add(Dense(output_dim = 8 , activation = 'softmax'))\n",
        "\n",
        "#from keras import optimizers\n",
        "#adamOpt = optimizers.adam(lr = 0.01)\n",
        "\n",
        "classifier.compile(optimizer = 'adam', loss = 'categorical_crossentropy', metrics = ['accuracy'])\n",
        "\n",
        "#logger = keras.callbacks.TensorBoard(log_dir=\"./logs\", write_graph=True, histogram_freq=0)\n",
        "\n",
        "classifier.summary()\n",
        "print(\"Model Created!\")"
      ],
      "execution_count": 0,
      "outputs": []
    },
    {
      "cell_type": "markdown",
      "metadata": {
        "id": "ct6SfO0K3RPR",
        "colab_type": "text"
      },
      "source": [
        "# Fitting model"
      ]
    },
    {
      "cell_type": "code",
      "metadata": {
        "id": "fTK9sEg7uiRA",
        "colab_type": "code",
        "outputId": "389543e4-71ce-4429-a3c6-0ce5c37c0c1c",
        "colab": {
          "base_uri": "https://localhost:8080/",
          "height": 1000
        }
      },
      "source": [
        "batch = 1024\n",
        "epoch = 100\n",
        "\n",
        "history = classifier.fit(X_train, y_train, batch_size = batch, epochs = epoch, validation_data=(X_test18, y_test18))\n",
        "#history = classifier.fit(X_train, y_train, batch_size = batch, epochs = epoch)"
      ],
      "execution_count": 42,
      "outputs": [
        {
          "output_type": "stream",
          "text": [
            "Train on 128000 samples, validate on 1653 samples\n",
            "Epoch 1/100\n",
            "128000/128000 [==============================] - 5s 37us/step - loss: 1.9460 - acc: 0.2018 - val_loss: 1.6147 - val_acc: 0.3351\n",
            "Epoch 2/100\n",
            "128000/128000 [==============================] - 3s 24us/step - loss: 1.7630 - acc: 0.2766 - val_loss: 1.2000 - val_acc: 0.5426\n",
            "Epoch 3/100\n",
            "128000/128000 [==============================] - 3s 24us/step - loss: 1.6317 - acc: 0.3326 - val_loss: 0.9557 - val_acc: 0.6491\n",
            "Epoch 4/100\n",
            "128000/128000 [==============================] - 3s 24us/step - loss: 1.5369 - acc: 0.3722 - val_loss: 0.7735 - val_acc: 0.7145\n",
            "Epoch 5/100\n",
            "128000/128000 [==============================] - 3s 24us/step - loss: 1.4433 - acc: 0.4073 - val_loss: 0.6116 - val_acc: 0.7592\n",
            "Epoch 6/100\n",
            "128000/128000 [==============================] - 3s 24us/step - loss: 1.3758 - acc: 0.4295 - val_loss: 0.5342 - val_acc: 0.7586\n",
            "Epoch 7/100\n",
            "128000/128000 [==============================] - 3s 24us/step - loss: 1.3311 - acc: 0.4431 - val_loss: 0.4904 - val_acc: 0.7846\n",
            "Epoch 8/100\n",
            "128000/128000 [==============================] - 3s 24us/step - loss: 1.3003 - acc: 0.4582 - val_loss: 0.4519 - val_acc: 0.7871\n",
            "Epoch 9/100\n",
            "128000/128000 [==============================] - 3s 24us/step - loss: 1.2774 - acc: 0.4656 - val_loss: 0.4368 - val_acc: 0.7901\n",
            "Epoch 10/100\n",
            "128000/128000 [==============================] - 3s 24us/step - loss: 1.2663 - acc: 0.4714 - val_loss: 0.4375 - val_acc: 0.7846\n",
            "Epoch 11/100\n",
            "128000/128000 [==============================] - 3s 24us/step - loss: 1.2555 - acc: 0.4756 - val_loss: 0.4192 - val_acc: 0.7931\n",
            "Epoch 12/100\n",
            "128000/128000 [==============================] - 3s 24us/step - loss: 1.2448 - acc: 0.4784 - val_loss: 0.4135 - val_acc: 0.7931\n",
            "Epoch 13/100\n",
            "128000/128000 [==============================] - 3s 24us/step - loss: 1.2372 - acc: 0.4806 - val_loss: 0.4149 - val_acc: 0.7919\n",
            "Epoch 14/100\n",
            "128000/128000 [==============================] - 3s 24us/step - loss: 1.2283 - acc: 0.4851 - val_loss: 0.4058 - val_acc: 0.8022\n",
            "Epoch 15/100\n",
            "128000/128000 [==============================] - 3s 24us/step - loss: 1.2207 - acc: 0.4889 - val_loss: 0.3929 - val_acc: 0.8010\n",
            "Epoch 16/100\n",
            "128000/128000 [==============================] - 3s 24us/step - loss: 1.2179 - acc: 0.4889 - val_loss: 0.4001 - val_acc: 0.8106\n",
            "Epoch 17/100\n",
            "128000/128000 [==============================] - 3s 24us/step - loss: 1.2125 - acc: 0.4931 - val_loss: 0.3895 - val_acc: 0.8088\n",
            "Epoch 18/100\n",
            "128000/128000 [==============================] - 3s 24us/step - loss: 1.2104 - acc: 0.4941 - val_loss: 0.3955 - val_acc: 0.8010\n",
            "Epoch 19/100\n",
            "128000/128000 [==============================] - 3s 24us/step - loss: 1.2047 - acc: 0.4980 - val_loss: 0.3826 - val_acc: 0.8076\n",
            "Epoch 20/100\n",
            "128000/128000 [==============================] - 3s 24us/step - loss: 1.2020 - acc: 0.4991 - val_loss: 0.3882 - val_acc: 0.8100\n",
            "Epoch 21/100\n",
            "128000/128000 [==============================] - 3s 24us/step - loss: 1.1984 - acc: 0.4994 - val_loss: 0.3716 - val_acc: 0.8227\n",
            "Epoch 22/100\n",
            "128000/128000 [==============================] - 3s 24us/step - loss: 1.1948 - acc: 0.5017 - val_loss: 0.3767 - val_acc: 0.8161\n",
            "Epoch 23/100\n",
            "128000/128000 [==============================] - 3s 24us/step - loss: 1.1935 - acc: 0.5024 - val_loss: 0.3679 - val_acc: 0.8240\n",
            "Epoch 24/100\n",
            "128000/128000 [==============================] - 3s 24us/step - loss: 1.1910 - acc: 0.5025 - val_loss: 0.3776 - val_acc: 0.8203\n",
            "Epoch 25/100\n",
            "128000/128000 [==============================] - 3s 24us/step - loss: 1.1919 - acc: 0.5031 - val_loss: 0.3716 - val_acc: 0.8173\n",
            "Epoch 26/100\n",
            "128000/128000 [==============================] - 3s 24us/step - loss: 1.1836 - acc: 0.5064 - val_loss: 0.3671 - val_acc: 0.8203\n",
            "Epoch 27/100\n",
            "128000/128000 [==============================] - 3s 24us/step - loss: 1.1835 - acc: 0.5058 - val_loss: 0.3647 - val_acc: 0.8209\n",
            "Epoch 28/100\n",
            "128000/128000 [==============================] - 3s 24us/step - loss: 1.1816 - acc: 0.5054 - val_loss: 0.3701 - val_acc: 0.8282\n",
            "Epoch 29/100\n",
            "128000/128000 [==============================] - 3s 24us/step - loss: 1.1791 - acc: 0.5082 - val_loss: 0.3615 - val_acc: 0.8312\n",
            "Epoch 30/100\n",
            "128000/128000 [==============================] - 3s 24us/step - loss: 1.1783 - acc: 0.5081 - val_loss: 0.3579 - val_acc: 0.8288\n",
            "Epoch 31/100\n",
            "128000/128000 [==============================] - 3s 24us/step - loss: 1.1753 - acc: 0.5077 - val_loss: 0.3590 - val_acc: 0.8227\n",
            "Epoch 32/100\n",
            "128000/128000 [==============================] - 3s 24us/step - loss: 1.1742 - acc: 0.5095 - val_loss: 0.3608 - val_acc: 0.8348\n",
            "Epoch 33/100\n",
            "128000/128000 [==============================] - 3s 24us/step - loss: 1.1734 - acc: 0.5097 - val_loss: 0.3568 - val_acc: 0.8324\n",
            "Epoch 34/100\n",
            "128000/128000 [==============================] - 3s 24us/step - loss: 1.1712 - acc: 0.5106 - val_loss: 0.3579 - val_acc: 0.8264\n",
            "Epoch 35/100\n",
            "128000/128000 [==============================] - 3s 24us/step - loss: 1.1668 - acc: 0.5128 - val_loss: 0.3615 - val_acc: 0.8300\n",
            "Epoch 36/100\n",
            "128000/128000 [==============================] - 3s 24us/step - loss: 1.1658 - acc: 0.5110 - val_loss: 0.3544 - val_acc: 0.8282\n",
            "Epoch 37/100\n",
            "128000/128000 [==============================] - 3s 24us/step - loss: 1.1640 - acc: 0.5124 - val_loss: 0.3542 - val_acc: 0.8367\n",
            "Epoch 38/100\n",
            "128000/128000 [==============================] - 3s 24us/step - loss: 1.1616 - acc: 0.5150 - val_loss: 0.3497 - val_acc: 0.8300\n",
            "Epoch 39/100\n",
            "128000/128000 [==============================] - 3s 24us/step - loss: 1.1641 - acc: 0.5130 - val_loss: 0.3448 - val_acc: 0.8342\n",
            "Epoch 40/100\n",
            "128000/128000 [==============================] - 3s 24us/step - loss: 1.1596 - acc: 0.5157 - val_loss: 0.3473 - val_acc: 0.8282\n",
            "Epoch 41/100\n",
            "128000/128000 [==============================] - 3s 24us/step - loss: 1.1572 - acc: 0.5166 - val_loss: 0.3498 - val_acc: 0.8306\n",
            "Epoch 42/100\n",
            "128000/128000 [==============================] - 3s 24us/step - loss: 1.1559 - acc: 0.5169 - val_loss: 0.3457 - val_acc: 0.8264\n",
            "Epoch 43/100\n",
            "128000/128000 [==============================] - 3s 24us/step - loss: 1.1569 - acc: 0.5164 - val_loss: 0.3427 - val_acc: 0.8276\n",
            "Epoch 44/100\n",
            "128000/128000 [==============================] - 3s 24us/step - loss: 1.1545 - acc: 0.5161 - val_loss: 0.3494 - val_acc: 0.8270\n",
            "Epoch 45/100\n",
            "128000/128000 [==============================] - 3s 24us/step - loss: 1.1529 - acc: 0.5183 - val_loss: 0.3455 - val_acc: 0.8336\n",
            "Epoch 46/100\n",
            "128000/128000 [==============================] - 3s 24us/step - loss: 1.1498 - acc: 0.5198 - val_loss: 0.3509 - val_acc: 0.8227\n",
            "Epoch 47/100\n",
            "128000/128000 [==============================] - 3s 24us/step - loss: 1.1508 - acc: 0.5176 - val_loss: 0.3494 - val_acc: 0.8282\n",
            "Epoch 48/100\n",
            "128000/128000 [==============================] - 3s 24us/step - loss: 1.1465 - acc: 0.5192 - val_loss: 0.3430 - val_acc: 0.8264\n",
            "Epoch 49/100\n",
            "128000/128000 [==============================] - 3s 24us/step - loss: 1.1466 - acc: 0.5201 - val_loss: 0.3383 - val_acc: 0.8276\n",
            "Epoch 50/100\n",
            "128000/128000 [==============================] - 3s 24us/step - loss: 1.1478 - acc: 0.5193 - val_loss: 0.3448 - val_acc: 0.8264\n",
            "Epoch 51/100\n",
            "128000/128000 [==============================] - 3s 24us/step - loss: 1.1435 - acc: 0.5204 - val_loss: 0.3361 - val_acc: 0.8391\n",
            "Epoch 52/100\n",
            "128000/128000 [==============================] - 3s 24us/step - loss: 1.1453 - acc: 0.5205 - val_loss: 0.3428 - val_acc: 0.8312\n",
            "Epoch 53/100\n",
            "128000/128000 [==============================] - 3s 24us/step - loss: 1.1445 - acc: 0.5212 - val_loss: 0.3394 - val_acc: 0.8427\n",
            "Epoch 54/100\n",
            "128000/128000 [==============================] - 3s 24us/step - loss: 1.1429 - acc: 0.5216 - val_loss: 0.3416 - val_acc: 0.8294\n",
            "Epoch 55/100\n",
            "128000/128000 [==============================] - 3s 24us/step - loss: 1.1439 - acc: 0.5221 - val_loss: 0.3400 - val_acc: 0.8397\n",
            "Epoch 56/100\n",
            "128000/128000 [==============================] - 3s 24us/step - loss: 1.1440 - acc: 0.5220 - val_loss: 0.3443 - val_acc: 0.8264\n",
            "Epoch 57/100\n",
            "128000/128000 [==============================] - 3s 24us/step - loss: 1.1387 - acc: 0.5245 - val_loss: 0.3368 - val_acc: 0.8367\n",
            "Epoch 58/100\n",
            "128000/128000 [==============================] - 3s 24us/step - loss: 1.1385 - acc: 0.5234 - val_loss: 0.3311 - val_acc: 0.8342\n",
            "Epoch 59/100\n",
            "128000/128000 [==============================] - 3s 24us/step - loss: 1.1367 - acc: 0.5255 - val_loss: 0.3330 - val_acc: 0.8270\n",
            "Epoch 60/100\n",
            "128000/128000 [==============================] - 3s 24us/step - loss: 1.1341 - acc: 0.5256 - val_loss: 0.3303 - val_acc: 0.8415\n",
            "Epoch 61/100\n",
            "128000/128000 [==============================] - 3s 24us/step - loss: 1.1312 - acc: 0.5296 - val_loss: 0.3280 - val_acc: 0.8379\n",
            "Epoch 62/100\n",
            "128000/128000 [==============================] - 3s 24us/step - loss: 1.1286 - acc: 0.5269 - val_loss: 0.3319 - val_acc: 0.8457\n",
            "Epoch 63/100\n",
            "128000/128000 [==============================] - 3s 24us/step - loss: 1.1292 - acc: 0.5279 - val_loss: 0.3221 - val_acc: 0.8385\n",
            "Epoch 64/100\n",
            "128000/128000 [==============================] - 3s 24us/step - loss: 1.1260 - acc: 0.5284 - val_loss: 0.3235 - val_acc: 0.8488\n",
            "Epoch 65/100\n",
            "128000/128000 [==============================] - 3s 24us/step - loss: 1.1295 - acc: 0.5283 - val_loss: 0.3321 - val_acc: 0.8361\n",
            "Epoch 66/100\n",
            "128000/128000 [==============================] - 3s 24us/step - loss: 1.1253 - acc: 0.5315 - val_loss: 0.3179 - val_acc: 0.8439\n",
            "Epoch 67/100\n",
            "128000/128000 [==============================] - 3s 24us/step - loss: 1.1238 - acc: 0.5306 - val_loss: 0.3229 - val_acc: 0.8385\n",
            "Epoch 68/100\n",
            "128000/128000 [==============================] - 3s 24us/step - loss: 1.1221 - acc: 0.5302 - val_loss: 0.3249 - val_acc: 0.8409\n",
            "Epoch 69/100\n",
            "128000/128000 [==============================] - 3s 24us/step - loss: 1.1238 - acc: 0.5316 - val_loss: 0.3235 - val_acc: 0.8445\n",
            "Epoch 70/100\n",
            "128000/128000 [==============================] - 3s 24us/step - loss: 1.1211 - acc: 0.5331 - val_loss: 0.3247 - val_acc: 0.8342\n",
            "Epoch 71/100\n",
            "128000/128000 [==============================] - 3s 24us/step - loss: 1.1213 - acc: 0.5320 - val_loss: 0.3269 - val_acc: 0.8379\n",
            "Epoch 72/100\n",
            "128000/128000 [==============================] - 3s 24us/step - loss: 1.1179 - acc: 0.5333 - val_loss: 0.3204 - val_acc: 0.8439\n",
            "Epoch 73/100\n",
            "128000/128000 [==============================] - 3s 24us/step - loss: 1.1191 - acc: 0.5333 - val_loss: 0.3197 - val_acc: 0.8415\n",
            "Epoch 74/100\n",
            "128000/128000 [==============================] - 3s 24us/step - loss: 1.1133 - acc: 0.5363 - val_loss: 0.3178 - val_acc: 0.8457\n",
            "Epoch 75/100\n",
            "128000/128000 [==============================] - 3s 24us/step - loss: 1.1163 - acc: 0.5342 - val_loss: 0.3196 - val_acc: 0.8403\n",
            "Epoch 76/100\n",
            "128000/128000 [==============================] - 3s 24us/step - loss: 1.1146 - acc: 0.5364 - val_loss: 0.3141 - val_acc: 0.8488\n",
            "Epoch 77/100\n",
            "128000/128000 [==============================] - 3s 23us/step - loss: 1.1116 - acc: 0.5375 - val_loss: 0.3106 - val_acc: 0.8445\n",
            "Epoch 78/100\n",
            "128000/128000 [==============================] - 3s 24us/step - loss: 1.1069 - acc: 0.5392 - val_loss: 0.3142 - val_acc: 0.8367\n",
            "Epoch 79/100\n",
            "128000/128000 [==============================] - 3s 24us/step - loss: 1.1060 - acc: 0.5390 - val_loss: 0.3200 - val_acc: 0.8433\n",
            "Epoch 80/100\n",
            "128000/128000 [==============================] - 3s 24us/step - loss: 1.1086 - acc: 0.5360 - val_loss: 0.3160 - val_acc: 0.8403\n",
            "Epoch 81/100\n",
            "128000/128000 [==============================] - 3s 24us/step - loss: 1.1067 - acc: 0.5382 - val_loss: 0.3151 - val_acc: 0.8373\n",
            "Epoch 82/100\n",
            "128000/128000 [==============================] - 3s 24us/step - loss: 1.1069 - acc: 0.5385 - val_loss: 0.3113 - val_acc: 0.8475\n",
            "Epoch 83/100\n",
            "128000/128000 [==============================] - 3s 24us/step - loss: 1.1055 - acc: 0.5401 - val_loss: 0.3126 - val_acc: 0.8445\n",
            "Epoch 84/100\n",
            "128000/128000 [==============================] - 3s 24us/step - loss: 1.1044 - acc: 0.5392 - val_loss: 0.3172 - val_acc: 0.8391\n",
            "Epoch 85/100\n",
            "128000/128000 [==============================] - 3s 24us/step - loss: 1.1038 - acc: 0.5392 - val_loss: 0.3101 - val_acc: 0.8397\n",
            "Epoch 86/100\n",
            "128000/128000 [==============================] - 3s 23us/step - loss: 1.1023 - acc: 0.5404 - val_loss: 0.3078 - val_acc: 0.8403\n",
            "Epoch 87/100\n",
            "128000/128000 [==============================] - 3s 23us/step - loss: 1.1030 - acc: 0.5394 - val_loss: 0.3189 - val_acc: 0.8361\n",
            "Epoch 88/100\n",
            "128000/128000 [==============================] - 3s 24us/step - loss: 1.0996 - acc: 0.5409 - val_loss: 0.3072 - val_acc: 0.8451\n",
            "Epoch 89/100\n",
            "128000/128000 [==============================] - 3s 24us/step - loss: 1.1002 - acc: 0.5418 - val_loss: 0.3052 - val_acc: 0.8590\n",
            "Epoch 90/100\n",
            "128000/128000 [==============================] - 3s 24us/step - loss: 1.1008 - acc: 0.5416 - val_loss: 0.3124 - val_acc: 0.8482\n",
            "Epoch 91/100\n",
            "128000/128000 [==============================] - 3s 24us/step - loss: 1.0991 - acc: 0.5412 - val_loss: 0.3024 - val_acc: 0.8518\n",
            "Epoch 92/100\n",
            "128000/128000 [==============================] - 3s 24us/step - loss: 1.0958 - acc: 0.5438 - val_loss: 0.3071 - val_acc: 0.8482\n",
            "Epoch 93/100\n",
            "128000/128000 [==============================] - 3s 24us/step - loss: 1.0996 - acc: 0.5418 - val_loss: 0.3103 - val_acc: 0.8409\n",
            "Epoch 94/100\n",
            "128000/128000 [==============================] - 3s 24us/step - loss: 1.0971 - acc: 0.5423 - val_loss: 0.3011 - val_acc: 0.8512\n",
            "Epoch 95/100\n",
            "128000/128000 [==============================] - 3s 24us/step - loss: 1.0941 - acc: 0.5445 - val_loss: 0.3016 - val_acc: 0.8506\n",
            "Epoch 96/100\n",
            "128000/128000 [==============================] - 3s 24us/step - loss: 1.0959 - acc: 0.5422 - val_loss: 0.3034 - val_acc: 0.8512\n",
            "Epoch 97/100\n",
            "128000/128000 [==============================] - 3s 24us/step - loss: 1.0936 - acc: 0.5441 - val_loss: 0.2963 - val_acc: 0.8488\n",
            "Epoch 98/100\n",
            "128000/128000 [==============================] - 3s 24us/step - loss: 1.0915 - acc: 0.5449 - val_loss: 0.3021 - val_acc: 0.8500\n",
            "Epoch 99/100\n",
            "128000/128000 [==============================] - 3s 24us/step - loss: 1.0910 - acc: 0.5452 - val_loss: 0.3030 - val_acc: 0.8482\n",
            "Epoch 100/100\n",
            "128000/128000 [==============================] - 3s 24us/step - loss: 1.0888 - acc: 0.5483 - val_loss: 0.2943 - val_acc: 0.8548\n"
          ],
          "name": "stdout"
        }
      ]
    },
    {
      "cell_type": "markdown",
      "metadata": {
        "id": "OVFgwssVfxtd",
        "colab_type": "text"
      },
      "source": [
        "# Save model"
      ]
    },
    {
      "cell_type": "code",
      "metadata": {
        "id": "fKe0m_39HiWU",
        "colab_type": "code",
        "colab": {
          "base_uri": "https://localhost:8080/",
          "height": 34
        },
        "outputId": "8d86f8d3-d58a-4cab-8eb4-f2a5c36bea65"
      },
      "source": [
        "dic = \"/content/drive/My Drive/Colab Notebooks/\"\n",
        "classifier.save(dic+f'SaveModel/CNN0-32(1,3)-32(2,3)-ba{batch}-ep{epoch}-(dout=0.5)-input(IQ)(SNR=all).h5')\n",
        "\n",
        "f = open(dic+f'SaveModel/CNN0-32(1,3)-32(2,3)-ba{batch}-ep{epoch}-(dout=0.5)-input(IQ)(SNR=all)-history.txt',\"w\")\n",
        "f.write( str(classifier.history.history) )\n",
        "f.close()\n",
        "\n",
        "print('Model Saved!')"
      ],
      "execution_count": 43,
      "outputs": [
        {
          "output_type": "stream",
          "text": [
            "Model Saved!\n"
          ],
          "name": "stdout"
        }
      ]
    },
    {
      "cell_type": "markdown",
      "metadata": {
        "id": "cNGu7HtyhGc2",
        "colab_type": "text"
      },
      "source": [
        "\n",
        "# Prediction(only SNR=18)"
      ]
    },
    {
      "cell_type": "code",
      "metadata": {
        "id": "6irYYHCZ6A2C",
        "colab_type": "code",
        "outputId": "0c97d29a-7e7a-4ca7-b475-755aa83278d9",
        "colab": {
          "base_uri": "https://localhost:8080/",
          "height": 84
        }
      },
      "source": [
        "y_pred = classifier.predict(X_test18)\n",
        "y_pred = np.argmax(y_pred, axis=1)\n",
        "\n",
        "y_real = np.argmax(y_test18, axis=1)\n",
        "# Making the Confusion Matrix\n",
        "from sklearn.metrics import confusion_matrix\n",
        "cm = confusion_matrix(y_real, y_pred)\n",
        "cm_norm = cm.astype('float') / cm.sum(axis=1)[:, np.newaxis]\n",
        "\n",
        "acc_test = classifier.evaluate(X_test18, y_test18)[1]\n",
        "acc_train = classifier.evaluate(X_train, y_train)[1]\n",
        "\n",
        "print(\"Acc Test : \", acc_test)\n",
        "print(\"Acc Train : \", acc_train)\n"
      ],
      "execution_count": 0,
      "outputs": [
        {
          "output_type": "stream",
          "text": [
            "1653/1653 [==============================] - 0s 81us/step\n",
            "128000/128000 [==============================] - 10s 79us/step\n",
            "Acc Test :  0.8354506957408376\n",
            "Acc Train :  0.5644609375\n"
          ],
          "name": "stdout"
        }
      ]
    },
    {
      "cell_type": "markdown",
      "metadata": {
        "id": "ShXqOJL47hCE",
        "colab_type": "text"
      },
      "source": [
        "# Plot Confusion Matrix"
      ]
    },
    {
      "cell_type": "code",
      "metadata": {
        "id": "-6AbLWccANuo",
        "colab_type": "code",
        "outputId": "bbb672de-7109-4322-cad8-505a777b848f",
        "colab": {
          "base_uri": "https://localhost:8080/",
          "height": 84
        }
      },
      "source": [
        "import matplotlib.pyplot as plt\n",
        "import seaborn as sns\n",
        "from sklearn.metrics import confusion_matrix\n",
        "import pandas as pd\n",
        "\n",
        "modulation_order = []\n",
        "modulation_order_dict = dict()\n",
        "\n",
        "for key,value in output.items():\n",
        "    modulation_order_dict[np.argmax(value)] = str(key)\n",
        "    \n",
        "for i in range(8):\n",
        "    modulation_order.append(modulation_order_dict[i])\n",
        "    \n",
        "acc_test = classifier.evaluate(X_test18, y_test18)[1]\n",
        "acc_train = classifier.evaluate(X_train, y_train)[1]\n",
        "\n",
        "print(\"Acc Test : \", acc_test)\n",
        "print(\"Acc Train : \", acc_train)    "
      ],
      "execution_count": 0,
      "outputs": [
        {
          "output_type": "stream",
          "text": [
            "1653/1653 [==============================] - 0s 212us/step\n",
            "128000/128000 [==============================] - 11s 85us/step\n",
            "Acc Test :  0.8523895948566383\n",
            "Acc Train :  0.567703125\n"
          ],
          "name": "stdout"
        }
      ]
    },
    {
      "cell_type": "code",
      "metadata": {
        "id": "Vv5RzFyj_Cj1",
        "colab_type": "code",
        "outputId": "426e8afe-1737-413b-ce69-b65123b6e0f4",
        "colab": {
          "base_uri": "https://localhost:8080/",
          "height": 1000
        }
      },
      "source": [
        "dic = \"/content/drive/My Drive/Colab Notebooks/\"\n",
        "acc = []\n",
        "\n",
        "for snr in snrList:\n",
        "  print('SNR: ', snr)\n",
        "    \n",
        "  y_test_snr = []\n",
        "  X_test_snr = []\n",
        "  for i in range(X_test.shape[0]):\n",
        "    if X_test[i,0,0] == int(snr):\n",
        "      X_test_snr.append(X_test[i])\n",
        "      y_test_snr.append(y_test[i])\n",
        "        \n",
        "  X_test_snr = np.array(X_test_snr)\n",
        "  y_test_snr = np.array(y_test_snr)        \n",
        "  X_test_snr = X_test_snr[:,:,1:]\n",
        "  \n",
        "  X_test_snr = X_test_snr.reshape([X_test_snr.shape[0],256])\n",
        "  X_test_snr = sc.transform(X_test_snr)\n",
        "  X_test_snr = X_test_snr.reshape([X_test_snr.shape[0],2,128])\n",
        "  \n",
        "  X_test_snr = X_test_snr.reshape(-1,2, 128, 1) # For CNN\n",
        "    \n",
        "  acc_test = classifier.evaluate(X_test_snr, y_test_snr)[1]\n",
        "  acc.append(acc_test)\n",
        "  print(acc_test)\n",
        "  '''\n",
        "  y_pred = classifier.predict(X_test_snr)\n",
        "  y_pred = np.argmax(y_pred, axis=1)\n",
        "\n",
        "  y_real = np.argmax(y_test_snr, axis=1)\n",
        "  # Making the Confusion Matrix\n",
        "  cm = confusion_matrix(y_real, y_pred)\n",
        "  cm_norm = cm.astype('float') / cm.sum(axis=1)[:, np.newaxis]\n",
        "    \n",
        "    \n",
        "  cmDataFrame = pd.DataFrame(cm_norm, index=modulation_order, columns = modulation_order)\n",
        "  plt.figure(figsize=(6, 5))\n",
        "  ax = sns.heatmap(cmDataFrame, annot=True, annot_kws={\"size\": 8}, fmt='.2f', linewidths=.5, cmap=\"Blues\")\n",
        "\n",
        "  plt.title(f\"CNN Confusion Matrix (SNR={snr})\")\n",
        "  plt.xlabel(\"Predicted label  \\n\\n TrainAcc={:.2}, TestAcc={:.2}\".format(acc_train,acc_test), fontsize=8)\n",
        "  plt.ylabel(\"True lable\", fontsize=8)\n",
        "  plt.setp(ax.get_xticklabels(), rotation=45, ha=\"right\",rotation_mode=\"anchor\", fontsize=8)\n",
        "  plt.setp(ax.get_yticklabels(), fontsize=8)\n",
        "  fig = ax.get_figure()\n",
        "\n",
        "  fig.savefig(dic+f\"/Pic/CNN/CNN0-ba{batch}-ep{epoch}-(dout=0.6)-input(IQ)(SNR={snr}).png\", dpi=175, bbox_inches='tight')\n",
        "  fig.savefig(dic+f\"/Pic/CNN/CNN0-ba{batch}-ep{epoch}-(dout=0.6)-input(IQ)(SNR={snr}).eps\", bbox_inches='tight')\n",
        "  print(\"Plot Saved!\")\n",
        "'''\n",
        "\n",
        "  del(y_test_snr)\n",
        "  del(X_test_snr)\n",
        "      \n",
        "print(acc)    \n",
        "    "
      ],
      "execution_count": 40,
      "outputs": [
        {
          "output_type": "stream",
          "text": [
            "SNR:  -20\n",
            "1636/1636 [==============================] - 0s 91us/step\n",
            "0.12775061124694376\n",
            "SNR:  -18\n",
            "1630/1630 [==============================] - 0s 78us/step\n",
            "0.1239263803955236\n",
            "SNR:  -16\n",
            "1606/1606 [==============================] - 0s 62us/step\n",
            "0.1226650062637638\n",
            "SNR:  -14\n",
            "1633/1633 [==============================] - 0s 59us/step\n",
            "0.1267605633802817\n",
            "SNR:  -12\n",
            "1567/1567 [==============================] - 0s 82us/step\n",
            "0.13146139115532568\n",
            "SNR:  -10\n",
            "1561/1561 [==============================] - 0s 78us/step\n",
            "0.18577834726105433\n",
            "SNR:  -8\n",
            "1605/1605 [==============================] - 0s 61us/step\n",
            "0.3320872274236144\n",
            "SNR:  -6\n",
            "1605/1605 [==============================] - 0s 47us/step\n",
            "0.41806853589981885\n",
            "SNR:  -4\n",
            "1600/1600 [==============================] - 0s 50us/step\n",
            "0.488125\n",
            "SNR:  -2\n",
            "1642/1642 [==============================] - 0s 63us/step\n",
            "0.6132764920102257\n",
            "SNR:  0\n",
            "1570/1570 [==============================] - 0s 60us/step\n",
            "0.7560509554140128\n",
            "SNR:  2\n",
            "1577/1577 [==============================] - 0s 69us/step\n",
            "0.813570069752695\n",
            "SNR:  4\n",
            "1555/1555 [==============================] - 0s 76us/step\n",
            "0.8347266883712107\n",
            "SNR:  6\n",
            "1598/1598 [==============================] - 0s 52us/step\n",
            "0.8166458069606777\n",
            "SNR:  8\n",
            "1568/1568 [==============================] - 0s 50us/step\n",
            "0.8239795918367347\n",
            "SNR:  10\n",
            "1542/1542 [==============================] - 0s 51us/step\n",
            "0.8378728922702923\n",
            "SNR:  12\n",
            "1598/1598 [==============================] - 0s 52us/step\n",
            "0.8229036292385249\n",
            "SNR:  14\n",
            "1616/1616 [==============================] - 0s 66us/step\n",
            "0.817450495049505\n",
            "SNR:  16\n",
            "1638/1638 [==============================] - 0s 51us/step\n",
            "0.8394383393655621\n",
            "SNR:  18\n",
            "1653/1653 [==============================] - 0s 77us/step\n",
            "0.8318209317836773\n",
            "[0.12775061124694376, 0.1239263803955236, 0.1226650062637638, 0.1267605633802817, 0.13146139115532568, 0.18577834726105433, 0.3320872274236144, 0.41806853589981885, 0.488125, 0.6132764920102257, 0.7560509554140128, 0.813570069752695, 0.8347266883712107, 0.8166458069606777, 0.8239795918367347, 0.8378728922702923, 0.8229036292385249, 0.817450495049505, 0.8394383393655621, 0.8318209317836773]\n"
          ],
          "name": "stdout"
        }
      ]
    },
    {
      "cell_type": "markdown",
      "metadata": {
        "id": "9_d7UlrRJTdJ",
        "colab_type": "text"
      },
      "source": [
        "# Plot accuracy and loss"
      ]
    },
    {
      "cell_type": "code",
      "metadata": {
        "id": "Ofyw4cqWJZQD",
        "colab_type": "code",
        "colab": {}
      },
      "source": [
        "import matplotlib.pyplot as plt\n",
        "def plot_history(history):\n",
        "    loss_list = [s for s in history.history.keys() if 'loss' in s and 'val' not in s]\n",
        "    val_loss_list = [s for s in history.history.keys() if 'loss' in s and 'val' in s]\n",
        "    acc_list = [s for s in history.history.keys() if 'acc' in s and 'val' not in s]\n",
        "    val_acc_list = [s for s in history.history.keys() if 'acc' in s and 'val' in s]\n",
        "    \n",
        "    if len(loss_list) == 0:\n",
        "        print('Loss is missing in history')\n",
        "        return \n",
        "    \n",
        "    ## As loss always exists\n",
        "    epochs = range(1,len(history.history[loss_list[0]]) + 1)\n",
        "    \n",
        "    ## Loss\n",
        "    plt.figure(1)\n",
        "    for l in loss_list:\n",
        "        plt.plot(epochs, history.history[l], 'b', label='Training loss (' + str(str(format(history.history[l][-1],'.5f'))+')'))\n",
        "    for l in val_loss_list:\n",
        "        plt.plot(epochs, history.history[l], 'g', label='Validation loss (' + str(str(format(history.history[l][-1],'.5f'))+')'))  \n",
        "    \n",
        "    plt.title('Loss')\n",
        "    plt.xlabel('Epochs')\n",
        "    plt.ylabel('Loss')\n",
        "    plt.legend()\n",
        "    \n",
        "    ## Accuracy\n",
        "    plt.figure(2)\n",
        "    for l in acc_list:\n",
        "        plt.plot(epochs, history.history[l], 'b', label='Training accuracy (' + str(format(history.history[l][-1],'.5f'))+')')\n",
        "    for l in val_acc_list:    \n",
        "        plt.plot(epochs, history.history[l], 'g', label='Validation accuracy (' + str(format(history.history[l][-1],'.5f'))+')')\n",
        "\n",
        "    plt.title('Accuracy')\n",
        "    plt.xlabel('Epochs')\n",
        "    plt.ylabel('Accuracy')\n",
        "    plt.legend()\n",
        "    plt.show()\n",
        "    \n"
      ],
      "execution_count": 0,
      "outputs": []
    },
    {
      "cell_type": "code",
      "metadata": {
        "id": "LvZtjPOeJadx",
        "colab_type": "code",
        "outputId": "2a9aa6e6-88d7-4770-ff97-c2e53e7943db",
        "colab": {
          "base_uri": "https://localhost:8080/",
          "height": 574
        }
      },
      "source": [
        "plot_history(classifier.history)"
      ],
      "execution_count": 0,
      "outputs": [
        {
          "output_type": "display_data",
          "data": {
            "image/png": "[encoded data removed]",
            "text/plain": [
              "<Figure size 432x288 with 1 Axes>"
            ]
          },
          "metadata": {
            "tags": []
          }
        },
        {
          "output_type": "display_data",
          "data": {
            "image/png": "[encoded data removed]",
            "text/plain": [
              "<Figure size 432x288 with 1 Axes>"
            ]
          },
          "metadata": {
            "tags": []
          }
        }
      ]
    },
    {
      "cell_type": "markdown",
      "metadata": {
        "id": "cYsdM-_E0JOk",
        "colab_type": "text"
      },
      "source": [
        "Laod Model"
      ]
    },
    {
      "cell_type": "code",
      "metadata": {
        "id": "4YwGx5eVtNHf",
        "colab_type": "code",
        "outputId": "85ff63be-7a58-42eb-d3cb-99ac79b49eec",
        "colab": {
          "base_uri": "https://localhost:8080/",
          "height": 34
        }
      },
      "source": [
        "from keras.models import load_model\n",
        "dic = \"/content/drive/My Drive/Colab Notebooks/\"\n",
        "\n",
        "model = load_model(dic+f'SaveModel/CNN0-128(1,3)-32(2,3)-ba{batch}-ep{epoch}-(dout=0.5)-input(IQ)(SNR=all).h5')\n",
        "\n",
        "print('Model loaded!')"
      ],
      "execution_count": 34,
      "outputs": [
        {
          "output_type": "stream",
          "text": [
            "Model loaded!\n"
          ],
          "name": "stdout"
        }
      ]
    },
    {
      "cell_type": "code",
      "metadata": {
        "id": "6pAIUxXfoxJD",
        "colab_type": "code",
        "outputId": "3173eb8d-0114-4bfb-94d2-510af79806ad",
        "colab": {
          "base_uri": "https://localhost:8080/",
          "height": 1000
        }
      },
      "source": [
        "classifier = model\n",
        "model.get_config()\n",
        "\n",
        "\n",
        "\n"
      ],
      "execution_count": 35,
      "outputs": [
        {
          "output_type": "execute_result",
          "data": {
            "text/plain": [
              "{'layers': [{'class_name': 'Conv2D',\n",
              "   'config': {'activation': 'relu',\n",
              "    'activity_regularizer': None,\n",
              "    'batch_input_shape': (None, 2, 128, 1),\n",
              "    'bias_constraint': None,\n",
              "    'bias_initializer': {'class_name': 'Zeros', 'config': {}},\n",
              "    'bias_regularizer': None,\n",
              "    'data_format': 'channels_last',\n",
              "    'dilation_rate': (1, 1),\n",
              "    'dtype': 'float32',\n",
              "    'filters': 128,\n",
              "    'kernel_constraint': None,\n",
              "    'kernel_initializer': {'class_name': 'VarianceScaling',\n",
              "     'config': {'distribution': 'uniform',\n",
              "      'mode': 'fan_avg',\n",
              "      'scale': 1.0,\n",
              "      'seed': None}},\n",
              "    'kernel_regularizer': None,\n",
              "    'kernel_size': (1, 3),\n",
              "    'name': 'conv2d_5',\n",
              "    'padding': 'same',\n",
              "    'strides': (1, 1),\n",
              "    'trainable': True,\n",
              "    'use_bias': True}},\n",
              "  {'class_name': 'Dropout',\n",
              "   'config': {'name': 'dropout_7',\n",
              "    'noise_shape': None,\n",
              "    'rate': 0.5,\n",
              "    'seed': None,\n",
              "    'trainable': True}},\n",
              "  {'class_name': 'Conv2D',\n",
              "   'config': {'activation': 'relu',\n",
              "    'activity_regularizer': None,\n",
              "    'bias_constraint': None,\n",
              "    'bias_initializer': {'class_name': 'Zeros', 'config': {}},\n",
              "    'bias_regularizer': None,\n",
              "    'data_format': 'channels_last',\n",
              "    'dilation_rate': (1, 1),\n",
              "    'filters': 32,\n",
              "    'kernel_constraint': None,\n",
              "    'kernel_initializer': {'class_name': 'VarianceScaling',\n",
              "     'config': {'distribution': 'uniform',\n",
              "      'mode': 'fan_avg',\n",
              "      'scale': 1.0,\n",
              "      'seed': None}},\n",
              "    'kernel_regularizer': None,\n",
              "    'kernel_size': (2, 3),\n",
              "    'name': 'conv2d_6',\n",
              "    'padding': 'same',\n",
              "    'strides': (1, 1),\n",
              "    'trainable': True,\n",
              "    'use_bias': True}},\n",
              "  {'class_name': 'Dropout',\n",
              "   'config': {'name': 'dropout_8',\n",
              "    'noise_shape': None,\n",
              "    'rate': 0.5,\n",
              "    'seed': None,\n",
              "    'trainable': True}},\n",
              "  {'class_name': 'Flatten',\n",
              "   'config': {'data_format': 'channels_last',\n",
              "    'name': 'flatten_3',\n",
              "    'trainable': True}},\n",
              "  {'class_name': 'Dense',\n",
              "   'config': {'activation': 'relu',\n",
              "    'activity_regularizer': None,\n",
              "    'bias_constraint': None,\n",
              "    'bias_initializer': {'class_name': 'Zeros', 'config': {}},\n",
              "    'bias_regularizer': None,\n",
              "    'kernel_constraint': None,\n",
              "    'kernel_initializer': {'class_name': 'VarianceScaling',\n",
              "     'config': {'distribution': 'uniform',\n",
              "      'mode': 'fan_avg',\n",
              "      'scale': 1.0,\n",
              "      'seed': None}},\n",
              "    'kernel_regularizer': None,\n",
              "    'name': 'dense_5',\n",
              "    'trainable': True,\n",
              "    'units': 128,\n",
              "    'use_bias': True}},\n",
              "  {'class_name': 'Dropout',\n",
              "   'config': {'name': 'dropout_9',\n",
              "    'noise_shape': None,\n",
              "    'rate': 0.5,\n",
              "    'seed': None,\n",
              "    'trainable': True}},\n",
              "  {'class_name': 'Dense',\n",
              "   'config': {'activation': 'softmax',\n",
              "    'activity_regularizer': None,\n",
              "    'bias_constraint': None,\n",
              "    'bias_initializer': {'class_name': 'Zeros', 'config': {}},\n",
              "    'bias_regularizer': None,\n",
              "    'kernel_constraint': None,\n",
              "    'kernel_initializer': {'class_name': 'VarianceScaling',\n",
              "     'config': {'distribution': 'uniform',\n",
              "      'mode': 'fan_avg',\n",
              "      'scale': 1.0,\n",
              "      'seed': None}},\n",
              "    'kernel_regularizer': None,\n",
              "    'name': 'dense_6',\n",
              "    'trainable': True,\n",
              "    'units': 8,\n",
              "    'use_bias': True}}],\n",
              " 'name': 'sequential_3'}"
            ]
          },
          "metadata": {
            "tags": []
          },
          "execution_count": 35
        }
      ]
    }
  ]
}