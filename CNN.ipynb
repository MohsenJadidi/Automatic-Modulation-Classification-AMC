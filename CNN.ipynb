{
  "nbformat": 4,
  "nbformat_minor": 0,
  "metadata": {
    "colab": {
      "name": "CNN.ipynb",
      "version": "0.3.2",
      "provenance": [],
      "collapsed_sections": [],
      "include_colab_link": true
    },
    "kernelspec": {
      "name": "python3",
      "display_name": "Python 3"
    },
    "accelerator": "GPU"
  },
  "cells": [
    {
      "cell_type": "markdown",
      "metadata": {
        "id": "view-in-github",
        "colab_type": "text"
      },
      "source": [
        "<a href=\"https://colab.research.google.com/github/MohsenJadidi/Automatic-Modulation-Classification-AMC/blob/master/CNN.ipynb\" target=\"_parent\"><img src=\"https://colab.research.google.com/assets/colab-badge.svg\" alt=\"Open In Colab\"/></a>"
      ]
    },
    {
      "cell_type": "code",
      "metadata": {
        "id": "m0dBrWRWh7UO",
        "colab_type": "code",
        "outputId": "cccc9d74-f804-4058-85db-c612b6606ab8",
        "colab": {
          "base_uri": "https://localhost:8080/",
          "height": 34
        }
      },
      "source": [
        "from google.colab import drive\n",
        "drive.mount('/content/drive')"
      ],
      "execution_count": 1,
      "outputs": [
        {
          "output_type": "stream",
          "text": [
            "Drive already mounted at /content/drive; to attempt to forcibly remount, call drive.mount(\"/content/drive\", force_remount=True).\n"
          ],
          "name": "stdout"
        }
      ]
    },
    {
      "cell_type": "markdown",
      "metadata": {
        "id": "UR0ATiKBk6rG",
        "colab_type": "text"
      },
      "source": [
        "# Importing the dataset"
      ]
    },
    {
      "cell_type": "code",
      "metadata": {
        "id": "JfzzfiDSuxMs",
        "colab_type": "code",
        "colab": {}
      },
      "source": [
        "import pickle\n",
        "fileName = 'RML2016.10a_dict.pkl'\n",
        "with open(\"/content/drive/My Drive/Colab Notebooks/\"+fileName,'rb') as f:\n",
        "  data = pickle.load(f,encoding='bytes')\n",
        " "
      ],
      "execution_count": 0,
      "outputs": []
    },
    {
      "cell_type": "code",
      "metadata": {
        "id": "yjAg9T-0uzyh",
        "colab_type": "code",
        "outputId": "3c72e265-8ce0-49bc-fb4e-37c8ab5abb33",
        "colab": {
          "base_uri": "https://localhost:8080/",
          "height": 34
        }
      },
      "source": [
        "import numpy as np\n",
        "X = []\n",
        "labels = [] # label each example by a pair (modulation type, snr)\n",
        "total_examples = 0\n",
        "analog = [b'AM-DSB', b'AM-SSB', b'WBFM']\n",
        "\n",
        "for mod_type, snr in data.keys():\n",
        "    if (mod_type not in analog):      \n",
        "        current_matrix = data[(mod_type, snr)]        \n",
        "        total_examples += current_matrix.shape[0]\n",
        "        for i in range(current_matrix.shape[0]):\n",
        "            X.append(current_matrix[i])\n",
        "            labels.append((str(mod_type, 'ascii'), snr)) # mod_type is of type bytes\n",
        "    \n",
        "X = np.array(X)         # First row is QPSK snr=2, seconde is PAM4 snr=8 , ...\n",
        "labels = np.array(labels)\n",
        "\n",
        "y = labels[:,0]\n",
        "\n",
        "print(f'loaded {total_examples} signal vectors into X{X.shape} and their corresponding'\n",
        "      f' labels into labels{labels.shape}')  \n",
        "# print(np.unique(labels[:,0]))\n"
      ],
      "execution_count": 3,
      "outputs": [
        {
          "output_type": "stream",
          "text": [
            "loaded 160000 signal vectors into X(160000, 2, 128) and their corresponding labels into labels(160000, 2)\n"
          ],
          "name": "stdout"
        }
      ]
    },
    {
      "cell_type": "code",
      "metadata": {
        "id": "pbeDr3FVv57v",
        "colab_type": "code",
        "outputId": "a9e15857-d314-4bb8-db7f-ad37e4664605",
        "colab": {
          "base_uri": "https://localhost:8080/",
          "height": 104
        }
      },
      "source": [
        "# Encoding categorical data\n",
        "from sklearn.preprocessing import LabelEncoder, OneHotEncoder\n",
        "labelencoder_y = LabelEncoder()\n",
        "y = labelencoder_y.fit_transform(y)\n",
        "onehotencoder = OneHotEncoder()\n",
        "y = onehotencoder.fit_transform(y.reshape(-1,1)).toarray()"
      ],
      "execution_count": 4,
      "outputs": [
        {
          "output_type": "stream",
          "text": [
            "/usr/local/lib/python3.6/dist-packages/sklearn/preprocessing/_encoders.py:415: FutureWarning: The handling of integer data will change in version 0.22. Currently, the categories are determined based on the range [0, max(values)], while in the future they will be determined based on the unique values.\n",
            "If you want the future behaviour and silence this warning, you can specify \"categories='auto'\".\n",
            "In case you used a LabelEncoder before this OneHotEncoder to convert the categories to integers, then you can now use the OneHotEncoder directly.\n",
            "  warnings.warn(msg, FutureWarning)\n"
          ],
          "name": "stderr"
        }
      ]
    },
    {
      "cell_type": "code",
      "metadata": {
        "id": "-Z6iUKbJwKlT",
        "colab_type": "code",
        "outputId": "25d3480a-5260-4e96-bf9a-28349c90e7ef",
        "colab": {
          "base_uri": "https://localhost:8080/",
          "height": 34
        }
      },
      "source": [
        "snrList = [str(2*i-20) for i in range(20)]  # snrList = -20, -18, -16 , ... ,0, ... ,18\n",
        "snr = snrList[19]\n",
        "numberOfEachExamples = 1000\n",
        "print(\"SNR :\", snr)"
      ],
      "execution_count": 5,
      "outputs": [
        {
          "output_type": "stream",
          "text": [
            "SNR : 18\n"
          ],
          "name": "stdout"
        }
      ]
    },
    {
      "cell_type": "code",
      "metadata": {
        "id": "-DiHGfSPwKb1",
        "colab_type": "code",
        "colab": {}
      },
      "source": [
        "output = [[labels[i*numberOfEachExamples, 0],y[i*numberOfEachExamples]] for i in range(int(X.shape[0]/numberOfEachExamples))]\n",
        "output = dict(output)"
      ],
      "execution_count": 0,
      "outputs": []
    },
    {
      "cell_type": "code",
      "metadata": {
        "id": "0OJ3GghKwrbs",
        "colab_type": "code",
        "colab": {}
      },
      "source": [
        "X_snr = []\n",
        "y_snr = []\n",
        "\n",
        "for i in range(X.shape[0]):\n",
        "    if labels[i,1] == snr:\n",
        "        X_snr.append(X[i])\n",
        "        y_snr.append(y[i])\n",
        "\n",
        "X_snr = np.array(X_snr)\n",
        "y_snr = np.array(y_snr)  "
      ],
      "execution_count": 0,
      "outputs": []
    },
    {
      "cell_type": "code",
      "metadata": {
        "id": "Cx7l0G_3ww0w",
        "colab_type": "code",
        "colab": {}
      },
      "source": [
        "###### Splitting the dataset into the Training set and Test set ######\n",
        "from sklearn.model_selection import train_test_split\n",
        "X_train, X_test, y_train, y_test = train_test_split(X_snr, y_snr, test_size = 0.2, random_state = 0)\n",
        "# The below line better for Cross_val part\n",
        "#X_train, X_test, y_train, y_test = train_test_split(X_snr, y_snr, test_size = 1, random_state = 0)\n"
      ],
      "execution_count": 0,
      "outputs": []
    },
    {
      "cell_type": "code",
      "metadata": {
        "id": "ujxapqcRw1l3",
        "colab_type": "code",
        "colab": {}
      },
      "source": [
        "# Feature Scaling\n",
        "from sklearn.preprocessing import StandardScaler\n",
        "sc = StandardScaler()\n",
        "# StandardScaler expected <= 2.\n",
        "#X_train = X_train.reshape([6400,256])\n",
        "X_train = X_train.reshape([X_train.shape[0],256])\n",
        "X_train = sc.fit_transform(X_train)\n",
        "X_train = X_train.reshape([X_train.shape[0],2,128])\n",
        "#X_test = X_test.reshape([1600,256])\n",
        "X_test = X_test.reshape([X_test.shape[0],256])\n",
        "X_test = sc.transform(X_test)\n",
        "X_test = X_test.reshape([X_test.shape[0],2,128])\n",
        "\n",
        "# Reshape\n",
        "X_train = X_train.reshape(-1,2, 128, 1)   #Reshape for CNN -  (6400,2,128)->(6400,2,128,1)!!\n",
        "X_test = X_test.reshape(-1,2, 128, 1)"
      ],
      "execution_count": 0,
      "outputs": []
    },
    {
      "cell_type": "markdown",
      "metadata": {
        "id": "5InZvNieUoTS",
        "colab_type": "text"
      },
      "source": [
        "# Making CNN0 model \n",
        "(Article : Convolutional Radio Modulation Recognition Networks - Timothy J. O’Shea1)"
      ]
    },
    {
      "cell_type": "code",
      "metadata": {
        "id": "Ida-kcQ9Ub0f",
        "colab_type": "code",
        "colab": {}
      },
      "source": [
        "import keras\n",
        "from keras.models import Sequential\n",
        "from keras.layers import Conv2D\n",
        "from keras.layers import MaxPooling2D\n",
        "from keras.layers import Flatten\n",
        "from keras.layers import Dense\n",
        "from keras.layers import Dropout\n",
        "\n",
        "classifier = Sequential()\n",
        "\n",
        "dout = 0.4\n",
        "classifier.add(Conv2D(64,1,3, input_shape =  (2,128,1), activation = 'relu')) # 256=number of filter\n",
        "classifier.add(Dropout(rate = dout))\n",
        "classifier.add(Conv2D(16,2,3, activation = 'relu'))\n",
        "classifier.add(Dropout(rate = dout))\n",
        "\n",
        "classifier.add(Flatten())\n",
        "\n",
        "classifier.add(Dense(output_dim = 128 , activation = 'relu')) # hidden layer\n",
        "classifier.add(Dropout(rate = dout))\n",
        "classifier.add(Dense(output_dim = 8 , activation = 'softmax'))\n",
        "\n",
        "#from keras import optimizers\n",
        "#adamOpt = optimizers.adam(lr = 0.01)\n",
        "\n",
        "classifier.compile(optimizer = 'adam', loss = 'categorical_crossentropy', metrics = ['accuracy'])\n",
        "\n",
        "#logger = keras.callbacks.TensorBoard(log_dir=\"./logs\", write_graph=True, histogram_freq=0)\n",
        "\n",
        "classifier.summary()\n",
        "print(\"Model Created!\")"
      ],
      "execution_count": 0,
      "outputs": []
    },
    {
      "cell_type": "markdown",
      "metadata": {
        "id": "DAqdPV-N3Ae_",
        "colab_type": "text"
      },
      "source": [
        "#Making CNN1 model (one-convolutional-layer)\n",
        "(Thesis :DEEP NEURAL NETWORK ARCHITECTURES FOR MODULATION CLASSIFICATION)"
      ]
    },
    {
      "cell_type": "code",
      "metadata": {
        "id": "PaOTxksa3D2s",
        "colab_type": "code",
        "colab": {}
      },
      "source": [
        "import keras\n",
        "from keras.models import Sequential\n",
        "from keras.layers import Conv2D\n",
        "from keras.layers import MaxPooling2D\n",
        "from keras.layers import Flatten\n",
        "from keras.layers import Dense\n",
        "from keras.layers import Dropout\n",
        "\n",
        "classifier = Sequential()\n",
        "\n",
        "dout = 0.6\n",
        "\n",
        "classifier.add(Conv2D(256,1,3, input_shape =  (2,128,1), activation = 'relu')) # 256=number of filter\n",
        "classifier.add(Dropout(rate = dout))\n",
        "\n",
        "classifier.add(Flatten())\n",
        "\n",
        "classifier.add(Dense(output_dim = 128 , activation = 'relu')) # hidden layer\n",
        "classifier.add(Dropout(rate = dout))\n",
        "classifier.add(Dense(output_dim = 8 , activation = 'softmax'))\n",
        "\n",
        "#from keras import optimizers\n",
        "#adamOpt = optimizers.adam(lr = 0.01)\n",
        "\n",
        "classifier.compile(optimizer = 'adam', loss = 'categorical_crossentropy', metrics = ['accuracy'])\n",
        "\n",
        "#logger = keras.callbacks.TensorBoard(log_dir=\"./logs\", write_graph=True, histogram_freq=0)\n",
        "\n",
        "classifier.summary()\n",
        "print(\"Model Created!\")"
      ],
      "execution_count": 0,
      "outputs": []
    },
    {
      "cell_type": "markdown",
      "metadata": {
        "id": "M2HVRLuRvC2h",
        "colab_type": "text"
      },
      "source": [
        "# Making CNN2 model  (two-convolutional-layer)"
      ]
    },
    {
      "cell_type": "code",
      "metadata": {
        "id": "-EPV9BVqvAZG",
        "colab_type": "code",
        "colab": {
          "base_uri": "https://localhost:8080/",
          "height": 454
        },
        "outputId": "352325a1-244b-4cf4-d39f-591548f2533c"
      },
      "source": [
        "import keras\n",
        "from keras.models import Sequential\n",
        "from keras.layers import Conv2D\n",
        "from keras.layers import MaxPooling2D\n",
        "from keras.layers import Flatten\n",
        "from keras.layers import Dense\n",
        "from keras.layers import Dropout\n",
        "\n",
        "classifier = Sequential()\n",
        "\n",
        "dout = 0.4\n",
        "classifier.add(Conv2D(256,(1,3), input_shape =  (2,128,1), activation = 'relu', padding='same')) # 256=number of filter\n",
        "classifier.add(Dropout(rate = dout))\n",
        "classifier.add(Conv2D(80,(2,3), activation = 'relu'))\n",
        "classifier.add(Dropout(rate = dout))\n",
        "\n",
        "classifier.add(Flatten())\n",
        "\n",
        "classifier.add(Dense(output_dim = 128 , activation = 'relu')) # hidden layer\n",
        "classifier.add(Dropout(rate = dout))\n",
        "classifier.add(Dense(output_dim = 8 , activation = 'softmax'))\n",
        "\n",
        "#from keras import optimizers\n",
        "#adamOpt = optimizers.adam(lr = 0.01)\n",
        "\n",
        "classifier.compile(optimizer = 'adam', loss = 'categorical_crossentropy', metrics = ['accuracy'])\n",
        "\n",
        "#logger = keras.callbacks.TensorBoard(log_dir=\"./logs\", write_graph=True, histogram_freq=0)\n",
        "\n",
        "classifier.summary()\n",
        "print(\"Model Created!\")\n"
      ],
      "execution_count": 23,
      "outputs": [
        {
          "output_type": "stream",
          "text": [
            "_________________________________________________________________\n",
            "Layer (type)                 Output Shape              Param #   \n",
            "=================================================================\n",
            "conv2d_17 (Conv2D)           (None, 2, 128, 256)       1024      \n",
            "_________________________________________________________________\n",
            "dropout_25 (Dropout)         (None, 2, 128, 256)       0         \n",
            "_________________________________________________________________\n",
            "conv2d_18 (Conv2D)           (None, 1, 126, 80)        122960    \n",
            "_________________________________________________________________\n",
            "dropout_26 (Dropout)         (None, 1, 126, 80)        0         \n",
            "_________________________________________________________________\n",
            "flatten_9 (Flatten)          (None, 10080)             0         \n",
            "_________________________________________________________________\n",
            "dense_17 (Dense)             (None, 128)               1290368   \n",
            "_________________________________________________________________\n",
            "dropout_27 (Dropout)         (None, 128)               0         \n",
            "_________________________________________________________________\n",
            "dense_18 (Dense)             (None, 8)                 1032      \n",
            "=================================================================\n",
            "Total params: 1,415,384\n",
            "Trainable params: 1,415,384\n",
            "Non-trainable params: 0\n",
            "_________________________________________________________________\n",
            "Model Created!\n"
          ],
          "name": "stdout"
        },
        {
          "output_type": "stream",
          "text": [
            "/usr/local/lib/python3.6/dist-packages/ipykernel_launcher.py:19: UserWarning: Update your `Dense` call to the Keras 2 API: `Dense(activation=\"relu\", units=128)`\n",
            "/usr/local/lib/python3.6/dist-packages/ipykernel_launcher.py:21: UserWarning: Update your `Dense` call to the Keras 2 API: `Dense(activation=\"softmax\", units=8)`\n"
          ],
          "name": "stderr"
        }
      ]
    },
    {
      "cell_type": "markdown",
      "metadata": {
        "id": "PFwbq2eup-98",
        "colab_type": "text"
      },
      "source": [
        "#Making CNN3 model (two-convolutional-layer)"
      ]
    },
    {
      "cell_type": "code",
      "metadata": {
        "id": "4EOnbMLu3Qpw",
        "colab_type": "code",
        "colab": {}
      },
      "source": [
        "import keras\n",
        "from keras.models import Sequential\n",
        "from keras.layers import Conv2D\n",
        "from keras.layers import MaxPooling2D\n",
        "from keras.layers import Flatten\n",
        "from keras.layers import Dense\n",
        "from keras.layers import Dropout\n",
        "\n",
        "classifier = Sequential()\n",
        "\n",
        "dout = 0.4\n",
        "\n",
        "classifier.add(Conv2D(80,2,3, activation = 'relu'))\n",
        "classifier.add(Dropout(rate = dout))\n",
        "\n",
        "classifier.add(Conv2D(256,1,3, input_shape =  (2,128,1), activation = 'relu')) # 256=number of filter\n",
        "classifier.add(Dropout(rate = dout))\n",
        "\n",
        "classifier.add(Flatten())\n",
        "\n",
        "classifier.add(Dense(output_dim = 128 , activation = 'relu')) # hidden layer\n",
        "classifier.add(Dropout(rate = dout))\n",
        "classifier.add(Dense(output_dim = 8 , activation = 'softmax'))\n",
        "\n",
        "#from keras import optimizers\n",
        "#adamOpt = optimizers.adam(lr = 0.01)\n",
        "\n",
        "classifier.compile(optimizer = 'adam', loss = 'categorical_crossentropy', metrics = ['accuracy'])\n",
        "\n",
        "#logger = keras.callbacks.TensorBoard(log_dir=\"./logs\", write_graph=True, histogram_freq=0)\n",
        "\n",
        "classifier.summary()\n",
        "print(\"Model Created!\")"
      ],
      "execution_count": 0,
      "outputs": []
    },
    {
      "cell_type": "markdown",
      "metadata": {
        "id": "tcI2TeYzEwY6",
        "colab_type": "text"
      },
      "source": [
        "#Making CNN4 model (four-convolutional-layer)"
      ]
    },
    {
      "cell_type": "code",
      "metadata": {
        "id": "_EcNw2P4Ew_9",
        "colab_type": "code",
        "colab": {}
      },
      "source": [
        "import keras\n",
        "from keras.models import Sequential\n",
        "from keras.layers import Conv2D\n",
        "from keras.layers import MaxPooling2D\n",
        "from keras.layers import Flatten\n",
        "from keras.layers import Dense\n",
        "from keras.layers import Dropout\n",
        "\n",
        "classifier = Sequential()\n",
        "\n",
        "dout = 0.4\n",
        "classifier.add(Conv2D(256,1,3, input_shape =  (2,128,1), activation = 'relu')) # 256=number of filter\n",
        "classifier.add(Dropout(rate = dout))\n",
        "classifier.add(Conv2D(256,2,3, activation = 'relu')) # 256=number of filter\n",
        "classifier.add(Dropout(rate = dout))\n",
        "\n",
        "classifier.add(Conv2D(80,1,3, activation = 'relu'))\n",
        "classifier.add(Dropout(rate = dout))\n",
        "classifier.add(Conv2D(80,1,3, activation = 'relu'))\n",
        "classifier.add(Dropout(rate = dout))\n",
        "\n",
        "classifier.add(Flatten())\n",
        "\n",
        "classifier.add(Dense(output_dim = 128 , activation = 'relu')) # hidden layer\n",
        "classifier.add(Dropout(rate = dout))\n",
        "classifier.add(Dense(output_dim = 8 , activation = 'softmax'))\n",
        "\n",
        "#from keras import optimizers\n",
        "#adamOpt = optimizers.adam(lr = 0.01)\n",
        "\n",
        "classifier.compile(optimizer = 'adam', loss = 'categorical_crossentropy', metrics = ['accuracy'])\n",
        "\n",
        "#logger = keras.callbacks.TensorBoard(log_dir=\"./logs\", write_graph=True, histogram_freq=0)\n",
        "\n",
        "classifier.summary()\n",
        "print(\"Model Created!\")\n"
      ],
      "execution_count": 0,
      "outputs": []
    },
    {
      "cell_type": "markdown",
      "metadata": {
        "id": "Iv1KiftgFi9w",
        "colab_type": "text"
      },
      "source": [
        "#Making CNN5 model (five-convolutional-layer)"
      ]
    },
    {
      "cell_type": "code",
      "metadata": {
        "id": "DceZWd-aFjkP",
        "colab_type": "code",
        "colab": {}
      },
      "source": [
        "import keras\n",
        "from keras.models import Sequential\n",
        "from keras.layers import Conv2D\n",
        "from keras.layers import MaxPooling2D\n",
        "from keras.layers import Flatten\n",
        "from keras.layers import Dense\n",
        "from keras.layers import Dropout\n",
        "\n",
        "classifier = Sequential()\n",
        "\n",
        "dout = 0.4\n",
        "classifier.add(Conv2D(384,1,3, input_shape =  (2,128,1), activation = 'relu')) \n",
        "classifier.add(Dropout(rate = dout))\n",
        "classifier.add(Conv2D(256,2,3, activation = 'relu'))\n",
        "classifier.add(Dropout(rate = dout))\n",
        "classifier.add(Conv2D(80,1,3, activation = 'relu'))\n",
        "classifier.add(Dropout(rate = dout))\n",
        "classifier.add(Conv2D(256,1,3, activation = 'relu'))\n",
        "classifier.add(Dropout(rate = dout))\n",
        "classifier.add(Conv2D(80,1,3, activation = 'relu'))\n",
        "classifier.add(Dropout(rate = dout))\n",
        "\n",
        "classifier.add(Flatten())\n",
        "\n",
        "classifier.add(Dense(output_dim = 128 , activation = 'relu')) # hidden layer\n",
        "classifier.add(Dropout(rate = dout))\n",
        "classifier.add(Dense(output_dim = 8 , activation = 'softmax'))\n",
        "\n",
        "#from keras import optimizers\n",
        "#adamOpt = optimizers.adam(lr = 0.01)\n",
        "\n",
        "classifier.compile(optimizer = 'adam', loss = 'categorical_crossentropy', metrics = ['accuracy'])\n",
        "\n",
        "#logger = keras.callbacks.TensorBoard(log_dir=\"./logs\", write_graph=True, histogram_freq=0)\n",
        "\n",
        "classifier.summary()\n",
        "print(\"Model Created!\")"
      ],
      "execution_count": 0,
      "outputs": []
    },
    {
      "cell_type": "markdown",
      "metadata": {
        "id": "ct6SfO0K3RPR",
        "colab_type": "text"
      },
      "source": [
        "# Fitting model"
      ]
    },
    {
      "cell_type": "code",
      "metadata": {
        "id": "fTK9sEg7uiRA",
        "colab_type": "code",
        "outputId": "5b4a0515-dbbb-433a-9ff7-8a0fa5e96d95",
        "colab": {
          "base_uri": "https://localhost:8080/",
          "height": 857
        }
      },
      "source": [
        "batch = 10\n",
        "epoch = 25\n",
        "\n",
        "#history = classifier.fit(X_train, y_train, batch_size = batch, epochs = epoch, validation_data=(X_test, y_test))\n",
        "history = classifier.fit(X_train, y_train, batch_size = batch, epochs = epoch)"
      ],
      "execution_count": 26,
      "outputs": [
        {
          "output_type": "stream",
          "text": [
            "Epoch 1/25\n",
            "6400/6400 [==============================] - 5s 776us/step - loss: 0.2157 - acc: 0.9287\n",
            "Epoch 2/25\n",
            "6400/6400 [==============================] - 5s 759us/step - loss: 0.2079 - acc: 0.9297\n",
            "Epoch 3/25\n",
            "6400/6400 [==============================] - 5s 760us/step - loss: 0.1988 - acc: 0.9300\n",
            "Epoch 4/25\n",
            "6400/6400 [==============================] - 6s 861us/step - loss: 0.1805 - acc: 0.9370\n",
            "Epoch 5/25\n",
            "6400/6400 [==============================] - 5s 767us/step - loss: 0.1958 - acc: 0.9366\n",
            "Epoch 6/25\n",
            "6400/6400 [==============================] - 5s 755us/step - loss: 0.1774 - acc: 0.9378\n",
            "Epoch 7/25\n",
            "6400/6400 [==============================] - 5s 742us/step - loss: 0.1759 - acc: 0.9391\n",
            "Epoch 8/25\n",
            "6400/6400 [==============================] - 5s 762us/step - loss: 0.1822 - acc: 0.9377\n",
            "Epoch 9/25\n",
            "6400/6400 [==============================] - 5s 773us/step - loss: 0.1579 - acc: 0.9461\n",
            "Epoch 10/25\n",
            "6400/6400 [==============================] - 5s 761us/step - loss: 0.1595 - acc: 0.9436\n",
            "Epoch 11/25\n",
            "6400/6400 [==============================] - 5s 748us/step - loss: 0.1603 - acc: 0.9473\n",
            "Epoch 12/25\n",
            "6400/6400 [==============================] - 5s 743us/step - loss: 0.1625 - acc: 0.9447\n",
            "Epoch 13/25\n",
            "6400/6400 [==============================] - 5s 750us/step - loss: 0.1760 - acc: 0.9448\n",
            "Epoch 14/25\n",
            "6400/6400 [==============================] - 5s 747us/step - loss: 0.1582 - acc: 0.9503\n",
            "Epoch 15/25\n",
            "6400/6400 [==============================] - 5s 770us/step - loss: 0.1369 - acc: 0.9541\n",
            "Epoch 16/25\n",
            "6400/6400 [==============================] - 5s 749us/step - loss: 0.1586 - acc: 0.9483\n",
            "Epoch 17/25\n",
            "6400/6400 [==============================] - 5s 754us/step - loss: 0.1789 - acc: 0.9437\n",
            "Epoch 18/25\n",
            "6400/6400 [==============================] - 5s 745us/step - loss: 0.1457 - acc: 0.9481\n",
            "Epoch 19/25\n",
            "6400/6400 [==============================] - 5s 759us/step - loss: 0.1657 - acc: 0.9461\n",
            "Epoch 20/25\n",
            "6400/6400 [==============================] - 5s 731us/step - loss: 0.1516 - acc: 0.9517\n",
            "Epoch 21/25\n",
            "6400/6400 [==============================] - 5s 741us/step - loss: 0.1403 - acc: 0.9514\n",
            "Epoch 22/25\n",
            "6400/6400 [==============================] - 5s 756us/step - loss: 0.1321 - acc: 0.9544\n",
            "Epoch 23/25\n",
            "6400/6400 [==============================] - 6s 895us/step - loss: 0.1396 - acc: 0.9508\n",
            "Epoch 24/25\n",
            "6400/6400 [==============================] - 5s 798us/step - loss: 0.1207 - acc: 0.9586\n",
            "Epoch 25/25\n",
            "6400/6400 [==============================] - 5s 799us/step - loss: 0.1281 - acc: 0.9570\n"
          ],
          "name": "stdout"
        }
      ]
    },
    {
      "cell_type": "markdown",
      "metadata": {
        "id": "cNGu7HtyhGc2",
        "colab_type": "text"
      },
      "source": [
        "# Prediction "
      ]
    },
    {
      "cell_type": "code",
      "metadata": {
        "id": "6irYYHCZ6A2C",
        "colab_type": "code",
        "outputId": "dc9836ea-6f76-415b-9159-c05c114aec4d",
        "colab": {
          "base_uri": "https://localhost:8080/",
          "height": 84
        }
      },
      "source": [
        "y_pred = classifier.predict(X_test)\n",
        "y_pred = np.argmax(y_pred, axis=1)\n",
        "\n",
        "y_real = np.argmax(y_test, axis=1)\n",
        "# Making the Confusion Matrix\n",
        "from sklearn.metrics import confusion_matrix\n",
        "cm = confusion_matrix(y_real, y_pred)\n",
        "cm_norm = cm.astype('float') / cm.sum(axis=1)[:, np.newaxis]\n",
        "\n",
        "acc_test = classifier.evaluate(X_test, y_test)[1]\n",
        "acc_train = classifier.evaluate(X_train, y_train)[1]\n",
        "\n",
        "print(\"Acc Test : \", acc_test)\n",
        "print(\"Acc Train : \", acc_train)\n"
      ],
      "execution_count": 27,
      "outputs": [
        {
          "output_type": "stream",
          "text": [
            "1600/1600 [==============================] - 0s 89us/step\n",
            "6400/6400 [==============================] - 1s 96us/step\n",
            "Acc Test :  0.819375\n",
            "Acc Train :  0.99890625\n"
          ],
          "name": "stdout"
        }
      ]
    },
    {
      "cell_type": "markdown",
      "metadata": {
        "id": "ShXqOJL47hCE",
        "colab_type": "text"
      },
      "source": [
        "# Plot Confusion Matrix"
      ]
    },
    {
      "cell_type": "code",
      "metadata": {
        "id": "wJdL7PP_7jir",
        "colab_type": "code",
        "outputId": "0cdd444a-0008-4907-e333-7b635fb0ed90",
        "colab": {
          "base_uri": "https://localhost:8080/",
          "height": 386
        }
      },
      "source": [
        "import matplotlib.pyplot as plt\n",
        "import seaborn as sns\n",
        "import pandas as pd\n",
        "\n",
        "modulation_order = []\n",
        "modulation_order_dict = dict()\n",
        "\n",
        "for key,value in output.items():\n",
        "    modulation_order_dict[np.argmax(value)] = str(key)\n",
        "    \n",
        "for i in range(8):\n",
        "    modulation_order.append(modulation_order_dict[i])\n",
        "    \n",
        "    \n",
        "    \n",
        "cmDataFrame = pd.DataFrame(cm_norm, index=modulation_order, columns = modulation_order)\n",
        "plt.figure(figsize=(6, 5))\n",
        "ax = sns.heatmap(cmDataFrame, annot=True, annot_kws={\"size\": 8}, fmt='.2f', linewidths=.5, cmap=\"Greens\")\n",
        "\n",
        "plt.title(f\"CNN Confusion Matrix (SNR={snr})\")\n",
        "plt.xlabel(\"Predicted label  \\n\\n TrainAcc={:.2}, TestAcc={:.2}\".format(acc_train,acc_test), fontsize=8)\n",
        "plt.ylabel(\"True lable\", fontsize=8)\n",
        "plt.setp(ax.get_xticklabels(), rotation=45, ha=\"right\",rotation_mode=\"anchor\", fontsize=8)\n",
        "plt.setp(ax.get_yticklabels(), fontsize=8)\n",
        "fig = ax.get_figure()"
      ],
      "execution_count": 28,
      "outputs": [
        {
          "output_type": "display_data",
          "data": {
            "image/png": "[encoded data removed]",
            "text/plain": [
              "<Figure size 432x360 with 2 Axes>"
            ]
          },
          "metadata": {
            "tags": []
          }
        }
      ]
    },
    {
      "cell_type": "code",
      "metadata": {
        "id": "x8eHSHvA7_ud",
        "colab_type": "code",
        "outputId": "69b4dee7-9749-4a74-870e-e6aa24589010",
        "colab": {
          "base_uri": "https://localhost:8080/",
          "height": 34
        }
      },
      "source": [
        "dic = \"/content/drive/My Drive/Colab Notebooks/\"\n",
        "fig.savefig(dic+f\"CNN2-CrossVal-132-132-ba{batch}-ep{epoch}(SNR={snr}).png\", dpi=175, bbox_inches='tight')\n",
        "print(\"Plot Saved!\")"
      ],
      "execution_count": 0,
      "outputs": [
        {
          "output_type": "stream",
          "text": [
            "Plot Saved!\n"
          ],
          "name": "stdout"
        }
      ]
    }
  ]
}