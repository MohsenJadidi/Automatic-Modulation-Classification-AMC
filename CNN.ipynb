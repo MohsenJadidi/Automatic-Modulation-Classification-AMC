{
  "nbformat": 4,
  "nbformat_minor": 0,
  "metadata": {
    "colab": {
      "name": "CNN.ipynb",
      "version": "0.3.2",
      "provenance": [],
      "collapsed_sections": [],
      "include_colab_link": true
    },
    "kernelspec": {
      "name": "python3",
      "display_name": "Python 3"
    },
    "accelerator": "GPU"
  },
  "cells": [
    {
      "cell_type": "markdown",
      "metadata": {
        "id": "view-in-github",
        "colab_type": "text"
      },
      "source": [
        "<a href=\"https://colab.research.google.com/github/MohsenJadidi/Automatic-Modulation-Classification-AMC/blob/master/CNN.ipynb\" target=\"_parent\"><img src=\"https://colab.research.google.com/assets/colab-badge.svg\" alt=\"Open In Colab\"/></a>"
      ]
    },
    {
      "cell_type": "code",
      "metadata": {
        "id": "m0dBrWRWh7UO",
        "colab_type": "code",
        "outputId": "ebd837d9-d62a-4b6f-fab2-98c97ca150d7",
        "colab": {
          "base_uri": "https://localhost:8080/",
          "height": 34
        }
      },
      "source": [
        "from google.colab import drive\n",
        "drive.mount('/content/drive')"
      ],
      "execution_count": 2,
      "outputs": [
        {
          "output_type": "stream",
          "text": [
            "Drive already mounted at /content/drive; to attempt to forcibly remount, call drive.mount(\"/content/drive\", force_remount=True).\n"
          ],
          "name": "stdout"
        }
      ]
    },
    {
      "cell_type": "markdown",
      "metadata": {
        "id": "UR0ATiKBk6rG",
        "colab_type": "text"
      },
      "source": [
        "# Importing the dataset"
      ]
    },
    {
      "cell_type": "code",
      "metadata": {
        "id": "JfzzfiDSuxMs",
        "colab_type": "code",
        "colab": {}
      },
      "source": [
        "import pickle\n",
        "fileName = 'RML2016.10a_dict.pkl'\n",
        "with open(\"/content/drive/My Drive/Colab Notebooks/\"+fileName,'rb') as f:\n",
        "  data = pickle.load(f,encoding='bytes')\n",
        " "
      ],
      "execution_count": 0,
      "outputs": []
    },
    {
      "cell_type": "code",
      "metadata": {
        "id": "yjAg9T-0uzyh",
        "colab_type": "code",
        "outputId": "4f0b8fdf-21ab-4b21-980d-1c9d65f96084",
        "colab": {
          "base_uri": "https://localhost:8080/",
          "height": 34
        }
      },
      "source": [
        "import numpy as np\n",
        "X = []\n",
        "labels = [] # label each example by a pair (modulation type, snr)\n",
        "total_examples = 0\n",
        "analog = [b'AM-DSB', b'AM-SSB', b'WBFM']\n",
        "\n",
        "for mod_type, snr in data.keys():\n",
        "    if (mod_type not in analog):      \n",
        "        current_matrix = data[(mod_type, snr)]        \n",
        "        total_examples += current_matrix.shape[0]\n",
        "        for i in range(current_matrix.shape[0]):\n",
        "            X.append(current_matrix[i])\n",
        "            labels.append((str(mod_type, 'ascii'), snr)) # mod_type is of type bytes\n",
        "    \n",
        "X = np.array(X)         # First row is QPSK snr=2, seconde is PAM4 snr=8 , ...\n",
        "labels = np.array(labels)\n",
        "\n",
        "y = labels[:,0]\n",
        "\n",
        "print(f'loaded {total_examples} signal vectors into X{X.shape} and their corresponding'\n",
        "      f' labels into labels{labels.shape}')  \n",
        "# print(np.unique(labels[:,0]))\n"
      ],
      "execution_count": 4,
      "outputs": [
        {
          "output_type": "stream",
          "text": [
            "loaded 160000 signal vectors into X(160000, 2, 128) and their corresponding labels into labels(160000, 2)\n"
          ],
          "name": "stdout"
        }
      ]
    },
    {
      "cell_type": "code",
      "metadata": {
        "id": "pbeDr3FVv57v",
        "colab_type": "code",
        "outputId": "a7444717-a131-46ea-ebcc-007d9b92e731",
        "colab": {
          "base_uri": "https://localhost:8080/",
          "height": 104
        }
      },
      "source": [
        "# Encoding categorical data\n",
        "from sklearn.preprocessing import LabelEncoder, OneHotEncoder\n",
        "labelencoder_y = LabelEncoder()\n",
        "y = labelencoder_y.fit_transform(y)\n",
        "onehotencoder = OneHotEncoder()\n",
        "y = onehotencoder.fit_transform(y.reshape(-1,1)).toarray()"
      ],
      "execution_count": 5,
      "outputs": [
        {
          "output_type": "stream",
          "text": [
            "/usr/local/lib/python3.6/dist-packages/sklearn/preprocessing/_encoders.py:415: FutureWarning: The handling of integer data will change in version 0.22. Currently, the categories are determined based on the range [0, max(values)], while in the future they will be determined based on the unique values.\n",
            "If you want the future behaviour and silence this warning, you can specify \"categories='auto'\".\n",
            "In case you used a LabelEncoder before this OneHotEncoder to convert the categories to integers, then you can now use the OneHotEncoder directly.\n",
            "  warnings.warn(msg, FutureWarning)\n"
          ],
          "name": "stderr"
        }
      ]
    },
    {
      "cell_type": "code",
      "metadata": {
        "id": "-Z6iUKbJwKlT",
        "colab_type": "code",
        "outputId": "9f91fca0-e379-4306-c9b7-b848255e545a",
        "colab": {
          "base_uri": "https://localhost:8080/",
          "height": 34
        }
      },
      "source": [
        "snrList = [str(2*i-20) for i in range(20)]  # snrList = -20, -18, -16 , ... ,0, ... ,18\n",
        "snr = snrList[19]\n",
        "numberOfEachExamples = 1000\n",
        "print(\"SNR :\", snr)"
      ],
      "execution_count": 6,
      "outputs": [
        {
          "output_type": "stream",
          "text": [
            "SNR : 18\n"
          ],
          "name": "stdout"
        }
      ]
    },
    {
      "cell_type": "code",
      "metadata": {
        "id": "-DiHGfSPwKb1",
        "colab_type": "code",
        "colab": {}
      },
      "source": [
        "output = [[labels[i*numberOfEachExamples, 0],y[i*numberOfEachExamples]] for i in range(int(X.shape[0]/numberOfEachExamples))]\n",
        "output = dict(output)"
      ],
      "execution_count": 0,
      "outputs": []
    },
    {
      "cell_type": "code",
      "metadata": {
        "id": "0OJ3GghKwrbs",
        "colab_type": "code",
        "outputId": "dcc98f62-de69-40fb-ce23-90dcd1a263de",
        "colab": {
          "base_uri": "https://localhost:8080/",
          "height": 34
        }
      },
      "source": [
        "Xsnr = np.zeros(shape=(X.shape[0],X.shape[1],X.shape[2]+1))\n",
        "for i in range(X.shape[0]):\n",
        "    snr = int(labels[i,1])\n",
        "    Xsnr[i,0,:] = np.insert(X[i,0,:],0,snr)\n",
        "    Xsnr[i,1,:] = np.insert(X[i,1,:],0,snr)\n",
        "    \n",
        "print(Xsnr.shape)"
      ],
      "execution_count": 8,
      "outputs": [
        {
          "output_type": "stream",
          "text": [
            "(160000, 2, 129)\n"
          ],
          "name": "stdout"
        }
      ]
    },
    {
      "cell_type": "code",
      "metadata": {
        "id": "Cx7l0G_3ww0w",
        "colab_type": "code",
        "outputId": "e3c975e7-da01-4c16-ec10-5017df2531a0",
        "colab": {
          "base_uri": "https://localhost:8080/",
          "height": 50
        }
      },
      "source": [
        "###### Splitting the dataset into the Training set and Test set ######\n",
        "from sklearn.model_selection import train_test_split\n",
        "X_train, X_test, y_train, y_test = train_test_split(Xsnr, y, test_size = 0.2, random_state = 0)\n",
        "# The below line better for Cross_val part\n",
        "#X_train, X_test, y_train, y_test = train_test_split(Xsnr, y, test_size = 1, random_state = 0)\n",
        "\n",
        "print(X_train.shape)\n",
        "print(X_test.shape)"
      ],
      "execution_count": 9,
      "outputs": [
        {
          "output_type": "stream",
          "text": [
            "(128000, 2, 129)\n",
            "(32000, 2, 129)\n"
          ],
          "name": "stdout"
        }
      ]
    },
    {
      "cell_type": "code",
      "metadata": {
        "id": "gGeDKe8GLNJ9",
        "colab_type": "code",
        "outputId": "922f0f7a-7bda-495e-e042-a32e483df91f",
        "colab": {
          "base_uri": "https://localhost:8080/",
          "height": 50
        }
      },
      "source": [
        "X_train = X_train[:,:,1:] # snr important for train\n",
        "\n",
        "y_test18 = []\n",
        "X_test18 = []\n",
        "\n",
        "for i in range(X_test.shape[0]):\n",
        "    if X_test[i,0,0] == 18:\n",
        "        X_test18.append(X_test[i])\n",
        "        y_test18.append(y_test[i])\n",
        "        \n",
        "X_test18 = np.array(X_test18)\n",
        "y_test18 = np.array(y_test18)        \n",
        "X_test18 = X_test18[:,:,1:]\n",
        "\n",
        "\n",
        "print(X_train.shape)\n",
        "print(X_test18.shape)"
      ],
      "execution_count": 10,
      "outputs": [
        {
          "output_type": "stream",
          "text": [
            "(128000, 2, 128)\n",
            "(1653, 2, 128)\n"
          ],
          "name": "stdout"
        }
      ]
    },
    {
      "cell_type": "code",
      "metadata": {
        "id": "V4OinfCHLd8y",
        "colab_type": "code",
        "outputId": "3517ae1b-452d-4ea7-892d-0b98159547c4",
        "colab": {
          "base_uri": "https://localhost:8080/",
          "height": 50
        }
      },
      "source": [
        "# Change IQ to amplitude and phase\n",
        "X_cmplx = X_train[:,0,:] + 1j* X_train[:,1,:]    \n",
        "X_amp = np.abs(X_cmplx)\n",
        "X_ang = np.arctan2(X_train[:,1,:],X_train[:,0,:]) / np.pi\n",
        "    \n",
        "X_amp = np.reshape(X_amp,(-1,1,128))\n",
        "X_ang = np.reshape(X_ang,(-1,1,128))\n",
        "    \n",
        "X_train_AmpPhs = np.concatenate((X_amp,X_ang), axis=1) \n",
        "##\n",
        "X_cmplx = X_test18[:,0,:] + 1j* X_test18[:,1,:]    \n",
        "X_amp = np.abs(X_cmplx)\n",
        "X_ang = np.arctan2(X_test18[:,1,:],X_test18[:,0,:]) / np.pi\n",
        "    \n",
        "X_amp = np.reshape(X_amp,(-1,1,128))\n",
        "X_ang = np.reshape(X_ang,(-1,1,128))\n",
        "    \n",
        "X_test18_AmpPhs = np.concatenate((X_amp,X_ang), axis=1) \n",
        "##\n",
        "\n",
        "print(X_train_AmpPhs.shape)\n",
        "print(X_test18_AmpPhs.shape)"
      ],
      "execution_count": 11,
      "outputs": [
        {
          "output_type": "stream",
          "text": [
            "(128000, 2, 128)\n",
            "(1653, 2, 128)\n"
          ],
          "name": "stdout"
        }
      ]
    },
    {
      "cell_type": "code",
      "metadata": {
        "id": "ujxapqcRw1l3",
        "colab_type": "code",
        "outputId": "a31b33b1-fbb3-4d6b-8a17-d82f88185cd8",
        "colab": {
          "base_uri": "https://localhost:8080/",
          "height": 50
        }
      },
      "source": [
        "from sklearn.preprocessing import StandardScaler\n",
        "sc = StandardScaler()\n",
        "X_train = X_train.reshape([X_train.shape[0],256])\n",
        "#X_train = X_train_AmpPhs.reshape([X_train.shape[0],256])\n",
        "X_train = sc.fit_transform(X_train)\n",
        "X_train = X_train.reshape([X_train.shape[0],2,128])\n",
        "#X_test = X_test.reshape([1600,256])\n",
        "X_test18 = X_test18.reshape([X_test18.shape[0],256])\n",
        "#X_test18 = X_test18_AmpPhs.reshape([X_test18.shape[0],256])\n",
        "X_test18 = sc.transform(X_test18)\n",
        "X_test18 = X_test18.reshape([X_test18.shape[0],2,128])\n",
        "\n",
        "# Reshape\n",
        "X_train = X_train.reshape(-1,2, 128, 1)   #Reshape for CNN -  (6400,2,128)->(6400,2,128,1)!!\n",
        "X_test18 = X_test18.reshape(-1,2, 128, 1)\n",
        "\n",
        "print(X_train.shape)\n",
        "print(X_test18.shape)"
      ],
      "execution_count": 12,
      "outputs": [
        {
          "output_type": "stream",
          "text": [
            "(128000, 2, 128, 1)\n",
            "(1653, 2, 128, 1)\n"
          ],
          "name": "stdout"
        }
      ]
    },
    {
      "cell_type": "markdown",
      "metadata": {
        "id": "5InZvNieUoTS",
        "colab_type": "text"
      },
      "source": [
        "# Making CNN0 model \n",
        "(Article : Convolutional Radio Modulation Recognition Networks - Timothy J. O’Shea)\n"
      ]
    },
    {
      "cell_type": "code",
      "metadata": {
        "id": "Ida-kcQ9Ub0f",
        "colab_type": "code",
        "outputId": "aaf87202-c9b9-43d8-91ca-ede5dee7b649",
        "colab": {
          "base_uri": "https://localhost:8080/",
          "height": 1000
        }
      },
      "source": [
        "import keras\n",
        "from keras.models import Sequential\n",
        "from keras.layers import Conv2D\n",
        "from keras.layers import MaxPooling2D\n",
        "from keras.layers import Flatten\n",
        "from keras.layers import Dense\n",
        "from keras.layers import Dropout\n",
        "\n",
        "classifier = Sequential()\n",
        "\n",
        "dout = 0.5\n",
        "classifier.add(Conv2D(filters=192, kernel_size=(1,3), input_shape =  (2,128,1), padding='same', activation = 'relu')) \n",
        "classifier.add(Dropout(rate = dout))\n",
        "classifier.add(Conv2D(filters=128,kernel_size=(2,3),  padding='same', activation = 'relu'))\n",
        "classifier.add(Dropout(rate = dout))\n",
        "classifier.add(Conv2D(filters=128,kernel_size=(1,3),  padding='same', activation = 'relu'))\n",
        "classifier.add(Dropout(rate = dout))\n",
        "classifier.add(Conv2D(filters=64,kernel_size=(1,3),  padding='same', activation = 'relu'))\n",
        "classifier.add(Dropout(rate = dout))\n",
        "classifier.add(Conv2D(filters=64,kernel_size=(1,3),  padding='same', activation = 'relu'))\n",
        "classifier.add(Dropout(rate = dout))\n",
        "classifier.add(Conv2D(filters=64,kernel_size=(1,3),  padding='same', activation = 'relu'))\n",
        "classifier.add(Dropout(rate = dout))\n",
        "classifier.add(Conv2D(filters=32,kernel_size=(1,3),  padding='same', activation = 'relu'))\n",
        "classifier.add(Dropout(rate = dout))\n",
        "classifier.add(Conv2D(filters=32,kernel_size=(1,3),  padding='same', activation = 'relu'))\n",
        "classifier.add(Dropout(rate = dout))\n",
        "classifier.add(Conv2D(filters=32,kernel_size=(1,3),  padding='same', activation = 'relu'))\n",
        "classifier.add(Dropout(rate = dout))\n",
        "\n",
        "\n",
        "\n",
        "\n",
        "classifier.add(Flatten())\n",
        "\n",
        "classifier.add(Dense(output_dim = 128 , activation = 'relu')) # hidden layer\n",
        "classifier.add(Dropout(rate = dout))\n",
        "classifier.add(Dense(output_dim = 8 , activation = 'softmax'))\n",
        "\n",
        "#from keras import optimizers\n",
        "#adamOpt = optimizers.adam(lr = 0.01)\n",
        "\n",
        "classifier.compile(optimizer = 'adam', loss = 'categorical_crossentropy', metrics = ['accuracy'])\n",
        "\n",
        "#logger = keras.callbacks.TensorBoard(log_dir=\"./logs\", write_graph=True, histogram_freq=0)\n",
        "\n",
        "classifier.summary()\n",
        "print(\"Model Created!\")"
      ],
      "execution_count": 13,
      "outputs": [
        {
          "output_type": "stream",
          "text": [
            "Using TensorFlow backend.\n",
            "WARNING: Logging before flag parsing goes to stderr.\n",
            "W0906 19:12:57.500992 140341735409536 deprecation_wrapper.py:119] From /usr/local/lib/python3.6/dist-packages/keras/backend/tensorflow_backend.py:66: The name tf.get_default_graph is deprecated. Please use tf.compat.v1.get_default_graph instead.\n",
            "\n",
            "W0906 19:12:57.518722 140341735409536 deprecation_wrapper.py:119] From /usr/local/lib/python3.6/dist-packages/keras/backend/tensorflow_backend.py:541: The name tf.placeholder is deprecated. Please use tf.compat.v1.placeholder instead.\n",
            "\n",
            "W0906 19:12:57.524298 140341735409536 deprecation_wrapper.py:119] From /usr/local/lib/python3.6/dist-packages/keras/backend/tensorflow_backend.py:4432: The name tf.random_uniform is deprecated. Please use tf.random.uniform instead.\n",
            "\n",
            "W0906 19:12:57.542138 140341735409536 deprecation_wrapper.py:119] From /usr/local/lib/python3.6/dist-packages/keras/backend/tensorflow_backend.py:148: The name tf.placeholder_with_default is deprecated. Please use tf.compat.v1.placeholder_with_default instead.\n",
            "\n",
            "W0906 19:12:57.552587 140341735409536 deprecation.py:506] From /usr/local/lib/python3.6/dist-packages/keras/backend/tensorflow_backend.py:3733: calling dropout (from tensorflow.python.ops.nn_ops) with keep_prob is deprecated and will be removed in a future version.\n",
            "Instructions for updating:\n",
            "Please use `rate` instead of `keep_prob`. Rate should be set to `rate = 1 - keep_prob`.\n",
            "/usr/local/lib/python3.6/dist-packages/ipykernel_launcher.py:36: UserWarning: Update your `Dense` call to the Keras 2 API: `Dense(activation=\"relu\", units=128)`\n",
            "/usr/local/lib/python3.6/dist-packages/ipykernel_launcher.py:38: UserWarning: Update your `Dense` call to the Keras 2 API: `Dense(activation=\"softmax\", units=8)`\n",
            "W0906 19:12:57.890943 140341735409536 deprecation_wrapper.py:119] From /usr/local/lib/python3.6/dist-packages/keras/optimizers.py:793: The name tf.train.Optimizer is deprecated. Please use tf.compat.v1.train.Optimizer instead.\n",
            "\n",
            "W0906 19:12:57.916785 140341735409536 deprecation_wrapper.py:119] From /usr/local/lib/python3.6/dist-packages/keras/backend/tensorflow_backend.py:3576: The name tf.log is deprecated. Please use tf.math.log instead.\n",
            "\n"
          ],
          "name": "stderr"
        },
        {
          "output_type": "stream",
          "text": [
            "Model: \"sequential_1\"\n",
            "_________________________________________________________________\n",
            "Layer (type)                 Output Shape              Param #   \n",
            "=================================================================\n",
            "conv2d_1 (Conv2D)            (None, 2, 128, 192)       768       \n",
            "_________________________________________________________________\n",
            "dropout_1 (Dropout)          (None, 2, 128, 192)       0         \n",
            "_________________________________________________________________\n",
            "conv2d_2 (Conv2D)            (None, 2, 128, 128)       147584    \n",
            "_________________________________________________________________\n",
            "dropout_2 (Dropout)          (None, 2, 128, 128)       0         \n",
            "_________________________________________________________________\n",
            "conv2d_3 (Conv2D)            (None, 2, 128, 128)       49280     \n",
            "_________________________________________________________________\n",
            "dropout_3 (Dropout)          (None, 2, 128, 128)       0         \n",
            "_________________________________________________________________\n",
            "conv2d_4 (Conv2D)            (None, 2, 128, 64)        24640     \n",
            "_________________________________________________________________\n",
            "dropout_4 (Dropout)          (None, 2, 128, 64)        0         \n",
            "_________________________________________________________________\n",
            "conv2d_5 (Conv2D)            (None, 2, 128, 64)        12352     \n",
            "_________________________________________________________________\n",
            "dropout_5 (Dropout)          (None, 2, 128, 64)        0         \n",
            "_________________________________________________________________\n",
            "conv2d_6 (Conv2D)            (None, 2, 128, 64)        12352     \n",
            "_________________________________________________________________\n",
            "dropout_6 (Dropout)          (None, 2, 128, 64)        0         \n",
            "_________________________________________________________________\n",
            "conv2d_7 (Conv2D)            (None, 2, 128, 32)        6176      \n",
            "_________________________________________________________________\n",
            "dropout_7 (Dropout)          (None, 2, 128, 32)        0         \n",
            "_________________________________________________________________\n",
            "conv2d_8 (Conv2D)            (None, 2, 128, 32)        3104      \n",
            "_________________________________________________________________\n",
            "dropout_8 (Dropout)          (None, 2, 128, 32)        0         \n",
            "_________________________________________________________________\n",
            "conv2d_9 (Conv2D)            (None, 2, 128, 32)        3104      \n",
            "_________________________________________________________________\n",
            "dropout_9 (Dropout)          (None, 2, 128, 32)        0         \n",
            "_________________________________________________________________\n",
            "flatten_1 (Flatten)          (None, 8192)              0         \n",
            "_________________________________________________________________\n",
            "dense_1 (Dense)              (None, 128)               1048704   \n",
            "_________________________________________________________________\n",
            "dropout_10 (Dropout)         (None, 128)               0         \n",
            "_________________________________________________________________\n",
            "dense_2 (Dense)              (None, 8)                 1032      \n",
            "=================================================================\n",
            "Total params: 1,309,096\n",
            "Trainable params: 1,309,096\n",
            "Non-trainable params: 0\n",
            "_________________________________________________________________\n",
            "Model Created!\n"
          ],
          "name": "stdout"
        }
      ]
    },
    {
      "cell_type": "markdown",
      "metadata": {
        "id": "DAqdPV-N3Ae_",
        "colab_type": "text"
      },
      "source": [
        "#Making CNN1 model (one-convolutional-layer)\n",
        "(Thesis :DEEP NEURAL NETWORK ARCHITECTURES FOR MODULATION CLASSIFICATION)"
      ]
    },
    {
      "cell_type": "code",
      "metadata": {
        "id": "PaOTxksa3D2s",
        "colab_type": "code",
        "colab": {}
      },
      "source": [
        "import keras\n",
        "from keras.models import Sequential\n",
        "from keras.layers import Conv2D\n",
        "from keras.layers import MaxPooling2D\n",
        "from keras.layers import Flatten\n",
        "from keras.layers import Dense\n",
        "from keras.layers import Dropout\n",
        "\n",
        "classifier = Sequential()\n",
        "\n",
        "dout = 0.5\n",
        "\n",
        "classifier.add(Conv2D(256,1,3, input_shape =  (2,128,1), activation = 'relu')) # 256=number of filter\n",
        "classifier.add(Dropout(rate = dout))\n",
        "\n",
        "classifier.add(Flatten())\n",
        "\n",
        "classifier.add(Dense(output_dim = 128 , activation = 'relu')) # hidden layer\n",
        "classifier.add(Dropout(rate = dout))\n",
        "classifier.add(Dense(output_dim = 8 , activation = 'softmax'))\n",
        "\n",
        "#from keras import optimizers\n",
        "#adamOpt = optimizers.adam(lr = 0.01)\n",
        "\n",
        "classifier.compile(optimizer = 'adam', loss = 'categorical_crossentropy', metrics = ['accuracy'])\n",
        "\n",
        "#logger = keras.callbacks.TensorBoard(log_dir=\"./logs\", write_graph=True, histogram_freq=0)\n",
        "\n",
        "classifier.summary()\n",
        "print(\"Model Created!\")"
      ],
      "execution_count": 0,
      "outputs": []
    },
    {
      "cell_type": "markdown",
      "metadata": {
        "id": "M2HVRLuRvC2h",
        "colab_type": "text"
      },
      "source": [
        "# Making CNN2 model  (two-convolutional-layer)"
      ]
    },
    {
      "cell_type": "code",
      "metadata": {
        "id": "-EPV9BVqvAZG",
        "colab_type": "code",
        "colab": {}
      },
      "source": [
        "import keras\n",
        "from keras.models import Sequential\n",
        "from keras.layers import Conv2D\n",
        "from keras.layers import MaxPooling2D\n",
        "from keras.layers import Flatten\n",
        "from keras.layers import Dense\n",
        "from keras.layers import Dropout\n",
        "\n",
        "classifier = Sequential()\n",
        "\n",
        "dout = 0.4\n",
        "classifier.add(Conv2D(256,(1,3), input_shape =  (2,128,1), activation = 'relu', padding='same')) # 256=number of filter\n",
        "classifier.add(Dropout(rate = dout))\n",
        "classifier.add(Conv2D(80,(2,3), activation = 'relu'))\n",
        "classifier.add(Dropout(rate = dout))\n",
        "\n",
        "classifier.add(Flatten())\n",
        "\n",
        "classifier.add(Dense(output_dim = 128 , activation = 'relu')) # hidden layer\n",
        "classifier.add(Dropout(rate = dout))\n",
        "classifier.add(Dense(output_dim = 8 , activation = 'softmax'))\n",
        "\n",
        "#from keras import optimizers\n",
        "#adamOpt = optimizers.adam(lr = 0.01)\n",
        "\n",
        "classifier.compile(optimizer = 'adam', loss = 'categorical_crossentropy', metrics = ['accuracy'])\n",
        "\n",
        "#logger = keras.callbacks.TensorBoard(log_dir=\"./logs\", write_graph=True, histogram_freq=0)\n",
        "\n",
        "classifier.summary()\n",
        "print(\"Model Created!\")\n"
      ],
      "execution_count": 0,
      "outputs": []
    },
    {
      "cell_type": "markdown",
      "metadata": {
        "id": "PFwbq2eup-98",
        "colab_type": "text"
      },
      "source": [
        "#Making CNN3 model (two-convolutional-layer)"
      ]
    },
    {
      "cell_type": "code",
      "metadata": {
        "id": "4EOnbMLu3Qpw",
        "colab_type": "code",
        "colab": {}
      },
      "source": [
        "import keras\n",
        "from keras.models import Sequential\n",
        "from keras.layers import Conv2D\n",
        "from keras.layers import MaxPooling2D\n",
        "from keras.layers import Flatten\n",
        "from keras.layers import Dense\n",
        "from keras.layers import Dropout\n",
        "\n",
        "classifier = Sequential()\n",
        "\n",
        "dout = 0.4\n",
        "\n",
        "classifier.add(Conv2D(80,2,3, activation = 'relu'))\n",
        "classifier.add(Dropout(rate = dout))\n",
        "\n",
        "classifier.add(Conv2D(256,1,3, input_shape =  (2,128,1), activation = 'relu')) # 256=number of filter\n",
        "classifier.add(Dropout(rate = dout))\n",
        "\n",
        "classifier.add(Flatten())\n",
        "\n",
        "classifier.add(Dense(output_dim = 128 , activation = 'relu')) # hidden layer\n",
        "classifier.add(Dropout(rate = dout))\n",
        "classifier.add(Dense(output_dim = 8 , activation = 'softmax'))\n",
        "\n",
        "#from keras import optimizers\n",
        "#adamOpt = optimizers.adam(lr = 0.01)\n",
        "\n",
        "classifier.compile(optimizer = 'adam', loss = 'categorical_crossentropy', metrics = ['accuracy'])\n",
        "\n",
        "#logger = keras.callbacks.TensorBoard(log_dir=\"./logs\", write_graph=True, histogram_freq=0)\n",
        "\n",
        "classifier.summary()\n",
        "print(\"Model Created!\")"
      ],
      "execution_count": 0,
      "outputs": []
    },
    {
      "cell_type": "markdown",
      "metadata": {
        "id": "tcI2TeYzEwY6",
        "colab_type": "text"
      },
      "source": [
        "#Making CNN4 model (four-convolutional-layer)"
      ]
    },
    {
      "cell_type": "code",
      "metadata": {
        "id": "_EcNw2P4Ew_9",
        "colab_type": "code",
        "colab": {}
      },
      "source": [
        "import keras\n",
        "from keras.models import Sequential\n",
        "from keras.layers import Conv2D\n",
        "from keras.layers import MaxPooling2D\n",
        "from keras.layers import Flatten\n",
        "from keras.layers import Dense\n",
        "from keras.layers import Dropout\n",
        "\n",
        "classifier = Sequential()\n",
        "\n",
        "dout = 0.4\n",
        "classifier.add(Conv2D(256,1,3, input_shape =  (2,128,1), activation = 'relu')) # 256=number of filter\n",
        "classifier.add(Dropout(rate = dout))\n",
        "classifier.add(Conv2D(256,2,3, activation = 'relu')) # 256=number of filter\n",
        "classifier.add(Dropout(rate = dout))\n",
        "\n",
        "classifier.add(Conv2D(80,1,3, activation = 'relu'))\n",
        "classifier.add(Dropout(rate = dout))\n",
        "classifier.add(Conv2D(80,1,3, activation = 'relu'))\n",
        "classifier.add(Dropout(rate = dout))\n",
        "\n",
        "classifier.add(Flatten())\n",
        "\n",
        "classifier.add(Dense(output_dim = 128 , activation = 'relu')) # hidden layer\n",
        "classifier.add(Dropout(rate = dout))\n",
        "classifier.add(Dense(output_dim = 8 , activation = 'softmax'))\n",
        "\n",
        "#from keras import optimizers\n",
        "#adamOpt = optimizers.adam(lr = 0.01)\n",
        "\n",
        "classifier.compile(optimizer = 'adam', loss = 'categorical_crossentropy', metrics = ['accuracy'])\n",
        "\n",
        "#logger = keras.callbacks.TensorBoard(log_dir=\"./logs\", write_graph=True, histogram_freq=0)\n",
        "\n",
        "classifier.summary()\n",
        "print(\"Model Created!\")\n"
      ],
      "execution_count": 0,
      "outputs": []
    },
    {
      "cell_type": "markdown",
      "metadata": {
        "id": "Iv1KiftgFi9w",
        "colab_type": "text"
      },
      "source": [
        "#Making CNN5 model (five-convolutional-layer)"
      ]
    },
    {
      "cell_type": "code",
      "metadata": {
        "id": "DceZWd-aFjkP",
        "colab_type": "code",
        "colab": {}
      },
      "source": [
        "import keras\n",
        "from keras.models import Sequential\n",
        "from keras.layers import Conv2D\n",
        "from keras.layers import MaxPooling2D\n",
        "from keras.layers import Flatten\n",
        "from keras.layers import Dense\n",
        "from keras.layers import Dropout\n",
        "\n",
        "classifier = Sequential()\n",
        "\n",
        "dout = 0.4\n",
        "classifier.add(Conv2D(384,1,3, input_shape =  (2,128,1), activation = 'relu')) \n",
        "classifier.add(Dropout(rate = dout))\n",
        "classifier.add(Conv2D(256,2,3, activation = 'relu'))\n",
        "classifier.add(Dropout(rate = dout))\n",
        "classifier.add(Conv2D(80,1,3, activation = 'relu'))\n",
        "classifier.add(Dropout(rate = dout))\n",
        "classifier.add(Conv2D(256,1,3, activation = 'relu'))\n",
        "classifier.add(Dropout(rate = dout))\n",
        "classifier.add(Conv2D(80,1,3, activation = 'relu'))\n",
        "classifier.add(Dropout(rate = dout))\n",
        "\n",
        "classifier.add(Flatten())\n",
        "\n",
        "classifier.add(Dense(output_dim = 128 , activation = 'relu')) # hidden layer\n",
        "classifier.add(Dropout(rate = dout))\n",
        "classifier.add(Dense(output_dim = 8 , activation = 'softmax'))\n",
        "\n",
        "#from keras import optimizers\n",
        "#adamOpt = optimizers.adam(lr = 0.01)\n",
        "\n",
        "classifier.compile(optimizer = 'adam', loss = 'categorical_crossentropy', metrics = ['accuracy'])\n",
        "\n",
        "#logger = keras.callbacks.TensorBoard(log_dir=\"./logs\", write_graph=True, histogram_freq=0)\n",
        "\n",
        "classifier.summary()\n",
        "print(\"Model Created!\")"
      ],
      "execution_count": 0,
      "outputs": []
    },
    {
      "cell_type": "markdown",
      "metadata": {
        "id": "ct6SfO0K3RPR",
        "colab_type": "text"
      },
      "source": [
        "# Fitting model"
      ]
    },
    {
      "cell_type": "code",
      "metadata": {
        "id": "fTK9sEg7uiRA",
        "colab_type": "code",
        "outputId": "fd5fbaec-daae-477b-e3a6-b9614a1d86ea",
        "colab": {
          "base_uri": "https://localhost:8080/",
          "height": 1000
        }
      },
      "source": [
        "batch = 1024\n",
        "epoch = 100\n",
        "\n",
        "history = classifier.fit(X_train, y_train, batch_size = batch, epochs = 100, validation_data=(X_test18, y_test18))\n",
        "#history = classifier.fit(X_train, y_train, batch_size = batch, epochs = epoch)"
      ],
      "execution_count": 32,
      "outputs": [
        {
          "output_type": "stream",
          "text": [
            "Train on 128000 samples, validate on 1653 samples\n",
            "Epoch 1/100\n",
            "128000/128000 [==============================] - 67s 524us/step - loss: 1.9476 - acc: 0.1869 - val_loss: 1.8754 - val_acc: 0.3775\n",
            "Epoch 2/100\n",
            "128000/128000 [==============================] - 64s 504us/step - loss: 1.7538 - acc: 0.2769 - val_loss: 1.6858 - val_acc: 0.3932\n",
            "Epoch 3/100\n",
            "128000/128000 [==============================] - 65s 504us/step - loss: 1.6617 - acc: 0.3260 - val_loss: 1.6736 - val_acc: 0.3303\n",
            "Epoch 4/100\n",
            "128000/128000 [==============================] - 64s 502us/step - loss: 1.5535 - acc: 0.3669 - val_loss: 1.1767 - val_acc: 0.4785\n",
            "Epoch 5/100\n",
            "128000/128000 [==============================] - 64s 502us/step - loss: 1.4653 - acc: 0.4002 - val_loss: 1.2466 - val_acc: 0.4755\n",
            "Epoch 6/100\n",
            "128000/128000 [==============================] - 64s 502us/step - loss: 1.4090 - acc: 0.4164 - val_loss: 1.2496 - val_acc: 0.4912\n",
            "Epoch 7/100\n",
            "128000/128000 [==============================] - 64s 501us/step - loss: 1.3790 - acc: 0.4224 - val_loss: 1.3112 - val_acc: 0.4870\n",
            "Epoch 8/100\n",
            "128000/128000 [==============================] - 64s 502us/step - loss: 1.3383 - acc: 0.4386 - val_loss: 1.2182 - val_acc: 0.5118\n",
            "Epoch 9/100\n",
            "128000/128000 [==============================] - 64s 501us/step - loss: 1.3055 - acc: 0.4511 - val_loss: 1.4479 - val_acc: 0.5021\n",
            "Epoch 10/100\n",
            "128000/128000 [==============================] - 64s 502us/step - loss: 1.2911 - acc: 0.4536 - val_loss: 1.3525 - val_acc: 0.4967\n",
            "Epoch 11/100\n",
            "128000/128000 [==============================] - 64s 503us/step - loss: 1.2793 - acc: 0.4601 - val_loss: 1.2211 - val_acc: 0.5215\n",
            "Epoch 12/100\n",
            "128000/128000 [==============================] - 64s 502us/step - loss: 1.2631 - acc: 0.4634 - val_loss: 1.6228 - val_acc: 0.4858\n",
            "Epoch 13/100\n",
            "128000/128000 [==============================] - 64s 502us/step - loss: 1.2577 - acc: 0.4649 - val_loss: 1.3976 - val_acc: 0.4870\n",
            "Epoch 14/100\n",
            "128000/128000 [==============================] - 64s 503us/step - loss: 1.2413 - acc: 0.4723 - val_loss: 1.4746 - val_acc: 0.4973\n",
            "Epoch 15/100\n",
            "128000/128000 [==============================] - 64s 503us/step - loss: 1.2346 - acc: 0.4744 - val_loss: 2.0067 - val_acc: 0.4507\n",
            "Epoch 16/100\n",
            "128000/128000 [==============================] - 64s 502us/step - loss: 1.2275 - acc: 0.4785 - val_loss: 1.6552 - val_acc: 0.5160\n",
            "Epoch 17/100\n",
            "128000/128000 [==============================] - 64s 503us/step - loss: 1.2172 - acc: 0.4827 - val_loss: 1.9371 - val_acc: 0.4906\n",
            "Epoch 18/100\n",
            "128000/128000 [==============================] - 64s 503us/step - loss: 1.2104 - acc: 0.4853 - val_loss: 2.0789 - val_acc: 0.4828\n",
            "Epoch 19/100\n",
            "128000/128000 [==============================] - 64s 502us/step - loss: 1.2035 - acc: 0.4878 - val_loss: 1.9701 - val_acc: 0.4876\n",
            "Epoch 20/100\n",
            "128000/128000 [==============================] - 64s 502us/step - loss: 1.1939 - acc: 0.4924 - val_loss: 1.9781 - val_acc: 0.4979\n",
            "Epoch 21/100\n",
            "128000/128000 [==============================] - 64s 502us/step - loss: 1.1903 - acc: 0.4945 - val_loss: 1.9391 - val_acc: 0.5426\n",
            "Epoch 22/100\n",
            "128000/128000 [==============================] - 64s 502us/step - loss: 1.1828 - acc: 0.4956 - val_loss: 2.2689 - val_acc: 0.5148\n",
            "Epoch 23/100\n",
            "128000/128000 [==============================] - 64s 503us/step - loss: 1.1814 - acc: 0.4949 - val_loss: 1.8538 - val_acc: 0.5517\n",
            "Epoch 24/100\n",
            "128000/128000 [==============================] - 64s 502us/step - loss: 1.1724 - acc: 0.4976 - val_loss: 1.7168 - val_acc: 0.5632\n",
            "Epoch 25/100\n",
            "128000/128000 [==============================] - 64s 502us/step - loss: 1.1691 - acc: 0.4993 - val_loss: 1.6504 - val_acc: 0.5759\n",
            "Epoch 26/100\n",
            "128000/128000 [==============================] - 64s 502us/step - loss: 1.1649 - acc: 0.5016 - val_loss: 1.5414 - val_acc: 0.5572\n",
            "Epoch 27/100\n",
            "128000/128000 [==============================] - 64s 502us/step - loss: 1.1578 - acc: 0.5036 - val_loss: 1.4645 - val_acc: 0.5886\n",
            "Epoch 28/100\n",
            "128000/128000 [==============================] - 64s 502us/step - loss: 1.1584 - acc: 0.5036 - val_loss: 1.3564 - val_acc: 0.6013\n",
            "Epoch 29/100\n",
            "128000/128000 [==============================] - 64s 500us/step - loss: 1.1511 - acc: 0.5049 - val_loss: 1.0348 - val_acc: 0.6455\n",
            "Epoch 30/100\n",
            "128000/128000 [==============================] - 64s 501us/step - loss: 1.1523 - acc: 0.5066 - val_loss: 1.2042 - val_acc: 0.6213\n",
            "Epoch 31/100\n",
            "128000/128000 [==============================] - 64s 502us/step - loss: 1.1422 - acc: 0.5072 - val_loss: 0.9368 - val_acc: 0.6733\n",
            "Epoch 32/100\n",
            "128000/128000 [==============================] - 64s 502us/step - loss: 1.1418 - acc: 0.5098 - val_loss: 0.9534 - val_acc: 0.6745\n",
            "Epoch 33/100\n",
            "128000/128000 [==============================] - 64s 502us/step - loss: 1.1377 - acc: 0.5106 - val_loss: 1.1406 - val_acc: 0.6485\n",
            "Epoch 34/100\n",
            "128000/128000 [==============================] - 64s 502us/step - loss: 1.1347 - acc: 0.5110 - val_loss: 1.4952 - val_acc: 0.6316\n",
            "Epoch 35/100\n",
            "128000/128000 [==============================] - 64s 502us/step - loss: 1.1288 - acc: 0.5142 - val_loss: 0.9903 - val_acc: 0.6891\n",
            "Epoch 36/100\n",
            "128000/128000 [==============================] - 64s 501us/step - loss: 1.1299 - acc: 0.5143 - val_loss: 0.9407 - val_acc: 0.6909\n",
            "Epoch 37/100\n",
            "128000/128000 [==============================] - 64s 502us/step - loss: 1.1280 - acc: 0.5144 - val_loss: 0.7201 - val_acc: 0.7211\n",
            "Epoch 38/100\n",
            "128000/128000 [==============================] - 64s 502us/step - loss: 1.1219 - acc: 0.5171 - val_loss: 0.9363 - val_acc: 0.6776\n",
            "Epoch 39/100\n",
            "128000/128000 [==============================] - 64s 502us/step - loss: 1.1204 - acc: 0.5169 - val_loss: 0.8753 - val_acc: 0.6884\n",
            "Epoch 40/100\n",
            "128000/128000 [==============================] - 64s 502us/step - loss: 1.1176 - acc: 0.5181 - val_loss: 0.8767 - val_acc: 0.7066\n",
            "Epoch 41/100\n",
            "128000/128000 [==============================] - 64s 502us/step - loss: 1.1177 - acc: 0.5188 - val_loss: 0.6638 - val_acc: 0.7326\n",
            "Epoch 42/100\n",
            "128000/128000 [==============================] - 64s 502us/step - loss: 1.1090 - acc: 0.5225 - val_loss: 0.4721 - val_acc: 0.7883\n",
            "Epoch 43/100\n",
            "128000/128000 [==============================] - 64s 502us/step - loss: 1.1105 - acc: 0.5203 - val_loss: 0.7433 - val_acc: 0.7290\n",
            "Epoch 44/100\n",
            "128000/128000 [==============================] - 64s 502us/step - loss: 1.1020 - acc: 0.5265 - val_loss: 0.5402 - val_acc: 0.7707\n",
            "Epoch 45/100\n",
            "128000/128000 [==============================] - 64s 502us/step - loss: 1.1018 - acc: 0.5258 - val_loss: 0.5581 - val_acc: 0.7695\n",
            "Epoch 46/100\n",
            "128000/128000 [==============================] - 64s 501us/step - loss: 1.0994 - acc: 0.5263 - val_loss: 0.6365 - val_acc: 0.7526\n",
            "Epoch 47/100\n",
            "128000/128000 [==============================] - 64s 501us/step - loss: 1.0965 - acc: 0.5293 - val_loss: 0.5710 - val_acc: 0.7520\n",
            "Epoch 48/100\n",
            "128000/128000 [==============================] - 64s 502us/step - loss: 1.0953 - acc: 0.5276 - val_loss: 0.4426 - val_acc: 0.7931\n",
            "Epoch 49/100\n",
            "128000/128000 [==============================] - 64s 501us/step - loss: 1.0937 - acc: 0.5301 - val_loss: 0.5158 - val_acc: 0.7695\n",
            "Epoch 50/100\n",
            "128000/128000 [==============================] - 64s 501us/step - loss: 1.0915 - acc: 0.5305 - val_loss: 0.3967 - val_acc: 0.8082\n",
            "Epoch 51/100\n",
            "128000/128000 [==============================] - 64s 502us/step - loss: 1.0892 - acc: 0.5324 - val_loss: 0.3919 - val_acc: 0.8100\n",
            "Epoch 52/100\n",
            "128000/128000 [==============================] - 64s 501us/step - loss: 1.0837 - acc: 0.5343 - val_loss: 0.5066 - val_acc: 0.7846\n",
            "Epoch 53/100\n",
            "128000/128000 [==============================] - 64s 501us/step - loss: 1.0870 - acc: 0.5331 - val_loss: 0.3852 - val_acc: 0.8306\n",
            "Epoch 54/100\n",
            "128000/128000 [==============================] - 64s 502us/step - loss: 1.0784 - acc: 0.5355 - val_loss: 0.4436 - val_acc: 0.8028\n",
            "Epoch 55/100\n",
            "128000/128000 [==============================] - 64s 501us/step - loss: 1.0789 - acc: 0.5353 - val_loss: 0.4305 - val_acc: 0.8046\n",
            "Epoch 56/100\n",
            "128000/128000 [==============================] - 64s 501us/step - loss: 1.0780 - acc: 0.5372 - val_loss: 0.4536 - val_acc: 0.8100\n",
            "Epoch 57/100\n",
            "128000/128000 [==============================] - 64s 500us/step - loss: 1.0761 - acc: 0.5373 - val_loss: 0.3859 - val_acc: 0.8125\n",
            "Epoch 58/100\n",
            "128000/128000 [==============================] - 64s 500us/step - loss: 1.0734 - acc: 0.5381 - val_loss: 0.3597 - val_acc: 0.8306\n",
            "Epoch 59/100\n",
            "128000/128000 [==============================] - 64s 501us/step - loss: 1.0729 - acc: 0.5387 - val_loss: 0.3727 - val_acc: 0.8246\n",
            "Epoch 60/100\n",
            "128000/128000 [==============================] - 64s 502us/step - loss: 1.0706 - acc: 0.5398 - val_loss: 0.4198 - val_acc: 0.8064\n",
            "Epoch 61/100\n",
            "128000/128000 [==============================] - 64s 502us/step - loss: 1.0679 - acc: 0.5422 - val_loss: 0.3693 - val_acc: 0.8318\n",
            "Epoch 62/100\n",
            "128000/128000 [==============================] - 64s 502us/step - loss: 1.0693 - acc: 0.5426 - val_loss: 0.3424 - val_acc: 0.8427\n",
            "Epoch 63/100\n",
            "128000/128000 [==============================] - 64s 502us/step - loss: 1.0656 - acc: 0.5441 - val_loss: 0.3192 - val_acc: 0.8560\n",
            "Epoch 64/100\n",
            "128000/128000 [==============================] - 64s 502us/step - loss: 1.0625 - acc: 0.5440 - val_loss: 0.3149 - val_acc: 0.8572\n",
            "Epoch 65/100\n",
            "128000/128000 [==============================] - 64s 502us/step - loss: 1.0610 - acc: 0.5447 - val_loss: 0.3100 - val_acc: 0.8536\n",
            "Epoch 66/100\n",
            "128000/128000 [==============================] - 64s 502us/step - loss: 1.0567 - acc: 0.5470 - val_loss: 0.3046 - val_acc: 0.8584\n",
            "Epoch 67/100\n",
            "128000/128000 [==============================] - 64s 502us/step - loss: 1.0578 - acc: 0.5463 - val_loss: 0.3146 - val_acc: 0.8488\n",
            "Epoch 68/100\n",
            "128000/128000 [==============================] - 64s 502us/step - loss: 1.0557 - acc: 0.5474 - val_loss: 0.3143 - val_acc: 0.8572\n",
            "Epoch 69/100\n",
            "128000/128000 [==============================] - 64s 502us/step - loss: 1.0562 - acc: 0.5479 - val_loss: 0.3055 - val_acc: 0.8421\n",
            "Epoch 70/100\n",
            "128000/128000 [==============================] - 64s 502us/step - loss: 1.0585 - acc: 0.5465 - val_loss: 0.3193 - val_acc: 0.8633\n",
            "Epoch 71/100\n",
            "128000/128000 [==============================] - 64s 502us/step - loss: 1.0532 - acc: 0.5475 - val_loss: 0.2974 - val_acc: 0.8488\n",
            "Epoch 72/100\n",
            "128000/128000 [==============================] - 64s 502us/step - loss: 1.0514 - acc: 0.5478 - val_loss: 0.2988 - val_acc: 0.8482\n",
            "Epoch 73/100\n",
            "128000/128000 [==============================] - 64s 502us/step - loss: 1.0475 - acc: 0.5507 - val_loss: 0.2582 - val_acc: 0.8699\n",
            "Epoch 74/100\n",
            "128000/128000 [==============================] - 64s 502us/step - loss: 1.0489 - acc: 0.5517 - val_loss: 0.2886 - val_acc: 0.8609\n",
            "Epoch 75/100\n",
            "128000/128000 [==============================] - 64s 502us/step - loss: 1.0472 - acc: 0.5521 - val_loss: 0.2843 - val_acc: 0.8748\n",
            "Epoch 76/100\n",
            "128000/128000 [==============================] - 64s 502us/step - loss: 1.0472 - acc: 0.5514 - val_loss: 0.2878 - val_acc: 0.8651\n",
            "Epoch 77/100\n",
            "128000/128000 [==============================] - 64s 502us/step - loss: 1.0450 - acc: 0.5539 - val_loss: 0.2732 - val_acc: 0.8693\n",
            "Epoch 78/100\n",
            "128000/128000 [==============================] - 64s 502us/step - loss: 1.0444 - acc: 0.5531 - val_loss: 0.2679 - val_acc: 0.8736\n",
            "Epoch 79/100\n",
            "128000/128000 [==============================] - 64s 502us/step - loss: 1.0449 - acc: 0.5528 - val_loss: 0.2651 - val_acc: 0.8699\n",
            "Epoch 80/100\n",
            "128000/128000 [==============================] - 64s 502us/step - loss: 1.0428 - acc: 0.5539 - val_loss: 0.2702 - val_acc: 0.8699\n",
            "Epoch 81/100\n",
            "128000/128000 [==============================] - 64s 502us/step - loss: 1.0385 - acc: 0.5559 - val_loss: 0.2639 - val_acc: 0.8832\n",
            "Epoch 82/100\n",
            "128000/128000 [==============================] - 64s 502us/step - loss: 1.0404 - acc: 0.5553 - val_loss: 0.2814 - val_acc: 0.8699\n",
            "Epoch 83/100\n",
            "128000/128000 [==============================] - 64s 502us/step - loss: 1.0393 - acc: 0.5548 - val_loss: 0.2820 - val_acc: 0.8748\n",
            "Epoch 84/100\n",
            "128000/128000 [==============================] - 64s 501us/step - loss: 1.0354 - acc: 0.5567 - val_loss: 0.2559 - val_acc: 0.8838\n",
            "Epoch 85/100\n",
            "128000/128000 [==============================] - 64s 501us/step - loss: 1.0377 - acc: 0.5572 - val_loss: 0.2528 - val_acc: 0.8838\n",
            "Epoch 86/100\n",
            "128000/128000 [==============================] - 64s 502us/step - loss: 1.0380 - acc: 0.5560 - val_loss: 0.2442 - val_acc: 0.8863\n",
            "Epoch 87/100\n",
            "128000/128000 [==============================] - 64s 502us/step - loss: 1.0362 - acc: 0.5574 - val_loss: 0.2700 - val_acc: 0.8766\n",
            "Epoch 88/100\n",
            "128000/128000 [==============================] - 64s 502us/step - loss: 1.0331 - acc: 0.5595 - val_loss: 0.2684 - val_acc: 0.8609\n",
            "Epoch 89/100\n",
            "128000/128000 [==============================] - 64s 503us/step - loss: 1.0324 - acc: 0.5585 - val_loss: 0.2529 - val_acc: 0.8772\n",
            "Epoch 90/100\n",
            "128000/128000 [==============================] - 64s 502us/step - loss: 1.0325 - acc: 0.5588 - val_loss: 0.2500 - val_acc: 0.8796\n",
            "Epoch 91/100\n",
            "128000/128000 [==============================] - 64s 502us/step - loss: 1.0314 - acc: 0.5611 - val_loss: 0.2391 - val_acc: 0.8796\n",
            "Epoch 92/100\n",
            "128000/128000 [==============================] - 64s 502us/step - loss: 1.0294 - acc: 0.5601 - val_loss: 0.2432 - val_acc: 0.8832\n",
            "Epoch 93/100\n",
            "128000/128000 [==============================] - 64s 502us/step - loss: 1.0316 - acc: 0.5593 - val_loss: 0.2318 - val_acc: 0.8681\n",
            "Epoch 94/100\n",
            "128000/128000 [==============================] - 64s 501us/step - loss: 1.0286 - acc: 0.5595 - val_loss: 0.2483 - val_acc: 0.8929\n",
            "Epoch 95/100\n",
            "128000/128000 [==============================] - 64s 503us/step - loss: 1.0306 - acc: 0.5618 - val_loss: 0.2477 - val_acc: 0.8875\n",
            "Epoch 96/100\n",
            "128000/128000 [==============================] - 64s 502us/step - loss: 1.0292 - acc: 0.5627 - val_loss: 0.2512 - val_acc: 0.8742\n",
            "Epoch 97/100\n",
            "128000/128000 [==============================] - 64s 502us/step - loss: 1.0270 - acc: 0.5609 - val_loss: 0.2444 - val_acc: 0.8796\n",
            "Epoch 98/100\n",
            "128000/128000 [==============================] - 64s 502us/step - loss: 1.0271 - acc: 0.5624 - val_loss: 0.2276 - val_acc: 0.8838\n",
            "Epoch 99/100\n",
            "128000/128000 [==============================] - 64s 502us/step - loss: 1.0273 - acc: 0.5628 - val_loss: 0.2341 - val_acc: 0.8717\n",
            "Epoch 100/100\n",
            "128000/128000 [==============================] - 64s 502us/step - loss: 1.0274 - acc: 0.5633 - val_loss: 0.2373 - val_acc: 0.8863\n"
          ],
          "name": "stdout"
        }
      ]
    },
    {
      "cell_type": "markdown",
      "metadata": {
        "id": "OVFgwssVfxtd",
        "colab_type": "text"
      },
      "source": [
        "# Save model"
      ]
    },
    {
      "cell_type": "code",
      "metadata": {
        "id": "fKe0m_39HiWU",
        "colab_type": "code",
        "outputId": "53f27c76-5b89-4001-dfb9-1e87f7b08a64",
        "colab": {
          "base_uri": "https://localhost:8080/",
          "height": 34
        }
      },
      "source": [
        "dic = \"/content/drive/My Drive/Colab Notebooks/\"\n",
        "classifier.save(dic+f'SaveModel/CNN8-192(1,3)-128(2,3)-128(1,3)-64(1,3)-64(1,3)-64(1,3)-32(1,3)-32(1,3)-32(1,3)-ba{batch}-ep{epoch}-(dout=0.5)-input(IQ)(SNR=all).h5')\n",
        "f = open(dic+f'SaveModel/CNN8-192(1,3)-128(2,3)-128(1,3)-64(1,3)-64(1,3)-64(1,3)-32(1,3)-32(1,3)-32(1,3)-ba{batch}-ep{epoch}-(dout=0.5)-input(IQ)(SNR=all)-history.txt',\"w\")\n",
        "f.write( str(classifier.history.history) )\n",
        "f.close()\n",
        "\n",
        "print('Model Saved!')"
      ],
      "execution_count": 33,
      "outputs": [
        {
          "output_type": "stream",
          "text": [
            "Model Saved!\n"
          ],
          "name": "stdout"
        }
      ]
    },
    {
      "cell_type": "markdown",
      "metadata": {
        "id": "cNGu7HtyhGc2",
        "colab_type": "text"
      },
      "source": [
        "\n",
        "# Prediction(only SNR=18)"
      ]
    },
    {
      "cell_type": "code",
      "metadata": {
        "id": "6irYYHCZ6A2C",
        "colab_type": "code",
        "colab": {}
      },
      "source": [
        "y_pred = classifier.predict(X_test18)\n",
        "y_pred = np.argmax(y_pred, axis=1)\n",
        "\n",
        "y_real = np.argmax(y_test18, axis=1)\n",
        "# Making the Confusion Matrix\n",
        "from sklearn.metrics import confusion_matrix\n",
        "cm = confusion_matrix(y_real, y_pred)\n",
        "cm_norm = cm.astype('float') / cm.sum(axis=1)[:, np.newaxis]\n",
        "\n",
        "acc_test = classifier.evaluate(X_test18, y_test18)[1]\n",
        "acc_train = classifier.evaluate(X_train, y_train)[1]\n",
        "\n",
        "print(\"Acc Test : \", acc_test)\n",
        "print(\"Acc Train : \", acc_train)\n"
      ],
      "execution_count": 0,
      "outputs": []
    },
    {
      "cell_type": "markdown",
      "metadata": {
        "id": "ShXqOJL47hCE",
        "colab_type": "text"
      },
      "source": [
        "# Plot Confusion Matrix"
      ]
    },
    {
      "cell_type": "code",
      "metadata": {
        "id": "-6AbLWccANuo",
        "colab_type": "code",
        "colab": {}
      },
      "source": [
        "import matplotlib.pyplot as plt\n",
        "import seaborn as sns\n",
        "from sklearn.metrics import confusion_matrix\n",
        "import pandas as pd\n",
        "\n",
        "modulation_order = []\n",
        "modulation_order_dict = dict()\n",
        "\n",
        "for key,value in output.items():\n",
        "    modulation_order_dict[np.argmax(value)] = str(key)\n",
        "    \n",
        "for i in range(8):\n",
        "    modulation_order.append(modulation_order_dict[i])\n",
        "    \n",
        "acc_test = classifier.evaluate(X_test18, y_test18)[1]\n",
        "acc_train = classifier.evaluate(X_train, y_train)[1]\n",
        "\n",
        "print(\"Acc Test : \", acc_test)\n",
        "print(\"Acc Train : \", acc_train)    "
      ],
      "execution_count": 0,
      "outputs": []
    },
    {
      "cell_type": "code",
      "metadata": {
        "id": "Vv5RzFyj_Cj1",
        "colab_type": "code",
        "colab": {}
      },
      "source": [
        "dic = \"/content/drive/My Drive/Colab Notebooks/\"\n",
        "acc = []\n",
        "\n",
        "for snr in snrList:\n",
        "  print('SNR: ', snr)\n",
        "    \n",
        "  y_test_snr = []\n",
        "  X_test_snr = []\n",
        "  for i in range(X_test.shape[0]):\n",
        "    if X_test[i,0,0] == int(snr):\n",
        "      X_test_snr.append(X_test[i])\n",
        "      y_test_snr.append(y_test[i])\n",
        "        \n",
        "  X_test_snr = np.array(X_test_snr)\n",
        "  y_test_snr = np.array(y_test_snr)        \n",
        "  X_test_snr = X_test_snr[:,:,1:]\n",
        "  \n",
        "  X_test_snr = X_test_snr.reshape([X_test_snr.shape[0],256])\n",
        "  X_test_snr = sc.transform(X_test_snr)\n",
        "  X_test_snr = X_test_snr.reshape([X_test_snr.shape[0],2,128])\n",
        "  \n",
        "  X_test_snr = X_test_snr.reshape(-1,2, 128, 1) # For CNN\n",
        "    \n",
        "  acc_test = classifier.evaluate(X_test_snr, y_test_snr)[1]\n",
        "  acc.append(acc_test)\n",
        "  print(acc_test)\n",
        "  '''\n",
        "  y_pred = classifier.predict(X_test_snr)\n",
        "  y_pred = np.argmax(y_pred, axis=1)\n",
        "\n",
        "  y_real = np.argmax(y_test_snr, axis=1)\n",
        "  # Making the Confusion Matrix\n",
        "  cm = confusion_matrix(y_real, y_pred)\n",
        "  cm_norm = cm.astype('float') / cm.sum(axis=1)[:, np.newaxis]\n",
        "    \n",
        "    \n",
        "  cmDataFrame = pd.DataFrame(cm_norm, index=modulation_order, columns = modulation_order)\n",
        "  plt.figure(figsize=(6, 5))\n",
        "  ax = sns.heatmap(cmDataFrame, annot=True, annot_kws={\"size\": 8}, fmt='.2f', linewidths=.5, cmap=\"Blues\")\n",
        "\n",
        "  plt.title(f\"CNN3[128(1,3)-128(2,3)-64(1,3)-64(1,3)] Confusion Matrix (SNR={snr})\", fontsize=8)\n",
        "  plt.xlabel(\"Predicted label  \\n\\n TrainAcc={:.2}, TestAcc={:.2}\".format(acc_train,acc_test), fontsize=8)\n",
        "  plt.ylabel(\"True lable\", fontsize=8)\n",
        "  plt.setp(ax.get_xticklabels(), rotation=45, ha=\"right\",rotation_mode=\"anchor\", fontsize=8)\n",
        "  plt.setp(ax.get_yticklabels(), fontsize=8)\n",
        "  fig = ax.get_figure()\n",
        "\n",
        "  fig.savefig(dic+f\"/Pic/CNN/CNN3-128(1,3)-128(2,3)-64(1,3)-64(1,3)-ba{batch}-ep{epoch}-(dout=0.5)-input(IQ)(SNR={snr}).png\", dpi=175, bbox_inches='tight')\n",
        "  fig.savefig(dic+f\"/Pic/CNN/CNN3-128(1,3)-128(2,3)-64(1,3)-64(1,3)-ep{epoch}-(dout=0.5)-input(IQ)(SNR={snr}).eps\", bbox_inches='tight')\n",
        "  print(\"Plot Saved!\")\n",
        "'''\n",
        "\n",
        "  del(y_test_snr)\n",
        "  del(X_test_snr)\n",
        "      \n",
        "print(acc)    \n",
        "    "
      ],
      "execution_count": 0,
      "outputs": []
    },
    {
      "cell_type": "code",
      "metadata": {
        "id": "yYOjAZRhJqie",
        "colab_type": "code",
        "outputId": "bbd33667-0ae3-4fb7-9153-0d99f3ef59e9",
        "colab": {
          "base_uri": "https://localhost:8080/",
          "height": 34
        }
      },
      "source": [
        "print('A')"
      ],
      "execution_count": 0,
      "outputs": [
        {
          "output_type": "stream",
          "text": [
            "A\n"
          ],
          "name": "stdout"
        }
      ]
    },
    {
      "cell_type": "markdown",
      "metadata": {
        "id": "9_d7UlrRJTdJ",
        "colab_type": "text"
      },
      "source": [
        "# Plot accuracy and loss"
      ]
    },
    {
      "cell_type": "code",
      "metadata": {
        "id": "Ofyw4cqWJZQD",
        "colab_type": "code",
        "colab": {}
      },
      "source": [
        "import matplotlib.pyplot as plt\n",
        "def plot_history(history):\n",
        "    loss_list = [s for s in history.history.keys() if 'loss' in s and 'val' not in s]\n",
        "    val_loss_list = [s for s in history.history.keys() if 'loss' in s and 'val' in s]\n",
        "    acc_list = [s for s in history.history.keys() if 'acc' in s and 'val' not in s]\n",
        "    val_acc_list = [s for s in history.history.keys() if 'acc' in s and 'val' in s]\n",
        "    \n",
        "    if len(loss_list) == 0:\n",
        "        print('Loss is missing in history')\n",
        "        return \n",
        "    \n",
        "    ## As loss always exists\n",
        "    epochs = range(1,len(history.history[loss_list[0]]) + 1)\n",
        "    \n",
        "    ## Loss\n",
        "    plt.figure(1)\n",
        "    for l in loss_list:\n",
        "        plt.plot(epochs, history.history[l], 'b', label='Training loss (' + str(str(format(history.history[l][-1],'.5f'))+')'))\n",
        "    for l in val_loss_list:\n",
        "        plt.plot(epochs, history.history[l], 'g', label='Validation loss (' + str(str(format(history.history[l][-1],'.5f'))+')'))  \n",
        "    \n",
        "    plt.title('Loss')\n",
        "    plt.xlabel('Epochs')\n",
        "    plt.ylabel('Loss')\n",
        "    plt.legend()\n",
        "    \n",
        "    ## Accuracy\n",
        "    plt.figure(2)\n",
        "    for l in acc_list:\n",
        "        plt.plot(epochs, history.history[l], 'b', label='Training accuracy (' + str(format(history.history[l][-1],'.5f'))+')')\n",
        "    for l in val_acc_list:    \n",
        "        plt.plot(epochs, history.history[l], 'g', label='Validation accuracy (' + str(format(history.history[l][-1],'.5f'))+')')\n",
        "\n",
        "    plt.title('Accuracy')\n",
        "    plt.xlabel('Epochs')\n",
        "    plt.ylabel('Accuracy')\n",
        "    plt.legend()\n",
        "    plt.show()\n",
        "    \n"
      ],
      "execution_count": 0,
      "outputs": []
    },
    {
      "cell_type": "code",
      "metadata": {
        "id": "LvZtjPOeJadx",
        "colab_type": "code",
        "outputId": "5baecf76-4ccd-4d5f-9c32-c43305ec564b",
        "colab": {
          "base_uri": "https://localhost:8080/",
          "height": 574
        }
      },
      "source": [
        "plot_history(classifier.history)"
      ],
      "execution_count": 0,
      "outputs": [
        {
          "output_type": "display_data",
          "data": {
            "image/png": "[encoded data removed]",
            "text/plain": [
              "<Figure size 432x288 with 1 Axes>"
            ]
          },
          "metadata": {
            "tags": []
          }
        },
        {
          "output_type": "display_data",
          "data": {
            "image/png": "[encoded data removed]",
            "text/plain": [
              "<Figure size 432x288 with 1 Axes>"
            ]
          },
          "metadata": {
            "tags": []
          }
        }
      ]
    },
    {
      "cell_type": "markdown",
      "metadata": {
        "id": "cYsdM-_E0JOk",
        "colab_type": "text"
      },
      "source": [
        "Laod Model"
      ]
    },
    {
      "cell_type": "code",
      "metadata": {
        "id": "4YwGx5eVtNHf",
        "colab_type": "code",
        "outputId": "db5f5bed-a434-4729-cbd7-69ddaa2fef32",
        "colab": {
          "base_uri": "https://localhost:8080/",
          "height": 34
        }
      },
      "source": [
        "from keras.models import load_model\n",
        "dic = \"/content/drive/My Drive/Colab Notebooks/\"\n",
        "batch = 1024\n",
        "epoch = 100\n",
        "model = load_model(dic+f'SaveModel/CNN6-192(1,3)-128(2,3)-128(1,3)-64(1,3)-64(1,3)-64(1,3)-32(1,3)-ba{batch}-ep{epoch}-(dout=0.5)-input(IQ)(SNR=all).h5')\n",
        "\n",
        "print('Model loaded!')"
      ],
      "execution_count": 20,
      "outputs": [
        {
          "output_type": "stream",
          "text": [
            "Model loaded!\n"
          ],
          "name": "stdout"
        }
      ]
    },
    {
      "cell_type": "code",
      "metadata": {
        "id": "6pAIUxXfoxJD",
        "colab_type": "code",
        "outputId": "3d9044e1-f0f0-40b7-9652-07149ffec231",
        "colab": {
          "base_uri": "https://localhost:8080/",
          "height": 1000
        }
      },
      "source": [
        "classifier = model\n",
        "classifier.get_config()\n",
        "\n",
        "\n",
        "\n",
        "\n"
      ],
      "execution_count": 21,
      "outputs": [
        {
          "output_type": "execute_result",
          "data": {
            "text/plain": [
              "{'layers': [{'class_name': 'Conv2D',\n",
              "   'config': {'activation': 'relu',\n",
              "    'activity_regularizer': None,\n",
              "    'batch_input_shape': (None, 2, 128, 1),\n",
              "    'bias_constraint': None,\n",
              "    'bias_initializer': {'class_name': 'Zeros', 'config': {}},\n",
              "    'bias_regularizer': None,\n",
              "    'data_format': 'channels_last',\n",
              "    'dilation_rate': (1, 1),\n",
              "    'dtype': 'float32',\n",
              "    'filters': 192,\n",
              "    'kernel_constraint': None,\n",
              "    'kernel_initializer': {'class_name': 'VarianceScaling',\n",
              "     'config': {'distribution': 'uniform',\n",
              "      'mode': 'fan_avg',\n",
              "      'scale': 1.0,\n",
              "      'seed': None}},\n",
              "    'kernel_regularizer': None,\n",
              "    'kernel_size': (1, 3),\n",
              "    'name': 'conv2d_32',\n",
              "    'padding': 'same',\n",
              "    'strides': (1, 1),\n",
              "    'trainable': True,\n",
              "    'use_bias': True}},\n",
              "  {'class_name': 'Dropout',\n",
              "   'config': {'dtype': 'float32',\n",
              "    'name': 'dropout_38',\n",
              "    'noise_shape': None,\n",
              "    'rate': 0.5,\n",
              "    'seed': None,\n",
              "    'trainable': True}},\n",
              "  {'class_name': 'Conv2D',\n",
              "   'config': {'activation': 'relu',\n",
              "    'activity_regularizer': None,\n",
              "    'bias_constraint': None,\n",
              "    'bias_initializer': {'class_name': 'Zeros', 'config': {}},\n",
              "    'bias_regularizer': None,\n",
              "    'data_format': 'channels_last',\n",
              "    'dilation_rate': (1, 1),\n",
              "    'dtype': 'float32',\n",
              "    'filters': 128,\n",
              "    'kernel_constraint': None,\n",
              "    'kernel_initializer': {'class_name': 'VarianceScaling',\n",
              "     'config': {'distribution': 'uniform',\n",
              "      'mode': 'fan_avg',\n",
              "      'scale': 1.0,\n",
              "      'seed': None}},\n",
              "    'kernel_regularizer': None,\n",
              "    'kernel_size': (2, 3),\n",
              "    'name': 'conv2d_33',\n",
              "    'padding': 'same',\n",
              "    'strides': (1, 1),\n",
              "    'trainable': True,\n",
              "    'use_bias': True}},\n",
              "  {'class_name': 'Dropout',\n",
              "   'config': {'dtype': 'float32',\n",
              "    'name': 'dropout_39',\n",
              "    'noise_shape': None,\n",
              "    'rate': 0.5,\n",
              "    'seed': None,\n",
              "    'trainable': True}},\n",
              "  {'class_name': 'Conv2D',\n",
              "   'config': {'activation': 'relu',\n",
              "    'activity_regularizer': None,\n",
              "    'bias_constraint': None,\n",
              "    'bias_initializer': {'class_name': 'Zeros', 'config': {}},\n",
              "    'bias_regularizer': None,\n",
              "    'data_format': 'channels_last',\n",
              "    'dilation_rate': (1, 1),\n",
              "    'dtype': 'float32',\n",
              "    'filters': 128,\n",
              "    'kernel_constraint': None,\n",
              "    'kernel_initializer': {'class_name': 'VarianceScaling',\n",
              "     'config': {'distribution': 'uniform',\n",
              "      'mode': 'fan_avg',\n",
              "      'scale': 1.0,\n",
              "      'seed': None}},\n",
              "    'kernel_regularizer': None,\n",
              "    'kernel_size': (1, 3),\n",
              "    'name': 'conv2d_34',\n",
              "    'padding': 'same',\n",
              "    'strides': (1, 1),\n",
              "    'trainable': True,\n",
              "    'use_bias': True}},\n",
              "  {'class_name': 'Dropout',\n",
              "   'config': {'dtype': 'float32',\n",
              "    'name': 'dropout_40',\n",
              "    'noise_shape': None,\n",
              "    'rate': 0.5,\n",
              "    'seed': None,\n",
              "    'trainable': True}},\n",
              "  {'class_name': 'Conv2D',\n",
              "   'config': {'activation': 'relu',\n",
              "    'activity_regularizer': None,\n",
              "    'bias_constraint': None,\n",
              "    'bias_initializer': {'class_name': 'Zeros', 'config': {}},\n",
              "    'bias_regularizer': None,\n",
              "    'data_format': 'channels_last',\n",
              "    'dilation_rate': (1, 1),\n",
              "    'dtype': 'float32',\n",
              "    'filters': 64,\n",
              "    'kernel_constraint': None,\n",
              "    'kernel_initializer': {'class_name': 'VarianceScaling',\n",
              "     'config': {'distribution': 'uniform',\n",
              "      'mode': 'fan_avg',\n",
              "      'scale': 1.0,\n",
              "      'seed': None}},\n",
              "    'kernel_regularizer': None,\n",
              "    'kernel_size': (1, 3),\n",
              "    'name': 'conv2d_35',\n",
              "    'padding': 'same',\n",
              "    'strides': (1, 1),\n",
              "    'trainable': True,\n",
              "    'use_bias': True}},\n",
              "  {'class_name': 'Dropout',\n",
              "   'config': {'dtype': 'float32',\n",
              "    'name': 'dropout_41',\n",
              "    'noise_shape': None,\n",
              "    'rate': 0.5,\n",
              "    'seed': None,\n",
              "    'trainable': True}},\n",
              "  {'class_name': 'Conv2D',\n",
              "   'config': {'activation': 'relu',\n",
              "    'activity_regularizer': None,\n",
              "    'bias_constraint': None,\n",
              "    'bias_initializer': {'class_name': 'Zeros', 'config': {}},\n",
              "    'bias_regularizer': None,\n",
              "    'data_format': 'channels_last',\n",
              "    'dilation_rate': (1, 1),\n",
              "    'dtype': 'float32',\n",
              "    'filters': 64,\n",
              "    'kernel_constraint': None,\n",
              "    'kernel_initializer': {'class_name': 'VarianceScaling',\n",
              "     'config': {'distribution': 'uniform',\n",
              "      'mode': 'fan_avg',\n",
              "      'scale': 1.0,\n",
              "      'seed': None}},\n",
              "    'kernel_regularizer': None,\n",
              "    'kernel_size': (1, 3),\n",
              "    'name': 'conv2d_36',\n",
              "    'padding': 'same',\n",
              "    'strides': (1, 1),\n",
              "    'trainable': True,\n",
              "    'use_bias': True}},\n",
              "  {'class_name': 'Dropout',\n",
              "   'config': {'dtype': 'float32',\n",
              "    'name': 'dropout_42',\n",
              "    'noise_shape': None,\n",
              "    'rate': 0.5,\n",
              "    'seed': None,\n",
              "    'trainable': True}},\n",
              "  {'class_name': 'Conv2D',\n",
              "   'config': {'activation': 'relu',\n",
              "    'activity_regularizer': None,\n",
              "    'bias_constraint': None,\n",
              "    'bias_initializer': {'class_name': 'Zeros', 'config': {}},\n",
              "    'bias_regularizer': None,\n",
              "    'data_format': 'channels_last',\n",
              "    'dilation_rate': (1, 1),\n",
              "    'dtype': 'float32',\n",
              "    'filters': 64,\n",
              "    'kernel_constraint': None,\n",
              "    'kernel_initializer': {'class_name': 'VarianceScaling',\n",
              "     'config': {'distribution': 'uniform',\n",
              "      'mode': 'fan_avg',\n",
              "      'scale': 1.0,\n",
              "      'seed': None}},\n",
              "    'kernel_regularizer': None,\n",
              "    'kernel_size': (1, 3),\n",
              "    'name': 'conv2d_37',\n",
              "    'padding': 'same',\n",
              "    'strides': (1, 1),\n",
              "    'trainable': True,\n",
              "    'use_bias': True}},\n",
              "  {'class_name': 'Dropout',\n",
              "   'config': {'dtype': 'float32',\n",
              "    'name': 'dropout_43',\n",
              "    'noise_shape': None,\n",
              "    'rate': 0.5,\n",
              "    'seed': None,\n",
              "    'trainable': True}},\n",
              "  {'class_name': 'Conv2D',\n",
              "   'config': {'activation': 'relu',\n",
              "    'activity_regularizer': None,\n",
              "    'bias_constraint': None,\n",
              "    'bias_initializer': {'class_name': 'Zeros', 'config': {}},\n",
              "    'bias_regularizer': None,\n",
              "    'data_format': 'channels_last',\n",
              "    'dilation_rate': (1, 1),\n",
              "    'dtype': 'float32',\n",
              "    'filters': 32,\n",
              "    'kernel_constraint': None,\n",
              "    'kernel_initializer': {'class_name': 'VarianceScaling',\n",
              "     'config': {'distribution': 'uniform',\n",
              "      'mode': 'fan_avg',\n",
              "      'scale': 1.0,\n",
              "      'seed': None}},\n",
              "    'kernel_regularizer': None,\n",
              "    'kernel_size': (1, 3),\n",
              "    'name': 'conv2d_38',\n",
              "    'padding': 'same',\n",
              "    'strides': (1, 1),\n",
              "    'trainable': True,\n",
              "    'use_bias': True}},\n",
              "  {'class_name': 'Dropout',\n",
              "   'config': {'dtype': 'float32',\n",
              "    'name': 'dropout_44',\n",
              "    'noise_shape': None,\n",
              "    'rate': 0.5,\n",
              "    'seed': None,\n",
              "    'trainable': True}},\n",
              "  {'class_name': 'Flatten',\n",
              "   'config': {'data_format': 'channels_last',\n",
              "    'dtype': 'float32',\n",
              "    'name': 'flatten_7',\n",
              "    'trainable': True}},\n",
              "  {'class_name': 'Dense',\n",
              "   'config': {'activation': 'relu',\n",
              "    'activity_regularizer': None,\n",
              "    'bias_constraint': None,\n",
              "    'bias_initializer': {'class_name': 'Zeros', 'config': {}},\n",
              "    'bias_regularizer': None,\n",
              "    'dtype': 'float32',\n",
              "    'kernel_constraint': None,\n",
              "    'kernel_initializer': {'class_name': 'VarianceScaling',\n",
              "     'config': {'distribution': 'uniform',\n",
              "      'mode': 'fan_avg',\n",
              "      'scale': 1.0,\n",
              "      'seed': None}},\n",
              "    'kernel_regularizer': None,\n",
              "    'name': 'dense_13',\n",
              "    'trainable': True,\n",
              "    'units': 128,\n",
              "    'use_bias': True}},\n",
              "  {'class_name': 'Dropout',\n",
              "   'config': {'dtype': 'float32',\n",
              "    'name': 'dropout_45',\n",
              "    'noise_shape': None,\n",
              "    'rate': 0.5,\n",
              "    'seed': None,\n",
              "    'trainable': True}},\n",
              "  {'class_name': 'Dense',\n",
              "   'config': {'activation': 'softmax',\n",
              "    'activity_regularizer': None,\n",
              "    'bias_constraint': None,\n",
              "    'bias_initializer': {'class_name': 'Zeros', 'config': {}},\n",
              "    'bias_regularizer': None,\n",
              "    'dtype': 'float32',\n",
              "    'kernel_constraint': None,\n",
              "    'kernel_initializer': {'class_name': 'VarianceScaling',\n",
              "     'config': {'distribution': 'uniform',\n",
              "      'mode': 'fan_avg',\n",
              "      'scale': 1.0,\n",
              "      'seed': None}},\n",
              "    'kernel_regularizer': None,\n",
              "    'name': 'dense_14',\n",
              "    'trainable': True,\n",
              "    'units': 8,\n",
              "    'use_bias': True}}],\n",
              " 'name': 'sequential_7'}"
            ]
          },
          "metadata": {
            "tags": []
          },
          "execution_count": 21
        }
      ]
    }
  ]
}