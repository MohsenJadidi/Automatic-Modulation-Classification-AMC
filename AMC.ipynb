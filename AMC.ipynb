{
  "nbformat": 4,
  "nbformat_minor": 0,
  "metadata": {
    "colab": {
      "name": "AMC.ipynb",
      "version": "0.3.2",
      "provenance": [],
      "collapsed_sections": [],
      "include_colab_link": true
    },
    "kernelspec": {
      "name": "python3",
      "display_name": "Python 3"
    }
  },
  "cells": [
    {
      "cell_type": "markdown",
      "metadata": {
        "id": "view-in-github",
        "colab_type": "text"
      },
      "source": [
        "<a href=\"https://colab.research.google.com/github/MohsenJadidi/Automatic-Modulation-Classification-AMC/blob/master/AMC.ipynb\" target=\"_parent\"><img src=\"https://colab.research.google.com/assets/colab-badge.svg\" alt=\"Open In Colab\"/></a>"
      ]
    },
    {
      "cell_type": "markdown",
      "metadata": {
        "id": "I-TCj8dOtgN_",
        "colab_type": "text"
      },
      "source": [
        "***Importing the dataset***"
      ]
    },
    {
      "cell_type": "code",
      "metadata": {
        "id": "NbWAylFFl7H3",
        "colab_type": "code",
        "colab": {}
      },
      "source": [
        "from google.colab import drive\n",
        "drive.mount('/content/drive')\n"
      ],
      "execution_count": 0,
      "outputs": []
    },
    {
      "cell_type": "code",
      "metadata": {
        "id": "JfzzfiDSuxMs",
        "colab_type": "code",
        "colab": {}
      },
      "source": [
        "import pickle\n",
        "fileName = 'RML2016.10a_dict.pkl'\n",
        "with open(\"/content/drive/My Drive/Colab Notebooks/\"+fileName,'rb') as f:\n",
        "  data = pickle.load(f,encoding='bytes')"
      ],
      "execution_count": 0,
      "outputs": []
    },
    {
      "cell_type": "code",
      "metadata": {
        "id": "yjAg9T-0uzyh",
        "colab_type": "code",
        "colab": {}
      },
      "source": [
        "import numpy as np\n",
        "X = []\n",
        "labels = [] # label each example by a pair (modulation type, snr)\n",
        "total_examples = 0\n",
        "analog = [b'AM-DSB', b'AM-SSB', b'WBFM']\n",
        "\n",
        "for mod_type, snr in data.keys():\n",
        "    if snr >=0 and (mod_type not in analog):      \n",
        "        current_matrix = data[(mod_type, snr)]        \n",
        "        total_examples += current_matrix.shape[0]\n",
        "        for i in range(current_matrix.shape[0]):\n",
        "            X.append(current_matrix[i])\n",
        "            labels.append((str(mod_type, 'ascii'), snr)) # mod_type is of type bytes\n",
        "    \n",
        "X = np.array(X)         # First row is QPSK snr=2, seconde is PAM4 snr=8 , ...\n",
        "labels = np.array(labels)\n",
        "\n",
        "y = labels[:,0]\n",
        "\n",
        "print(f'loaded {total_examples} signal vectors into X{X.shape} and their corresponding'\n",
        "      f' labels into labels{labels.shape}')  \n",
        "# print(np.unique(labels[:,0]))\n"
      ],
      "execution_count": 0,
      "outputs": []
    },
    {
      "cell_type": "code",
      "metadata": {
        "id": "pbeDr3FVv57v",
        "colab_type": "code",
        "colab": {}
      },
      "source": [
        "# Encoding categorical data\n",
        "from sklearn.preprocessing import LabelEncoder, OneHotEncoder\n",
        "labelencoder_y = LabelEncoder()\n",
        "y = labelencoder_y.fit_transform(y)\n",
        "onehotencoder = OneHotEncoder()\n",
        "y = onehotencoder.fit_transform(y.reshape(-1,1)).toarray()"
      ],
      "execution_count": 0,
      "outputs": []
    },
    {
      "cell_type": "code",
      "metadata": {
        "id": "-Z6iUKbJwKlT",
        "colab_type": "code",
        "colab": {}
      },
      "source": [
        "snrList = [str(2*i) for i in range(10)] \n",
        "snr = snrList[9]\n",
        "numberOfEachExamples = 1000"
      ],
      "execution_count": 0,
      "outputs": []
    },
    {
      "cell_type": "code",
      "metadata": {
        "id": "-DiHGfSPwKb1",
        "colab_type": "code",
        "colab": {}
      },
      "source": [
        "X = X.reshape([X.shape[0],256])\n",
        "output = [[labels[i*numberOfEachExamples, 0],y[i*numberOfEachExamples]] for i in range(int(X.shape[0]/numberOfEachExamples))]\n",
        "output = dict(output)"
      ],
      "execution_count": 0,
      "outputs": []
    },
    {
      "cell_type": "code",
      "metadata": {
        "id": "0OJ3GghKwrbs",
        "colab_type": "code",
        "colab": {}
      },
      "source": [
        "X_snr = []\n",
        "y_snr = []\n",
        "\n",
        "for i in range(X.shape[0]):\n",
        "    if labels[i,1] == snr:\n",
        "        X_snr.append(X[i])\n",
        "        y_snr.append(y[i])\n",
        "\n",
        "X_snr = np.array(X_snr)\n",
        "y_snr = np.array(y_snr)  "
      ],
      "execution_count": 0,
      "outputs": []
    },
    {
      "cell_type": "code",
      "metadata": {
        "id": "Cx7l0G_3ww0w",
        "colab_type": "code",
        "colab": {}
      },
      "source": [
        "###### Splitting the dataset into the Training set and Test set ######\n",
        "from sklearn.model_selection import train_test_split\n",
        "X_train, X_test, y_train, y_test = train_test_split(X_snr, y_snr, test_size = 0.2, random_state = 0)\n",
        "# The below line better for Cross_val part\n",
        "# X_train, X_test, y_train, y_test = train_test_split(X_snr, y_snr, test_size = 1, random_state = 0)\n"
      ],
      "execution_count": 0,
      "outputs": []
    },
    {
      "cell_type": "code",
      "metadata": {
        "id": "ujxapqcRw1l3",
        "colab_type": "code",
        "colab": {}
      },
      "source": [
        "# Feature Scaling\n",
        "from sklearn.preprocessing import StandardScaler\n",
        "sc = StandardScaler()\n",
        "X_train = sc.fit_transform(X_train)\n",
        "X_test = sc.transform(X_test)"
      ],
      "execution_count": 0,
      "outputs": []
    },
    {
      "cell_type": "markdown",
      "metadata": {
        "id": "UWipMIzTw3SN",
        "colab_type": "text"
      },
      "source": [
        "***Making model***"
      ]
    },
    {
      "cell_type": "code",
      "metadata": {
        "id": "1t4bapTyw8Lp",
        "colab_type": "code",
        "colab": {}
      },
      "source": [
        "# Importing the Keras libraries and packages\n",
        "import keras\n",
        "from keras.models import Sequential\n",
        "from keras.layers import Dense\n",
        "from keras.layers import Dropout\n",
        "# Initialising the ANN\n",
        "classifier = Sequential()\n",
        "\n",
        "# Adding the input layer and the first hidden layer\n",
        "classifier.add(Dense(units = 132, kernel_initializer = 'uniform', activation = 'relu', input_dim = 256))\n",
        "dout = 0.1\n",
        "classifier.add(Dropout(rate = dout))\n",
        "\n",
        "# Adding the second hidden layer\n",
        "classifier.add(Dense(units = 132, kernel_initializer = 'uniform', activation = 'relu'))\n",
        "classifier.add(Dropout(rate = dout))\n",
        "\n",
        "# Adding the output layer\n",
        "classifier.add(Dense(units = 8, kernel_initializer = 'uniform', activation = 'softmax'))\n",
        "\n",
        "# Compiling the ANN\n",
        "classifier.compile(optimizer = 'adam', loss = 'categorical_crossentropy', metrics = ['accuracy'])\n"
      ],
      "execution_count": 0,
      "outputs": []
    },
    {
      "cell_type": "code",
      "metadata": {
        "id": "P0K9N5wL2x3F",
        "colab_type": "code",
        "colab": {
          "base_uri": "https://localhost:8080/",
          "height": 907
        },
        "outputId": "b0015c70-210c-484f-940c-a3d150833ccb"
      },
      "source": [
        "batch = 10\n",
        "epoch = 25\n",
        "classifier.fit(X_train, y_train, batch_size = batch, epochs = epoch)"
      ],
      "execution_count": 22,
      "outputs": [
        {
          "output_type": "stream",
          "text": [
            "/usr/local/lib/python3.6/dist-packages/ipykernel_launcher.py:3: UserWarning: The `nb_epoch` argument in `fit` has been renamed `epochs`.\n",
            "  This is separate from the ipykernel package so we can avoid doing imports until\n"
          ],
          "name": "stderr"
        },
        {
          "output_type": "stream",
          "text": [
            "Epoch 1/25\n",
            "6400/6400 [==============================] - 1s 214us/step - loss: 1.7857 - acc: 0.2834\n",
            "Epoch 2/25\n",
            "6400/6400 [==============================] - 1s 167us/step - loss: 1.4975 - acc: 0.3808\n",
            "Epoch 3/25\n",
            "6400/6400 [==============================] - 1s 169us/step - loss: 1.3860 - acc: 0.4317\n",
            "Epoch 4/25\n",
            "6400/6400 [==============================] - 1s 169us/step - loss: 1.3141 - acc: 0.4464\n",
            "Epoch 5/25\n",
            "6400/6400 [==============================] - 1s 169us/step - loss: 1.2572 - acc: 0.4772\n",
            "Epoch 6/25\n",
            "6400/6400 [==============================] - 1s 170us/step - loss: 1.2254 - acc: 0.4948\n",
            "Epoch 7/25\n",
            "6400/6400 [==============================] - 1s 165us/step - loss: 1.1629 - acc: 0.5128\n",
            "Epoch 8/25\n",
            "6400/6400 [==============================] - 1s 172us/step - loss: 1.1409 - acc: 0.5309\n",
            "Epoch 9/25\n",
            "6400/6400 [==============================] - 1s 167us/step - loss: 1.0719 - acc: 0.5588\n",
            "Epoch 10/25\n",
            "6400/6400 [==============================] - 1s 167us/step - loss: 1.0415 - acc: 0.5681\n",
            "Epoch 11/25\n",
            "6400/6400 [==============================] - 1s 171us/step - loss: 1.0004 - acc: 0.5869\n",
            "Epoch 12/25\n",
            "6400/6400 [==============================] - 1s 169us/step - loss: 0.9688 - acc: 0.6013\n",
            "Epoch 13/25\n",
            "6400/6400 [==============================] - 1s 170us/step - loss: 0.9334 - acc: 0.6081\n",
            "Epoch 14/25\n",
            "6400/6400 [==============================] - 1s 170us/step - loss: 0.8910 - acc: 0.6300\n",
            "Epoch 15/25\n",
            "6400/6400 [==============================] - 1s 171us/step - loss: 0.8727 - acc: 0.6411\n",
            "Epoch 16/25\n",
            "6400/6400 [==============================] - 1s 168us/step - loss: 0.8444 - acc: 0.6591\n",
            "Epoch 17/25\n",
            "6400/6400 [==============================] - 1s 176us/step - loss: 0.8334 - acc: 0.6647\n",
            "Epoch 18/25\n",
            "6400/6400 [==============================] - 1s 176us/step - loss: 0.8162 - acc: 0.6748\n",
            "Epoch 19/25\n",
            "6400/6400 [==============================] - 1s 171us/step - loss: 0.7805 - acc: 0.6863\n",
            "Epoch 20/25\n",
            "6400/6400 [==============================] - 1s 173us/step - loss: 0.7580 - acc: 0.6967\n",
            "Epoch 21/25\n",
            "6400/6400 [==============================] - 1s 176us/step - loss: 0.7536 - acc: 0.7005\n",
            "Epoch 22/25\n",
            "6400/6400 [==============================] - 1s 169us/step - loss: 0.7261 - acc: 0.7119\n",
            "Epoch 23/25\n",
            "6400/6400 [==============================] - 1s 167us/step - loss: 0.7283 - acc: 0.7148\n",
            "Epoch 24/25\n",
            "6400/6400 [==============================] - 1s 172us/step - loss: 0.6910 - acc: 0.7298\n",
            "Epoch 25/25\n",
            "6400/6400 [==============================] - 1s 169us/step - loss: 0.6849 - acc: 0.7295\n"
          ],
          "name": "stdout"
        },
        {
          "output_type": "execute_result",
          "data": {
            "text/plain": [
              "<keras.callbacks.History at 0x7f2ea19136a0>"
            ]
          },
          "metadata": {
            "tags": []
          },
          "execution_count": 22
        }
      ]
    }
  ]
}