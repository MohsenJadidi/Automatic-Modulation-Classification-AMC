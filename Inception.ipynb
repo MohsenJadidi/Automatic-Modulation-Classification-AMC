{
  "nbformat": 4,
  "nbformat_minor": 0,
  "metadata": {
    "colab": {
      "name": "Inception.ipynb",
      "version": "0.3.2",
      "provenance": [],
      "collapsed_sections": [],
      "include_colab_link": true
    },
    "kernelspec": {
      "name": "python3",
      "display_name": "Python 3"
    },
    "accelerator": "GPU"
  },
  "cells": [
    {
      "cell_type": "markdown",
      "metadata": {
        "id": "view-in-github",
        "colab_type": "text"
      },
      "source": [
        "<a href=\"https://colab.research.google.com/github/MohsenJadidi/Automatic-Modulation-Classification-AMC/blob/master/Inception.ipynb\" target=\"_parent\"><img src=\"https://colab.research.google.com/assets/colab-badge.svg\" alt=\"Open In Colab\"/></a>"
      ]
    },
    {
      "cell_type": "code",
      "metadata": {
        "id": "m0dBrWRWh7UO",
        "colab_type": "code",
        "outputId": "9a2651df-a53a-4e1c-a172-b1d9ab26ab07",
        "colab": {
          "base_uri": "https://localhost:8080/",
          "height": 121
        }
      },
      "source": [
        "from google.colab import drive\n",
        "drive.mount('/content/drive')"
      ],
      "execution_count": 1,
      "outputs": [
        {
          "output_type": "stream",
          "text": [
            "Go to this URL in a browser: https://accounts.google.com/o/oauth2/auth?client_id=947318989803-6bn6qk8qdgf4n4g3pfee6491hc0brc4i.apps.googleusercontent.com&redirect_uri=urn%3Aietf%3Awg%3Aoauth%3A2.0%3Aoob&scope=email%20https%3A%2F%2Fwww.googleapis.com%2Fauth%2Fdocs.test%20https%3A%2F%2Fwww.googleapis.com%2Fauth%2Fdrive%20https%3A%2F%2Fwww.googleapis.com%2Fauth%2Fdrive.photos.readonly%20https%3A%2F%2Fwww.googleapis.com%2Fauth%2Fpeopleapi.readonly&response_type=code\n",
            "\n",
            "Enter your authorization code:\n",
            "··········\n",
            "Mounted at /content/drive\n"
          ],
          "name": "stdout"
        }
      ]
    },
    {
      "cell_type": "markdown",
      "metadata": {
        "id": "UR0ATiKBk6rG",
        "colab_type": "text"
      },
      "source": [
        "# Importing the dataset (Copy from CNN.ipynb and merge cells)"
      ]
    },
    {
      "cell_type": "code",
      "metadata": {
        "id": "JfzzfiDSuxMs",
        "colab_type": "code",
        "outputId": "3cc13fbd-bcbd-4d54-98af-5a97921b7929",
        "colab": {
          "base_uri": "https://localhost:8080/",
          "height": 289
        }
      },
      "source": [
        "import pickle\n",
        "import numpy as np\n",
        "fileName = 'RML2016.10a_dict.pkl'\n",
        "with open(\"/content/drive/My Drive/Colab Notebooks/\"+fileName,'rb') as f:\n",
        "  data = pickle.load(f,encoding='bytes')\n",
        " \n",
        "X = []\n",
        "labels = [] # label each example by a pair (modulation type, snr)\n",
        "total_examples = 0\n",
        "analog = [b'AM-DSB', b'AM-SSB', b'WBFM']\n",
        "\n",
        "for mod_type, snr in data.keys():\n",
        "    if (mod_type not in analog):      \n",
        "        current_matrix = data[(mod_type, snr)]        \n",
        "        total_examples += current_matrix.shape[0]\n",
        "        for i in range(current_matrix.shape[0]):\n",
        "            X.append(current_matrix[i])\n",
        "            labels.append((str(mod_type, 'ascii'), snr)) # mod_type is of type bytes\n",
        "    \n",
        "X = np.array(X)         # First row is QPSK snr=2, seconde is PAM4 snr=8 , ...\n",
        "labels = np.array(labels)\n",
        "\n",
        "y = labels[:,0]\n",
        "\n",
        "print(f'loaded {total_examples} signal vectors into X{X.shape} and their corresponding'\n",
        "      f' labels into labels{labels.shape}')  \n",
        "# print(np.unique(labels[:,0]))\n",
        "\n",
        "# Encoding categorical data\n",
        "from sklearn.preprocessing import LabelEncoder, OneHotEncoder\n",
        "labelencoder_y = LabelEncoder()\n",
        "y = labelencoder_y.fit_transform(y)\n",
        "onehotencoder = OneHotEncoder()\n",
        "y = onehotencoder.fit_transform(y.reshape(-1,1)).toarray()\n",
        "\n",
        "snrList = [str(2*i-20) for i in range(20)]  # snrList = -20, -18, -16 , ... ,0, ... ,18\n",
        "snr = snrList[19]\n",
        "numberOfEachExamples = 1000\n",
        "print(\"SNR :\", snr)\n",
        "\n",
        "output = [[labels[i*numberOfEachExamples, 0],y[i*numberOfEachExamples]] for i in range(int(X.shape[0]/numberOfEachExamples))]\n",
        "output = dict(output)\n",
        "\n",
        "Xsnr = np.zeros(shape=(X.shape[0],X.shape[1],X.shape[2]+1))\n",
        "for i in range(X.shape[0]):\n",
        "    snr = int(labels[i,1])\n",
        "    Xsnr[i,0,:] = np.insert(X[i,0,:],0,snr)\n",
        "    Xsnr[i,1,:] = np.insert(X[i,1,:],0,snr)\n",
        "    \n",
        "print(Xsnr.shape)\n",
        "\n",
        "###### Splitting the dataset into the Training set and Test set ######\n",
        "from sklearn.model_selection import train_test_split\n",
        "X_train, X_test, y_train, y_test = train_test_split(Xsnr, y, test_size = 0.2, random_state = 0)\n",
        "# The below line better for Cross_val part\n",
        "#X_train, X_test, y_train, y_test = train_test_split(Xsnr, y, test_size = 1, random_state = 0)\n",
        "\n",
        "print(X_train.shape)\n",
        "print(X_test.shape)\n",
        "\n",
        "\n",
        "X_train = X_train[:,:,1:] # snr important for train\n",
        "\n",
        "y_test18 = []\n",
        "X_test18 = []\n",
        "\n",
        "for i in range(X_test.shape[0]):\n",
        "    if X_test[i,0,0] == 18:\n",
        "        X_test18.append(X_test[i])\n",
        "        y_test18.append(y_test[i])\n",
        "        \n",
        "X_test18 = np.array(X_test18)\n",
        "y_test18 = np.array(y_test18)        \n",
        "X_test18 = X_test18[:,:,1:]\n",
        "\n",
        "\n",
        "print(X_train.shape)\n",
        "print(X_test18.shape)\n",
        "\n",
        "\n",
        "# Change IQ to amplitude and phase\n",
        "X_cmplx = X_train[:,0,:] + 1j* X_train[:,1,:]    \n",
        "X_amp = np.abs(X_cmplx)\n",
        "X_ang = np.arctan2(X_train[:,1,:],X_train[:,0,:]) / np.pi\n",
        "    \n",
        "X_amp = np.reshape(X_amp,(-1,1,128))\n",
        "X_ang = np.reshape(X_ang,(-1,1,128))\n",
        "    \n",
        "X_train_AmpPhs = np.concatenate((X_amp,X_ang), axis=1) \n",
        "##\n",
        "X_cmplx = X_test18[:,0,:] + 1j* X_test18[:,1,:]    \n",
        "X_amp = np.abs(X_cmplx)\n",
        "X_ang = np.arctan2(X_test18[:,1,:],X_test18[:,0,:]) / np.pi\n",
        "    \n",
        "X_amp = np.reshape(X_amp,(-1,1,128))\n",
        "X_ang = np.reshape(X_ang,(-1,1,128))\n",
        "    \n",
        "X_test18_AmpPhs = np.concatenate((X_amp,X_ang), axis=1) \n",
        "##\n",
        "\n",
        "print(X_train_AmpPhs.shape)\n",
        "print(X_test18_AmpPhs.shape)\n",
        "\n",
        "\n",
        "from sklearn.preprocessing import StandardScaler\n",
        "sc = StandardScaler()\n",
        "X_train = X_train.reshape([X_train.shape[0],256])\n",
        "#X_train = X_train_AmpPhs.reshape([X_train.shape[0],256])\n",
        "X_train = sc.fit_transform(X_train)\n",
        "X_train = X_train.reshape([X_train.shape[0],2,128])\n",
        "#X_test = X_test.reshape([1600,256])\n",
        "X_test18 = X_test18.reshape([X_test18.shape[0],256])\n",
        "#X_test18 = X_test18_AmpPhs.reshape([X_test18.shape[0],256])\n",
        "X_test18 = sc.transform(X_test18)\n",
        "X_test18 = X_test18.reshape([X_test18.shape[0],2,128])\n",
        "\n",
        "# Reshape\n",
        "X_train = X_train.reshape(-1,2, 128, 1)   #Reshape for CNN -  (6400,2,128)->(6400,2,128,1)!!\n",
        "X_test18 = X_test18.reshape(-1,2, 128, 1)\n",
        "\n",
        "print(X_train.shape)\n",
        "print(X_test18.shape)"
      ],
      "execution_count": 2,
      "outputs": [
        {
          "output_type": "stream",
          "text": [
            "loaded 160000 signal vectors into X(160000, 2, 128) and their corresponding labels into labels(160000, 2)\n"
          ],
          "name": "stdout"
        },
        {
          "output_type": "stream",
          "text": [
            "/usr/local/lib/python3.6/dist-packages/sklearn/preprocessing/_encoders.py:415: FutureWarning: The handling of integer data will change in version 0.22. Currently, the categories are determined based on the range [0, max(values)], while in the future they will be determined based on the unique values.\n",
            "If you want the future behaviour and silence this warning, you can specify \"categories='auto'\".\n",
            "In case you used a LabelEncoder before this OneHotEncoder to convert the categories to integers, then you can now use the OneHotEncoder directly.\n",
            "  warnings.warn(msg, FutureWarning)\n"
          ],
          "name": "stderr"
        },
        {
          "output_type": "stream",
          "text": [
            "SNR : 18\n",
            "(160000, 2, 129)\n",
            "(128000, 2, 129)\n",
            "(32000, 2, 129)\n",
            "(128000, 2, 128)\n",
            "(1653, 2, 128)\n",
            "(128000, 2, 128)\n",
            "(1653, 2, 128)\n",
            "(128000, 2, 128, 1)\n",
            "(1653, 2, 128, 1)\n"
          ],
          "name": "stdout"
        }
      ]
    },
    {
      "cell_type": "markdown",
      "metadata": {
        "id": "LjRc5Od_a119",
        "colab_type": "text"
      },
      "source": [
        "## Import Module"
      ]
    },
    {
      "cell_type": "code",
      "metadata": {
        "id": "x9wXGX95LU7H",
        "colab_type": "code",
        "outputId": "db841c53-b638-4840-c31a-2ad1a298a077",
        "colab": {
          "base_uri": "https://localhost:8080/",
          "height": 34
        }
      },
      "source": [
        "import keras\n",
        "from keras.models import Sequential\n",
        "from keras.models import Model\n",
        "from keras.layers import Conv2D\n",
        "from keras.layers import MaxPooling2D\n",
        "from keras.layers import Flatten\n",
        "from keras.layers import Dense\n",
        "from keras.layers import Dropout\n",
        "from keras.layers import Input\n",
        "from keras.layers import concatenate\n",
        "from keras.layers.convolutional import ZeroPadding2D"
      ],
      "execution_count": 3,
      "outputs": [
        {
          "output_type": "stream",
          "text": [
            "Using TensorFlow backend.\n"
          ],
          "name": "stderr"
        }
      ]
    },
    {
      "cell_type": "markdown",
      "metadata": {
        "id": "xOQT_CfYoGLH",
        "colab_type": "text"
      },
      "source": [
        "#Making Inception0 model"
      ]
    },
    {
      "cell_type": "code",
      "metadata": {
        "colab_type": "code",
        "id": "5gKNTKuRoAVh",
        "outputId": "2879ecd4-527e-4523-a6d5-d0de020674cb",
        "colab": {
          "base_uri": "https://localhost:8080/",
          "height": 773
        }
      },
      "source": [
        "dout = 0.5\n",
        "\n",
        "modelInput = Input(shape=(2,128,1))\n",
        "\n",
        "x1 = Conv2D(filters = 64,kernel_size = (1,1), padding='same', activation = 'relu')(modelInput)\n",
        "x1 = Dropout(rate=dout)(x1)\n",
        "x1 = Conv2D(filters = 64,kernel_size = (2,7), padding='same', activation = 'relu')(x1)\n",
        "x1 = Dropout(rate=dout)(x1)\n",
        "\n",
        "x2 = Conv2D(filters = 64,kernel_size = (1,1), padding='same', activation = 'relu')(modelInput)\n",
        "x2 = Dropout(rate=dout)(x2)\n",
        "x2 = Conv2D(filters = 64,kernel_size = (1,3), padding='same', activation = 'relu')(x2)\n",
        "x2 = Dropout(rate=dout)(x2)\n",
        "\n",
        "x3 = Conv2D(filters = 64,kernel_size = (1,1), padding='same', activation = 'relu')(modelInput)\n",
        "x3 = Dropout(rate=dout)(x3)\n",
        "\n",
        "concat = concatenate([x1, x2, x3])\n",
        "\n",
        "x4 = Flatten()(concat)\n",
        "\n",
        "x5 = Dense(output_dim = 128 , activation = 'relu')(x4)\n",
        "x5 = Dropout(rate=dout)(x5)\n",
        "\n",
        "out = Dense(output_dim = 8 , activation = 'softmax')(x5)\n",
        "\n",
        "classifier = Model(inputs = modelInput, outputs = out)\n",
        "\n",
        "classifier.summary()\n",
        "\n",
        "classifier.compile(optimizer = 'adam', loss = 'categorical_crossentropy', metrics = ['accuracy'])\n",
        "#logger = keras.callbacks.TensorBoard(log_dir=\"./logs\", write_graph=True, histogram_freq=0)\n",
        "\n",
        "print(\"Model Created!\")\n",
        "\n",
        "#logger = keras.callbacks.TensorBoard(log_dir=\"logs\", write_graph=True, histogram_freq=5)\n"
      ],
      "execution_count": 18,
      "outputs": [
        {
          "output_type": "stream",
          "text": [
            "Model: \"model_4\"\n",
            "__________________________________________________________________________________________________\n",
            "Layer (type)                    Output Shape         Param #     Connected to                     \n",
            "==================================================================================================\n",
            "input_4 (InputLayer)            (None, 2, 128, 1)    0                                            \n",
            "__________________________________________________________________________________________________\n",
            "conv2d_16 (Conv2D)              (None, 2, 128, 64)   128         input_4[0][0]                    \n",
            "__________________________________________________________________________________________________\n",
            "conv2d_18 (Conv2D)              (None, 2, 128, 64)   128         input_4[0][0]                    \n",
            "__________________________________________________________________________________________________\n",
            "dropout_19 (Dropout)            (None, 2, 128, 64)   0           conv2d_16[0][0]                  \n",
            "__________________________________________________________________________________________________\n",
            "dropout_21 (Dropout)            (None, 2, 128, 64)   0           conv2d_18[0][0]                  \n",
            "__________________________________________________________________________________________________\n",
            "conv2d_17 (Conv2D)              (None, 2, 128, 64)   57408       dropout_19[0][0]                 \n",
            "__________________________________________________________________________________________________\n",
            "conv2d_19 (Conv2D)              (None, 2, 128, 64)   12352       dropout_21[0][0]                 \n",
            "__________________________________________________________________________________________________\n",
            "conv2d_20 (Conv2D)              (None, 2, 128, 64)   128         input_4[0][0]                    \n",
            "__________________________________________________________________________________________________\n",
            "dropout_20 (Dropout)            (None, 2, 128, 64)   0           conv2d_17[0][0]                  \n",
            "__________________________________________________________________________________________________\n",
            "dropout_22 (Dropout)            (None, 2, 128, 64)   0           conv2d_19[0][0]                  \n",
            "__________________________________________________________________________________________________\n",
            "dropout_23 (Dropout)            (None, 2, 128, 64)   0           conv2d_20[0][0]                  \n",
            "__________________________________________________________________________________________________\n",
            "concatenate_4 (Concatenate)     (None, 2, 128, 192)  0           dropout_20[0][0]                 \n",
            "                                                                 dropout_22[0][0]                 \n",
            "                                                                 dropout_23[0][0]                 \n",
            "__________________________________________________________________________________________________\n",
            "flatten_4 (Flatten)             (None, 49152)        0           concatenate_4[0][0]              \n",
            "__________________________________________________________________________________________________\n",
            "dense_7 (Dense)                 (None, 128)          6291584     flatten_4[0][0]                  \n",
            "__________________________________________________________________________________________________\n",
            "dropout_24 (Dropout)            (None, 128)          0           dense_7[0][0]                    \n",
            "__________________________________________________________________________________________________\n",
            "dense_8 (Dense)                 (None, 8)            1032        dropout_24[0][0]                 \n",
            "==================================================================================================\n",
            "Total params: 6,362,760\n",
            "Trainable params: 6,362,760\n",
            "Non-trainable params: 0\n",
            "__________________________________________________________________________________________________\n",
            "Model Created!\n"
          ],
          "name": "stdout"
        },
        {
          "output_type": "stream",
          "text": [
            "/usr/local/lib/python3.6/dist-packages/ipykernel_launcher.py:22: UserWarning: Update your `Dense` call to the Keras 2 API: `Dense(activation=\"relu\", units=128)`\n",
            "/usr/local/lib/python3.6/dist-packages/ipykernel_launcher.py:25: UserWarning: Update your `Dense` call to the Keras 2 API: `Dense(activation=\"softmax\", units=8)`\n"
          ],
          "name": "stderr"
        }
      ]
    },
    {
      "cell_type": "markdown",
      "metadata": {
        "id": "sRg6jbubPByx",
        "colab_type": "text"
      },
      "source": [
        "#Making Inception1 model\n"
      ]
    },
    {
      "cell_type": "code",
      "metadata": {
        "id": "d9dFy8pXO9Lj",
        "colab_type": "code",
        "colab": {
          "base_uri": "https://localhost:8080/",
          "height": 1000
        },
        "outputId": "cd054546-8d37-42ee-b99a-a83b97e02169"
      },
      "source": [
        "dout = 0.5\n",
        "\n",
        "modelInput = Input(shape=(2,128,1))\n",
        "\n",
        "x1 = Conv2D(filters = 64,kernel_size = (1,1), padding='same', activation = 'relu')(modelInput)\n",
        "x1 = Dropout(rate=dout)(x1)\n",
        "x1 = Conv2D(filters = 64,kernel_size = (1,7), padding='same', activation = 'relu')(x1)\n",
        "x1 = Dropout(rate=dout)(x1)\n",
        "\n",
        "x2 = Conv2D(filters = 64,kernel_size = (1,1), padding='same', activation = 'relu')(modelInput)\n",
        "x2 = Dropout(rate=dout)(x2)\n",
        "x2 = Conv2D(filters = 64,kernel_size = (2,3), padding='same', activation = 'relu')(x2)\n",
        "x2 = Dropout(rate=dout)(x2)\n",
        "\n",
        "x3 = Conv2D(filters = 64,kernel_size = (1,1), padding='same', activation = 'relu')(modelInput)\n",
        "x3 = Dropout(rate=dout)(x3)\n",
        "\n",
        "concat1 = concatenate([x1, x2, x3])\n",
        "\n",
        "\n",
        "x4 = Conv2D(filters = 64,kernel_size = (1,1), padding='same', activation = 'relu')(concat1)\n",
        "x4 = Dropout(rate=dout)(x4)\n",
        "x4 = Conv2D(filters = 64,kernel_size = (1,7), padding='same', activation = 'relu')(x4)\n",
        "x4 = Dropout(rate=dout)(x4)\n",
        "\n",
        "x5 = Conv2D(filters = 64,kernel_size = (1,1), padding='same', activation = 'relu')(concat1)\n",
        "x5 = Dropout(rate=dout)(x5)\n",
        "x5 = Conv2D(filters = 64,kernel_size = (2,3), padding='same', activation = 'relu')(x5)\n",
        "x5 = Dropout(rate=dout)(x5)\n",
        "\n",
        "x6 = Conv2D(filters = 64,kernel_size = (1,1), padding='same', activation = 'relu')(concat1)\n",
        "x6 = Dropout(rate=dout)(x6)\n",
        "\n",
        "concat2 = concatenate([x4, x5, x6])\n",
        "\n",
        "x7 = Flatten()(concat2)\n",
        "\n",
        "x8 = Dense(output_dim = 128 , activation = 'relu')(x7)\n",
        "x8 = Dropout(rate=dout)(x8)\n",
        "\n",
        "out = Dense(output_dim = 8 , activation = 'softmax')(x8)\n",
        "\n",
        "classifier = Model(inputs = modelInput, outputs = out)\n",
        "\n",
        "classifier.summary()\n",
        "\n",
        "classifier.compile(optimizer = 'adam', loss = 'categorical_crossentropy', metrics = ['accuracy'])\n",
        "#logger = keras.callbacks.TensorBoard(log_dir=\"./logs\", write_graph=True, histogram_freq=0)\n",
        "\n",
        "print(\"Model Created!\")\n",
        "\n",
        "#logger = keras.callbacks.TensorBoard(log_dir=\"logs\", write_graph=True, histogram_freq=5)\n"
      ],
      "execution_count": 25,
      "outputs": [
        {
          "output_type": "stream",
          "text": [
            "Model: \"model_7\"\n",
            "__________________________________________________________________________________________________\n",
            "Layer (type)                    Output Shape         Param #     Connected to                     \n",
            "==================================================================================================\n",
            "input_7 (InputLayer)            (None, 2, 128, 1)    0                                            \n",
            "__________________________________________________________________________________________________\n",
            "conv2d_41 (Conv2D)              (None, 2, 128, 64)   128         input_7[0][0]                    \n",
            "__________________________________________________________________________________________________\n",
            "conv2d_43 (Conv2D)              (None, 2, 128, 64)   128         input_7[0][0]                    \n",
            "__________________________________________________________________________________________________\n",
            "dropout_47 (Dropout)            (None, 2, 128, 64)   0           conv2d_41[0][0]                  \n",
            "__________________________________________________________________________________________________\n",
            "dropout_49 (Dropout)            (None, 2, 128, 64)   0           conv2d_43[0][0]                  \n",
            "__________________________________________________________________________________________________\n",
            "conv2d_42 (Conv2D)              (None, 2, 128, 64)   28736       dropout_47[0][0]                 \n",
            "__________________________________________________________________________________________________\n",
            "conv2d_44 (Conv2D)              (None, 2, 128, 64)   24640       dropout_49[0][0]                 \n",
            "__________________________________________________________________________________________________\n",
            "conv2d_45 (Conv2D)              (None, 2, 128, 64)   128         input_7[0][0]                    \n",
            "__________________________________________________________________________________________________\n",
            "dropout_48 (Dropout)            (None, 2, 128, 64)   0           conv2d_42[0][0]                  \n",
            "__________________________________________________________________________________________________\n",
            "dropout_50 (Dropout)            (None, 2, 128, 64)   0           conv2d_44[0][0]                  \n",
            "__________________________________________________________________________________________________\n",
            "dropout_51 (Dropout)            (None, 2, 128, 64)   0           conv2d_45[0][0]                  \n",
            "__________________________________________________________________________________________________\n",
            "concatenate_9 (Concatenate)     (None, 2, 128, 192)  0           dropout_48[0][0]                 \n",
            "                                                                 dropout_50[0][0]                 \n",
            "                                                                 dropout_51[0][0]                 \n",
            "__________________________________________________________________________________________________\n",
            "conv2d_46 (Conv2D)              (None, 2, 128, 64)   12352       concatenate_9[0][0]              \n",
            "__________________________________________________________________________________________________\n",
            "conv2d_48 (Conv2D)              (None, 2, 128, 64)   12352       concatenate_9[0][0]              \n",
            "__________________________________________________________________________________________________\n",
            "dropout_52 (Dropout)            (None, 2, 128, 64)   0           conv2d_46[0][0]                  \n",
            "__________________________________________________________________________________________________\n",
            "dropout_54 (Dropout)            (None, 2, 128, 64)   0           conv2d_48[0][0]                  \n",
            "__________________________________________________________________________________________________\n",
            "conv2d_47 (Conv2D)              (None, 2, 128, 64)   28736       dropout_52[0][0]                 \n",
            "__________________________________________________________________________________________________\n",
            "conv2d_49 (Conv2D)              (None, 2, 128, 64)   24640       dropout_54[0][0]                 \n",
            "__________________________________________________________________________________________________\n",
            "conv2d_50 (Conv2D)              (None, 2, 128, 64)   12352       concatenate_9[0][0]              \n",
            "__________________________________________________________________________________________________\n",
            "dropout_53 (Dropout)            (None, 2, 128, 64)   0           conv2d_47[0][0]                  \n",
            "__________________________________________________________________________________________________\n",
            "dropout_55 (Dropout)            (None, 2, 128, 64)   0           conv2d_49[0][0]                  \n",
            "__________________________________________________________________________________________________\n",
            "dropout_56 (Dropout)            (None, 2, 128, 64)   0           conv2d_50[0][0]                  \n",
            "__________________________________________________________________________________________________\n",
            "concatenate_10 (Concatenate)    (None, 2, 128, 192)  0           dropout_53[0][0]                 \n",
            "                                                                 dropout_55[0][0]                 \n",
            "                                                                 dropout_56[0][0]                 \n",
            "__________________________________________________________________________________________________\n",
            "flatten_7 (Flatten)             (None, 49152)        0           concatenate_10[0][0]             \n",
            "__________________________________________________________________________________________________\n",
            "dense_13 (Dense)                (None, 128)          6291584     flatten_7[0][0]                  \n",
            "__________________________________________________________________________________________________\n",
            "dropout_57 (Dropout)            (None, 128)          0           dense_13[0][0]                   \n",
            "__________________________________________________________________________________________________\n",
            "dense_14 (Dense)                (None, 8)            1032        dropout_57[0][0]                 \n",
            "==================================================================================================\n",
            "Total params: 6,436,808\n",
            "Trainable params: 6,436,808\n",
            "Non-trainable params: 0\n",
            "__________________________________________________________________________________________________\n",
            "Model Created!\n"
          ],
          "name": "stdout"
        },
        {
          "output_type": "stream",
          "text": [
            "/usr/local/lib/python3.6/dist-packages/ipykernel_launcher.py:38: UserWarning: Update your `Dense` call to the Keras 2 API: `Dense(activation=\"relu\", units=128)`\n",
            "/usr/local/lib/python3.6/dist-packages/ipykernel_launcher.py:41: UserWarning: Update your `Dense` call to the Keras 2 API: `Dense(activation=\"softmax\", units=8)`\n"
          ],
          "name": "stderr"
        }
      ]
    },
    {
      "cell_type": "markdown",
      "metadata": {
        "id": "ct6SfO0K3RPR",
        "colab_type": "text"
      },
      "source": [
        "# Fitting model"
      ]
    },
    {
      "cell_type": "code",
      "metadata": {
        "id": "fTK9sEg7uiRA",
        "colab_type": "code",
        "outputId": "a18024a6-1ee1-4dbf-9597-3d19b12c1fb5",
        "colab": {
          "base_uri": "https://localhost:8080/",
          "height": 1000
        }
      },
      "source": [
        "batch = 1024\n",
        "epoch = 100\n",
        "\n",
        "history = classifier.fit(X_train, y_train, batch_size = batch, epochs = epoch, validation_data=(X_test18, y_test18))\n",
        "#history = classifier.fit(X_train, y_train, batch_size = batch, epochs = epoch)"
      ],
      "execution_count": 0,
      "outputs": [
        {
          "output_type": "stream",
          "text": [
            "Train on 128000 samples, validate on 1653 samples\n",
            "Epoch 1/100\n",
            "128000/128000 [==============================] - 58s 453us/step - loss: 2.0493 - acc: 0.1589 - val_loss: 1.8709 - val_acc: 0.2154\n",
            "Epoch 2/100\n",
            "128000/128000 [==============================] - 56s 436us/step - loss: 1.9531 - acc: 0.1819 - val_loss: 1.8288 - val_acc: 0.2275\n",
            "Epoch 3/100\n",
            "128000/128000 [==============================] - 56s 435us/step - loss: 1.9362 - acc: 0.1854 - val_loss: 1.7952 - val_acc: 0.2305\n",
            "Epoch 4/100\n",
            "128000/128000 [==============================] - 56s 437us/step - loss: 1.9284 - acc: 0.1872 - val_loss: 1.7677 - val_acc: 0.2359\n",
            "Epoch 5/100\n",
            "128000/128000 [==============================] - 56s 438us/step - loss: 1.9234 - acc: 0.1856 - val_loss: 1.7626 - val_acc: 0.2299\n",
            "Epoch 6/100\n",
            "128000/128000 [==============================] - 56s 436us/step - loss: 1.9173 - acc: 0.1907 - val_loss: 1.7458 - val_acc: 0.2269\n",
            "Epoch 7/100\n",
            "128000/128000 [==============================] - 56s 437us/step - loss: 1.9112 - acc: 0.1943 - val_loss: 1.7356 - val_acc: 0.2281\n",
            "Epoch 8/100\n",
            "128000/128000 [==============================] - 56s 437us/step - loss: 1.9098 - acc: 0.1971 - val_loss: 1.7252 - val_acc: 0.2347\n",
            "Epoch 9/100\n",
            "128000/128000 [==============================] - 56s 436us/step - loss: 1.9044 - acc: 0.1994 - val_loss: 1.7190 - val_acc: 0.2347\n",
            "Epoch 10/100\n",
            "128000/128000 [==============================] - 56s 437us/step - loss: 1.9017 - acc: 0.2009 - val_loss: 1.7104 - val_acc: 0.2347\n",
            "Epoch 11/100\n",
            "128000/128000 [==============================] - 56s 438us/step - loss: 1.8940 - acc: 0.2029 - val_loss: 1.5836 - val_acc: 0.3454\n",
            "Epoch 12/100\n",
            "128000/128000 [==============================] - 56s 437us/step - loss: 1.8060 - acc: 0.2574 - val_loss: 1.3220 - val_acc: 0.4283\n",
            "Epoch 13/100\n",
            "128000/128000 [==============================] - 56s 437us/step - loss: 1.7321 - acc: 0.2917 - val_loss: 1.2044 - val_acc: 0.4537\n",
            "Epoch 14/100\n",
            "128000/128000 [==============================] - 56s 436us/step - loss: 1.6833 - acc: 0.3146 - val_loss: 1.1071 - val_acc: 0.5197\n",
            "Epoch 15/100\n",
            "128000/128000 [==============================] - 56s 438us/step - loss: 1.6128 - acc: 0.3458 - val_loss: 1.0459 - val_acc: 0.5372\n",
            "Epoch 16/100\n",
            "128000/128000 [==============================] - 56s 437us/step - loss: 1.5660 - acc: 0.3664 - val_loss: 0.9597 - val_acc: 0.6104\n",
            "Epoch 17/100\n",
            "128000/128000 [==============================] - 56s 435us/step - loss: 1.5307 - acc: 0.3878 - val_loss: 0.7892 - val_acc: 0.7399\n",
            "Epoch 18/100\n",
            "128000/128000 [==============================] - 56s 436us/step - loss: 1.4656 - acc: 0.4186 - val_loss: 0.6845 - val_acc: 0.7272\n",
            "Epoch 19/100\n",
            "128000/128000 [==============================] - 56s 436us/step - loss: 1.4377 - acc: 0.4285 - val_loss: 0.6702 - val_acc: 0.7514\n",
            "Epoch 20/100\n",
            "128000/128000 [==============================] - 56s 436us/step - loss: 1.4229 - acc: 0.4333 - val_loss: 0.6595 - val_acc: 0.7405\n",
            "Epoch 21/100\n",
            "128000/128000 [==============================] - 56s 437us/step - loss: 1.4126 - acc: 0.4361 - val_loss: 0.6268 - val_acc: 0.7550\n",
            "Epoch 22/100\n",
            "128000/128000 [==============================] - 56s 436us/step - loss: 1.4059 - acc: 0.4368 - val_loss: 0.6195 - val_acc: 0.7411\n",
            "Epoch 23/100\n",
            "128000/128000 [==============================] - 56s 435us/step - loss: 1.3976 - acc: 0.4392 - val_loss: 0.6113 - val_acc: 0.7465\n",
            "Epoch 24/100\n",
            "128000/128000 [==============================] - 56s 436us/step - loss: 1.3939 - acc: 0.4402 - val_loss: 0.6066 - val_acc: 0.7417\n",
            "Epoch 25/100\n",
            "128000/128000 [==============================] - 56s 435us/step - loss: 1.3895 - acc: 0.4425 - val_loss: 0.6072 - val_acc: 0.7580\n",
            "Epoch 26/100\n",
            "128000/128000 [==============================] - 56s 435us/step - loss: 1.3819 - acc: 0.4467 - val_loss: 0.5954 - val_acc: 0.7804\n",
            "Epoch 27/100\n",
            "128000/128000 [==============================] - 56s 436us/step - loss: 1.3774 - acc: 0.4467 - val_loss: 0.5880 - val_acc: 0.7689\n",
            "Epoch 28/100\n",
            "128000/128000 [==============================] - 56s 436us/step - loss: 1.3732 - acc: 0.4488 - val_loss: 0.5890 - val_acc: 0.7701\n",
            "Epoch 29/100\n",
            "128000/128000 [==============================] - 56s 437us/step - loss: 1.3712 - acc: 0.4494 - val_loss: 0.5708 - val_acc: 0.7641\n",
            "Epoch 30/100\n",
            "128000/128000 [==============================] - 56s 438us/step - loss: 1.3514 - acc: 0.4563 - val_loss: 0.5453 - val_acc: 0.7877\n",
            "Epoch 31/100\n",
            "128000/128000 [==============================] - 56s 436us/step - loss: 1.3423 - acc: 0.4584 - val_loss: 0.5288 - val_acc: 0.7780\n",
            "Epoch 32/100\n",
            "128000/128000 [==============================] - 56s 437us/step - loss: 1.3341 - acc: 0.4634 - val_loss: 0.5297 - val_acc: 0.8058\n",
            "Epoch 33/100\n",
            "128000/128000 [==============================] - 56s 436us/step - loss: 1.3320 - acc: 0.4641 - val_loss: 0.5279 - val_acc: 0.7858\n",
            "Epoch 34/100\n",
            "128000/128000 [==============================] - 56s 436us/step - loss: 1.3215 - acc: 0.4656 - val_loss: 0.4273 - val_acc: 0.7792\n",
            "Epoch 35/100\n",
            "128000/128000 [==============================] - 56s 437us/step - loss: 1.2903 - acc: 0.4682 - val_loss: 0.4261 - val_acc: 0.7979\n",
            "Epoch 36/100\n",
            "128000/128000 [==============================] - 56s 436us/step - loss: 1.2738 - acc: 0.4725 - val_loss: 0.4102 - val_acc: 0.8106\n",
            "Epoch 37/100\n",
            "128000/128000 [==============================] - 56s 436us/step - loss: 1.2681 - acc: 0.4743 - val_loss: 0.4185 - val_acc: 0.7979\n",
            "Epoch 38/100\n",
            "128000/128000 [==============================] - 56s 437us/step - loss: 1.2556 - acc: 0.4787 - val_loss: 0.4100 - val_acc: 0.7647\n",
            "Epoch 39/100\n",
            "128000/128000 [==============================] - 56s 437us/step - loss: 1.2525 - acc: 0.4824 - val_loss: 0.4074 - val_acc: 0.8215\n",
            "Epoch 40/100\n",
            "128000/128000 [==============================] - 56s 437us/step - loss: 1.2378 - acc: 0.4887 - val_loss: 0.3954 - val_acc: 0.7919\n",
            "Epoch 41/100\n",
            "128000/128000 [==============================] - 56s 438us/step - loss: 1.2347 - acc: 0.4892 - val_loss: 0.3864 - val_acc: 0.8076\n",
            "Epoch 42/100\n",
            "128000/128000 [==============================] - 56s 437us/step - loss: 1.2340 - acc: 0.4922 - val_loss: 0.3966 - val_acc: 0.8294\n",
            "Epoch 43/100\n",
            "128000/128000 [==============================] - 56s 437us/step - loss: 1.2236 - acc: 0.4950 - val_loss: 0.3814 - val_acc: 0.8173\n",
            "Epoch 44/100\n",
            "128000/128000 [==============================] - 56s 437us/step - loss: 1.2100 - acc: 0.5013 - val_loss: 0.3737 - val_acc: 0.8149\n",
            "Epoch 45/100\n",
            "128000/128000 [==============================] - 56s 437us/step - loss: 1.1968 - acc: 0.5021 - val_loss: 0.3503 - val_acc: 0.8270\n",
            "Epoch 46/100\n",
            "128000/128000 [==============================] - 56s 436us/step - loss: 1.1822 - acc: 0.5078 - val_loss: 0.3501 - val_acc: 0.8306\n",
            "Epoch 47/100\n",
            "128000/128000 [==============================] - 56s 436us/step - loss: 1.1760 - acc: 0.5109 - val_loss: 0.3441 - val_acc: 0.8270\n",
            "Epoch 48/100\n",
            "128000/128000 [==============================] - 56s 436us/step - loss: 1.1654 - acc: 0.5157 - val_loss: 0.3383 - val_acc: 0.8294\n",
            "Epoch 49/100\n",
            "128000/128000 [==============================] - 56s 437us/step - loss: 1.1594 - acc: 0.5160 - val_loss: 0.3233 - val_acc: 0.8421\n",
            "Epoch 50/100\n",
            "128000/128000 [==============================] - 56s 437us/step - loss: 1.1483 - acc: 0.5196 - val_loss: 0.3253 - val_acc: 0.8361\n",
            "Epoch 51/100\n",
            "128000/128000 [==============================] - 56s 437us/step - loss: 1.1448 - acc: 0.5229 - val_loss: 0.3156 - val_acc: 0.8391\n",
            "Epoch 52/100\n",
            "128000/128000 [==============================] - 56s 436us/step - loss: 1.1376 - acc: 0.5247 - val_loss: 0.3265 - val_acc: 0.8385\n",
            "Epoch 53/100\n",
            "128000/128000 [==============================] - 56s 437us/step - loss: 1.1344 - acc: 0.5261 - val_loss: 0.3055 - val_acc: 0.8469\n",
            "Epoch 54/100\n",
            "128000/128000 [==============================] - 56s 436us/step - loss: 1.1329 - acc: 0.5264 - val_loss: 0.3094 - val_acc: 0.8445\n",
            "Epoch 55/100\n",
            "128000/128000 [==============================] - 56s 436us/step - loss: 1.1322 - acc: 0.5260 - val_loss: 0.3095 - val_acc: 0.8342\n",
            "Epoch 56/100\n",
            "128000/128000 [==============================] - 56s 437us/step - loss: 1.1285 - acc: 0.5297 - val_loss: 0.3017 - val_acc: 0.8361\n",
            "Epoch 57/100\n",
            "128000/128000 [==============================] - 56s 438us/step - loss: 1.1261 - acc: 0.5274 - val_loss: 0.2957 - val_acc: 0.8512\n",
            "Epoch 58/100\n",
            "128000/128000 [==============================] - 56s 436us/step - loss: 1.1232 - acc: 0.5302 - val_loss: 0.2923 - val_acc: 0.8391\n",
            "Epoch 59/100\n",
            "128000/128000 [==============================] - 56s 437us/step - loss: 1.1196 - acc: 0.5308 - val_loss: 0.2887 - val_acc: 0.8421\n",
            "Epoch 60/100\n",
            "128000/128000 [==============================] - 56s 437us/step - loss: 1.1181 - acc: 0.5308 - val_loss: 0.2960 - val_acc: 0.8348\n",
            "Epoch 61/100\n",
            "128000/128000 [==============================] - 56s 437us/step - loss: 1.1128 - acc: 0.5337 - val_loss: 0.2961 - val_acc: 0.8433\n",
            "Epoch 62/100\n",
            "128000/128000 [==============================] - 56s 436us/step - loss: 1.1097 - acc: 0.5323 - val_loss: 0.2843 - val_acc: 0.8506\n",
            "Epoch 63/100\n",
            "128000/128000 [==============================] - 55s 433us/step - loss: 1.1091 - acc: 0.5344 - val_loss: 0.2790 - val_acc: 0.8584\n",
            "Epoch 64/100\n",
            "128000/128000 [==============================] - 56s 436us/step - loss: 1.1099 - acc: 0.5346 - val_loss: 0.2815 - val_acc: 0.8566\n",
            "Epoch 65/100\n",
            "128000/128000 [==============================] - 56s 437us/step - loss: 1.1080 - acc: 0.5340 - val_loss: 0.2720 - val_acc: 0.8542\n",
            "Epoch 66/100\n",
            "128000/128000 [==============================] - 56s 438us/step - loss: 1.1042 - acc: 0.5341 - val_loss: 0.2891 - val_acc: 0.8463\n",
            "Epoch 67/100\n",
            "128000/128000 [==============================] - 56s 436us/step - loss: 1.1007 - acc: 0.5363 - val_loss: 0.2802 - val_acc: 0.8590\n",
            "Epoch 68/100\n",
            "128000/128000 [==============================] - 56s 437us/step - loss: 1.0983 - acc: 0.5353 - val_loss: 0.2761 - val_acc: 0.8475\n",
            "Epoch 69/100\n",
            "128000/128000 [==============================] - 56s 436us/step - loss: 1.0956 - acc: 0.5363 - val_loss: 0.2700 - val_acc: 0.8548\n",
            "Epoch 70/100\n",
            "128000/128000 [==============================] - 56s 437us/step - loss: 1.0970 - acc: 0.5352 - val_loss: 0.2743 - val_acc: 0.8482\n",
            "Epoch 71/100\n",
            "128000/128000 [==============================] - 56s 437us/step - loss: 1.0912 - acc: 0.5383 - val_loss: 0.2721 - val_acc: 0.8578\n",
            "Epoch 72/100\n",
            "128000/128000 [==============================] - 56s 437us/step - loss: 1.0910 - acc: 0.5370 - val_loss: 0.2619 - val_acc: 0.8548\n",
            "Epoch 73/100\n",
            "128000/128000 [==============================] - 56s 436us/step - loss: 1.0900 - acc: 0.5386 - val_loss: 0.2667 - val_acc: 0.8530\n",
            "Epoch 74/100\n",
            "128000/128000 [==============================] - 56s 437us/step - loss: 1.0875 - acc: 0.5387 - val_loss: 0.2681 - val_acc: 0.8536\n",
            "Epoch 75/100\n",
            "128000/128000 [==============================] - 56s 437us/step - loss: 1.0862 - acc: 0.5394 - val_loss: 0.2576 - val_acc: 0.8596\n",
            "Epoch 76/100\n",
            "128000/128000 [==============================] - 56s 435us/step - loss: 1.0837 - acc: 0.5382 - val_loss: 0.2627 - val_acc: 0.8494\n",
            "Epoch 77/100\n",
            "128000/128000 [==============================] - 56s 435us/step - loss: 1.0838 - acc: 0.5384 - val_loss: 0.2551 - val_acc: 0.8512\n",
            "Epoch 78/100\n",
            "128000/128000 [==============================] - 56s 437us/step - loss: 1.0798 - acc: 0.5392 - val_loss: 0.2552 - val_acc: 0.8530\n",
            "Epoch 79/100\n",
            "128000/128000 [==============================] - 56s 437us/step - loss: 1.0763 - acc: 0.5410 - val_loss: 0.2601 - val_acc: 0.8475\n",
            "Epoch 80/100\n",
            " 66560/128000 [==============>...............] - ETA: 26s - loss: 1.0784 - acc: 0.5394"
          ],
          "name": "stdout"
        }
      ]
    },
    {
      "cell_type": "markdown",
      "metadata": {
        "id": "OVFgwssVfxtd",
        "colab_type": "text"
      },
      "source": [
        "# Save model"
      ]
    },
    {
      "cell_type": "code",
      "metadata": {
        "id": "fKe0m_39HiWU",
        "colab_type": "code",
        "outputId": "1babd5b3-3d56-4994-b738-1934d8e95544",
        "colab": {
          "base_uri": "https://localhost:8080/",
          "height": 34
        }
      },
      "source": [
        "dic = \"/content/drive/My Drive/Colab Notebooks/\"\n",
        "classifier.save(dic+f'SaveModel/Inception-64(1,3)-64(2,7)-64(1,1)-ba{batch}-ep{epoch}-(dout=0.5)-input(IQ)(SNR=all).h5')\n",
        "f = open(dic+f'SaveModel/Inception-64(1,3)-64(2,7)-64(1,1)-ba{batch}-ep{epoch}-(dout=0.5)-input(IQ)(SNR=all)-history.txt',\"w\")\n",
        "f.write( str(classifier.history.history) )\n",
        "f.close()\n",
        "\n",
        "print('Model Saved!')"
      ],
      "execution_count": 20,
      "outputs": [
        {
          "output_type": "stream",
          "text": [
            "Model Saved!\n"
          ],
          "name": "stdout"
        }
      ]
    },
    {
      "cell_type": "markdown",
      "metadata": {
        "colab_type": "text",
        "id": "WPUQvSEust2O"
      },
      "source": [
        "\n",
        "# Prediction(only SNR=18)"
      ]
    },
    {
      "cell_type": "code",
      "metadata": {
        "colab_type": "code",
        "id": "L-BjyTtcst2U",
        "colab": {}
      },
      "source": [
        "y_pred = classifier.predict(X_test18)\n",
        "y_pred = np.argmax(y_pred, axis=1)\n",
        "\n",
        "y_real = np.argmax(y_test18, axis=1)\n",
        "# Making the Confusion Matrix\n",
        "from sklearn.metrics import confusion_matrix\n",
        "cm = confusion_matrix(y_real, y_pred)\n",
        "cm_norm = cm.astype('float') / cm.sum(axis=1)[:, np.newaxis]\n",
        "\n",
        "acc_test = classifier.evaluate(X_test18, y_test18)[1]\n",
        "acc_train = classifier.evaluate(X_train, y_train)[1]\n",
        "\n",
        "print(\"Acc Test : \", acc_test)\n",
        "print(\"Acc Train : \", acc_train)\n"
      ],
      "execution_count": 0,
      "outputs": []
    },
    {
      "cell_type": "markdown",
      "metadata": {
        "colab_type": "text",
        "id": "VWMrLN4J0n8p"
      },
      "source": [
        "# Plot Confusion Matrix"
      ]
    },
    {
      "cell_type": "code",
      "metadata": {
        "id": "-6AbLWccANuo",
        "colab_type": "code",
        "colab": {
          "base_uri": "https://localhost:8080/",
          "height": 84
        },
        "outputId": "2f1287bc-61d2-42ec-e48d-65366d4b5794"
      },
      "source": [
        "import matplotlib.pyplot as plt\n",
        "import seaborn as sns\n",
        "from sklearn.metrics import confusion_matrix\n",
        "import pandas as pd\n",
        "\n",
        "modulation_order = []\n",
        "modulation_order_dict = dict()\n",
        "\n",
        "for key,value in output.items():\n",
        "    modulation_order_dict[np.argmax(value)] = str(key)\n",
        "    \n",
        "for i in range(8):\n",
        "    modulation_order.append(modulation_order_dict[i])\n",
        "    \n",
        "acc_test = classifier.evaluate(X_test18, y_test18)[1]\n",
        "acc_train = classifier.evaluate(X_train, y_train)[1]\n",
        "\n",
        "print(\"Acc Test : \", acc_test)\n",
        "print(\"Acc Train : \", acc_train)    "
      ],
      "execution_count": 12,
      "outputs": [
        {
          "output_type": "stream",
          "text": [
            "1653/1653 [==============================] - 1s 415us/step\n",
            "128000/128000 [==============================] - 19s 149us/step\n",
            "Acc Test :  0.8136721114569986\n",
            "Acc Train :  0.634125\n"
          ],
          "name": "stdout"
        }
      ]
    },
    {
      "cell_type": "code",
      "metadata": {
        "id": "Vv5RzFyj_Cj1",
        "colab_type": "code",
        "outputId": "dcf6c229-2cdb-42e1-8bb5-a95665c8918d",
        "colab": {
          "base_uri": "https://localhost:8080/",
          "height": 1000
        }
      },
      "source": [
        "dic = \"/content/drive/My Drive/Colab Notebooks/\"\n",
        "acc = []\n",
        "\n",
        "for snr in snrList:\n",
        "  print('SNR: ', snr)\n",
        "    \n",
        "  y_test_snr = []\n",
        "  X_test_snr = []\n",
        "  for i in range(X_test.shape[0]):\n",
        "    if X_test[i,0,0] == int(snr):\n",
        "      X_test_snr.append(X_test[i])\n",
        "      y_test_snr.append(y_test[i])\n",
        "        \n",
        "  X_test_snr = np.array(X_test_snr)\n",
        "  y_test_snr = np.array(y_test_snr)        \n",
        "  X_test_snr = X_test_snr[:,:,1:]\n",
        "  \n",
        "  X_test_snr = X_test_snr.reshape([X_test_snr.shape[0],256])\n",
        "  X_test_snr = sc.transform(X_test_snr)\n",
        "  X_test_snr = X_test_snr.reshape([X_test_snr.shape[0],2,128])\n",
        "  \n",
        "  X_test_snr = X_test_snr.reshape(-1,2, 128, 1) # For CNN\n",
        "    \n",
        "  acc_test = classifier.evaluate(X_test_snr, y_test_snr)[1]\n",
        "  acc.append(acc_test)\n",
        "  print(acc_test)\n",
        "  '''\n",
        "  y_pred = classifier.predict(X_test_snr)\n",
        "  y_pred = np.argmax(y_pred, axis=1)\n",
        "\n",
        "  y_real = np.argmax(y_test_snr, axis=1)\n",
        "  # Making the Confusion Matrix\n",
        "  cm = confusion_matrix(y_real, y_pred)\n",
        "  cm_norm = cm.astype('float') / cm.sum(axis=1)[:, np.newaxis]\n",
        "    \n",
        "    \n",
        "  cmDataFrame = pd.DataFrame(cm_norm, index=modulation_order, columns = modulation_order)\n",
        "  plt.figure(figsize=(6, 5))\n",
        "  ax = sns.heatmap(cmDataFrame, annot=True, annot_kws={\"size\": 8}, fmt='.2f', linewidths=.5, cmap=\"Blues\")\n",
        "\n",
        "  plt.title(f\"CNN0[128(1,7)-64(2,5)] Confusion Matrix (SNR={snr})\")\n",
        "  plt.xlabel(\"Predicted label  \\n\\n TrainAcc={:.2}, TestAcc={:.2}\".format(acc_train,acc_test), fontsize=8)\n",
        "  plt.ylabel(\"True lable\", fontsize=8)\n",
        "  plt.setp(ax.get_xticklabels(), rotation=45, ha=\"right\",rotation_mode=\"anchor\", fontsize=8)\n",
        "  plt.setp(ax.get_yticklabels(), fontsize=8)\n",
        "  fig = ax.get_figure()\n",
        "\n",
        "  fig.savefig(dic+f\"/Pic/CNN/CNN0-128(1,7)-64(2,5)-ba{batch}-ep{epoch}-(dout=0.5)-input(IQ)(SNR={snr}).png\", dpi=175, bbox_inches='tight')\n",
        "  fig.savefig(dic+f\"/Pic/CNN/CNN0-128(1,7)-64(2,5)-ba{batch}-ep{epoch}-(dout=0.5)-input(IQ)(SNR={snr}).eps\", bbox_inches='tight')\n",
        "  print(\"Plot Saved!\")\n",
        "'''\n",
        "\n",
        "  del(y_test_snr)\n",
        "  del(X_test_snr)\n",
        "      \n",
        "print(acc)    \n"
      ],
      "execution_count": 21,
      "outputs": [
        {
          "output_type": "stream",
          "text": [
            "SNR:  -20\n",
            "1636/1636 [==============================] - 0s 302us/step\n",
            "0.1271393643031785\n",
            "SNR:  -18\n",
            "1630/1630 [==============================] - 0s 224us/step\n",
            "0.1257668712296369\n",
            "SNR:  -16\n",
            "1606/1606 [==============================] - 0s 183us/step\n",
            "0.13636363636363635\n",
            "SNR:  -14\n",
            "1633/1633 [==============================] - 0s 179us/step\n",
            "0.1359461114513166\n",
            "SNR:  -12\n",
            "1567/1567 [==============================] - 0s 212us/step\n",
            "0.10912571783726126\n",
            "SNR:  -10\n",
            "1561/1561 [==============================] - 0s 209us/step\n",
            "0.1473414477469217\n",
            "SNR:  -8\n",
            "1605/1605 [==============================] - 0s 182us/step\n",
            "0.19937694704978265\n",
            "SNR:  -6\n",
            "1605/1605 [==============================] - 0s 145us/step\n",
            "0.3426791278001304\n",
            "SNR:  -4\n",
            "1600/1600 [==============================] - 0s 145us/step\n",
            "0.514375\n",
            "SNR:  -2\n",
            "1642/1642 [==============================] - 0s 186us/step\n",
            "0.6619975640190069\n",
            "SNR:  0\n",
            "1570/1570 [==============================] - 0s 187us/step\n",
            "0.740764331210191\n",
            "SNR:  2\n",
            "1577/1577 [==============================] - 0s 185us/step\n",
            "0.7983512999743847\n",
            "SNR:  4\n",
            "1555/1555 [==============================] - 0s 212us/step\n",
            "0.8109324758842443\n",
            "SNR:  6\n",
            "1598/1598 [==============================] - 0s 149us/step\n",
            "0.7966207755969672\n",
            "SNR:  8\n",
            "1568/1568 [==============================] - 0s 149us/step\n",
            "0.7901785714285714\n",
            "SNR:  10\n",
            "1542/1542 [==============================] - 0s 141us/step\n",
            "0.8067444876010316\n",
            "SNR:  12\n",
            "1598/1598 [==============================] - 0s 144us/step\n",
            "0.8153942425797072\n",
            "SNR:  14\n",
            "1616/1616 [==============================] - 0s 188us/step\n",
            "0.7902227722772277\n",
            "SNR:  16\n",
            "1638/1638 [==============================] - 0s 143us/step\n",
            "0.8113553114280887\n",
            "SNR:  18\n",
            "1653/1653 [==============================] - 0s 197us/step\n",
            "0.8142770721345545\n",
            "[0.1271393643031785, 0.1257668712296369, 0.13636363636363635, 0.1359461114513166, 0.10912571783726126, 0.1473414477469217, 0.19937694704978265, 0.3426791278001304, 0.514375, 0.6619975640190069, 0.740764331210191, 0.7983512999743847, 0.8109324758842443, 0.7966207755969672, 0.7901785714285714, 0.8067444876010316, 0.8153942425797072, 0.7902227722772277, 0.8113553114280887, 0.8142770721345545]\n"
          ],
          "name": "stdout"
        }
      ]
    }
  ]
}