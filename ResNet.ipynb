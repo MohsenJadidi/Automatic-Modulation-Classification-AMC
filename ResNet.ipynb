{
  "nbformat": 4,
  "nbformat_minor": 0,
  "metadata": {
    "colab": {
      "name": "ResNet.ipynb",
      "version": "0.3.2",
      "provenance": [],
      "collapsed_sections": [],
      "include_colab_link": true
    },
    "kernelspec": {
      "name": "python3",
      "display_name": "Python 3"
    },
    "accelerator": "GPU"
  },
  "cells": [
    {
      "cell_type": "markdown",
      "metadata": {
        "id": "view-in-github",
        "colab_type": "text"
      },
      "source": [
        "<a href=\"https://colab.research.google.com/github/MohsenJadidi/Automatic-Modulation-Classification-AMC/blob/master/ResNet.ipynb\" target=\"_parent\"><img src=\"https://colab.research.google.com/assets/colab-badge.svg\" alt=\"Open In Colab\"/></a>"
      ]
    },
    {
      "cell_type": "code",
      "metadata": {
        "id": "m0dBrWRWh7UO",
        "colab_type": "code",
        "colab": {}
      },
      "source": [
        "from google.colab import drive\n",
        "drive.mount('/content/drive')"
      ],
      "execution_count": 0,
      "outputs": []
    },
    {
      "cell_type": "markdown",
      "metadata": {
        "id": "UR0ATiKBk6rG",
        "colab_type": "text"
      },
      "source": [
        "# Importing the dataset (Copy from CNN.ipynb and merge cells)"
      ]
    },
    {
      "cell_type": "code",
      "metadata": {
        "id": "JfzzfiDSuxMs",
        "colab_type": "code",
        "colab": {}
      },
      "source": [
        "import pickle\n",
        "import numpy as np\n",
        "fileName = 'RML2016.10a_dict.pkl'\n",
        "with open(\"/content/drive/My Drive/Colab Notebooks/\"+fileName,'rb') as f:\n",
        "  data = pickle.load(f,encoding='bytes')\n",
        " \n",
        "X = []\n",
        "labels = [] # label each example by a pair (modulation type, snr)\n",
        "total_examples = 0\n",
        "analog = [b'AM-DSB', b'AM-SSB', b'WBFM']\n",
        "\n",
        "for mod_type, snr in data.keys():\n",
        "    if (mod_type not in analog):      \n",
        "        current_matrix = data[(mod_type, snr)]        \n",
        "        total_examples += current_matrix.shape[0]\n",
        "        for i in range(current_matrix.shape[0]):\n",
        "            X.append(current_matrix[i])\n",
        "            labels.append((str(mod_type, 'ascii'), snr)) # mod_type is of type bytes\n",
        "    \n",
        "X = np.array(X)         # First row is QPSK snr=2, seconde is PAM4 snr=8 , ...\n",
        "labels = np.array(labels)\n",
        "\n",
        "y = labels[:,0]\n",
        "\n",
        "print(f'loaded {total_examples} signal vectors into X{X.shape} and their corresponding'\n",
        "      f' labels into labels{labels.shape}')  \n",
        "# print(np.unique(labels[:,0]))\n",
        "\n",
        "# Encoding categorical data\n",
        "from sklearn.preprocessing import LabelEncoder, OneHotEncoder\n",
        "labelencoder_y = LabelEncoder()\n",
        "y = labelencoder_y.fit_transform(y)\n",
        "onehotencoder = OneHotEncoder()\n",
        "y = onehotencoder.fit_transform(y.reshape(-1,1)).toarray()\n",
        "\n",
        "snrList = [str(2*i-20) for i in range(20)]  # snrList = -20, -18, -16 , ... ,0, ... ,18\n",
        "snr = snrList[19]\n",
        "numberOfEachExamples = 1000\n",
        "print(\"SNR :\", snr)\n",
        "\n",
        "output = [[labels[i*numberOfEachExamples, 0],y[i*numberOfEachExamples]] for i in range(int(X.shape[0]/numberOfEachExamples))]\n",
        "output = dict(output)\n",
        "\n",
        "X_snr = []\n",
        "y_snr = []\n",
        "\n",
        "for i in range(X.shape[0]):\n",
        "    if labels[i,1] == snr:\n",
        "        X_snr.append(X[i])\n",
        "        y_snr.append(y[i])\n",
        "\n",
        "X_snr = np.array(X_snr)\n",
        "y_snr = np.array(y_snr)  \n",
        "\n",
        "###### Splitting the dataset into the Training set and Test set ######\n",
        "from sklearn.model_selection import train_test_split\n",
        "X_train, X_test, y_train, y_test = train_test_split(X_snr, y_snr, test_size = 0.2, random_state = 0)\n",
        "# The below line better for Cross_val part\n",
        "#X_train, X_test, y_train, y_test = train_test_split(X_snr, y_snr, test_size = 1, random_state = 0)\n",
        "\n",
        "# Feature Scaling\n",
        "from sklearn.preprocessing import StandardScaler\n",
        "sc = StandardScaler()\n",
        "# StandardScaler expected <= 2.\n",
        "#X_train = X_train.reshape([6400,256])\n",
        "X_train = X_train.reshape([X_train.shape[0],256])\n",
        "X_train = sc.fit_transform(X_train)\n",
        "X_train = X_train.reshape([X_train.shape[0],2,128])\n",
        "#X_test = X_test.reshape([1600,256])\n",
        "X_test = X_test.reshape([X_test.shape[0],256])\n",
        "X_test = sc.transform(X_test)\n",
        "X_test = X_test.reshape([X_test.shape[0],2,128])\n",
        "\n",
        "# Reshape\n",
        "X_train = X_train.reshape(-1,2, 128, 1)   #Reshape for CNN -  (6400,2,128)->(6400,2,128,1)!!\n",
        "X_test = X_test.reshape(-1,2, 128, 1)"
      ],
      "execution_count": 0,
      "outputs": []
    },
    {
      "cell_type": "code",
      "metadata": {
        "id": "xbt6FKFYkngH",
        "colab_type": "code",
        "colab": {}
      },
      "source": [
        "import pickle\n",
        "fileName = 'RML2016.10a_dict.pkl'\n",
        "with open(\"/content/drive/My Drive/Colab Notebooks/\"+fileName,'rb') as f:\n",
        "  data = pickle.load(f,encoding='bytes')\n",
        " \n",
        "\n",
        "import numpy as np\n",
        "X = []\n",
        "labels = [] # label each example by a pair (modulation type, snr)\n",
        "total_examples = 0\n",
        "analog = [b'AM-DSB', b'AM-SSB', b'WBFM']\n",
        "\n",
        "for mod_type, snr in data.keys():\n",
        "    if (mod_type not in analog):      \n",
        "        current_matrix = data[(mod_type, snr)]        \n",
        "        total_examples += current_matrix.shape[0]\n",
        "        for i in range(current_matrix.shape[0]):\n",
        "            X.append(current_matrix[i])\n",
        "            labels.append((str(mod_type, 'ascii'), snr)) # mod_type is of type bytes\n",
        "    \n",
        "X = np.array(X)         # First row is QPSK snr=2, seconde is PAM4 snr=8 , ...\n",
        "labels = np.array(labels)\n",
        "\n",
        "y = labels[:,0]\n",
        "\n",
        "print(f'loaded {total_examples} signal vectors into X{X.shape} and their corresponding'\n",
        "      f' labels into labels{labels.shape}')  \n",
        "# print(np.unique(labels[:,0]))\n",
        "\n",
        "\n",
        "# Encoding categorical data\n",
        "from sklearn.preprocessing import LabelEncoder, OneHotEncoder\n",
        "labelencoder_y = LabelEncoder()\n",
        "y = labelencoder_y.fit_transform(y)\n",
        "onehotencoder = OneHotEncoder()\n",
        "y = onehotencoder.fit_transform(y.reshape(-1,1)).toarray()\n",
        "\n",
        "\n",
        "snrList = [str(2*i-20) for i in range(20)]  # snrList = -20, -18, -16 , ... ,0, ... ,18\n",
        "snr = snrList[19]\n",
        "numberOfEachExamples = 1000\n",
        "print(\"SNR :\", snr)\n",
        "\n",
        "output = [[labels[i*numberOfEachExamples, 0],y[i*numberOfEachExamples]] for i in range(int(X.shape[0]/numberOfEachExamples))]\n",
        "output = dict(output)\n",
        "\n",
        "Xsnr = np.zeros(shape=(X.shape[0],X.shape[1],X.shape[2]+1))\n",
        "for i in range(X.shape[0]):\n",
        "    snr = int(labels[i,1])\n",
        "    Xsnr[i,0,:] = np.insert(X[i,0,:],0,snr)\n",
        "    Xsnr[i,1,:] = np.insert(X[i,1,:],0,snr)\n",
        "    \n",
        "print(Xsnr.shape)\n",
        "\n",
        "###### Splitting the dataset into the Training set and Test set ######\n",
        "from sklearn.model_selection import train_test_split\n",
        "X_train, X_test, y_train, y_test = train_test_split(Xsnr, y, test_size = 0.2, random_state = 0)\n",
        "# The below line better for Cross_val part\n",
        "#X_train, X_test, y_train, y_test = train_test_split(Xsnr, y, test_size = 1, random_state = 0)\n",
        "\n",
        "print(X_train.shape)\n",
        "print(X_test.shape)\n",
        "\n",
        "\n",
        "X_train = X_train[:,:,1:] # snr important for train\n",
        "\n",
        "y_test18 = []\n",
        "X_test18 = []\n",
        "\n",
        "for i in range(X_test.shape[0]):\n",
        "    if X_test[i,0,0] == 18:\n",
        "        X_test18.append(X_test[i])\n",
        "        y_test18.append(y_test[i])\n",
        "        \n",
        "X_test18 = np.array(X_test18)\n",
        "y_test18 = np.array(y_test18)        \n",
        "X_test18 = X_test18[:,:,1:]\n",
        "\n",
        "\n",
        "print(X_train.shape)\n",
        "print(X_test18.shape)\n",
        "\n",
        "\n",
        "# Change IQ to amplitude and phase\n",
        "X_cmplx = X_train[:,0,:] + 1j* X_train[:,1,:]    \n",
        "X_amp = np.abs(X_cmplx)\n",
        "X_ang = np.arctan2(X_train[:,1,:],X_train[:,0,:]) / np.pi\n",
        "    \n",
        "X_amp = np.reshape(X_amp,(-1,1,128))\n",
        "X_ang = np.reshape(X_ang,(-1,1,128))\n",
        "    \n",
        "X_train_AmpPhs = np.concatenate((X_amp,X_ang), axis=1) \n",
        "##\n",
        "X_cmplx = X_test18[:,0,:] + 1j* X_test18[:,1,:]    \n",
        "X_amp = np.abs(X_cmplx)\n",
        "X_ang = np.arctan2(X_test18[:,1,:],X_test18[:,0,:]) / np.pi\n",
        "    \n",
        "X_amp = np.reshape(X_amp,(-1,1,128))\n",
        "X_ang = np.reshape(X_ang,(-1,1,128))\n",
        "    \n",
        "X_test18_AmpPhs = np.concatenate((X_amp,X_ang), axis=1) \n",
        "##\n",
        "\n",
        "print(X_train_AmpPhs.shape)\n",
        "print(X_test18_AmpPhs.shape)\n",
        "\n",
        "\n",
        "from sklearn.preprocessing import StandardScaler\n",
        "sc = StandardScaler()\n",
        "X_train = X_train.reshape([X_train.shape[0],256])\n",
        "#X_train = X_train_AmpPhs.reshape([X_train.shape[0],256])\n",
        "X_train = sc.fit_transform(X_train)\n",
        "X_train = X_train.reshape([X_train.shape[0],2,128])\n",
        "#X_test = X_test.reshape([1600,256])\n",
        "X_test18 = X_test18.reshape([X_test18.shape[0],256])\n",
        "#X_test18 = X_test18_AmpPhs.reshape([X_test18.shape[0],256])\n",
        "X_test18 = sc.transform(X_test18)\n",
        "X_test18 = X_test18.reshape([X_test18.shape[0],2,128])\n",
        "\n",
        "# Reshape\n",
        "X_train = X_train.reshape(-1,2, 128, 1)   #Reshape for CNN -  (6400,2,128)->(6400,2,128,1)!!\n",
        "X_test18 = X_test18.reshape(-1,2, 128, 1)\n",
        "\n",
        "print(X_train.shape)\n",
        "print(X_test18.shape)"
      ],
      "execution_count": 0,
      "outputs": []
    },
    {
      "cell_type": "markdown",
      "metadata": {
        "id": "drh0_kLlLXWK",
        "colab_type": "text"
      },
      "source": [
        "## Import Module"
      ]
    },
    {
      "cell_type": "code",
      "metadata": {
        "id": "x9wXGX95LU7H",
        "colab_type": "code",
        "outputId": "64b2cad8-4cc5-47fb-cf1a-67633e868301",
        "colab": {
          "base_uri": "https://localhost:8080/",
          "height": 34
        }
      },
      "source": [
        "import keras\n",
        "from keras.models import Model, Sequential\n",
        "from keras.layers import Conv2D\n",
        "from keras.layers import MaxPooling2D\n",
        "from keras.layers import Flatten\n",
        "from keras.layers import Dense\n",
        "from keras.layers import Dropout\n",
        "from keras.layers import Input\n",
        "from keras.layers import add\n",
        "from keras.layers import BatchNormalization, Activation\n",
        "from keras.layers.convolutional import ZeroPadding2D"
      ],
      "execution_count": 0,
      "outputs": [
        {
          "output_type": "stream",
          "text": [
            "Using TensorFlow backend.\n"
          ],
          "name": "stderr"
        }
      ]
    },
    {
      "cell_type": "markdown",
      "metadata": {
        "id": "DAqdPV-N3Ae_",
        "colab_type": "text"
      },
      "source": [
        "#Making ResNet0 model (four-convolutional-layer)\n",
        "(Thesis :DEEP NEURAL NETWORK ARCHITECTURES FOR MODULATION CLASSIFICATION)"
      ]
    },
    {
      "cell_type": "code",
      "metadata": {
        "id": "r-gBNzVMOVfg",
        "colab_type": "code",
        "colab": {}
      },
      "source": [
        "dout = 0.6\n",
        "\n",
        "modelInput = Input(shape=(2,128,1))\n",
        "\n",
        "x1 = Conv2D(filters = 256,kernel_size = (1,3), padding='same', activation = 'relu')(modelInput)\n",
        "x1 = Dropout(rate=dout)(x1)\n",
        "\n",
        "x2 = ZeroPadding2D(padding = (0,1))(x1)\n",
        "x2 = Conv2D(filters = 256, kernel_size = (2,3), padding='valid' ,activation = 'relu')(x2)\n",
        "x2 = Dropout(rate=dout)(x2)\n",
        "\n",
        "x3 = Conv2D(filters = 80, kernel_size= (1,3), padding='same')(x2)\n",
        "x3 = Dropout(rate=dout)(x3)\n",
        "\n",
        "shortcut1 = (modelInput)\n",
        "add1 = add([x3, shortcut1])\n",
        "add1 = Activation('relu')(add1)\n",
        "\n",
        "x4 = Conv2D(filters = 80, kernel_size= (1,3), padding='same', activation = 'relu')(add1)\n",
        "x4 = Dropout(rate=dout)(x4)\n",
        "\n",
        "x5 = Flatten()(x4)\n",
        "\n",
        "x6 = Dense(output_dim = 128 , activation = 'relu')(x5)\n",
        "x6 = Dropout(rate=dout)(x6)\n",
        "\n",
        "out = Dense(output_dim = 8 , activation = 'softmax')(x6)\n",
        "\n",
        "classifier = Model(inputs = modelInput, outputs = out)\n",
        "\n",
        "classifier.summary()\n",
        "\n",
        "classifier.compile(optimizer = 'adam', loss = 'categorical_crossentropy', metrics = ['accuracy'])\n",
        "#logger = keras.callbacks.TensorBoard(log_dir=\"./logs\", write_graph=True, histogram_freq=0)\n",
        "\n",
        "print(\"Model Created!\")\n",
        "\n",
        "#logger = keras.callbacks.TensorBoard(log_dir=\"logs\", write_graph=True, histogram_freq=5)\n"
      ],
      "execution_count": 0,
      "outputs": []
    },
    {
      "cell_type": "markdown",
      "metadata": {
        "id": "ct6SfO0K3RPR",
        "colab_type": "text"
      },
      "source": [
        "# Fitting model"
      ]
    },
    {
      "cell_type": "code",
      "metadata": {
        "id": "Txz8QArgZaQj",
        "colab_type": "code",
        "colab": {}
      },
      "source": [
        "batch = 1024\n",
        "epoch = 100\n",
        "history = classifier.fit(X_train, y_train, batch_size = batch, epochs = epoch, validation_data=(X_test, y_test))\n",
        "#history = classifier.fit(X_train, y_train, batch_size = batch, epochs = epoch)"
      ],
      "execution_count": 0,
      "outputs": []
    },
    {
      "cell_type": "markdown",
      "metadata": {
        "id": "OVFgwssVfxtd",
        "colab_type": "text"
      },
      "source": [
        "# Save model"
      ]
    },
    {
      "cell_type": "code",
      "metadata": {
        "id": "fKe0m_39HiWU",
        "colab_type": "code",
        "colab": {}
      },
      "source": [
        "\n",
        "dic = \"/content/drive/My Drive/Colab Notebooks/\"\n",
        "classifier.save(dic+f'SaveModel/ResNet--ba{batch}-ep{epoch}-(dout=0.5)-input(IQ)(SNR=all).h5')\n",
        "f = open(dic+f'SaveModel/ResNet--ba{batch}-ep{epoch}-(dout=0.5)-input(IQ)(SNR=all)-history.txt',\"w\")\n",
        "f.write( str(classifier.history.history) )\n",
        "f.close()\n",
        "\n",
        "print('Model Saved!')"
      ],
      "execution_count": 0,
      "outputs": []
    },
    {
      "cell_type": "markdown",
      "metadata": {
        "colab_type": "text",
        "id": "WPUQvSEust2O"
      },
      "source": [
        "\n",
        "# Prediction(only SNR=18)"
      ]
    },
    {
      "cell_type": "code",
      "metadata": {
        "colab_type": "code",
        "id": "L-BjyTtcst2U",
        "colab": {}
      },
      "source": [
        "y_pred = classifier.predict(X_test18)\n",
        "y_pred = np.argmax(y_pred, axis=1)\n",
        "\n",
        "y_real = np.argmax(y_test18, axis=1)\n",
        "# Making the Confusion Matrix\n",
        "from sklearn.metrics import confusion_matrix\n",
        "cm = confusion_matrix(y_real, y_pred)\n",
        "cm_norm = cm.astype('float') / cm.sum(axis=1)[:, np.newaxis]\n",
        "\n",
        "acc_test = classifier.evaluate(X_test18, y_test18)[1]\n",
        "acc_train = classifier.evaluate(X_train, y_train)[1]\n",
        "\n",
        "print(\"Acc Test : \", acc_test)\n",
        "print(\"Acc Train : \", acc_train)\n"
      ],
      "execution_count": 0,
      "outputs": []
    },
    {
      "cell_type": "markdown",
      "metadata": {
        "id": "ShXqOJL47hCE",
        "colab_type": "text"
      },
      "source": [
        "# Plot Confusion Matrix"
      ]
    },
    {
      "cell_type": "code",
      "metadata": {
        "id": "-6AbLWccANuo",
        "colab_type": "code",
        "colab": {}
      },
      "source": [
        "import matplotlib.pyplot as plt\n",
        "import seaborn as sns\n",
        "from sklearn.metrics import confusion_matrix\n",
        "import pandas as pd\n",
        "\n",
        "modulation_order = []\n",
        "modulation_order_dict = dict()\n",
        "\n",
        "for key,value in output.items():\n",
        "    modulation_order_dict[np.argmax(value)] = str(key)\n",
        "    \n",
        "for i in range(8):\n",
        "    modulation_order.append(modulation_order_dict[i])\n",
        "    \n",
        "acc_test = classifier.evaluate(X_test18, y_test18)[1]\n",
        "acc_train = classifier.evaluate(X_train, y_train)[1]\n",
        "\n",
        "print(\"Acc Test : \", acc_test)\n",
        "print(\"Acc Train : \", acc_train)    "
      ],
      "execution_count": 0,
      "outputs": []
    },
    {
      "cell_type": "code",
      "metadata": {
        "id": "Vv5RzFyj_Cj1",
        "colab_type": "code",
        "colab": {}
      },
      "source": [
        "dic = \"/content/drive/My Drive/Colab Notebooks/\"\n",
        "acc = []\n",
        "\n",
        "for snr in snrList:\n",
        "  print('SNR: ', snr)\n",
        "    \n",
        "  y_test_snr = []\n",
        "  X_test_snr = []\n",
        "  for i in range(X_test.shape[0]):\n",
        "    if X_test[i,0,0] == int(snr):\n",
        "      X_test_snr.append(X_test[i])\n",
        "      y_test_snr.append(y_test[i])\n",
        "        \n",
        "  X_test_snr = np.array(X_test_snr)\n",
        "  y_test_snr = np.array(y_test_snr)        \n",
        "  X_test_snr = X_test_snr[:,:,1:]\n",
        "  \n",
        "  X_test_snr = X_test_snr.reshape([X_test_snr.shape[0],256])\n",
        "  X_test_snr = sc.transform(X_test_snr)\n",
        "  X_test_snr = X_test_snr.reshape([X_test_snr.shape[0],2,128])\n",
        "  \n",
        "  X_test_snr = X_test_snr.reshape(-1,2, 128, 1) # For CNN\n",
        "    \n",
        "  acc_test = classifier.evaluate(X_test_snr, y_test_snr)[1]\n",
        "  acc.append(acc_test)\n",
        "  print(acc_test)\n",
        "  '''\n",
        "  y_pred = classifier.predict(X_test_snr)\n",
        "  y_pred = np.argmax(y_pred, axis=1)\n",
        "\n",
        "  y_real = np.argmax(y_test_snr, axis=1)\n",
        "  # Making the Confusion Matrix\n",
        "  cm = confusion_matrix(y_real, y_pred)\n",
        "  cm_norm = cm.astype('float') / cm.sum(axis=1)[:, np.newaxis]\n",
        "    \n",
        "    \n",
        "  cmDataFrame = pd.DataFrame(cm_norm, index=modulation_order, columns = modulation_order)\n",
        "  plt.figure(figsize=(6, 5))\n",
        "  ax = sns.heatmap(cmDataFrame, annot=True, annot_kws={\"size\": 8}, fmt='.2f', linewidths=.5, cmap=\"Blues\")\n",
        "\n",
        "  plt.title(f\"CNN0[128(1,7)-64(2,5)] Confusion Matrix (SNR={snr})\")\n",
        "  plt.xlabel(\"Predicted label  \\n\\n TrainAcc={:.2}, TestAcc={:.2}\".format(acc_train,acc_test), fontsize=8)\n",
        "  plt.ylabel(\"True lable\", fontsize=8)\n",
        "  plt.setp(ax.get_xticklabels(), rotation=45, ha=\"right\",rotation_mode=\"anchor\", fontsize=8)\n",
        "  plt.setp(ax.get_yticklabels(), fontsize=8)\n",
        "  fig = ax.get_figure()\n",
        "\n",
        "  fig.savefig(dic+f\"/Pic/CNN/CNN0-128(1,7)-64(2,5)-ba{batch}-ep{epoch}-(dout=0.5)-input(IQ)(SNR={snr}).png\", dpi=175, bbox_inches='tight')\n",
        "  fig.savefig(dic+f\"/Pic/CNN/CNN0-128(1,7)-64(2,5)-ba{batch}-ep{epoch}-(dout=0.5)-input(IQ)(SNR={snr}).eps\", bbox_inches='tight')\n",
        "  print(\"Plot Saved!\")\n",
        "'''\n",
        "\n",
        "  del(y_test_snr)\n",
        "  del(X_test_snr)\n",
        "      \n",
        "print(acc)    \n",
        "    "
      ],
      "execution_count": 0,
      "outputs": []
    }
  ]
}