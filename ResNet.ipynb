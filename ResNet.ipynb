{
  "nbformat": 4,
  "nbformat_minor": 0,
  "metadata": {
    "colab": {
      "name": "ResNet.ipynb",
      "version": "0.3.2",
      "provenance": [],
      "collapsed_sections": [],
      "include_colab_link": true
    },
    "kernelspec": {
      "name": "python3",
      "display_name": "Python 3"
    },
    "accelerator": "GPU"
  },
  "cells": [
    {
      "cell_type": "markdown",
      "metadata": {
        "id": "view-in-github",
        "colab_type": "text"
      },
      "source": [
        "<a href=\"https://colab.research.google.com/github/MohsenJadidi/Automatic-Modulation-Classification-AMC/blob/master/ResNet.ipynb\" target=\"_parent\"><img src=\"https://colab.research.google.com/assets/colab-badge.svg\" alt=\"Open In Colab\"/></a>"
      ]
    },
    {
      "cell_type": "code",
      "metadata": {
        "id": "m0dBrWRWh7UO",
        "colab_type": "code",
        "outputId": "24d4fb69-098b-4d28-d29c-5602b9319fa1",
        "colab": {
          "base_uri": "https://localhost:8080/",
          "height": 121
        }
      },
      "source": [
        "from google.colab import drive\n",
        "drive.mount('/content/drive')"
      ],
      "execution_count": 1,
      "outputs": [
        {
          "output_type": "stream",
          "text": [
            "Go to this URL in a browser: https://accounts.google.com/o/oauth2/auth?client_id=947318989803-6bn6qk8qdgf4n4g3pfee6491hc0brc4i.apps.googleusercontent.com&redirect_uri=urn%3Aietf%3Awg%3Aoauth%3A2.0%3Aoob&scope=email%20https%3A%2F%2Fwww.googleapis.com%2Fauth%2Fdocs.test%20https%3A%2F%2Fwww.googleapis.com%2Fauth%2Fdrive%20https%3A%2F%2Fwww.googleapis.com%2Fauth%2Fdrive.photos.readonly%20https%3A%2F%2Fwww.googleapis.com%2Fauth%2Fpeopleapi.readonly&response_type=code\n",
            "\n",
            "Enter your authorization code:\n",
            "··········\n",
            "Mounted at /content/drive\n"
          ],
          "name": "stdout"
        }
      ]
    },
    {
      "cell_type": "markdown",
      "metadata": {
        "id": "UR0ATiKBk6rG",
        "colab_type": "text"
      },
      "source": [
        "# Importing the dataset (Copy from CNN.ipynb and merge cells)"
      ]
    },
    {
      "cell_type": "code",
      "metadata": {
        "id": "JfzzfiDSuxMs",
        "colab_type": "code",
        "outputId": "a79bd12b-6258-4220-8f24-ccfb6641184e",
        "colab": {
          "base_uri": "https://localhost:8080/",
          "height": 138
        }
      },
      "source": [
        "import pickle\n",
        "import numpy as np\n",
        "fileName = 'RML2016.10a_dict.pkl'\n",
        "with open(\"/content/drive/My Drive/Colab Notebooks/\"+fileName,'rb') as f:\n",
        "  data = pickle.load(f,encoding='bytes')\n",
        " \n",
        "X = []\n",
        "labels = [] # label each example by a pair (modulation type, snr)\n",
        "total_examples = 0\n",
        "analog = [b'AM-DSB', b'AM-SSB', b'WBFM']\n",
        "\n",
        "for mod_type, snr in data.keys():\n",
        "    if (mod_type not in analog):      \n",
        "        current_matrix = data[(mod_type, snr)]        \n",
        "        total_examples += current_matrix.shape[0]\n",
        "        for i in range(current_matrix.shape[0]):\n",
        "            X.append(current_matrix[i])\n",
        "            labels.append((str(mod_type, 'ascii'), snr)) # mod_type is of type bytes\n",
        "    \n",
        "X = np.array(X)         # First row is QPSK snr=2, seconde is PAM4 snr=8 , ...\n",
        "labels = np.array(labels)\n",
        "\n",
        "y = labels[:,0]\n",
        "\n",
        "print(f'loaded {total_examples} signal vectors into X{X.shape} and their corresponding'\n",
        "      f' labels into labels{labels.shape}')  \n",
        "# print(np.unique(labels[:,0]))\n",
        "\n",
        "# Encoding categorical data\n",
        "from sklearn.preprocessing import LabelEncoder, OneHotEncoder\n",
        "labelencoder_y = LabelEncoder()\n",
        "y = labelencoder_y.fit_transform(y)\n",
        "onehotencoder = OneHotEncoder()\n",
        "y = onehotencoder.fit_transform(y.reshape(-1,1)).toarray()\n",
        "\n",
        "snrList = [str(2*i-20) for i in range(20)]  # snrList = -20, -18, -16 , ... ,0, ... ,18\n",
        "snr = snrList[19]\n",
        "numberOfEachExamples = 1000\n",
        "print(\"SNR :\", snr)\n",
        "\n",
        "output = [[labels[i*numberOfEachExamples, 0],y[i*numberOfEachExamples]] for i in range(int(X.shape[0]/numberOfEachExamples))]\n",
        "output = dict(output)\n",
        "\n",
        "X_snr = []\n",
        "y_snr = []\n",
        "\n",
        "for i in range(X.shape[0]):\n",
        "    if labels[i,1] == snr:\n",
        "        X_snr.append(X[i])\n",
        "        y_snr.append(y[i])\n",
        "\n",
        "X_snr = np.array(X_snr)\n",
        "y_snr = np.array(y_snr)  \n",
        "\n",
        "###### Splitting the dataset into the Training set and Test set ######\n",
        "from sklearn.model_selection import train_test_split\n",
        "X_train, X_test, y_train, y_test = train_test_split(X_snr, y_snr, test_size = 0.2, random_state = 0)\n",
        "# The below line better for Cross_val part\n",
        "#X_train, X_test, y_train, y_test = train_test_split(X_snr, y_snr, test_size = 1, random_state = 0)\n",
        "\n",
        "# Feature Scaling\n",
        "from sklearn.preprocessing import StandardScaler\n",
        "sc = StandardScaler()\n",
        "# StandardScaler expected <= 2.\n",
        "#X_train = X_train.reshape([6400,256])\n",
        "X_train = X_train.reshape([X_train.shape[0],256])\n",
        "X_train = sc.fit_transform(X_train)\n",
        "X_train = X_train.reshape([X_train.shape[0],2,128])\n",
        "#X_test = X_test.reshape([1600,256])\n",
        "X_test = X_test.reshape([X_test.shape[0],256])\n",
        "X_test = sc.transform(X_test)\n",
        "X_test = X_test.reshape([X_test.shape[0],2,128])\n",
        "\n",
        "# Reshape\n",
        "X_train = X_train.reshape(-1,2, 128, 1)   #Reshape for CNN -  (6400,2,128)->(6400,2,128,1)!!\n",
        "X_test = X_test.reshape(-1,2, 128, 1)"
      ],
      "execution_count": 2,
      "outputs": [
        {
          "output_type": "stream",
          "text": [
            "loaded 160000 signal vectors into X(160000, 2, 128) and their corresponding labels into labels(160000, 2)\n",
            "SNR : 18\n"
          ],
          "name": "stdout"
        },
        {
          "output_type": "stream",
          "text": [
            "/usr/local/lib/python3.6/dist-packages/sklearn/preprocessing/_encoders.py:415: FutureWarning: The handling of integer data will change in version 0.22. Currently, the categories are determined based on the range [0, max(values)], while in the future they will be determined based on the unique values.\n",
            "If you want the future behaviour and silence this warning, you can specify \"categories='auto'\".\n",
            "In case you used a LabelEncoder before this OneHotEncoder to convert the categories to integers, then you can now use the OneHotEncoder directly.\n",
            "  warnings.warn(msg, FutureWarning)\n"
          ],
          "name": "stderr"
        }
      ]
    },
    {
      "cell_type": "markdown",
      "metadata": {
        "id": "drh0_kLlLXWK",
        "colab_type": "text"
      },
      "source": [
        "## Import Module"
      ]
    },
    {
      "cell_type": "code",
      "metadata": {
        "id": "x9wXGX95LU7H",
        "colab_type": "code",
        "colab": {}
      },
      "source": [
        "import keras\n",
        "from keras.models import Model, Sequential\n",
        "from keras.layers import Conv2D\n",
        "from keras.layers import MaxPooling2D\n",
        "from keras.layers import Flatten\n",
        "from keras.layers import Dense\n",
        "from keras.layers import Dropout\n",
        "from keras.layers import Input\n",
        "from keras.layers import add\n",
        "from keras.layers import BatchNormalization, Activation\n",
        "from keras.layers.convolutional import ZeroPadding2D"
      ],
      "execution_count": 0,
      "outputs": []
    },
    {
      "cell_type": "markdown",
      "metadata": {
        "id": "DAqdPV-N3Ae_",
        "colab_type": "text"
      },
      "source": [
        "#Making ResNet0 model (four-convolutional-layer)\n",
        "(Thesis :DEEP NEURAL NETWORK ARCHITECTURES FOR MODULATION CLASSIFICATION)"
      ]
    },
    {
      "cell_type": "code",
      "metadata": {
        "id": "jPoNtK--g3Fk",
        "colab_type": "code",
        "outputId": "034e22b3-4092-4b6e-d4b7-b981342b1e04",
        "colab": {
          "base_uri": "https://localhost:8080/",
          "height": 706
        }
      },
      "source": [
        "dout = 0.6\n",
        "\n",
        "modelInput = Input(shape=(2,128,1))\n",
        "\n",
        "x1 = Conv2D(filters = 256,kernel_size = (1,3), padding='same', activation = 'relu')(modelInput)\n",
        "x1 = Dropout(rate=dout)(x1)\n",
        "\n",
        "x2 = ZeroPadding2D(padding = (0,1))(x1)\n",
        "x2 = Conv2D(filters = 256, kernel_size = (2,3), padding='valid' ,activation = 'relu')(x2)\n",
        "x2 = Dropout(rate=dout)(x2)\n",
        "\n",
        "x3 = Conv2D(filters = 80, kernel_size= (1,3), padding='same', activation = 'relu' )(x2)\n",
        "x3 = Dropout(rate=dout)(x3)\n",
        "\n",
        "shortcut1 = (modelInput)\n",
        "add1 = add([x3, shortcut1])\n",
        "\n",
        "x4 = Conv2D(filters = 80, kernel_size= (1,3), padding='same', activation = 'relu')(add1)\n",
        "x4 = Dropout(rate=dout)(x4)\n",
        "\n",
        "x5 = Flatten()(x4)\n",
        "\n",
        "x6 = Dense(output_dim = 128 , activation = 'relu')(x5)\n",
        "x6 = Dropout(rate=dout)(x6)\n",
        "\n",
        "out = Dense(output_dim = 8 , activation = 'softmax')(x6)\n",
        "\n",
        "classifier = Model(inputs = modelInput, outputs = out)\n",
        "\n",
        "classifier.summary()\n",
        "\n",
        "classifier.compile(optimizer = 'adam', loss = 'categorical_crossentropy', metrics = ['accuracy'])\n",
        "#logger = keras.callbacks.TensorBoard(log_dir=\"./logs\", write_graph=True, histogram_freq=0)\n",
        "\n",
        "print(\"Model Created!\")\n",
        "\n",
        "#logger = keras.callbacks.TensorBoard(log_dir=\"logs\", write_graph=True, histogram_freq=5)\n"
      ],
      "execution_count": 31,
      "outputs": [
        {
          "output_type": "stream",
          "text": [
            "__________________________________________________________________________________________________\n",
            "Layer (type)                    Output Shape         Param #     Connected to                     \n",
            "==================================================================================================\n",
            "input_9 (InputLayer)            (None, 2, 128, 1)    0                                            \n",
            "__________________________________________________________________________________________________\n",
            "conv2d_27 (Conv2D)              (None, 2, 128, 256)  1024        input_9[0][0]                    \n",
            "__________________________________________________________________________________________________\n",
            "dropout_32 (Dropout)            (None, 2, 128, 256)  0           conv2d_27[0][0]                  \n",
            "__________________________________________________________________________________________________\n",
            "zero_padding2d_7 (ZeroPadding2D (None, 2, 130, 256)  0           dropout_32[0][0]                 \n",
            "__________________________________________________________________________________________________\n",
            "conv2d_28 (Conv2D)              (None, 1, 128, 256)  393472      zero_padding2d_7[0][0]           \n",
            "__________________________________________________________________________________________________\n",
            "dropout_33 (Dropout)            (None, 1, 128, 256)  0           conv2d_28[0][0]                  \n",
            "__________________________________________________________________________________________________\n",
            "conv2d_29 (Conv2D)              (None, 1, 128, 80)   61520       dropout_33[0][0]                 \n",
            "__________________________________________________________________________________________________\n",
            "dropout_34 (Dropout)            (None, 1, 128, 80)   0           conv2d_29[0][0]                  \n",
            "__________________________________________________________________________________________________\n",
            "add_7 (Add)                     (None, 2, 128, 80)   0           dropout_34[0][0]                 \n",
            "                                                                 input_9[0][0]                    \n",
            "__________________________________________________________________________________________________\n",
            "conv2d_30 (Conv2D)              (None, 2, 128, 80)   19280       add_7[0][0]                      \n",
            "__________________________________________________________________________________________________\n",
            "dropout_35 (Dropout)            (None, 2, 128, 80)   0           conv2d_30[0][0]                  \n",
            "__________________________________________________________________________________________________\n",
            "flatten_7 (Flatten)             (None, 20480)        0           dropout_35[0][0]                 \n",
            "__________________________________________________________________________________________________\n",
            "dense_13 (Dense)                (None, 128)          2621568     flatten_7[0][0]                  \n",
            "__________________________________________________________________________________________________\n",
            "dropout_36 (Dropout)            (None, 128)          0           dense_13[0][0]                   \n",
            "__________________________________________________________________________________________________\n",
            "dense_14 (Dense)                (None, 8)            1032        dropout_36[0][0]                 \n",
            "==================================================================================================\n",
            "Total params: 3,097,896\n",
            "Trainable params: 3,097,896\n",
            "Non-trainable params: 0\n",
            "__________________________________________________________________________________________________\n",
            "Model Created!\n"
          ],
          "name": "stdout"
        },
        {
          "output_type": "stream",
          "text": [
            "/usr/local/lib/python3.6/dist-packages/ipykernel_launcher.py:23: UserWarning: Update your `Dense` call to the Keras 2 API: `Dense(activation=\"relu\", units=128)`\n",
            "/usr/local/lib/python3.6/dist-packages/ipykernel_launcher.py:26: UserWarning: Update your `Dense` call to the Keras 2 API: `Dense(activation=\"softmax\", units=8)`\n"
          ],
          "name": "stderr"
        }
      ]
    },
    {
      "cell_type": "markdown",
      "metadata": {
        "id": "ct6SfO0K3RPR",
        "colab_type": "text"
      },
      "source": [
        "# Fitting model"
      ]
    },
    {
      "cell_type": "code",
      "metadata": {
        "id": "Txz8QArgZaQj",
        "colab_type": "code",
        "colab": {
          "base_uri": "https://localhost:8080/",
          "height": 17
        },
        "outputId": "1b2bb814-95c5-46e0-9d67-b6857584e8f4"
      },
      "source": [
        "\n",
        "batch = 64\n",
        "epoch = 100\n",
        "#history = classifier.fit(X_train, y_train, batch_size = batch, epochs = epoch, validation_data=(X_test, y_test))\n",
        "history = classifier.fit(X_train, y_train, batch_size = batch, epochs = epoch)"
      ],
      "execution_count": 0,
      "outputs": [
        {
          "output_type": "stream",
          "text": [
            "Epoch 1/100\n",
            "6400/6400 [==============================] - 3s 530us/step - loss: 2.0848 - acc: 0.1666\n",
            "Epoch 2/100\n",
            "6400/6400 [==============================] - 2s 283us/step - loss: 1.9271 - acc: 0.1886\n",
            "Epoch 3/100\n",
            "6400/6400 [==============================] - 2s 284us/step - loss: 1.9093 - acc: 0.1972\n",
            "Epoch 4/100\n",
            "6400/6400 [==============================] - 2s 284us/step - loss: 1.8740 - acc: 0.2116\n",
            "Epoch 5/100\n",
            "6400/6400 [==============================] - 2s 285us/step - loss: 1.8632 - acc: 0.2127\n",
            "Epoch 6/100\n",
            "6400/6400 [==============================] - 2s 285us/step - loss: 1.8324 - acc: 0.2188\n",
            "Epoch 7/100\n",
            "6400/6400 [==============================] - 2s 287us/step - loss: 1.8211 - acc: 0.2256\n",
            "Epoch 8/100\n",
            "6400/6400 [==============================] - 2s 287us/step - loss: 1.8096 - acc: 0.2308\n",
            "Epoch 9/100\n",
            "6400/6400 [==============================] - 2s 287us/step - loss: 1.7942 - acc: 0.2314\n",
            "Epoch 10/100\n",
            "6400/6400 [==============================] - 2s 287us/step - loss: 1.7607 - acc: 0.2461\n",
            "Epoch 11/100\n",
            "6400/6400 [==============================] - 2s 289us/step - loss: 1.7344 - acc: 0.2569\n",
            "Epoch 12/100\n",
            "6400/6400 [==============================] - 2s 289us/step - loss: 1.7227 - acc: 0.2620\n",
            "Epoch 13/100\n",
            "6400/6400 [==============================] - 2s 288us/step - loss: 1.6812 - acc: 0.2838\n",
            "Epoch 14/100\n",
            "6400/6400 [==============================] - 2s 289us/step - loss: 1.6442 - acc: 0.3162\n",
            "Epoch 15/100\n",
            "6400/6400 [==============================] - 2s 290us/step - loss: 1.5974 - acc: 0.3386\n",
            "Epoch 16/100\n",
            "6400/6400 [==============================] - 2s 291us/step - loss: 1.4850 - acc: 0.4061\n",
            "Epoch 17/100\n",
            "6400/6400 [==============================] - 2s 296us/step - loss: 1.3556 - acc: 0.4641\n",
            "Epoch 18/100\n",
            "6400/6400 [==============================] - 2s 295us/step - loss: 1.2743 - acc: 0.4994\n",
            "Epoch 19/100\n",
            "6400/6400 [==============================] - 2s 295us/step - loss: 1.1684 - acc: 0.5405\n",
            "Epoch 20/100\n",
            "6400/6400 [==============================] - 2s 296us/step - loss: 1.0706 - acc: 0.5741\n",
            "Epoch 21/100\n",
            "6400/6400 [==============================] - 2s 296us/step - loss: 0.9445 - acc: 0.6161\n",
            "Epoch 22/100\n",
            "6400/6400 [==============================] - 2s 295us/step - loss: 0.8890 - acc: 0.6203\n",
            "Epoch 23/100\n",
            "6400/6400 [==============================] - 2s 295us/step - loss: 0.8465 - acc: 0.6327\n",
            "Epoch 24/100\n",
            "6400/6400 [==============================] - 2s 294us/step - loss: 0.8150 - acc: 0.6488\n",
            "Epoch 25/100\n",
            "6400/6400 [==============================] - 2s 293us/step - loss: 0.7671 - acc: 0.6550\n",
            "Epoch 26/100\n",
            "6400/6400 [==============================] - 2s 295us/step - loss: 0.7314 - acc: 0.6733\n",
            "Epoch 27/100\n",
            "6400/6400 [==============================] - 2s 294us/step - loss: 0.7041 - acc: 0.6870\n",
            "Epoch 28/100\n",
            "6400/6400 [==============================] - 2s 293us/step - loss: 0.6966 - acc: 0.6823\n",
            "Epoch 29/100\n",
            "6400/6400 [==============================] - 2s 291us/step - loss: 0.6773 - acc: 0.6897\n",
            "Epoch 30/100\n",
            "6400/6400 [==============================] - 2s 294us/step - loss: 0.6741 - acc: 0.6905\n",
            "Epoch 31/100\n",
            "6400/6400 [==============================] - 2s 292us/step - loss: 0.6610 - acc: 0.6944\n",
            "Epoch 32/100\n",
            "6400/6400 [==============================] - 2s 294us/step - loss: 0.6278 - acc: 0.7086\n",
            "Epoch 33/100\n",
            "6400/6400 [==============================] - 2s 292us/step - loss: 0.6178 - acc: 0.7047\n",
            "Epoch 34/100\n",
            "6400/6400 [==============================] - 2s 293us/step - loss: 0.6036 - acc: 0.7108\n",
            "Epoch 35/100\n",
            "6400/6400 [==============================] - 2s 294us/step - loss: 0.5849 - acc: 0.7148\n",
            "Epoch 36/100\n",
            "6400/6400 [==============================] - 2s 298us/step - loss: 0.5937 - acc: 0.7117\n",
            "Epoch 37/100\n",
            "6400/6400 [==============================] - 2s 292us/step - loss: 0.5860 - acc: 0.7262\n",
            "Epoch 38/100\n",
            "6400/6400 [==============================] - 2s 291us/step - loss: 0.5560 - acc: 0.7234\n",
            "Epoch 39/100\n",
            "6400/6400 [==============================] - 2s 291us/step - loss: 0.5546 - acc: 0.7206\n",
            "Epoch 40/100\n",
            "6400/6400 [==============================] - 2s 289us/step - loss: 0.5413 - acc: 0.7317\n",
            "Epoch 41/100\n",
            "6400/6400 [==============================] - 2s 291us/step - loss: 0.5314 - acc: 0.7325\n",
            "Epoch 42/100\n",
            "6400/6400 [==============================] - 2s 290us/step - loss: 0.5269 - acc: 0.7414\n",
            "Epoch 43/100\n",
            "6400/6400 [==============================] - 2s 290us/step - loss: 0.5351 - acc: 0.7319\n",
            "Epoch 44/100\n",
            "6400/6400 [==============================] - 2s 288us/step - loss: 0.5216 - acc: 0.7331\n",
            "Epoch 45/100\n",
            "6400/6400 [==============================] - 2s 291us/step - loss: 0.5211 - acc: 0.7434\n",
            "Epoch 46/100\n",
            "6400/6400 [==============================] - 2s 290us/step - loss: 0.5188 - acc: 0.7458\n",
            "Epoch 47/100\n",
            "6400/6400 [==============================] - 2s 289us/step - loss: 0.5114 - acc: 0.7436\n",
            "Epoch 48/100\n",
            "6400/6400 [==============================] - 2s 288us/step - loss: 0.5013 - acc: 0.7498\n",
            "Epoch 49/100\n",
            "6400/6400 [==============================] - 2s 289us/step - loss: 0.4989 - acc: 0.7483\n",
            "Epoch 50/100\n",
            "6400/6400 [==============================] - 2s 292us/step - loss: 0.4873 - acc: 0.7547\n",
            "Epoch 51/100\n",
            "6400/6400 [==============================] - 2s 294us/step - loss: 0.4905 - acc: 0.7570\n",
            "Epoch 52/100\n",
            "6400/6400 [==============================] - 2s 293us/step - loss: 0.4914 - acc: 0.7562\n",
            "Epoch 53/100\n",
            "6400/6400 [==============================] - 2s 293us/step - loss: 0.4758 - acc: 0.7694\n",
            "Epoch 54/100\n",
            "6400/6400 [==============================] - 2s 293us/step - loss: 0.4876 - acc: 0.7631\n",
            "Epoch 55/100\n",
            "6400/6400 [==============================] - 2s 291us/step - loss: 0.4690 - acc: 0.7634\n",
            "Epoch 56/100\n",
            "6400/6400 [==============================] - 2s 289us/step - loss: 0.4637 - acc: 0.7709\n",
            "Epoch 57/100\n",
            "6400/6400 [==============================] - 2s 288us/step - loss: 0.4784 - acc: 0.7647\n",
            "Epoch 58/100\n",
            "5056/6400 [======================>.......] - ETA: 0s - loss: 0.4564 - acc: 0.7757"
          ],
          "name": "stdout"
        }
      ]
    },
    {
      "cell_type": "markdown",
      "metadata": {
        "id": "cNGu7HtyhGc2",
        "colab_type": "text"
      },
      "source": [
        "# Prediction "
      ]
    },
    {
      "cell_type": "code",
      "metadata": {
        "id": "6irYYHCZ6A2C",
        "colab_type": "code",
        "outputId": "9c5a10cb-9f57-4375-ca0e-48ba39d13fbc",
        "colab": {
          "base_uri": "https://localhost:8080/",
          "height": 84
        }
      },
      "source": [
        "y_pred = classifier.predict(X_test)\n",
        "y_pred = np.argmax(y_pred, axis=1)\n",
        "\n",
        "y_real = np.argmax(y_test, axis=1)\n",
        "# Making the Confusion Matrix\n",
        "from sklearn.metrics import confusion_matrix\n",
        "cm = confusion_matrix(y_real, y_pred)\n",
        "cm_norm = cm.astype('float') / cm.sum(axis=1)[:, np.newaxis]\n",
        "\n",
        "acc_test = classifier.evaluate(X_test, y_test)[1]\n",
        "acc_train = classifier.evaluate(X_train, y_train)[1]\n",
        "\n",
        "print(\"Acc Test : \", acc_test)\n",
        "print(\"Acc Train : \", acc_train)\n"
      ],
      "execution_count": 30,
      "outputs": [
        {
          "output_type": "stream",
          "text": [
            "1600/1600 [==============================] - 1s 328us/step\n",
            "6400/6400 [==============================] - 1s 92us/step\n",
            "Acc Test :  0.789375\n",
            "Acc Train :  0.98796875\n"
          ],
          "name": "stdout"
        }
      ]
    },
    {
      "cell_type": "markdown",
      "metadata": {
        "id": "ShXqOJL47hCE",
        "colab_type": "text"
      },
      "source": [
        "# Plot Confusion Matrix"
      ]
    },
    {
      "cell_type": "code",
      "metadata": {
        "id": "wJdL7PP_7jir",
        "colab_type": "code",
        "colab": {}
      },
      "source": [
        "import matplotlib.pyplot as plt\n",
        "import seaborn as sns\n",
        "import pandas as pd\n",
        "\n",
        "modulation_order = []\n",
        "modulation_order_dict = dict()\n",
        "\n",
        "for key,value in output.items():\n",
        "    modulation_order_dict[np.argmax(value)] = str(key)\n",
        "    \n",
        "for i in range(8):\n",
        "    modulation_order.append(modulation_order_dict[i])\n",
        "    \n",
        "    \n",
        "    \n",
        "cmDataFrame = pd.DataFrame(cm_norm, index=modulation_order, columns = modulation_order)\n",
        "plt.figure(figsize=(6, 5))\n",
        "ax = sns.heatmap(cmDataFrame, annot=True, annot_kws={\"size\": 8}, fmt='.2f', linewidths=.5, cmap=\"Greens\")\n",
        "\n",
        "plt.title(f\"ResNet Confusion Matrix (SNR={snr})\")\n",
        "plt.xlabel(\"Predicted label  \\n\\n TrainAcc={:.2}, TestAcc={:.2}\".format(acc_train,acc_test), fontsize=8)\n",
        "plt.ylabel(\"True lable\", fontsize=8)\n",
        "plt.setp(ax.get_xticklabels(), rotation=45, ha=\"right\",rotation_mode=\"anchor\", fontsize=8)\n",
        "plt.setp(ax.get_yticklabels(), fontsize=8)\n",
        "fig = ax.get_figure()"
      ],
      "execution_count": 0,
      "outputs": []
    }
  ]
}